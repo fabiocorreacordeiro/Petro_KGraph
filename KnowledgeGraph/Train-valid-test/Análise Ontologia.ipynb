{
 "cells": [
  {
   "cell_type": "code",
   "execution_count": 1,
   "id": "1e50b346-0303-4661-96fe-60f73d2083a1",
   "metadata": {},
   "outputs": [
    {
     "name": "stderr",
     "output_type": "stream",
     "text": [
      "* Owlready2 * Warning: optimized Cython parser module 'owlready2_optimized' is not available, defaulting to slower Python implementation\n"
     ]
    }
   ],
   "source": [
    "from owlready2 import *"
   ]
  },
  {
   "cell_type": "markdown",
   "id": "3eab543b-4df2-4b81-904f-286f6d2c0b2a",
   "metadata": {},
   "source": [
    "Carregando ontologia"
   ]
  },
  {
   "cell_type": "code",
   "execution_count": 2,
   "id": "c1ae7ca7-a70b-40ae-862b-cfd0cc578452",
   "metadata": {},
   "outputs": [
    {
     "data": {
      "text/plain": [
       "get_ontology(\"http://www.semanticweb.org/bg40/ontologies/2022/5/untitled-ontology-2#\")"
      ]
     },
     "execution_count": 2,
     "metadata": {},
     "output_type": "execute_result"
    }
   ],
   "source": [
    "#OntoGeoLógica populada (OntoGeoLogicaPovoadaInstanciasRelacoes.owl)\n",
    "onto = get_ontology(\"../OntoGeoLogicaInstanciasRelacoes.owl\")\n",
    "onto.load()"
   ]
  },
  {
   "cell_type": "code",
   "execution_count": 3,
   "id": "5057cd00-1c88-4304-ba67-f3b4d5c89b3e",
   "metadata": {},
   "outputs": [
    {
     "name": "stdout",
     "output_type": "stream",
     "text": [
      "Número de classes:  604\n",
      "Número de instâncias:  36262\n"
     ]
    }
   ],
   "source": [
    "print('Número de classes: ', len(list(onto.classes())))\n",
    "print('Número de instâncias: ', len(list(onto.individuals())))"
   ]
  },
  {
   "cell_type": "markdown",
   "id": "f17a8361-4f8b-4792-b974-bdfb60d05fc8",
   "metadata": {},
   "source": [
    "### Entidades cujas entidades das listas são povoadas como subclasses."
   ]
  },
  {
   "cell_type": "code",
   "execution_count": 4,
   "id": "4b21d8fa-be97-4adb-8a64-3362a669f19c",
   "metadata": {},
   "outputs": [],
   "source": [
    "PetroKGraph = 'http://www.semanticweb.org/bg40/ontologies/2022/5/untitled-ontology-2#'"
   ]
  },
  {
   "cell_type": "code",
   "execution_count": 5,
   "id": "5a0ef28c-7a54-426d-b628-a61e593ff0ca",
   "metadata": {},
   "outputs": [
    {
     "name": "stdout",
     "output_type": "stream",
     "text": [
      "Numero de rochas:  189\n",
      "Numero de labels de rochas:  245\n"
     ]
    }
   ],
   "source": [
    "rock = list(default_world.sparql(\"\"\"\n",
    "            SELECT ?x\n",
    "            { ?x rdfs:subClassOf* <\"\"\" + PetroKGraph + \"\"\"rock>}\n",
    "            \"\"\"))\n",
    "\n",
    "rock_label = list(default_world.sparql(\"\"\"\n",
    "                 SELECT ?label\n",
    "                 { ?x rdfs:subClassOf* <\"\"\" + PetroKGraph + \"\"\"rock>.\n",
    "                 ?x rdfs:label ?label.}\n",
    "                 \"\"\"))\n",
    "\n",
    "print('Numero de rochas: ', len(rock))\n",
    "print('Numero de labels de rochas: ', len(rock_label))"
   ]
  },
  {
   "cell_type": "code",
   "execution_count": 6,
   "id": "f4b2ac00-b05c-4489-b24d-e9967943035d",
   "metadata": {},
   "outputs": [
    {
     "name": "stdout",
     "output_type": "stream",
     "text": [
      "Numero de fluidos da terra:  1\n",
      "Numero de labels de fluidos da terra:  2\n"
     ]
    }
   ],
   "source": [
    "earth_fluid = list(default_world.sparql(\"\"\"\n",
    "            SELECT ?x\n",
    "            { ?x rdfs:subClassOf <\"\"\" + PetroKGraph + \"\"\"earth_fluid>}\n",
    "            \"\"\"))\n",
    "\n",
    "earth_fluid_label = list(default_world.sparql(\"\"\"\n",
    "                 SELECT ?label\n",
    "                 { ?x rdfs:subClassOf <\"\"\" + PetroKGraph + \"\"\"earth_fluid>.\n",
    "                 ?x rdfs:label ?label.}\n",
    "                 \"\"\"))\n",
    "\n",
    "print('Numero de fluidos da terra: ', len(earth_fluid))\n",
    "print('Numero de labels de fluidos da terra: ', len(earth_fluid_label))"
   ]
  },
  {
   "cell_type": "code",
   "execution_count": 7,
   "id": "68f0a8ba-2f6a-4629-96bc-0718d329e999",
   "metadata": {},
   "outputs": [
    {
     "name": "stdout",
     "output_type": "stream",
     "text": [
      "Numero de fluidos da terra (O&G):  12\n",
      "Numero de labels de fluidos da terra (O&G):  28\n"
     ]
    }
   ],
   "source": [
    "og_earth_fluid = list(default_world.sparql(\"\"\"\n",
    "            SELECT ?x\n",
    "            { ?x rdfs:subClassOf* <\"\"\" + PetroKGraph + \"\"\"o&g_earth_fluid>}\n",
    "            \"\"\"))\n",
    "\n",
    "og_earth_fluid_label = list(default_world.sparql(\"\"\"\n",
    "                 SELECT ?label\n",
    "                 { ?x rdfs:subClassOf* <\"\"\" + PetroKGraph + \"\"\"o&g_earth_fluid>.\n",
    "                 ?x rdfs:label ?label.}\n",
    "                 \"\"\"))\n",
    "\n",
    "print('Numero de fluidos da terra (O&G): ', len(og_earth_fluid))\n",
    "print('Numero de labels de fluidos da terra (O&G): ', len(og_earth_fluid_label))"
   ]
  },
  {
   "cell_type": "code",
   "execution_count": 8,
   "id": "a1136e80-f94b-4e9c-9264-04a5dffd2226",
   "metadata": {},
   "outputs": [
    {
     "name": "stdout",
     "output_type": "stream",
     "text": [
      "Numero de material inconsolidado:  16\n",
      "Numero de labels de material inconsolidado:  22\n"
     ]
    }
   ],
   "source": [
    "inconsolidado = list(default_world.sparql(\"\"\"\n",
    "            SELECT ?x\n",
    "            { ?x rdfs:subClassOf* <\"\"\" + PetroKGraph + \"\"\"unconsolidated_earth_material>}\n",
    "            \"\"\"))\n",
    "\n",
    "inconsolidado_label = list(default_world.sparql(\"\"\"\n",
    "                 SELECT ?label\n",
    "                 { ?x rdfs:subClassOf* <\"\"\" + PetroKGraph + \"\"\"unconsolidated_earth_material>.\n",
    "                 ?x rdfs:label ?label.}\n",
    "                 \"\"\"))\n",
    "\n",
    "print('Numero de material inconsolidado: ', len(inconsolidado))\n",
    "print('Numero de labels de material inconsolidado: ', len(inconsolidado_label))"
   ]
  },
  {
   "cell_type": "code",
   "execution_count": 9,
   "id": "4a31d364-1c23-4209-be54-1296f9aec520",
   "metadata": {},
   "outputs": [
    {
     "name": "stdout",
     "output_type": "stream",
     "text": [
      "Numero de classes de idades geológicas:  348\n",
      "Numero de labels das classes de idades geológicas:  1249\n"
     ]
    }
   ],
   "source": [
    "age = list(default_world.sparql(\"\"\"\n",
    "            SELECT ?x\n",
    "            { ?x rdfs:subClassOf* <\"\"\" + PetroKGraph + \"\"\"geological_age>.}\n",
    "            \"\"\"))\n",
    "\n",
    "age_label =list(default_world.sparql(\"\"\"\n",
    "            SELECT ?label\n",
    "            { ?x rdfs:subClassOf* <\"\"\" + PetroKGraph + \"\"\"geological_age>.\n",
    "              ?x rdfs:label ?label.}\n",
    "            \"\"\"))\n",
    "\n",
    "print('Numero de classes de idades geológicas: ', len(age))\n",
    "print('Numero de labels das classes de idades geológicas: ', len(age_label))"
   ]
  },
  {
   "cell_type": "code",
   "execution_count": 10,
   "id": "6327a706-d177-4460-b229-1c3ab36e2bdd",
   "metadata": {},
   "outputs": [
    {
     "name": "stdout",
     "output_type": "stream",
     "text": [
      "Numero de classes de Fluido Antopogênico:  1\n",
      "Numero de labels das classes de Fluido Antopogênico:  2\n"
     ]
    }
   ],
   "source": [
    "anthropogenic_fluid = list(default_world.sparql(\"\"\"\n",
    "            SELECT ?x\n",
    "            { ?x rdfs:subClassOf* <\"\"\" + PetroKGraph + \"\"\"anthropogenic_fluid>.}\n",
    "            \"\"\"))\n",
    "\n",
    "anthropogenic_fluid_label =list(default_world.sparql(\"\"\"\n",
    "            SELECT ?label\n",
    "            { ?x rdfs:subClassOf* <\"\"\" + PetroKGraph + \"\"\"anthropogenic_fluid>.\n",
    "              ?x rdfs:label ?label.}\n",
    "            \"\"\"))\n",
    "\n",
    "print('Numero de classes de Fluido Antopogênico: ', len(anthropogenic_fluid))\n",
    "print('Numero de labels das classes de Fluido Antopogênico: ', len(anthropogenic_fluid_label))\n"
   ]
  },
  {
   "cell_type": "code",
   "execution_count": 11,
   "id": "8087da47-03d1-45c7-8bb6-ff3f97fcc459",
   "metadata": {},
   "outputs": [
    {
     "name": "stdout",
     "output_type": "stream",
     "text": [
      "Numero de classes de elementos do sistema petrolífero:  4\n",
      "Numero de labels das classes de elementos do sistema petrolífero:  8\n"
     ]
    }
   ],
   "source": [
    "elements = list(default_world.sparql(\"\"\"\n",
    "            SELECT ?x\n",
    "            { ?x rdfs:subClassOf* <\"\"\" + PetroKGraph + \"\"\"petroleum_system_elements>.}\n",
    "            \"\"\"))\n",
    "\n",
    "elements_label =list(default_world.sparql(\"\"\"\n",
    "            SELECT ?label\n",
    "            { ?x rdfs:subClassOf* <\"\"\" + PetroKGraph + \"\"\"petroleum_system_elements>.\n",
    "              ?x rdfs:label ?label.}\n",
    "            \"\"\"))\n",
    "\n",
    "print('Numero de classes de elementos do sistema petrolífero: ', len(elements))\n",
    "print('Numero de labels das classes de elementos do sistema petrolífero: ', len(elements_label))"
   ]
  },
  {
   "cell_type": "code",
   "execution_count": 12,
   "id": "f5ff32db-0914-45ca-8a47-c4d80f939f11",
   "metadata": {},
   "outputs": [
    {
     "name": "stdout",
     "output_type": "stream",
     "text": [
      "Numero de classes de eventos do sistema petrolífero:  5\n",
      "Numero de labels das classes de eventos do sistema petrolífero:  5\n"
     ]
    }
   ],
   "source": [
    "events = list(default_world.sparql(\"\"\"\n",
    "            SELECT ?x\n",
    "            { ?x rdfs:subClassOf* <\"\"\" + PetroKGraph + \"\"\"petroleum_system_events>.}\n",
    "            \"\"\"))\n",
    "\n",
    "events_label =list(default_world.sparql(\"\"\"\n",
    "            SELECT ?label\n",
    "            { ?x rdfs:subClassOf* <\"\"\" + PetroKGraph + \"\"\"petroleum_system_events>.\n",
    "              ?x rdfs:label ?label.}\n",
    "            \"\"\"))\n",
    "\n",
    "print('Numero de classes de eventos do sistema petrolífero: ', len(events))\n",
    "print('Numero de labels das classes de eventos do sistema petrolífero: ', len(events_label))"
   ]
  },
  {
   "cell_type": "markdown",
   "id": "53bf039d-954b-4f9d-aa8d-1988e7b8cdd0",
   "metadata": {},
   "source": [
    "### Entidades cujas entidades das listas são povoadas como instâncias."
   ]
  },
  {
   "cell_type": "code",
   "execution_count": 13,
   "id": "fc800366-331a-4112-9d70-93d880f5edc9",
   "metadata": {},
   "outputs": [
    {
     "name": "stdout",
     "output_type": "stream",
     "text": [
      "Numero de bacias:  64\n",
      "Numero de labels de bacias:  159\n"
     ]
    }
   ],
   "source": [
    "basin = list(default_world.sparql(\"\"\"\n",
    "            SELECT ?x\n",
    "            { ?x a/rdfs:subClassOf* <\"\"\" + PetroKGraph + \"\"\"basin>.}\n",
    "            \"\"\"))\n",
    "\n",
    "basin_label =list(default_world.sparql(\"\"\"\n",
    "            SELECT ?label\n",
    "            { ?x a/rdfs:subClassOf* <\"\"\" + PetroKGraph + \"\"\"basin>.\n",
    "              ?x rdfs:label ?label.}\n",
    "            \"\"\"))\n",
    "\n",
    "print('Numero de bacias: ', len(basin))\n",
    "print('Numero de labels de bacias: ', len(basin_label))"
   ]
  },
  {
   "cell_type": "code",
   "execution_count": 14,
   "id": "336eb6e6-9ac6-4552-ab2a-3f28a29b5924",
   "metadata": {},
   "outputs": [
    {
     "name": "stdout",
     "output_type": "stream",
     "text": [
      "Numero de unidades litoestratigráficas:  512\n",
      "Numero de labels de unidades litoestratigráficas:  1027\n"
     ]
    }
   ],
   "source": [
    "lito = list(default_world.sparql(\"\"\"\n",
    "            SELECT ?x\n",
    "            { ?x a/rdfs:subClassOf* <\"\"\" + PetroKGraph + \"\"\"lithostratigraphic_unit>.}\n",
    "            \"\"\"))\n",
    "\n",
    "lito_label =list(default_world.sparql(\"\"\"\n",
    "            SELECT ?label\n",
    "            { ?x a/rdfs:subClassOf* <\"\"\" + PetroKGraph + \"\"\"lithostratigraphic_unit>.\n",
    "              ?x rdfs:label ?label.}\n",
    "            \"\"\"))\n",
    "\n",
    "print('Numero de unidades litoestratigráficas: ', len(lito))\n",
    "print('Numero de labels de unidades litoestratigráficas: ', len(lito_label))"
   ]
  },
  {
   "cell_type": "code",
   "execution_count": 15,
   "id": "1587d318-0dc6-4db3-9bac-0ffeb0d5ddcb",
   "metadata": {},
   "outputs": [
    {
     "name": "stdout",
     "output_type": "stream",
     "text": [
      "Numero de poços:  30923\n",
      "Numero de labels de poços:  32670\n"
     ]
    }
   ],
   "source": [
    "well = list(default_world.sparql(\"\"\"\n",
    "            SELECT ?x\n",
    "            { ?x a/rdfs:subClassOf* <\"\"\" + PetroKGraph + \"\"\"well>.}\n",
    "            \"\"\"))\n",
    "\n",
    "well_label =list(default_world.sparql(\"\"\"\n",
    "            SELECT ?label\n",
    "            { ?x a/rdfs:subClassOf* <\"\"\" + PetroKGraph + \"\"\"well>.\n",
    "              ?x rdfs:label ?label.}\n",
    "            \"\"\"))\n",
    "\n",
    "print('Numero de poços: ', len(well))\n",
    "print('Numero de labels de poços: ', len(well_label))"
   ]
  },
  {
   "cell_type": "code",
   "execution_count": 16,
   "id": "14ffb3ec-6fea-488d-bd5f-fd21fc4b4f15",
   "metadata": {},
   "outputs": [
    {
     "name": "stdout",
     "output_type": "stream",
     "text": [
      "Numero de campos:  479\n",
      "Numero de labels de campos:  772\n"
     ]
    }
   ],
   "source": [
    "campo = list(default_world.sparql(\"\"\"\n",
    "            SELECT ?x\n",
    "            { ?x a/rdfs:subClassOf* <\"\"\" + PetroKGraph + \"\"\"field>.}\n",
    "            \"\"\"))\n",
    "\n",
    "campo_label =list(default_world.sparql(\"\"\"\n",
    "            SELECT ?label\n",
    "            { ?x a/rdfs:subClassOf* <\"\"\" + PetroKGraph + \"\"\"field>.\n",
    "              ?x rdfs:label ?label.}\n",
    "            \"\"\"))\n",
    "\n",
    "print('Numero de campos: ', len(campo))\n",
    "print('Numero de labels de campos: ', len(campo_label))"
   ]
  },
  {
   "cell_type": "code",
   "execution_count": 17,
   "id": "c8ae73d6-2b0d-47b5-8fd7-ea5de6ebd694",
   "metadata": {},
   "outputs": [
    {
     "name": "stdout",
     "output_type": "stream",
     "text": [
      "Numero de textura de rocha:  57\n",
      "Numero de labels de textura de rocha:  57\n"
     ]
    }
   ],
   "source": [
    "textura = list(default_world.sparql(\"\"\"\n",
    "            SELECT ?x\n",
    "            { ?x a/rdfs:subClassOf* <\"\"\" + PetroKGraph + \"\"\"textura>.}\n",
    "            \"\"\"))\n",
    "\n",
    "textura_label =list(default_world.sparql(\"\"\"\n",
    "            SELECT ?label\n",
    "            { ?x a/rdfs:subClassOf* <\"\"\" + PetroKGraph + \"\"\"textura>.\n",
    "              ?x rdfs:label ?label.}\n",
    "            \"\"\"))\n",
    "\n",
    "print('Numero de textura de rocha: ', len(textura))\n",
    "print('Numero de labels de textura de rocha: ', len(textura_label))"
   ]
  },
  {
   "cell_type": "code",
   "execution_count": 18,
   "id": "e97ba43a-2303-41c0-b589-85e967393ac9",
   "metadata": {},
   "outputs": [
    {
     "name": "stdout",
     "output_type": "stream",
     "text": [
      "Numero de intervalos de tempo geológico:  347\n",
      "Numero de labels de intervalos de tempo geológico:  1237\n"
     ]
    }
   ],
   "source": [
    "crono = list(default_world.sparql(\"\"\"\n",
    "            SELECT ?x\n",
    "            { ?x a/rdfs:subClassOf* <\"\"\" + PetroKGraph + \"\"\"geological_time_interval>.}\n",
    "            \"\"\"))\n",
    "\n",
    "crono_label =list(default_world.sparql(\"\"\"\n",
    "            SELECT ?label\n",
    "            { ?x a/rdfs:subClassOf* <\"\"\" + PetroKGraph + \"\"\"geological_time_interval>.\n",
    "              ?x rdfs:label ?label.}\n",
    "            \"\"\"))\n",
    "\n",
    "print('Numero de intervalos de tempo geológico: ', len(crono))\n",
    "print('Numero de labels de intervalos de tempo geológico: ', len(crono_label))"
   ]
  },
  {
   "cell_type": "code",
   "execution_count": 19,
   "id": "c979d6d8-3752-4d37-9d24-02cb9309d6d2",
   "metadata": {},
   "outputs": [
    {
     "name": "stdout",
     "output_type": "stream",
     "text": [
      "Numero de estruturas geológicas:  282\n",
      "Numero de labels de estruturas geológicas:  282\n"
     ]
    }
   ],
   "source": [
    "structure = list(default_world.sparql(\"\"\"\n",
    "            SELECT ?x\n",
    "            { ?x a/rdfs:subClassOf* <\"\"\" + PetroKGraph + \"\"\"geological_structure>.}\n",
    "            \"\"\"))\n",
    "\n",
    "structure_label =list(default_world.sparql(\"\"\"\n",
    "            SELECT ?label\n",
    "            { ?x a/rdfs:subClassOf* <\"\"\" + PetroKGraph + \"\"\"geological_structure>.\n",
    "              ?x rdfs:label ?label.}\n",
    "            \"\"\"))\n",
    "\n",
    "print('Numero de estruturas geológicas: ', len(structure))\n",
    "print('Numero de labels de estruturas geológicas: ', len(structure_label))"
   ]
  },
  {
   "cell_type": "markdown",
   "id": "9e6e8d1f-d238-4087-92f5-d97e5191a3ac",
   "metadata": {},
   "source": [
    "### Relações"
   ]
  },
  {
   "cell_type": "code",
   "execution_count": 22,
   "id": "f4c208f7-4c0f-4643-adad-7f46935d158c",
   "metadata": {},
   "outputs": [
    {
     "name": "stdout",
     "output_type": "stream",
     "text": [
      "Número de relações crosses:  159188\n"
     ]
    }
   ],
   "source": [
    "cross = list(default_world.sparql(\"\"\"\n",
    "            SELECT ?x ?y\n",
    "            { ?x <\"\"\" + PetroKGraph + \"\"\"crosses> ?y.}\n",
    "            \"\"\"))\n",
    "\n",
    "print('Número de relações crosses: ', len(cross))"
   ]
  },
  {
   "cell_type": "code",
   "execution_count": 23,
   "id": "59d819bd-d8ae-495e-a18c-5e39a3d4378f",
   "metadata": {},
   "outputs": [
    {
     "name": "stdout",
     "output_type": "stream",
     "text": [
      "Número de relações lacated_in:  56996\n"
     ]
    }
   ],
   "source": [
    "located_in = list(default_world.sparql(\"\"\"\n",
    "            SELECT ?x ?y\n",
    "            { ?x <\"\"\" + PetroKGraph + \"\"\"located_in> ?y.}\n",
    "            \"\"\"))\n",
    "\n",
    "print('Número de relações lacated_in: ', len(located_in))"
   ]
  },
  {
   "cell_type": "code",
   "execution_count": 24,
   "id": "74e49736-ef79-4f96-83cb-63f8f6b85c45",
   "metadata": {},
   "outputs": [
    {
     "name": "stdout",
     "output_type": "stream",
     "text": [
      "Número de relações constituted_by:  3304\n"
     ]
    }
   ],
   "source": [
    "constituted_by = list(default_world.sparql(\"\"\"\n",
    "            SELECT ?x ?y\n",
    "            { ?x <\"\"\" + PetroKGraph + \"\"\"constituted_by> ?y.}\n",
    "            \"\"\"))\n",
    "\n",
    "print('Número de relações constituted_by: ', len(constituted_by))"
   ]
  },
  {
   "cell_type": "code",
   "execution_count": 25,
   "id": "f23ee730-5a65-446a-a557-9b39755e006f",
   "metadata": {},
   "outputs": [
    {
     "name": "stdout",
     "output_type": "stream",
     "text": [
      "Número de relações has_age:  294\n"
     ]
    }
   ],
   "source": [
    "has_age = list(default_world.sparql(\"\"\"\n",
    "            SELECT ?x ?y\n",
    "            { ?x <\"\"\" + PetroKGraph + \"\"\"has_age> ?y.}\n",
    "            \"\"\"))\n",
    "\n",
    "print('Número de relações has_age: ', len(has_age))"
   ]
  },
  {
   "cell_type": "code",
   "execution_count": 26,
   "id": "0fa29b87-0c8f-4f61-98f1-be409a88d20c",
   "metadata": {},
   "outputs": [
    {
     "name": "stdout",
     "output_type": "stream",
     "text": [
      "Número de relações participates_in:  294\n"
     ]
    }
   ],
   "source": [
    "participates_in = list(default_world.sparql(\"\"\"\n",
    "            SELECT ?x ?y\n",
    "            { ?x <\"\"\" + PetroKGraph + \"\"\"participates_in> ?y.}\n",
    "            \"\"\"))\n",
    "\n",
    "print('Número de relações participates_in: ', len(participates_in))"
   ]
  },
  {
   "cell_type": "code",
   "execution_count": 27,
   "id": "38526311-6808-43b1-9c56-028263d16515",
   "metadata": {},
   "outputs": [
    {
     "name": "stdout",
     "output_type": "stream",
     "text": [
      "Número de relações part_of:  293\n"
     ]
    }
   ],
   "source": [
    "part_of = list(default_world.sparql(\"\"\"\n",
    "            SELECT ?x ?y\n",
    "            { ?x <\"\"\" + PetroKGraph + \"\"\"part_of> ?y.}\n",
    "            \"\"\"))\n",
    "\n",
    "print('Número de relações part_of: ', len(part_of))"
   ]
  },
  {
   "cell_type": "code",
   "execution_count": 28,
   "id": "44d9f440-12f2-4e15-a20d-80062ecc261f",
   "metadata": {},
   "outputs": [
    {
     "name": "stdout",
     "output_type": "stream",
     "text": [
      "Número de relações carrier_of:  120\n"
     ]
    }
   ],
   "source": [
    "carrier_of = list(default_world.sparql(\"\"\"\n",
    "            SELECT ?x ?y\n",
    "            { ?x <\"\"\" + PetroKGraph + \"\"\"carrier_of> ?y.}\n",
    "            \"\"\"))\n",
    "\n",
    "print('Número de relações carrier_of: ', len(carrier_of))"
   ]
  },
  {
   "cell_type": "code",
   "execution_count": 29,
   "id": "54bf675c-f78d-413b-92b7-09eba2ea34d0",
   "metadata": {},
   "outputs": [
    {
     "name": "stdout",
     "output_type": "stream",
     "text": [
      "Número de relações generated_by:  0\n"
     ]
    }
   ],
   "source": [
    "generated_by = list(default_world.sparql(\"\"\"\n",
    "            SELECT ?x ?y\n",
    "            { ?x <\"\"\" + PetroKGraph + \"\"\"generated_by> ?y.}\n",
    "            \"\"\"))\n",
    "\n",
    "print('Número de relações generated_by: ', len(generated_by))"
   ]
  },
  {
   "cell_type": "code",
   "execution_count": 30,
   "id": "98f93fa9-fdd9-404d-8959-666616441a10",
   "metadata": {},
   "outputs": [
    {
     "name": "stdout",
     "output_type": "stream",
     "text": [
      "Número de relações has_temporal_relation:  0\n"
     ]
    }
   ],
   "source": [
    "has_temporal_relation = list(default_world.sparql(\"\"\"\n",
    "            SELECT ?x ?y\n",
    "            { ?x ?relation ?y.\n",
    "            ?relation rdfs:subPropertyOf* <\"\"\" + PetroKGraph + \"\"\"has_temporal_relation>.}\n",
    "            \"\"\"))\n",
    "\n",
    "print('Número de relações has_temporal_relation: ', len(has_temporal_relation))"
   ]
  },
  {
   "cell_type": "code",
   "execution_count": null,
   "id": "05686ba0-a9cf-4c66-9cee-8ea7d2c6cebe",
   "metadata": {},
   "outputs": [],
   "source": []
  }
 ],
 "metadata": {
  "kernelspec": {
   "display_name": "Python 3 (ipykernel)",
   "language": "python",
   "name": "python3"
  },
  "language_info": {
   "codemirror_mode": {
    "name": "ipython",
    "version": 3
   },
   "file_extension": ".py",
   "mimetype": "text/x-python",
   "name": "python",
   "nbconvert_exporter": "python",
   "pygments_lexer": "ipython3",
   "version": "3.7.16"
  }
 },
 "nbformat": 4,
 "nbformat_minor": 5
}
