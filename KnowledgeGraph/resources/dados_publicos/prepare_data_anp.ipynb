{
 "cells": [
  {
   "cell_type": "code",
   "execution_count": 1,
   "id": "89c3f09f",
   "metadata": {
    "tags": []
   },
   "outputs": [],
   "source": [
    "import pandas as pd\n",
    "import os\n",
    "import numpy as np\n",
    "import json"
   ]
  },
  {
   "cell_type": "markdown",
   "id": "ec8c6fa6",
   "metadata": {},
   "source": [
    "### Preparando tabelas oriundas da ANP"
   ]
  },
  {
   "cell_type": "code",
   "execution_count": 2,
   "id": "1cc25c17",
   "metadata": {
    "tags": []
   },
   "outputs": [],
   "source": [
    "df=pd.read_excel('tabela-de-pocos.xlsx')"
   ]
  },
  {
   "cell_type": "code",
   "execution_count": 3,
   "id": "c79fe303",
   "metadata": {
    "tags": []
   },
   "outputs": [
    {
     "data": {
      "text/plain": [
       "30465"
      ]
     },
     "execution_count": 3,
     "metadata": {},
     "output_type": "execute_result"
    }
   ],
   "source": [
    "len(df)"
   ]
  },
  {
   "cell_type": "code",
   "execution_count": 4,
   "id": "495504af",
   "metadata": {
    "tags": []
   },
   "outputs": [
    {
     "data": {
      "text/plain": [
       "Index(['POCO', 'CADASTRO', 'OPERADOR', 'POCO_OPERADOR', 'ESTADO', 'BACIA',\n",
       "       'BLOCO', 'SIG_CAMPO', 'CAMPO', 'TERRA_MAR', 'POCO_POS_ANP', 'TIPO',\n",
       "       'CATEGORIA', 'RECLASSIFICACAO', 'SITUACAO', 'INICIO', 'TERMINO',\n",
       "       'CONCLUSAO', 'TITULARIDADE', 'LATITUDE_BASE_4C', 'LONGITUDE_BASE_4C',\n",
       "       'LATITUDE_BASE_DD', 'LONGITUDE_BASE_DD', 'DATUM_HORIZONTAL',\n",
       "       'TIPO_DE_COORDENADA_DE_BASE', 'DIRECAO', 'PROFUNDIDADE_VERTICAL_M',\n",
       "       'PROFUNDIDADE_SONDADOR_M', 'PROFUNDIDADE_MEDIDA_M',\n",
       "       'REFERENCIA_DE_PROFUNDIDADE', 'MESA_ROTATIVA', 'COTA_ALTIMETRICA_M',\n",
       "       'LAMINA_D_AGUA_M', 'DATUM_VERTICAL', 'UNIDADE_ESTRATIGRAFICA',\n",
       "       'GEOLOGIA_GRUPO_FINAL', 'GEOLOGIA_FORMACAO_FINAL',\n",
       "       'GEOLOGIA_MEMBRO_FINAL', 'CDPE', 'AGP', 'PC', 'PAG',\n",
       "       'PERFIS_CONVENCIONAIS', 'DURANTE_PERFURACAO', 'PERFIS_DIGITAIS',\n",
       "       'PERFIS_PROCESSADOS', 'PERFIS_ESPECIAIS', 'AMOSTRA_LATERAL', 'SISMICA',\n",
       "       'TABELA_TEMPO_PROFUNDIDADE', 'DADOS_DIRECIONAIS', 'TESTE_A_CABO',\n",
       "       'TESTE_DE_FORMACAO', 'CANHONEIO', 'TESTEMUNHO', 'GEOQUIMICA',\n",
       "       'SIG_SONDA', 'NOM_SONDA', 'ATINGIU_PRESAL', 'DHA_ATUALIZACAO'],\n",
       "      dtype='object')"
      ]
     },
     "execution_count": 4,
     "metadata": {},
     "output_type": "execute_result"
    }
   ],
   "source": [
    "df.columns"
   ]
  },
  {
   "cell_type": "code",
   "execution_count": 5,
   "id": "4b3add01",
   "metadata": {
    "tags": []
   },
   "outputs": [],
   "source": [
    "df.drop(columns = ['POCO_POS_ANP', 'TIPO', 'INICIO', 'TERMINO', 'CONCLUSAO', 'TITULARIDADE', \n",
    "                   'LATITUDE_BASE_4C', 'LONGITUDE_BASE_4C', 'LATITUDE_BASE_DD', 'LONGITUDE_BASE_DD', \n",
    "                   'DATUM_HORIZONTAL', 'TIPO_DE_COORDENADA_DE_BASE', 'DIRECAO', \n",
    "                   'PROFUNDIDADE_VERTICAL_M', 'PROFUNDIDADE_SONDADOR_M', 'PROFUNDIDADE_MEDIDA_M',\n",
    "                   'REFERENCIA_DE_PROFUNDIDADE', 'MESA_ROTATIVA', 'COTA_ALTIMETRICA_M',\n",
    "                   'DATUM_VERTICAL', 'UNIDADE_ESTRATIGRAFICA', 'CDPE', 'AGP', 'PC', 'PAG',\n",
    "                   'PERFIS_CONVENCIONAIS', 'DURANTE_PERFURACAO', 'PERFIS_DIGITAIS', 'PERFIS_PROCESSADOS', \n",
    "                   'PERFIS_ESPECIAIS', 'AMOSTRA_LATERAL', 'SISMICA', 'TABELA_TEMPO_PROFUNDIDADE', \n",
    "                   'DADOS_DIRECIONAIS', 'TESTE_A_CABO', 'TESTE_DE_FORMACAO', 'CANHONEIO', 'TESTEMUNHO', \n",
    "                   'GEOQUIMICA', 'SIG_SONDA', 'NOM_SONDA', 'ATINGIU_PRESAL', 'DHA_ATUALIZACAO'\n",
    "                  ], inplace=True)"
   ]
  },
  {
   "cell_type": "code",
   "execution_count": 6,
   "id": "befe9477",
   "metadata": {
    "scrolled": true,
    "tags": []
   },
   "outputs": [
    {
     "data": {
      "text/plain": [
       "30465"
      ]
     },
     "execution_count": 6,
     "metadata": {},
     "output_type": "execute_result"
    }
   ],
   "source": [
    "df['CADASTRO'].nunique()"
   ]
  },
  {
   "cell_type": "markdown",
   "id": "0ca87647",
   "metadata": {},
   "source": [
    "#### Avaliando instâncias de Poço"
   ]
  },
  {
   "cell_type": "code",
   "execution_count": 7,
   "id": "b4cd7ccf",
   "metadata": {
    "tags": []
   },
   "outputs": [
    {
     "data": {
      "text/plain": [
       "901210398600"
      ]
     },
     "execution_count": 7,
     "metadata": {},
     "output_type": "execute_result"
    }
   ],
   "source": [
    "df['CADASTRO'].max()"
   ]
  },
  {
   "cell_type": "code",
   "execution_count": 8,
   "id": "f2c27858",
   "metadata": {
    "tags": []
   },
   "outputs": [
    {
     "data": {
      "text/plain": [
       "8115018892"
      ]
     },
     "execution_count": 8,
     "metadata": {},
     "output_type": "execute_result"
    }
   ],
   "source": [
    "df['CADASTRO'].min()"
   ]
  },
  {
   "cell_type": "code",
   "execution_count": 9,
   "id": "449194ac-326d-47f9-b8fa-5d86df88f8ae",
   "metadata": {
    "tags": []
   },
   "outputs": [],
   "source": [
    "def _generate_well_codes(x):\n",
    "    return 'POCO_'+str(x).zfill(13)\n",
    "\n",
    "df['COD_POCO']=df['CADASTRO'].apply(lambda x: _generate_well_codes(x))"
   ]
  },
  {
   "cell_type": "markdown",
   "id": "bf1f3f1c",
   "metadata": {},
   "source": [
    "#### Avaliando instâncias de Bacia"
   ]
  },
  {
   "cell_type": "code",
   "execution_count": 11,
   "id": "084a0183",
   "metadata": {
    "tags": []
   },
   "outputs": [
    {
     "data": {
      "text/plain": [
       "37"
      ]
     },
     "execution_count": 11,
     "metadata": {},
     "output_type": "execute_result"
    }
   ],
   "source": [
    "df['BACIA'].nunique()"
   ]
  },
  {
   "cell_type": "code",
   "execution_count": 12,
   "id": "762cd5cf",
   "metadata": {
    "scrolled": true,
    "tags": []
   },
   "outputs": [],
   "source": [
    "codigosBacias = {}\n",
    "i=1\n",
    "for bacia in sorted(df['BACIA'].unique()):\n",
    "    codigoBacia='BACIA_'+str(i).zfill(2)\n",
    "    codigosBacias[codigoBacia]=bacia\n",
    "    i+=1    "
   ]
  },
  {
   "cell_type": "code",
   "execution_count": 13,
   "id": "8f656bd5",
   "metadata": {
    "scrolled": true,
    "tags": []
   },
   "outputs": [
    {
     "data": {
      "text/html": [
       "<div>\n",
       "<style scoped>\n",
       "    .dataframe tbody tr th:only-of-type {\n",
       "        vertical-align: middle;\n",
       "    }\n",
       "\n",
       "    .dataframe tbody tr th {\n",
       "        vertical-align: top;\n",
       "    }\n",
       "\n",
       "    .dataframe thead th {\n",
       "        text-align: right;\n",
       "    }\n",
       "</style>\n",
       "<table border=\"1\" class=\"dataframe\">\n",
       "  <thead>\n",
       "    <tr style=\"text-align: right;\">\n",
       "      <th></th>\n",
       "      <th>POCO</th>\n",
       "      <th>CADASTRO</th>\n",
       "      <th>OPERADOR</th>\n",
       "      <th>POCO_OPERADOR</th>\n",
       "      <th>ESTADO</th>\n",
       "      <th>BACIA</th>\n",
       "      <th>BLOCO</th>\n",
       "      <th>SIG_CAMPO</th>\n",
       "      <th>CAMPO</th>\n",
       "      <th>TERRA_MAR</th>\n",
       "      <th>CATEGORIA</th>\n",
       "      <th>RECLASSIFICACAO</th>\n",
       "      <th>SITUACAO</th>\n",
       "      <th>LAMINA_D_AGUA_M</th>\n",
       "      <th>GEOLOGIA_GRUPO_FINAL</th>\n",
       "      <th>GEOLOGIA_FORMACAO_FINAL</th>\n",
       "      <th>GEOLOGIA_MEMBRO_FINAL</th>\n",
       "      <th>COD_POCO</th>\n",
       "    </tr>\n",
       "  </thead>\n",
       "  <tbody>\n",
       "  </tbody>\n",
       "</table>\n",
       "</div>"
      ],
      "text/plain": [
       "Empty DataFrame\n",
       "Columns: [POCO, CADASTRO, OPERADOR, POCO_OPERADOR, ESTADO, BACIA, BLOCO, SIG_CAMPO, CAMPO, TERRA_MAR, CATEGORIA, RECLASSIFICACAO, SITUACAO, LAMINA_D_AGUA_M, GEOLOGIA_GRUPO_FINAL, GEOLOGIA_FORMACAO_FINAL, GEOLOGIA_MEMBRO_FINAL, COD_POCO]\n",
       "Index: []"
      ]
     },
     "execution_count": 13,
     "metadata": {},
     "output_type": "execute_result"
    }
   ],
   "source": [
    "df[df['BACIA'].isna()]"
   ]
  },
  {
   "cell_type": "code",
   "execution_count": 14,
   "id": "3cd7f329-4d6e-4805-b5a1-33861e21a33a",
   "metadata": {
    "tags": []
   },
   "outputs": [],
   "source": [
    "with open('codigos_bacias.json', 'w') as f:\n",
    "    json.dump(codigosBacias, f)"
   ]
  },
  {
   "cell_type": "code",
   "execution_count": 15,
   "id": "c325b6f8",
   "metadata": {
    "tags": []
   },
   "outputs": [],
   "source": [
    "def _codigo_bacia(x, codigosBacias):\n",
    "    for key, value in codigosBacias.items():\n",
    "        if x==value:\n",
    "            return(key)"
   ]
  },
  {
   "cell_type": "code",
   "execution_count": 16,
   "id": "b8ec1213",
   "metadata": {
    "tags": []
   },
   "outputs": [],
   "source": [
    "df['COD_BACIA']=df['BACIA'].apply(lambda x: _codigo_bacia(x, codigosBacias))"
   ]
  },
  {
   "cell_type": "markdown",
   "id": "64cc2b48",
   "metadata": {},
   "source": [
    "#### Avaliando instâncias de Campos"
   ]
  },
  {
   "cell_type": "code",
   "execution_count": 18,
   "id": "dee477a5-be6b-48e8-af81-d3505b8a9b02",
   "metadata": {
    "tags": []
   },
   "outputs": [
    {
     "data": {
      "text/plain": [
       "535"
      ]
     },
     "execution_count": 18,
     "metadata": {},
     "output_type": "execute_result"
    }
   ],
   "source": [
    "df['CAMPO'].nunique()"
   ]
  },
  {
   "cell_type": "code",
   "execution_count": 19,
   "id": "e1a63406-0931-4ef8-a7d7-b4fe9e92e146",
   "metadata": {
    "tags": []
   },
   "outputs": [
    {
     "data": {
      "text/plain": [
       "497"
      ]
     },
     "execution_count": 19,
     "metadata": {},
     "output_type": "execute_result"
    }
   ],
   "source": [
    "df['SIG_CAMPO'].nunique()"
   ]
  },
  {
   "cell_type": "code",
   "execution_count": 20,
   "id": "6d753508",
   "metadata": {
    "tags": []
   },
   "outputs": [],
   "source": [
    "def _uniform_field_names(x):\n",
    "    if isinstance(x, str):\n",
    "        x=x.replace('VAZA BARRIS','VAZA-BARRIS')\n",
    "        x=x.replace('QUIRICO','QUIRICÓ')\n",
    "        x=x.replace(' (Licitado)','')\n",
    "        x=x.upper()\n",
    "    return x"
   ]
  },
  {
   "cell_type": "code",
   "execution_count": 21,
   "id": "ba642d01-7a59-4263-939d-a2d02d89daed",
   "metadata": {
    "tags": []
   },
   "outputs": [],
   "source": [
    "df['CAMPO_CORRIGIDO']=df['CAMPO'].apply(lambda x: _uniform_field_names(x))"
   ]
  },
  {
   "cell_type": "code",
   "execution_count": 22,
   "id": "0ba178c9-73d6-4537-9565-10287bc7b4a5",
   "metadata": {
    "tags": []
   },
   "outputs": [],
   "source": [
    "df_campos = df[['SIG_CAMPO', 'CAMPO_CORRIGIDO', 'COD_BACIA']]\n",
    "df_campos=df_campos.drop_duplicates().dropna()\n",
    "df_campos.reset_index(drop=True, inplace=True)"
   ]
  },
  {
   "cell_type": "code",
   "execution_count": 23,
   "id": "a546165f-dfc1-44b4-a933-a065368e4696",
   "metadata": {},
   "outputs": [],
   "source": [
    "codigosCampos = {}\n",
    "for bacia in sorted(df_campos['COD_BACIA'].unique()):\n",
    "    c=1\n",
    "    for campo in sorted(df_campos[df_campos['COD_BACIA']==bacia]['CAMPO_CORRIGIDO'].unique()):\n",
    "        codigoCampo=bacia.replace('BACIA','CAMPO')+str(c).zfill(4)\n",
    "        codigosCampos[codigoCampo]=campo\n",
    "        c+=1 "
   ]
  },
  {
   "cell_type": "code",
   "execution_count": 24,
   "id": "441c1110-4a8d-40d4-b67d-d3c17f73101a",
   "metadata": {
    "tags": []
   },
   "outputs": [],
   "source": [
    "with open('codigos_campos.json', 'w') as f:\n",
    "    json.dump(codigosCampos, f)"
   ]
  },
  {
   "cell_type": "code",
   "execution_count": 25,
   "id": "fe23abb4-4fe7-4f85-8fb3-772ef9052c95",
   "metadata": {
    "tags": []
   },
   "outputs": [],
   "source": [
    "def _codigo_campo(campo, bacia, codigosCampos):\n",
    "    for key, value in codigosCampos.items():\n",
    "        if bacia=='BACIA_'+key[6:8] and campo==value:\n",
    "            return(key)"
   ]
  },
  {
   "cell_type": "code",
   "execution_count": 26,
   "id": "0f07aa67-ec0b-42c7-a8f5-33d7adcc6d1e",
   "metadata": {
    "tags": []
   },
   "outputs": [],
   "source": [
    "df['COD_CAMPO']=df.apply(lambda x: _codigo_campo(x['CAMPO_CORRIGIDO'], x['COD_BACIA'], codigosCampos), axis=1)"
   ]
  },
  {
   "cell_type": "markdown",
   "id": "2ae0fc03",
   "metadata": {},
   "source": [
    "#### Avaliando instâncias de unidades litoestratigráficas"
   ]
  },
  {
   "cell_type": "code",
   "execution_count": 27,
   "id": "95000b65",
   "metadata": {},
   "outputs": [
    {
     "data": {
      "text/plain": [
       "array([nan, 'Ilha Bela', 'Tamoios', 'Gomo', 'Mucuri', 'Santiago',\n",
       "       'Capianga', 'Caruaçu', 'Catu', 'Maresias', 'Geribá', 'Upanema',\n",
       "       'Pitanga', 'Boipeba', 'Sapucari', 'Búzios', 'Quissamã',\n",
       "       'Carmópolis', 'Tauá', 'Grussaí', 'Sequência 3', 'Siri', 'Galinhos',\n",
       "       'São Tomé', 'Cazumba'], dtype=object)"
      ]
     },
     "execution_count": 27,
     "metadata": {},
     "output_type": "execute_result"
    }
   ],
   "source": [
    "df['GEOLOGIA_MEMBRO_FINAL'].unique()"
   ]
  },
  {
   "cell_type": "code",
   "execution_count": 28,
   "id": "14b8c8b2",
   "metadata": {},
   "outputs": [
    {
     "data": {
      "text/plain": [
       "array([nan, 'Barra Velha', 'Serraria', 'Itaparica', 'São Mateus', 'Ariri',\n",
       "       'Piçarras', 'Sergi', 'Marfim', 'Juruá', 'Itapema', 'Pendência',\n",
       "       'Embasamento', 'Quissamã', 'Carapebus', 'Itajaí-Açu', 'Ererê',\n",
       "       'Ubatuba', 'Urucutuca', 'Candeias', 'Mariricu', 'Longá', 'Pojuca',\n",
       "       'Açu', 'Poti', 'Aliança', 'Calumbi', 'Barra de Itiuba',\n",
       "       'Maracangalha', 'Oriximiná', 'Macabu', 'Água Grande', 'Cabiúnas',\n",
       "       'Coqueiro Seco', 'Marambaia', 'Salvador', 'Cabeças', 'Pimenteiras',\n",
       "       'Curiri', 'Alagamar', 'Coqueiros', 'Itaim', 'Cotinguiba',\n",
       "       'Muribeca', 'Bananeiras', 'Cricaré', 'Penedo', 'Atafona',\n",
       "       'Pescada', 'Algodões', 'Retiro', 'Guarujá', 'Taquipe', 'Macaé',\n",
       "       'Bauxi', 'Camboriú', 'Motuca', 'Namorado', 'Paracuru',\n",
       "       'Rio Pitanga', 'Lagoa Feia', 'Ipu', 'Emboré', 'Nova Olinda',\n",
       "       'Regência', 'Batinga', 'Maceió', 'Riachão', 'Jutaí', 'Itaituba',\n",
       "       'Afligidos'], dtype=object)"
      ]
     },
     "execution_count": 28,
     "metadata": {},
     "output_type": "execute_result"
    }
   ],
   "source": [
    "df['GEOLOGIA_FORMACAO_FINAL'].unique()"
   ]
  },
  {
   "cell_type": "code",
   "execution_count": 29,
   "id": "2e720faf",
   "metadata": {
    "scrolled": true
   },
   "outputs": [
    {
     "data": {
      "text/plain": [
       "array([nan, 'Guaratiba', 'Perucaba', 'Santo Amaro', 'Barra Nova',\n",
       "       'Brotas', 'Ilhas', 'Tefé', 'Areia Branca', 'Macaé', 'Campos',\n",
       "       'Frade', 'Urupadi', 'Espírito Santo', 'Nativo', 'Canindé', 'Apodi',\n",
       "       'Piaçabuçu', 'Coruripe', 'Curuá', 'Lagoa Feia', 'Itamambuca',\n",
       "       'Cuiabá', 'Sergipe', 'Paranoá', 'Camamu', 'Camburi', 'Espinhaço',\n",
       "       'Purus', 'Jangada', 'Balsas', 'Macaúbas', 'Serra Grande',\n",
       "       'Tapajós', 'Igreja Nova', 'Afligidos'], dtype=object)"
      ]
     },
     "execution_count": 29,
     "metadata": {},
     "output_type": "execute_result"
    }
   ],
   "source": [
    "df['GEOLOGIA_GRUPO_FINAL'].unique()"
   ]
  },
  {
   "cell_type": "code",
   "execution_count": 30,
   "id": "2e25b26a",
   "metadata": {},
   "outputs": [],
   "source": [
    "def _codigo_litoestratigrafia(x, codigoMapper):\n",
    "    for key, value in codigoMapper.items():\n",
    "        if x==value:\n",
    "            return(key)"
   ]
  },
  {
   "cell_type": "code",
   "execution_count": 31,
   "id": "b51737d2",
   "metadata": {},
   "outputs": [],
   "source": [
    "codigosGrupos = {}\n",
    "g=1\n",
    "for grupo in df['GEOLOGIA_GRUPO_FINAL'].unique():\n",
    "    if isinstance(grupo, str):\n",
    "        codigoGrupo='GRUPO_'+str(g).zfill(2)\n",
    "        codigosGrupos[codigoGrupo]=grupo\n",
    "        g+=1"
   ]
  },
  {
   "cell_type": "code",
   "execution_count": 32,
   "id": "e467dfe6",
   "metadata": {},
   "outputs": [],
   "source": [
    "df['COD_GRUPO']=df['GEOLOGIA_GRUPO_FINAL'].apply(lambda x: _codigo_litoestratigrafia(x, codigosGrupos))"
   ]
  },
  {
   "cell_type": "code",
   "execution_count": 33,
   "id": "4ff6eee9",
   "metadata": {},
   "outputs": [],
   "source": [
    "codigosFormacoes = {}\n",
    "codigosFormacaoGrupo = {}\n",
    "f=1\n",
    "for formacao in df['GEOLOGIA_FORMACAO_FINAL'].unique():\n",
    "    if isinstance(formacao, str):\n",
    "        codigoFormacao='FORMACAO_'+str(f).zfill(3)\n",
    "        codigosFormacoes[codigoFormacao]=formacao\n",
    "        f+=1\n",
    "        for codigoGrupo in df[df['GEOLOGIA_FORMACAO_FINAL']==formacao]['COD_GRUPO'].unique():\n",
    "            if isinstance(codigoGrupo, str):\n",
    "                codigosFormacaoGrupo[codigoFormacao]=codigoGrupo"
   ]
  },
  {
   "cell_type": "code",
   "execution_count": 34,
   "id": "075d6fbe",
   "metadata": {},
   "outputs": [],
   "source": [
    "df['COD_FORMACAO']=df['GEOLOGIA_FORMACAO_FINAL'].apply(lambda x: _codigo_litoestratigrafia(x, codigosFormacoes))"
   ]
  },
  {
   "cell_type": "code",
   "execution_count": 35,
   "id": "1054385f",
   "metadata": {},
   "outputs": [],
   "source": [
    "codigosMembros = {}\n",
    "codigosMembroFormacao = {}\n",
    "m=1\n",
    "for membro in df['GEOLOGIA_MEMBRO_FINAL'].unique():\n",
    "    if isinstance(membro, str):\n",
    "        codigoMembro='MEMBRO_'+str(m).zfill(2)\n",
    "        codigosMembros[codigoMembro]=membro\n",
    "        m+=1\n",
    "        for codigoFormacao in df[df['GEOLOGIA_MEMBRO_FINAL']==membro]['COD_FORMACAO'].unique():\n",
    "            if isinstance(codigoFormacao, str):\n",
    "                codigosMembroFormacao[codigoMembro]=codigoFormacao"
   ]
  },
  {
   "cell_type": "code",
   "execution_count": 36,
   "id": "c40ecc3a",
   "metadata": {},
   "outputs": [],
   "source": [
    "df['COD_MEMBRO']=df['GEOLOGIA_MEMBRO_FINAL'].apply(lambda x: _codigo_litoestratigrafia(x, codigosMembros))"
   ]
  },
  {
   "cell_type": "code",
   "execution_count": 37,
   "id": "c42a1b06",
   "metadata": {},
   "outputs": [],
   "source": [
    "with open('formacao_grupo.json', 'w') as f:\n",
    "    json.dump(codigosFormacaoGrupo, f)\n",
    "with open('membro_formacao.json', 'w') as f:\n",
    "    json.dump(codigosMembroFormacao, f)\n",
    "with open('codigos_membro.json', 'w') as f:\n",
    "    json.dump(codigosMembros, f)\n",
    "with open('codigos_formacao.json', 'w') as f:\n",
    "    json.dump(codigosFormacoes, f)\n",
    "with open('codigos_grupo.json', 'w') as f:\n",
    "    json.dump(codigosGrupos, f)"
   ]
  },
  {
   "cell_type": "code",
   "execution_count": 38,
   "id": "967437f7-a9f8-4b73-bc15-82e9ea2d776a",
   "metadata": {
    "tags": []
   },
   "outputs": [],
   "source": [
    "df.drop(columns=['CADASTRO', 'OPERADOR', 'BLOCO', 'TERRA_MAR', 'CATEGORIA', 'RECLASSIFICACAO', 'SITUACAO', 'LAMINA_D_AGUA_M'], inplace=True)"
   ]
  },
  {
   "cell_type": "code",
   "execution_count": 39,
   "id": "3af8f023-e238-4696-a143-a02f442e0883",
   "metadata": {
    "tags": []
   },
   "outputs": [
    {
     "data": {
      "text/html": [
       "<div>\n",
       "<style scoped>\n",
       "    .dataframe tbody tr th:only-of-type {\n",
       "        vertical-align: middle;\n",
       "    }\n",
       "\n",
       "    .dataframe tbody tr th {\n",
       "        vertical-align: top;\n",
       "    }\n",
       "\n",
       "    .dataframe thead th {\n",
       "        text-align: right;\n",
       "    }\n",
       "</style>\n",
       "<table border=\"1\" class=\"dataframe\">\n",
       "  <thead>\n",
       "    <tr style=\"text-align: right;\">\n",
       "      <th></th>\n",
       "      <th>POCO</th>\n",
       "      <th>POCO_OPERADOR</th>\n",
       "      <th>ESTADO</th>\n",
       "      <th>BACIA</th>\n",
       "      <th>SIG_CAMPO</th>\n",
       "      <th>CAMPO</th>\n",
       "      <th>GEOLOGIA_GRUPO_FINAL</th>\n",
       "      <th>GEOLOGIA_FORMACAO_FINAL</th>\n",
       "      <th>GEOLOGIA_MEMBRO_FINAL</th>\n",
       "      <th>COD_POCO</th>\n",
       "      <th>COD_BACIA</th>\n",
       "      <th>CAMPO_CORRIGIDO</th>\n",
       "      <th>COD_CAMPO</th>\n",
       "      <th>COD_GRUPO</th>\n",
       "      <th>COD_FORMACAO</th>\n",
       "      <th>COD_MEMBRO</th>\n",
       "    </tr>\n",
       "  </thead>\n",
       "  <tbody>\n",
       "    <tr>\n",
       "      <th>295</th>\n",
       "      <td>8-ABL-82H-RJS</td>\n",
       "      <td>8ABL82HRJS</td>\n",
       "      <td>RJ</td>\n",
       "      <td>Campos</td>\n",
       "      <td>ABL</td>\n",
       "      <td>ALBACORA LESTE</td>\n",
       "      <td>Campos</td>\n",
       "      <td>Carapebus</td>\n",
       "      <td>NaN</td>\n",
       "      <td>POCO_0074281027798</td>\n",
       "      <td>BACIA_09</td>\n",
       "      <td>ALBACORA LESTE</td>\n",
       "      <td>CAMPO_090003</td>\n",
       "      <td>GRUPO_10</td>\n",
       "      <td>FORMACAO_014</td>\n",
       "      <td>None</td>\n",
       "    </tr>\n",
       "    <tr>\n",
       "      <th>296</th>\n",
       "      <td>4-BRSA-1281-RN</td>\n",
       "      <td>4SVM10RN</td>\n",
       "      <td>RN</td>\n",
       "      <td>Potiguar</td>\n",
       "      <td>SVM</td>\n",
       "      <td>SERRA VERMELHA</td>\n",
       "      <td>NaN</td>\n",
       "      <td>Embasamento</td>\n",
       "      <td>NaN</td>\n",
       "      <td>POCO_0072100027870</td>\n",
       "      <td>BACIA_26</td>\n",
       "      <td>SERRA VERMELHA</td>\n",
       "      <td>CAMPO_260100</td>\n",
       "      <td>None</td>\n",
       "      <td>FORMACAO_012</td>\n",
       "      <td>None</td>\n",
       "    </tr>\n",
       "    <tr>\n",
       "      <th>297</th>\n",
       "      <td>7-MXL-18H-SPS</td>\n",
       "      <td>7MXL18HSPS</td>\n",
       "      <td>SP</td>\n",
       "      <td>Santos</td>\n",
       "      <td>MXL</td>\n",
       "      <td>MEXILHÃO</td>\n",
       "      <td>Frade</td>\n",
       "      <td>Itajaí-Açu</td>\n",
       "      <td>Ilha Bela</td>\n",
       "      <td>POCO_0086316027843</td>\n",
       "      <td>BACIA_29</td>\n",
       "      <td>MEXILHÃO</td>\n",
       "      <td>CAMPO_290023</td>\n",
       "      <td>GRUPO_11</td>\n",
       "      <td>FORMACAO_015</td>\n",
       "      <td>MEMBRO_01</td>\n",
       "    </tr>\n",
       "    <tr>\n",
       "      <th>298</th>\n",
       "      <td>1-BRSA-1269-AM</td>\n",
       "      <td>1RJP1AM</td>\n",
       "      <td>AM</td>\n",
       "      <td>Amazonas</td>\n",
       "      <td>NaN</td>\n",
       "      <td>NaN</td>\n",
       "      <td>Urupadi</td>\n",
       "      <td>Ererê</td>\n",
       "      <td>NaN</td>\n",
       "      <td>POCO_0014030027801</td>\n",
       "      <td>BACIA_04</td>\n",
       "      <td>NaN</td>\n",
       "      <td>None</td>\n",
       "      <td>GRUPO_12</td>\n",
       "      <td>FORMACAO_016</td>\n",
       "      <td>None</td>\n",
       "    </tr>\n",
       "    <tr>\n",
       "      <th>299</th>\n",
       "      <td>9-BRSA-1284-RJS</td>\n",
       "      <td>9RJS730</td>\n",
       "      <td>RJ</td>\n",
       "      <td>Santos</td>\n",
       "      <td>ATP</td>\n",
       "      <td>ATAPU</td>\n",
       "      <td>Guaratiba</td>\n",
       "      <td>Itapema</td>\n",
       "      <td>NaN</td>\n",
       "      <td>POCO_0074316027881</td>\n",
       "      <td>BACIA_29</td>\n",
       "      <td>ATAPU</td>\n",
       "      <td>CAMPO_290002</td>\n",
       "      <td>GRUPO_01</td>\n",
       "      <td>FORMACAO_010</td>\n",
       "      <td>None</td>\n",
       "    </tr>\n",
       "    <tr>\n",
       "      <th>300</th>\n",
       "      <td>3-KPGL-4-SPS</td>\n",
       "      <td>3KPLG4SPS</td>\n",
       "      <td>SP</td>\n",
       "      <td>Santos</td>\n",
       "      <td>GOI</td>\n",
       "      <td>GOIÁ</td>\n",
       "      <td>Frade</td>\n",
       "      <td>Itajaí-Açu</td>\n",
       "      <td>NaN</td>\n",
       "      <td>POCO_0086316027867</td>\n",
       "      <td>BACIA_29</td>\n",
       "      <td>GOIÁ</td>\n",
       "      <td>CAMPO_290016</td>\n",
       "      <td>GRUPO_11</td>\n",
       "      <td>FORMACAO_015</td>\n",
       "      <td>None</td>\n",
       "    </tr>\n",
       "    <tr>\n",
       "      <th>301</th>\n",
       "      <td>3-BRSA-1216DA-SPS</td>\n",
       "      <td>3SPS104DA</td>\n",
       "      <td>SP</td>\n",
       "      <td>Santos</td>\n",
       "      <td>BAC</td>\n",
       "      <td>BACALHAU</td>\n",
       "      <td>Guaratiba</td>\n",
       "      <td>Barra Velha</td>\n",
       "      <td>NaN</td>\n",
       "      <td>POCO_0086316027781</td>\n",
       "      <td>BACIA_29</td>\n",
       "      <td>BACALHAU</td>\n",
       "      <td>CAMPO_290004</td>\n",
       "      <td>GRUPO_01</td>\n",
       "      <td>FORMACAO_001</td>\n",
       "      <td>None</td>\n",
       "    </tr>\n",
       "    <tr>\n",
       "      <th>302</th>\n",
       "      <td>3-BRSA-1279-SE</td>\n",
       "      <td>3CP1926SE</td>\n",
       "      <td>SE</td>\n",
       "      <td>Sergipe</td>\n",
       "      <td>CP</td>\n",
       "      <td>CARMÓPOLIS</td>\n",
       "      <td>NaN</td>\n",
       "      <td>Embasamento</td>\n",
       "      <td>NaN</td>\n",
       "      <td>POCO_0090120027849</td>\n",
       "      <td>BACIA_30</td>\n",
       "      <td>CARMÓPOLIS</td>\n",
       "      <td>CAMPO_300018</td>\n",
       "      <td>None</td>\n",
       "      <td>FORMACAO_012</td>\n",
       "      <td>None</td>\n",
       "    </tr>\n",
       "    <tr>\n",
       "      <th>303</th>\n",
       "      <td>7-DJ-886D-BA</td>\n",
       "      <td>7DJ886DBA</td>\n",
       "      <td>BA</td>\n",
       "      <td>Recôncavo</td>\n",
       "      <td>DJ</td>\n",
       "      <td>DOM JOÃO</td>\n",
       "      <td>Brotas</td>\n",
       "      <td>Sergi</td>\n",
       "      <td>NaN</td>\n",
       "      <td>POCO_0020240027908</td>\n",
       "      <td>BACIA_27</td>\n",
       "      <td>DOM JOÃO</td>\n",
       "      <td>CAMPO_270028</td>\n",
       "      <td>GRUPO_05</td>\n",
       "      <td>FORMACAO_007</td>\n",
       "      <td>None</td>\n",
       "    </tr>\n",
       "    <tr>\n",
       "      <th>304</th>\n",
       "      <td>7-FSR-61-ES</td>\n",
       "      <td>7FSR61ES</td>\n",
       "      <td>ES</td>\n",
       "      <td>Espírito Santo</td>\n",
       "      <td>FSRL</td>\n",
       "      <td>FAZENDA SÃO RAFAEL</td>\n",
       "      <td>Barra Nova</td>\n",
       "      <td>São Mateus</td>\n",
       "      <td>NaN</td>\n",
       "      <td>POCO_0034270027886</td>\n",
       "      <td>BACIA_12</td>\n",
       "      <td>FAZENDA SÃO RAFAEL</td>\n",
       "      <td>CAMPO_120025</td>\n",
       "      <td>GRUPO_04</td>\n",
       "      <td>FORMACAO_004</td>\n",
       "      <td>None</td>\n",
       "    </tr>\n",
       "  </tbody>\n",
       "</table>\n",
       "</div>"
      ],
      "text/plain": [
       "                  POCO POCO_OPERADOR ESTADO           BACIA SIG_CAMPO  \\\n",
       "295      8-ABL-82H-RJS    8ABL82HRJS     RJ          Campos     ABL     \n",
       "296     4-BRSA-1281-RN      4SVM10RN     RN        Potiguar     SVM     \n",
       "297      7-MXL-18H-SPS    7MXL18HSPS     SP          Santos     MXL     \n",
       "298     1-BRSA-1269-AM       1RJP1AM     AM        Amazonas       NaN   \n",
       "299    9-BRSA-1284-RJS       9RJS730     RJ          Santos     ATP     \n",
       "300       3-KPGL-4-SPS     3KPLG4SPS     SP          Santos     GOI     \n",
       "301  3-BRSA-1216DA-SPS     3SPS104DA     SP          Santos     BAC     \n",
       "302     3-BRSA-1279-SE     3CP1926SE     SE         Sergipe     CP      \n",
       "303       7-DJ-886D-BA     7DJ886DBA     BA       Recôncavo     DJ      \n",
       "304        7-FSR-61-ES      7FSR61ES     ES  Espírito Santo     FSRL    \n",
       "\n",
       "                  CAMPO GEOLOGIA_GRUPO_FINAL GEOLOGIA_FORMACAO_FINAL  \\\n",
       "295      ALBACORA LESTE               Campos               Carapebus   \n",
       "296      SERRA VERMELHA                  NaN             Embasamento   \n",
       "297            MEXILHÃO                Frade              Itajaí-Açu   \n",
       "298                 NaN              Urupadi                   Ererê   \n",
       "299               ATAPU            Guaratiba                 Itapema   \n",
       "300                GOIÁ                Frade              Itajaí-Açu   \n",
       "301            BACALHAU            Guaratiba             Barra Velha   \n",
       "302          CARMÓPOLIS                  NaN             Embasamento   \n",
       "303            DOM JOÃO               Brotas                   Sergi   \n",
       "304  FAZENDA SÃO RAFAEL           Barra Nova              São Mateus   \n",
       "\n",
       "    GEOLOGIA_MEMBRO_FINAL            COD_POCO COD_BACIA     CAMPO_CORRIGIDO  \\\n",
       "295                   NaN  POCO_0074281027798  BACIA_09      ALBACORA LESTE   \n",
       "296                   NaN  POCO_0072100027870  BACIA_26      SERRA VERMELHA   \n",
       "297             Ilha Bela  POCO_0086316027843  BACIA_29            MEXILHÃO   \n",
       "298                   NaN  POCO_0014030027801  BACIA_04                 NaN   \n",
       "299                   NaN  POCO_0074316027881  BACIA_29               ATAPU   \n",
       "300                   NaN  POCO_0086316027867  BACIA_29                GOIÁ   \n",
       "301                   NaN  POCO_0086316027781  BACIA_29            BACALHAU   \n",
       "302                   NaN  POCO_0090120027849  BACIA_30          CARMÓPOLIS   \n",
       "303                   NaN  POCO_0020240027908  BACIA_27            DOM JOÃO   \n",
       "304                   NaN  POCO_0034270027886  BACIA_12  FAZENDA SÃO RAFAEL   \n",
       "\n",
       "        COD_CAMPO COD_GRUPO  COD_FORMACAO COD_MEMBRO  \n",
       "295  CAMPO_090003  GRUPO_10  FORMACAO_014       None  \n",
       "296  CAMPO_260100      None  FORMACAO_012       None  \n",
       "297  CAMPO_290023  GRUPO_11  FORMACAO_015  MEMBRO_01  \n",
       "298          None  GRUPO_12  FORMACAO_016       None  \n",
       "299  CAMPO_290002  GRUPO_01  FORMACAO_010       None  \n",
       "300  CAMPO_290016  GRUPO_11  FORMACAO_015       None  \n",
       "301  CAMPO_290004  GRUPO_01  FORMACAO_001       None  \n",
       "302  CAMPO_300018      None  FORMACAO_012       None  \n",
       "303  CAMPO_270028  GRUPO_05  FORMACAO_007       None  \n",
       "304  CAMPO_120025  GRUPO_04  FORMACAO_004       None  "
      ]
     },
     "execution_count": 39,
     "metadata": {},
     "output_type": "execute_result"
    }
   ],
   "source": [
    "df[295:305]"
   ]
  },
  {
   "cell_type": "code",
   "execution_count": 40,
   "id": "7c1569c6",
   "metadata": {},
   "outputs": [],
   "source": [
    "df.to_excel('dados_anp.xlsx')"
   ]
  },
  {
   "cell_type": "code",
   "execution_count": null,
   "id": "1ab0be6c-f151-42d9-9cff-81b1fd7c47ac",
   "metadata": {},
   "outputs": [],
   "source": []
  }
 ],
 "metadata": {
  "kernelspec": {
   "display_name": "Python 3.9.13",
   "language": "python",
   "name": "python3"
  },
  "language_info": {
   "codemirror_mode": {
    "name": "ipython",
    "version": 3
   },
   "file_extension": ".py",
   "mimetype": "text/x-python",
   "name": "python",
   "nbconvert_exporter": "python",
   "pygments_lexer": "ipython3",
   "version": "3.9.13"
  }
 },
 "nbformat": 4,
 "nbformat_minor": 5
}
