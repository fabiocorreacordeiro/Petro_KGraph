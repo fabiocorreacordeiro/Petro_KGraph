{
 "cells": [
  {
   "cell_type": "code",
   "execution_count": 1,
   "id": "71b82bda",
   "metadata": {},
   "outputs": [],
   "source": [
    "import pandas as pd\n",
    "import unicodedata\n",
    "import numpy as np\n",
    "import json"
   ]
  },
  {
   "cell_type": "code",
   "execution_count": 2,
   "id": "05605c81",
   "metadata": {},
   "outputs": [],
   "source": [
    "df=pd.read_excel('resources/wellMapper.xlsx')"
   ]
  },
  {
   "cell_type": "code",
   "execution_count": 3,
   "id": "36651490",
   "metadata": {},
   "outputs": [],
   "source": [
    "def _uniform_entry(x):\n",
    "    return unicodedata.normalize('NFKD', x.lower()).encode('ascii', 'ignore').decode('ascii').replace(' ','')"
   ]
  },
  {
   "cell_type": "code",
   "execution_count": 4,
   "id": "0d006ad8",
   "metadata": {},
   "outputs": [],
   "source": [
    "wellMapper = {}\n",
    "for i, row in df.iterrows():\n",
    "    if isinstance(row['DMPO_SG_PRFX_POCO_ANP'], str) and isinstance(row['POCO'], str):\n",
    "        if len(row['DMPO_SG_PRFX_POCO_ANP']) > len(row['POCO']):\n",
    "            if (_uniform_entry(row['DMPO_NM_BACI'])==_uniform_entry(row['BACIA']) and\n",
    "                '-'.join(row['DMPO_SG_PRFX_POCO_ANP'].split('-')[:-1])==row['POCO']):\n",
    "                wellMapper['POCO_CD_POCO_'+str(row['DMPO_CD_POCO']).zfill(6)]=row['COD_POCO']\n",
    "        elif len(row['POCO']) > len(row['DMPO_SG_PRFX_POCO_ANP']):\n",
    "            if (_uniform_entry(row['DMPO_NM_BACI'])==_uniform_entry(row['BACIA']) and\n",
    "                '-'.join(row['POCO'].split('-')[:-1])==row['DMPO_SG_PRFX_POCO_ANP']):\n",
    "                wellMapper['POCO_CD_POCO_'+str(row['DMPO_CD_POCO']).zfill(6)]=row['COD_POCO']\n",
    "        #elif row['POCO']==row['DMPO_SG_PRFX_POCO_ANP']:\n",
    "        else:\n",
    "            wellMapper['POCO_CD_POCO_'+str(row['DMPO_CD_POCO']).zfill(6)]=row['COD_POCO']\n",
    "        #else:\n",
    "        #    print(row['DMPO_SG_PRFX_POCO_ANP'], row['POCO'])                "
   ]
  },
  {
   "cell_type": "code",
   "execution_count": 5,
   "id": "861798ce",
   "metadata": {},
   "outputs": [],
   "source": [
    "with open('resources/bacia/bacias.json', 'r') as f:\n",
    "    bacias_br=json.load(f)"
   ]
  },
  {
   "cell_type": "code",
   "execution_count": 6,
   "id": "c35ee847",
   "metadata": {},
   "outputs": [],
   "source": [
    "with open('resources/dados_publicos/codigos_bacias.json', 'r') as f:\n",
    "    bacias_anp=json.load(f)"
   ]
  },
  {
   "cell_type": "code",
   "execution_count": 7,
   "id": "5665028e",
   "metadata": {},
   "outputs": [],
   "source": [
    "dic_bacias_br = {}\n",
    "for key, value in bacias_br.items():\n",
    "    for i in range(len(value)):\n",
    "        dic_bacias_br[_uniform_entry(value[i])] = 'BASE_CD_BACIA_'+str(key).zfill(3)"
   ]
  },
  {
   "cell_type": "code",
   "execution_count": 8,
   "id": "18aec75e",
   "metadata": {
    "scrolled": false
   },
   "outputs": [],
   "source": [
    "basinMapper={}\n",
    "for key, value in bacias_anp.items():\n",
    "    if _uniform_entry(value) in dic_bacias_br.keys():\n",
    "        basinMapper[dic_bacias_br[_uniform_entry(value)]] = key\n",
    "    #else:\n",
    "    #    print(value)"
   ]
  },
  {
   "cell_type": "code",
   "execution_count": 9,
   "id": "01b8247c",
   "metadata": {},
   "outputs": [
    {
     "data": {
      "text/plain": [
       "32"
      ]
     },
     "execution_count": 9,
     "metadata": {},
     "output_type": "execute_result"
    }
   ],
   "source": [
    "len(basinMapper)"
   ]
  },
  {
   "cell_type": "code",
   "execution_count": 10,
   "id": "ae37f2d7",
   "metadata": {},
   "outputs": [],
   "source": [
    "basinMapper['BASE_CD_BACIA_116']='BACIA_02' #Alagoas\n",
    "basinMapper['BASE_CD_BACIA_116']='BACIA_30' #Sergipe\n",
    "basinMapper['BASE_CD_BACIA_266']='BACIA_03' #Almada\n",
    "basinMapper['BASE_CD_BACIA_266']='BACIA_08' #Camamu\n",
    "basinMapper['BASE_CD_BACIA_260']='BACIA_18' #Mucuri"
   ]
  },
  {
   "cell_type": "code",
   "execution_count": 11,
   "id": "2e8d86ff",
   "metadata": {},
   "outputs": [],
   "source": [
    "with open('resources/campo/campos.json', 'r') as f:\n",
    "    campos_br=json.load(f)"
   ]
  },
  {
   "cell_type": "code",
   "execution_count": 12,
   "id": "6fc5b351",
   "metadata": {},
   "outputs": [],
   "source": [
    "with open('resources/dados_publicos/codigos_campos.json', 'r') as f:\n",
    "    campos_anp=json.load(f)"
   ]
  },
  {
   "cell_type": "code",
   "execution_count": 13,
   "id": "a6f1be14",
   "metadata": {},
   "outputs": [],
   "source": [
    "dic_campos_br = {}\n",
    "for key, value in campos_br.items():\n",
    "    for i in range(len(value)):\n",
    "        dic_campos_br[_uniform_entry(value[i])] = 'CAMP_CD_CAMPO_'+str(key).zfill(4)"
   ]
  },
  {
   "cell_type": "code",
   "execution_count": 14,
   "id": "d13f63cb",
   "metadata": {
    "scrolled": false
   },
   "outputs": [],
   "source": [
    "fieldMapper={}\n",
    "for key, value in campos_anp.items():\n",
    "    if _uniform_entry(value) in dic_campos_br.keys():\n",
    "        fieldMapper[dic_campos_br[_uniform_entry(value)]] = key\n",
    "    #else:\n",
    "    #    print(value)"
   ]
  },
  {
   "cell_type": "code",
   "execution_count": 15,
   "id": "20fc2f24",
   "metadata": {},
   "outputs": [
    {
     "data": {
      "text/plain": [
       "398"
      ]
     },
     "execution_count": 15,
     "metadata": {},
     "output_type": "execute_result"
    }
   ],
   "source": [
    "len(fieldMapper)"
   ]
  },
  {
   "cell_type": "code",
   "execution_count": 16,
   "id": "96f05b0b",
   "metadata": {},
   "outputs": [],
   "source": [
    "fieldMapper['CAMP_CD_CAMPO_0037']='CAMPO_090001' #Abalone\n",
    "fieldMapper['CAMP_CD_CAMPO_0575']='CAMPO_310005' #Igarapé Pucá\n",
    "fieldMapper['CAMP_CD_CAMPO_0575']='CAMPO_310008' #Nordeste de Juruá\n",
    "fieldMapper['CAMP_CD_CAMPO_0575']='CAMPO_310010' #Sudoeste de Juruá\n",
    "fieldMapper['CAMP_CD_CAMPO_1003']='CAMPO_300029' #Guará"
   ]
  },
  {
   "cell_type": "code",
   "execution_count": 17,
   "id": "adcc1687",
   "metadata": {},
   "outputs": [],
   "source": [
    "with open('resources/litoestratigrafia/unidades_litoestratigraficas.json', 'r') as f:\n",
    "    litoestratigrafias_br=json.load(f)"
   ]
  },
  {
   "cell_type": "code",
   "execution_count": 18,
   "id": "10fbadcb",
   "metadata": {},
   "outputs": [],
   "source": [
    "grupos_br=litoestratigrafias_br['group']\n",
    "formacoes_br=litoestratigrafias_br['formation']\n",
    "membros_br=litoestratigrafias_br['member']"
   ]
  },
  {
   "cell_type": "code",
   "execution_count": 19,
   "id": "3b80520e",
   "metadata": {},
   "outputs": [],
   "source": [
    "with open('resources/dados_publicos/codigos_grupo.json', 'r') as f:\n",
    "    grupos_anp=json.load(f)\n",
    "with open('resources/dados_publicos/codigos_formacao.json', 'r') as f:\n",
    "    formacoes_anp=json.load(f)\n",
    "with open('resources/dados_publicos/codigos_membro.json', 'r') as f:\n",
    "    membros_anp=json.load(f)"
   ]
  },
  {
   "cell_type": "code",
   "execution_count": 20,
   "id": "946b2074",
   "metadata": {},
   "outputs": [],
   "source": [
    "dic_grupos_br = {}\n",
    "for key, value in grupos_br.items():\n",
    "    dic_grupos_br[_uniform_entry(value[0]).replace('gr.', '')] = key"
   ]
  },
  {
   "cell_type": "code",
   "execution_count": 21,
   "id": "b96d6310",
   "metadata": {},
   "outputs": [],
   "source": [
    "dic_formacoes_br = {}\n",
    "for key, value in formacoes_br.items():\n",
    "    dic_formacoes_br[_uniform_entry(value[0]).replace('fm.', '')] = key"
   ]
  },
  {
   "cell_type": "code",
   "execution_count": 22,
   "id": "d6f482a4",
   "metadata": {},
   "outputs": [],
   "source": [
    "dic_membros_br = {}\n",
    "for key, value in membros_br.items():\n",
    "    dic_membros_br[_uniform_entry(value[0]).replace('mb.', '')] = key"
   ]
  },
  {
   "cell_type": "code",
   "execution_count": 24,
   "id": "31183a98",
   "metadata": {
    "scrolled": false
   },
   "outputs": [],
   "source": [
    "lithostratigraphyMapper={}\n",
    "for key, value in grupos_anp.items():\n",
    "    if _uniform_entry(value) in dic_grupos_br.keys():\n",
    "        lithostratigraphyMapper[dic_grupos_br[_uniform_entry(value)]] = key\n",
    "    #else:\n",
    "    #    print('Gr.',value)\n",
    "for key, value in formacoes_anp.items():\n",
    "    if _uniform_entry(value) in dic_formacoes_br.keys():\n",
    "        lithostratigraphyMapper[dic_formacoes_br[_uniform_entry(value)]] = key\n",
    "    #else:\n",
    "    #    print('Fm.',value)\n",
    "for key, value in membros_anp.items():\n",
    "    if _uniform_entry(value) in dic_membros_br.keys():\n",
    "        lithostratigraphyMapper[dic_membros_br[_uniform_entry(value)]] = key\n",
    "    #else:\n",
    "    #    print('Mb.',value)"
   ]
  },
  {
   "cell_type": "code",
   "execution_count": 25,
   "id": "441202ec",
   "metadata": {},
   "outputs": [
    {
     "data": {
      "text/plain": [
       "121"
      ]
     },
     "execution_count": 25,
     "metadata": {},
     "output_type": "execute_result"
    }
   ],
   "source": [
    "len(lithostratigraphyMapper)"
   ]
  },
  {
   "cell_type": "code",
   "execution_count": 26,
   "id": "92213c1c",
   "metadata": {},
   "outputs": [],
   "source": [
    "lithostratigraphyMapper['formacao_295']='FORMACAO_070' #Afligidos\n",
    "lithostratigraphyMapper['SD_000']='FORMACAO_012' #Embasamento\n",
    "lithostratigraphyMapper['formacao_061']='FORMACAO_037' #Pimenteiras\n",
    "lithostratigraphyMapper['grupo_000']='FORMACAO_053' #Macaé\n",
    "lithostratigraphyMapper['grupo_050']='FORMACAO_060' #Lagoa Feia\n",
    "lithostratigraphyMapper['formacao_151']='MEMBRO_16' #Quissamã\n",
    "lithostratigraphyMapper['formacao_295']='FORMACAO_070' #Afligidos"
   ]
  },
  {
   "cell_type": "code",
   "execution_count": 28,
   "id": "8bc54ca6",
   "metadata": {},
   "outputs": [],
   "source": [
    "with open('resources/dados_publicos/bacias_br_para_anp.json', 'w') as f:\n",
    "    json.dump(basinMapper, f)"
   ]
  },
  {
   "cell_type": "code",
   "execution_count": 29,
   "id": "efed5439",
   "metadata": {},
   "outputs": [],
   "source": [
    "with open('resources/dados_publicos/campos_br_para_anp.json', 'w') as f:\n",
    "    json.dump(fieldMapper, f)"
   ]
  },
  {
   "cell_type": "code",
   "execution_count": 30,
   "id": "9448c457",
   "metadata": {},
   "outputs": [],
   "source": [
    "with open('resources/dados_publicos/pocos_br_para_anp.json', 'w') as f:\n",
    "    json.dump(wellMapper, f)"
   ]
  },
  {
   "cell_type": "code",
   "execution_count": 31,
   "id": "623ba96c",
   "metadata": {},
   "outputs": [],
   "source": [
    "with open('resources/dados_publicos/litoestratigrafias_br_para_anp.json', 'w') as f:\n",
    "    json.dump(lithostratigraphyMapper, f)"
   ]
  }
 ],
 "metadata": {
  "kernelspec": {
   "display_name": "Python 3 (ipykernel)",
   "language": "python",
   "name": "python3"
  },
  "language_info": {
   "codemirror_mode": {
    "name": "ipython",
    "version": 3
   },
   "file_extension": ".py",
   "mimetype": "text/x-python",
   "name": "python",
   "nbconvert_exporter": "python",
   "pygments_lexer": "ipython3",
   "version": "3.9.13"
  }
 },
 "nbformat": 4,
 "nbformat_minor": 5
}
