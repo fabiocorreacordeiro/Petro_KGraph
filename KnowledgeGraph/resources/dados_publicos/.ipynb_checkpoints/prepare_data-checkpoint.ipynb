{
 "cells": [
  {
   "cell_type": "code",
   "execution_count": 1,
   "id": "89c3f09f",
   "metadata": {},
   "outputs": [],
   "source": [
    "import pandas as pd\n",
    "import os\n",
    "import numpy as np\n",
    "import json"
   ]
  },
  {
   "cell_type": "markdown",
   "id": "ec8c6fa6",
   "metadata": {},
   "source": [
    "### Preparando tabelas oriundas da ANP"
   ]
  },
  {
   "cell_type": "code",
   "execution_count": 2,
   "id": "1cc25c17",
   "metadata": {},
   "outputs": [],
   "source": [
    "df=pd.read_excel('tabela-de-pocos.xlsx')"
   ]
  },
  {
   "cell_type": "code",
   "execution_count": 3,
   "id": "c79fe303",
   "metadata": {},
   "outputs": [
    {
     "data": {
      "text/plain": [
       "30465"
      ]
     },
     "execution_count": 3,
     "metadata": {},
     "output_type": "execute_result"
    }
   ],
   "source": [
    "len(df)"
   ]
  },
  {
   "cell_type": "code",
   "execution_count": 4,
   "id": "495504af",
   "metadata": {
    "scrolled": false
   },
   "outputs": [
    {
     "data": {
      "text/plain": [
       "Index(['POCO', 'CADASTRO', 'OPERADOR', 'POCO_OPERADOR', 'ESTADO', 'BACIA',\n",
       "       'BLOCO', 'SIG_CAMPO', 'CAMPO', 'TERRA_MAR', 'POCO_POS_ANP', 'TIPO',\n",
       "       'CATEGORIA', 'RECLASSIFICACAO', 'SITUACAO', 'INICIO', 'TERMINO',\n",
       "       'CONCLUSAO', 'TITULARIDADE', 'LATITUDE_BASE_4C', 'LONGITUDE_BASE_4C',\n",
       "       'LATITUDE_BASE_DD', 'LONGITUDE_BASE_DD', 'DATUM_HORIZONTAL',\n",
       "       'TIPO_DE_COORDENADA_DE_BASE', 'DIRECAO', 'PROFUNDIDADE_VERTICAL_M',\n",
       "       'PROFUNDIDADE_SONDADOR_M', 'PROFUNDIDADE_MEDIDA_M',\n",
       "       'REFERENCIA_DE_PROFUNDIDADE', 'MESA_ROTATIVA', 'COTA_ALTIMETRICA_M',\n",
       "       'LAMINA_D_AGUA_M', 'DATUM_VERTICAL', 'UNIDADE_ESTRATIGRAFICA',\n",
       "       'GEOLOGIA_GRUPO_FINAL', 'GEOLOGIA_FORMACAO_FINAL',\n",
       "       'GEOLOGIA_MEMBRO_FINAL', 'CDPE', 'AGP', 'PC', 'PAG',\n",
       "       'PERFIS_CONVENCIONAIS', 'DURANTE_PERFURACAO', 'PERFIS_DIGITAIS',\n",
       "       'PERFIS_PROCESSADOS', 'PERFIS_ESPECIAIS', 'AMOSTRA_LATERAL', 'SISMICA',\n",
       "       'TABELA_TEMPO_PROFUNDIDADE', 'DADOS_DIRECIONAIS', 'TESTE_A_CABO',\n",
       "       'TESTE_DE_FORMACAO', 'CANHONEIO', 'TESTEMUNHO', 'GEOQUIMICA',\n",
       "       'SIG_SONDA', 'NOM_SONDA', 'ATINGIU_PRESAL', 'DHA_ATUALIZACAO'],\n",
       "      dtype='object')"
      ]
     },
     "execution_count": 4,
     "metadata": {},
     "output_type": "execute_result"
    }
   ],
   "source": [
    "df.columns"
   ]
  },
  {
   "cell_type": "code",
   "execution_count": 5,
   "id": "4b3add01",
   "metadata": {},
   "outputs": [],
   "source": [
    "df.drop(columns = ['POCO_POS_ANP', 'TIPO', 'INICIO', 'TERMINO', 'CONCLUSAO', 'TITULARIDADE', \n",
    "                   'LATITUDE_BASE_4C', 'LONGITUDE_BASE_4C', 'LATITUDE_BASE_DD', 'LONGITUDE_BASE_DD', \n",
    "                   'DATUM_HORIZONTAL', 'TIPO_DE_COORDENADA_DE_BASE', 'DIRECAO', \n",
    "                   'PROFUNDIDADE_VERTICAL_M', 'PROFUNDIDADE_SONDADOR_M', 'PROFUNDIDADE_MEDIDA_M',\n",
    "                   'REFERENCIA_DE_PROFUNDIDADE', 'MESA_ROTATIVA', 'COTA_ALTIMETRICA_M',\n",
    "                   'DATUM_VERTICAL', 'UNIDADE_ESTRATIGRAFICA', 'CDPE', 'AGP', 'PC', 'PAG',\n",
    "                   'PERFIS_CONVENCIONAIS', 'DURANTE_PERFURACAO', 'PERFIS_DIGITAIS', 'PERFIS_PROCESSADOS', \n",
    "                   'PERFIS_ESPECIAIS', 'AMOSTRA_LATERAL', 'SISMICA', 'TABELA_TEMPO_PROFUNDIDADE', \n",
    "                   'DADOS_DIRECIONAIS', 'TESTE_A_CABO', 'TESTE_DE_FORMACAO', 'CANHONEIO', 'TESTEMUNHO', \n",
    "                   'GEOQUIMICA', 'SIG_SONDA', 'NOM_SONDA', 'ATINGIU_PRESAL', 'DHA_ATUALIZACAO'\n",
    "                  ], inplace=True)"
   ]
  },
  {
   "cell_type": "code",
   "execution_count": 6,
   "id": "befe9477",
   "metadata": {
    "scrolled": true
   },
   "outputs": [
    {
     "data": {
      "text/plain": [
       "30465"
      ]
     },
     "execution_count": 6,
     "metadata": {},
     "output_type": "execute_result"
    }
   ],
   "source": [
    "df['CADASTRO'].nunique()"
   ]
  },
  {
   "cell_type": "markdown",
   "id": "0ca87647",
   "metadata": {},
   "source": [
    "#### Avaliando instâncias de Poço"
   ]
  },
  {
   "cell_type": "code",
   "execution_count": 41,
   "id": "b4cd7ccf",
   "metadata": {},
   "outputs": [
    {
     "data": {
      "text/plain": [
       "901210398600"
      ]
     },
     "execution_count": 41,
     "metadata": {},
     "output_type": "execute_result"
    }
   ],
   "source": [
    "df['CADASTRO'].max()"
   ]
  },
  {
   "cell_type": "code",
   "execution_count": 42,
   "id": "f2c27858",
   "metadata": {},
   "outputs": [
    {
     "data": {
      "text/plain": [
       "8115018892"
      ]
     },
     "execution_count": 42,
     "metadata": {},
     "output_type": "execute_result"
    }
   ],
   "source": [
    "df['CADASTRO'].min()"
   ]
  },
  {
   "cell_type": "markdown",
   "id": "bf1f3f1c",
   "metadata": {},
   "source": [
    "#### Avaliando instâncias de Bacia"
   ]
  },
  {
   "cell_type": "code",
   "execution_count": 18,
   "id": "084a0183",
   "metadata": {},
   "outputs": [
    {
     "data": {
      "text/plain": [
       "24"
      ]
     },
     "execution_count": 18,
     "metadata": {},
     "output_type": "execute_result"
    }
   ],
   "source": [
    "df['ESTADO'].nunique()"
   ]
  },
  {
   "cell_type": "code",
   "execution_count": 19,
   "id": "762cd5cf",
   "metadata": {
    "scrolled": true
   },
   "outputs": [],
   "source": [
    "codigosBacias = {}\n",
    "i=1\n",
    "for estado in sorted(df['ESTADO'].unique()):\n",
    "    j=1\n",
    "    for bacia in sorted(df[df['ESTADO']==estado]['BACIA'].unique()):\n",
    "        codigosBacias[bacia]=str(i).zfill(2)+str(j).zfill(2)\n",
    "        j+=1\n",
    "    i+=1    "
   ]
  },
  {
   "cell_type": "code",
   "execution_count": 8,
   "id": "8f656bd5",
   "metadata": {
    "scrolled": true
   },
   "outputs": [
    {
     "data": {
      "text/html": [
       "<div>\n",
       "<style scoped>\n",
       "    .dataframe tbody tr th:only-of-type {\n",
       "        vertical-align: middle;\n",
       "    }\n",
       "\n",
       "    .dataframe tbody tr th {\n",
       "        vertical-align: top;\n",
       "    }\n",
       "\n",
       "    .dataframe thead th {\n",
       "        text-align: right;\n",
       "    }\n",
       "</style>\n",
       "<table border=\"1\" class=\"dataframe\">\n",
       "  <thead>\n",
       "    <tr style=\"text-align: right;\">\n",
       "      <th></th>\n",
       "      <th>POCO</th>\n",
       "      <th>CADASTRO</th>\n",
       "      <th>OPERADOR</th>\n",
       "      <th>POCO_OPERADOR</th>\n",
       "      <th>ESTADO</th>\n",
       "      <th>BACIA</th>\n",
       "      <th>BLOCO</th>\n",
       "      <th>SIG_CAMPO</th>\n",
       "      <th>CAMPO</th>\n",
       "      <th>TERRA_MAR</th>\n",
       "      <th>CATEGORIA</th>\n",
       "      <th>RECLASSIFICACAO</th>\n",
       "      <th>SITUACAO</th>\n",
       "      <th>LAMINA_D_AGUA_M</th>\n",
       "      <th>GEOLOGIA_GRUPO_FINAL</th>\n",
       "      <th>GEOLOGIA_FORMACAO_FINAL</th>\n",
       "      <th>GEOLOGIA_MEMBRO_FINAL</th>\n",
       "    </tr>\n",
       "  </thead>\n",
       "  <tbody>\n",
       "  </tbody>\n",
       "</table>\n",
       "</div>"
      ],
      "text/plain": [
       "Empty DataFrame\n",
       "Columns: [POCO, CADASTRO, OPERADOR, POCO_OPERADOR, ESTADO, BACIA, BLOCO, SIG_CAMPO, CAMPO, TERRA_MAR, CATEGORIA, RECLASSIFICACAO, SITUACAO, LAMINA_D_AGUA_M, GEOLOGIA_GRUPO_FINAL, GEOLOGIA_FORMACAO_FINAL, GEOLOGIA_MEMBRO_FINAL]\n",
       "Index: []"
      ]
     },
     "execution_count": 8,
     "metadata": {},
     "output_type": "execute_result"
    }
   ],
   "source": [
    "df[df['BACIA'].isna()]"
   ]
  },
  {
   "cell_type": "code",
   "execution_count": 25,
   "id": "c325b6f8",
   "metadata": {},
   "outputs": [],
   "source": [
    "def _codigo_bacia(x, codigosBacias):\n",
    "    for key, value in codigosBacias.items():\n",
    "        if x==key:\n",
    "            return(value)"
   ]
  },
  {
   "cell_type": "code",
   "execution_count": 27,
   "id": "b8ec1213",
   "metadata": {},
   "outputs": [],
   "source": [
    "df['COD_BACIA']=df['BACIA'].apply(lambda x: _codigo_bacia(x, codigosBacias))"
   ]
  },
  {
   "cell_type": "markdown",
   "id": "64cc2b48",
   "metadata": {},
   "source": [
    "#### Avaliando instâncias de Campos"
   ]
  },
  {
   "cell_type": "code",
   "execution_count": 21,
   "id": "7b6f313a",
   "metadata": {},
   "outputs": [
    {
     "data": {
      "text/plain": [
       "535"
      ]
     },
     "execution_count": 21,
     "metadata": {},
     "output_type": "execute_result"
    }
   ],
   "source": [
    "df['CAMPO'].nunique()"
   ]
  },
  {
   "cell_type": "code",
   "execution_count": 24,
   "id": "e557c47b",
   "metadata": {},
   "outputs": [
    {
     "data": {
      "text/plain": [
       "497"
      ]
     },
     "execution_count": 24,
     "metadata": {},
     "output_type": "execute_result"
    }
   ],
   "source": [
    "df['SIG_CAMPO'].nunique() #MUITO PROVAVELMENTE EXISTEM INSTANCIAS DE CAMPOS COM SIGLAS REPETIDAS"
   ]
  },
  {
   "cell_type": "code",
   "execution_count": 29,
   "id": "13f66913",
   "metadata": {
    "scrolled": true
   },
   "outputs": [
    {
     "data": {
      "text/html": [
       "<div>\n",
       "<style scoped>\n",
       "    .dataframe tbody tr th:only-of-type {\n",
       "        vertical-align: middle;\n",
       "    }\n",
       "\n",
       "    .dataframe tbody tr th {\n",
       "        vertical-align: top;\n",
       "    }\n",
       "\n",
       "    .dataframe thead th {\n",
       "        text-align: right;\n",
       "    }\n",
       "</style>\n",
       "<table border=\"1\" class=\"dataframe\">\n",
       "  <thead>\n",
       "    <tr style=\"text-align: right;\">\n",
       "      <th></th>\n",
       "      <th>POCO</th>\n",
       "      <th>CADASTRO</th>\n",
       "      <th>OPERADOR</th>\n",
       "      <th>POCO_OPERADOR</th>\n",
       "      <th>ESTADO</th>\n",
       "      <th>BACIA</th>\n",
       "      <th>BLOCO</th>\n",
       "      <th>SIG_CAMPO</th>\n",
       "      <th>CAMPO</th>\n",
       "      <th>TERRA_MAR</th>\n",
       "      <th>CATEGORIA</th>\n",
       "      <th>RECLASSIFICACAO</th>\n",
       "      <th>SITUACAO</th>\n",
       "      <th>LAMINA_D_AGUA_M</th>\n",
       "      <th>GEOLOGIA_GRUPO_FINAL</th>\n",
       "      <th>GEOLOGIA_FORMACAO_FINAL</th>\n",
       "      <th>GEOLOGIA_MEMBRO_FINAL</th>\n",
       "      <th>COD_BACIA</th>\n",
       "    </tr>\n",
       "  </thead>\n",
       "  <tbody>\n",
       "    <tr>\n",
       "      <th>0</th>\n",
       "      <td>3-BRSA-394-ESS</td>\n",
       "      <td>34281021632</td>\n",
       "      <td>Petrobras</td>\n",
       "      <td>3ESS162</td>\n",
       "      <td>ES</td>\n",
       "      <td>Campos</td>\n",
       "      <td>BC-60</td>\n",
       "      <td>NaN</td>\n",
       "      <td>NaN</td>\n",
       "      <td>M</td>\n",
       "      <td>Extensão</td>\n",
       "      <td>PORTADOR DE PETRÓLEO</td>\n",
       "      <td>ABANDONADO PERMANENTEMENTE</td>\n",
       "      <td>1795.0</td>\n",
       "      <td>NaN</td>\n",
       "      <td>NaN</td>\n",
       "      <td>NaN</td>\n",
       "      <td>1801</td>\n",
       "    </tr>\n",
       "    <tr>\n",
       "      <th>10</th>\n",
       "      <td>1-BRSA-397-RN</td>\n",
       "      <td>72100021648</td>\n",
       "      <td>Potiguar E&amp;P S.A.</td>\n",
       "      <td>1BJC1RN</td>\n",
       "      <td>RN</td>\n",
       "      <td>Potiguar</td>\n",
       "      <td>POT-T-791</td>\n",
       "      <td>NaN</td>\n",
       "      <td>NaN</td>\n",
       "      <td>T</td>\n",
       "      <td>Pioneiro</td>\n",
       "      <td>SECO COM INDÍCIOS DE PETRÓLEO</td>\n",
       "      <td>DEVOLVIDO</td>\n",
       "      <td>0.0</td>\n",
       "      <td>NaN</td>\n",
       "      <td>NaN</td>\n",
       "      <td>NaN</td>\n",
       "      <td>1901</td>\n",
       "    </tr>\n",
       "    <tr>\n",
       "      <th>31</th>\n",
       "      <td>1-BRSA-220A-SPS</td>\n",
       "      <td>86316020641</td>\n",
       "      <td>Petrobras</td>\n",
       "      <td>1SPS36A</td>\n",
       "      <td>SP</td>\n",
       "      <td>Santos</td>\n",
       "      <td>BS-400</td>\n",
       "      <td>NaN</td>\n",
       "      <td>NaN</td>\n",
       "      <td>M</td>\n",
       "      <td>Pioneiro</td>\n",
       "      <td>PORTADOR DE GÁS NATURAL</td>\n",
       "      <td>ABANDONADO PERMANENTEMENTE</td>\n",
       "      <td>912.0</td>\n",
       "      <td>NaN</td>\n",
       "      <td>NaN</td>\n",
       "      <td>NaN</td>\n",
       "      <td>2402</td>\n",
       "    </tr>\n",
       "    <tr>\n",
       "      <th>70</th>\n",
       "      <td>1-BRSA-447-BA</td>\n",
       "      <td>20240021989</td>\n",
       "      <td>Petrobras</td>\n",
       "      <td>1RDP1BA</td>\n",
       "      <td>BA</td>\n",
       "      <td>Recôncavo</td>\n",
       "      <td>BT-REC-4</td>\n",
       "      <td>NaN</td>\n",
       "      <td>NaN</td>\n",
       "      <td>T</td>\n",
       "      <td>Pioneiro</td>\n",
       "      <td>PORTADOR DE PETRÓLEO</td>\n",
       "      <td>ABANDONADO PERMANENTEMENTE</td>\n",
       "      <td>0.0</td>\n",
       "      <td>NaN</td>\n",
       "      <td>NaN</td>\n",
       "      <td>NaN</td>\n",
       "      <td>0508</td>\n",
       "    </tr>\n",
       "    <tr>\n",
       "      <th>80</th>\n",
       "      <td>3-DEV-12DP-RJS</td>\n",
       "      <td>74281022150</td>\n",
       "      <td>Prio Bravo</td>\n",
       "      <td>3DEV12DPRJS</td>\n",
       "      <td>RJ</td>\n",
       "      <td>Campos</td>\n",
       "      <td>BM-C-8</td>\n",
       "      <td>NaN</td>\n",
       "      <td>NaN</td>\n",
       "      <td>M</td>\n",
       "      <td>Extensão</td>\n",
       "      <td>SECO SEM INDÍCIOS</td>\n",
       "      <td>ABANDONADO PERMANENTEMENTE</td>\n",
       "      <td>128.7</td>\n",
       "      <td>NaN</td>\n",
       "      <td>NaN</td>\n",
       "      <td>NaN</td>\n",
       "      <td>1801</td>\n",
       "    </tr>\n",
       "    <tr>\n",
       "      <th>...</th>\n",
       "      <td>...</td>\n",
       "      <td>...</td>\n",
       "      <td>...</td>\n",
       "      <td>...</td>\n",
       "      <td>...</td>\n",
       "      <td>...</td>\n",
       "      <td>...</td>\n",
       "      <td>...</td>\n",
       "      <td>...</td>\n",
       "      <td>...</td>\n",
       "      <td>...</td>\n",
       "      <td>...</td>\n",
       "      <td>...</td>\n",
       "      <td>...</td>\n",
       "      <td>...</td>\n",
       "      <td>...</td>\n",
       "      <td>...</td>\n",
       "      <td>...</td>\n",
       "    </tr>\n",
       "    <tr>\n",
       "      <th>30442</th>\n",
       "      <td>1-RCT-2-BA</td>\n",
       "      <td>202400547700</td>\n",
       "      <td>NaN</td>\n",
       "      <td>1RCT 0002  BA</td>\n",
       "      <td>BA</td>\n",
       "      <td>Recôncavo</td>\n",
       "      <td>Brasil</td>\n",
       "      <td>NaN</td>\n",
       "      <td>NaN</td>\n",
       "      <td>T</td>\n",
       "      <td>Pioneiro</td>\n",
       "      <td>SECO COM INDÍCIOS DE PETRÓLEO</td>\n",
       "      <td>ABANDONADO PERMANENTEMENTE</td>\n",
       "      <td>NaN</td>\n",
       "      <td>NaN</td>\n",
       "      <td>NaN</td>\n",
       "      <td>NaN</td>\n",
       "      <td>0508</td>\n",
       "    </tr>\n",
       "    <tr>\n",
       "      <th>30456</th>\n",
       "      <td>9-FMA-2-RN</td>\n",
       "      <td>721000450400</td>\n",
       "      <td>NaN</td>\n",
       "      <td>9FMA 0002  RN</td>\n",
       "      <td>RN</td>\n",
       "      <td>Potiguar</td>\n",
       "      <td>Brasil</td>\n",
       "      <td>NaN</td>\n",
       "      <td>NaN</td>\n",
       "      <td>T</td>\n",
       "      <td>Especial</td>\n",
       "      <td>OBSERVAÇÃO</td>\n",
       "      <td>ABANDONADO PERMANENTEMENTE</td>\n",
       "      <td>NaN</td>\n",
       "      <td>NaN</td>\n",
       "      <td>NaN</td>\n",
       "      <td>NaN</td>\n",
       "      <td>1901</td>\n",
       "    </tr>\n",
       "    <tr>\n",
       "      <th>30458</th>\n",
       "      <td>1-DV-4-RN</td>\n",
       "      <td>721000423500</td>\n",
       "      <td>NaN</td>\n",
       "      <td>1DV  0004  RN</td>\n",
       "      <td>RN</td>\n",
       "      <td>Potiguar</td>\n",
       "      <td>Brasil</td>\n",
       "      <td>NaN</td>\n",
       "      <td>NaN</td>\n",
       "      <td>T</td>\n",
       "      <td>Pioneiro</td>\n",
       "      <td>PRODUTOR SUBCOMERCIAL DE GÁS NATURAL</td>\n",
       "      <td>DEVOLVIDO</td>\n",
       "      <td>NaN</td>\n",
       "      <td>NaN</td>\n",
       "      <td>NaN</td>\n",
       "      <td>NaN</td>\n",
       "      <td>1901</td>\n",
       "    </tr>\n",
       "    <tr>\n",
       "      <th>30463</th>\n",
       "      <td>1-REC-1-RN</td>\n",
       "      <td>721000423800</td>\n",
       "      <td>NaN</td>\n",
       "      <td>1REC 0001  RN</td>\n",
       "      <td>RN</td>\n",
       "      <td>Potiguar</td>\n",
       "      <td>Brasil</td>\n",
       "      <td>NaN</td>\n",
       "      <td>NaN</td>\n",
       "      <td>T</td>\n",
       "      <td>Pioneiro</td>\n",
       "      <td>SECO SEM INDÍCIOS</td>\n",
       "      <td>CEDIDO PARA A CAPTAÇÃO DE ÁGUA</td>\n",
       "      <td>NaN</td>\n",
       "      <td>NaN</td>\n",
       "      <td>NaN</td>\n",
       "      <td>NaN</td>\n",
       "      <td>1901</td>\n",
       "    </tr>\n",
       "    <tr>\n",
       "      <th>30464</th>\n",
       "      <td>1-SMO-4-ES</td>\n",
       "      <td>342700034200</td>\n",
       "      <td>NaN</td>\n",
       "      <td>1SMO 0004  ES</td>\n",
       "      <td>ES</td>\n",
       "      <td>Espírito Santo</td>\n",
       "      <td>Brasil</td>\n",
       "      <td>NaN</td>\n",
       "      <td>NaN</td>\n",
       "      <td>T</td>\n",
       "      <td>Pioneiro</td>\n",
       "      <td>SECO SEM INDÍCIOS</td>\n",
       "      <td>DEVOLVIDO</td>\n",
       "      <td>NaN</td>\n",
       "      <td>NaN</td>\n",
       "      <td>NaN</td>\n",
       "      <td>NaN</td>\n",
       "      <td>0702</td>\n",
       "    </tr>\n",
       "  </tbody>\n",
       "</table>\n",
       "<p>4077 rows × 18 columns</p>\n",
       "</div>"
      ],
      "text/plain": [
       "                  POCO      CADASTRO           OPERADOR  POCO_OPERADOR ESTADO  \\\n",
       "0       3-BRSA-394-ESS   34281021632          Petrobras        3ESS162     ES   \n",
       "10       1-BRSA-397-RN   72100021648  Potiguar E&P S.A.        1BJC1RN     RN   \n",
       "31     1-BRSA-220A-SPS   86316020641          Petrobras        1SPS36A     SP   \n",
       "70       1-BRSA-447-BA   20240021989          Petrobras        1RDP1BA     BA   \n",
       "80      3-DEV-12DP-RJS   74281022150         Prio Bravo    3DEV12DPRJS     RJ   \n",
       "...                ...           ...                ...            ...    ...   \n",
       "30442       1-RCT-2-BA  202400547700                NaN  1RCT 0002  BA     BA   \n",
       "30456       9-FMA-2-RN  721000450400                NaN  9FMA 0002  RN     RN   \n",
       "30458        1-DV-4-RN  721000423500                NaN  1DV  0004  RN     RN   \n",
       "30463       1-REC-1-RN  721000423800                NaN  1REC 0001  RN     RN   \n",
       "30464       1-SMO-4-ES  342700034200                NaN  1SMO 0004  ES     ES   \n",
       "\n",
       "                BACIA      BLOCO SIG_CAMPO CAMPO TERRA_MAR CATEGORIA  \\\n",
       "0              Campos      BC-60       NaN   NaN         M  Extensão   \n",
       "10           Potiguar  POT-T-791       NaN   NaN         T  Pioneiro   \n",
       "31             Santos     BS-400       NaN   NaN         M  Pioneiro   \n",
       "70          Recôncavo   BT-REC-4       NaN   NaN         T  Pioneiro   \n",
       "80             Campos     BM-C-8       NaN   NaN         M  Extensão   \n",
       "...               ...        ...       ...   ...       ...       ...   \n",
       "30442       Recôncavo     Brasil       NaN   NaN         T  Pioneiro   \n",
       "30456        Potiguar     Brasil       NaN   NaN         T  Especial   \n",
       "30458        Potiguar     Brasil       NaN   NaN         T  Pioneiro   \n",
       "30463        Potiguar     Brasil       NaN   NaN         T  Pioneiro   \n",
       "30464  Espírito Santo     Brasil       NaN   NaN         T  Pioneiro   \n",
       "\n",
       "                            RECLASSIFICACAO                        SITUACAO  \\\n",
       "0                      PORTADOR DE PETRÓLEO      ABANDONADO PERMANENTEMENTE   \n",
       "10            SECO COM INDÍCIOS DE PETRÓLEO                       DEVOLVIDO   \n",
       "31                  PORTADOR DE GÁS NATURAL      ABANDONADO PERMANENTEMENTE   \n",
       "70                     PORTADOR DE PETRÓLEO      ABANDONADO PERMANENTEMENTE   \n",
       "80                        SECO SEM INDÍCIOS      ABANDONADO PERMANENTEMENTE   \n",
       "...                                     ...                             ...   \n",
       "30442         SECO COM INDÍCIOS DE PETRÓLEO      ABANDONADO PERMANENTEMENTE   \n",
       "30456                            OBSERVAÇÃO      ABANDONADO PERMANENTEMENTE   \n",
       "30458  PRODUTOR SUBCOMERCIAL DE GÁS NATURAL                       DEVOLVIDO   \n",
       "30463                     SECO SEM INDÍCIOS  CEDIDO PARA A CAPTAÇÃO DE ÁGUA   \n",
       "30464                     SECO SEM INDÍCIOS                       DEVOLVIDO   \n",
       "\n",
       "       LAMINA_D_AGUA_M GEOLOGIA_GRUPO_FINAL GEOLOGIA_FORMACAO_FINAL  \\\n",
       "0               1795.0                  NaN                     NaN   \n",
       "10                 0.0                  NaN                     NaN   \n",
       "31               912.0                  NaN                     NaN   \n",
       "70                 0.0                  NaN                     NaN   \n",
       "80               128.7                  NaN                     NaN   \n",
       "...                ...                  ...                     ...   \n",
       "30442              NaN                  NaN                     NaN   \n",
       "30456              NaN                  NaN                     NaN   \n",
       "30458              NaN                  NaN                     NaN   \n",
       "30463              NaN                  NaN                     NaN   \n",
       "30464              NaN                  NaN                     NaN   \n",
       "\n",
       "      GEOLOGIA_MEMBRO_FINAL COD_BACIA  \n",
       "0                       NaN      1801  \n",
       "10                      NaN      1901  \n",
       "31                      NaN      2402  \n",
       "70                      NaN      0508  \n",
       "80                      NaN      1801  \n",
       "...                     ...       ...  \n",
       "30442                   NaN      0508  \n",
       "30456                   NaN      1901  \n",
       "30458                   NaN      1901  \n",
       "30463                   NaN      1901  \n",
       "30464                   NaN      0702  \n",
       "\n",
       "[4077 rows x 18 columns]"
      ]
     },
     "execution_count": 29,
     "metadata": {},
     "output_type": "execute_result"
    }
   ],
   "source": [
    "df[df['CAMPO'].isna()]"
   ]
  },
  {
   "cell_type": "code",
   "execution_count": 38,
   "id": "31c7cda0",
   "metadata": {
    "scrolled": true
   },
   "outputs": [],
   "source": [
    "def _codigo_campo(x, y):\n",
    "    if isinstance(y, float):\n",
    "        return np.nan\n",
    "    else:\n",
    "        return str(x)+str(y)"
   ]
  },
  {
   "cell_type": "code",
   "execution_count": 39,
   "id": "6d753508",
   "metadata": {},
   "outputs": [],
   "source": [
    "df['COD_CAMPO']=df.apply(lambda x: _codigo_campo(x['COD_BACIA'],x['SIG_CAMPO']), axis=1)"
   ]
  },
  {
   "cell_type": "code",
   "execution_count": 40,
   "id": "2b14a0a1",
   "metadata": {
    "scrolled": true
   },
   "outputs": [
    {
     "data": {
      "text/html": [
       "<div>\n",
       "<style scoped>\n",
       "    .dataframe tbody tr th:only-of-type {\n",
       "        vertical-align: middle;\n",
       "    }\n",
       "\n",
       "    .dataframe tbody tr th {\n",
       "        vertical-align: top;\n",
       "    }\n",
       "\n",
       "    .dataframe thead th {\n",
       "        text-align: right;\n",
       "    }\n",
       "</style>\n",
       "<table border=\"1\" class=\"dataframe\">\n",
       "  <thead>\n",
       "    <tr style=\"text-align: right;\">\n",
       "      <th></th>\n",
       "      <th>POCO</th>\n",
       "      <th>CADASTRO</th>\n",
       "      <th>OPERADOR</th>\n",
       "      <th>POCO_OPERADOR</th>\n",
       "      <th>ESTADO</th>\n",
       "      <th>BACIA</th>\n",
       "      <th>BLOCO</th>\n",
       "      <th>SIG_CAMPO</th>\n",
       "      <th>CAMPO</th>\n",
       "      <th>TERRA_MAR</th>\n",
       "      <th>CATEGORIA</th>\n",
       "      <th>RECLASSIFICACAO</th>\n",
       "      <th>SITUACAO</th>\n",
       "      <th>LAMINA_D_AGUA_M</th>\n",
       "      <th>GEOLOGIA_GRUPO_FINAL</th>\n",
       "      <th>GEOLOGIA_FORMACAO_FINAL</th>\n",
       "      <th>GEOLOGIA_MEMBRO_FINAL</th>\n",
       "      <th>COD_BACIA</th>\n",
       "      <th>COD_CAMPO</th>\n",
       "    </tr>\n",
       "  </thead>\n",
       "  <tbody>\n",
       "    <tr>\n",
       "      <th>0</th>\n",
       "      <td>3-BRSA-394-ESS</td>\n",
       "      <td>34281021632</td>\n",
       "      <td>Petrobras</td>\n",
       "      <td>3ESS162</td>\n",
       "      <td>ES</td>\n",
       "      <td>Campos</td>\n",
       "      <td>BC-60</td>\n",
       "      <td>NaN</td>\n",
       "      <td>NaN</td>\n",
       "      <td>M</td>\n",
       "      <td>Extensão</td>\n",
       "      <td>PORTADOR DE PETRÓLEO</td>\n",
       "      <td>ABANDONADO PERMANENTEMENTE</td>\n",
       "      <td>1795.0</td>\n",
       "      <td>NaN</td>\n",
       "      <td>NaN</td>\n",
       "      <td>NaN</td>\n",
       "      <td>1801</td>\n",
       "      <td>NaN</td>\n",
       "    </tr>\n",
       "    <tr>\n",
       "      <th>1</th>\n",
       "      <td>7-PIR-216D-AL</td>\n",
       "      <td>8115021662</td>\n",
       "      <td>Origem Alagoas</td>\n",
       "      <td>7PIR216DAL</td>\n",
       "      <td>AL</td>\n",
       "      <td>Alagoas</td>\n",
       "      <td>PIR</td>\n",
       "      <td>PIR</td>\n",
       "      <td>PILAR</td>\n",
       "      <td>T</td>\n",
       "      <td>Desenvolvimento</td>\n",
       "      <td>PRODUTOR COMERCIAL DE PETRÓLEO E GÁS NATURAL</td>\n",
       "      <td>ABANDONADO TEMPORARIAMENTE COM MONITORAMENTO</td>\n",
       "      <td>0.0</td>\n",
       "      <td>NaN</td>\n",
       "      <td>NaN</td>\n",
       "      <td>NaN</td>\n",
       "      <td>0201</td>\n",
       "      <td>0201PIR</td>\n",
       "    </tr>\n",
       "    <tr>\n",
       "      <th>2</th>\n",
       "      <td>3-BRSA-396-RJS</td>\n",
       "      <td>74281021635</td>\n",
       "      <td>Petrobras</td>\n",
       "      <td>3VL6RJS</td>\n",
       "      <td>RJ</td>\n",
       "      <td>Campos</td>\n",
       "      <td>VL</td>\n",
       "      <td>VL</td>\n",
       "      <td>VIOLA</td>\n",
       "      <td>M</td>\n",
       "      <td>Extensão</td>\n",
       "      <td>PORTADOR DE PETRÓLEO</td>\n",
       "      <td>ABANDONADO PERMANENTEMENTE</td>\n",
       "      <td>430.0</td>\n",
       "      <td>NaN</td>\n",
       "      <td>NaN</td>\n",
       "      <td>NaN</td>\n",
       "      <td>1801</td>\n",
       "      <td>1801VL</td>\n",
       "    </tr>\n",
       "    <tr>\n",
       "      <th>3</th>\n",
       "      <td>9-ESP-26D-RJS</td>\n",
       "      <td>74281021636</td>\n",
       "      <td>Petrobras</td>\n",
       "      <td>9ESP26DRJS</td>\n",
       "      <td>RJ</td>\n",
       "      <td>Campos</td>\n",
       "      <td>ESP</td>\n",
       "      <td>ESP</td>\n",
       "      <td>ESPADARTE</td>\n",
       "      <td>M</td>\n",
       "      <td>Especial</td>\n",
       "      <td>ABANDONADO POR OUTRAS RAZÕES</td>\n",
       "      <td>ABANDONADO PERMANENTEMENTE</td>\n",
       "      <td>1444.0</td>\n",
       "      <td>NaN</td>\n",
       "      <td>NaN</td>\n",
       "      <td>NaN</td>\n",
       "      <td>1801</td>\n",
       "      <td>1801ESP</td>\n",
       "    </tr>\n",
       "    <tr>\n",
       "      <th>4</th>\n",
       "      <td>8-ESP-27HP-RJS</td>\n",
       "      <td>74281021939</td>\n",
       "      <td>Petrobras</td>\n",
       "      <td>8ESP27HPRJS</td>\n",
       "      <td>RJ</td>\n",
       "      <td>Campos</td>\n",
       "      <td>ESP</td>\n",
       "      <td>ESP</td>\n",
       "      <td>ESPADARTE</td>\n",
       "      <td>M</td>\n",
       "      <td>Injeção</td>\n",
       "      <td>INJEÇÃO DE ÁGUA</td>\n",
       "      <td>ABANDONADO TEMPORARIAMENTE COM MONITORAMENTO</td>\n",
       "      <td>1444.0</td>\n",
       "      <td>NaN</td>\n",
       "      <td>NaN</td>\n",
       "      <td>NaN</td>\n",
       "      <td>1801</td>\n",
       "      <td>1801ESP</td>\n",
       "    </tr>\n",
       "  </tbody>\n",
       "</table>\n",
       "</div>"
      ],
      "text/plain": [
       "             POCO     CADASTRO        OPERADOR POCO_OPERADOR ESTADO    BACIA  \\\n",
       "0  3-BRSA-394-ESS  34281021632       Petrobras       3ESS162     ES   Campos   \n",
       "1   7-PIR-216D-AL   8115021662  Origem Alagoas    7PIR216DAL     AL  Alagoas   \n",
       "2  3-BRSA-396-RJS  74281021635       Petrobras       3VL6RJS     RJ   Campos   \n",
       "3   9-ESP-26D-RJS  74281021636       Petrobras    9ESP26DRJS     RJ   Campos   \n",
       "4  8-ESP-27HP-RJS  74281021939       Petrobras   8ESP27HPRJS     RJ   Campos   \n",
       "\n",
       "   BLOCO SIG_CAMPO      CAMPO TERRA_MAR        CATEGORIA  \\\n",
       "0  BC-60       NaN        NaN         M         Extensão   \n",
       "1    PIR     PIR        PILAR         T  Desenvolvimento   \n",
       "2     VL     VL         VIOLA         M         Extensão   \n",
       "3    ESP     ESP    ESPADARTE         M         Especial   \n",
       "4    ESP     ESP    ESPADARTE         M          Injeção   \n",
       "\n",
       "                                RECLASSIFICACAO  \\\n",
       "0                          PORTADOR DE PETRÓLEO   \n",
       "1  PRODUTOR COMERCIAL DE PETRÓLEO E GÁS NATURAL   \n",
       "2                          PORTADOR DE PETRÓLEO   \n",
       "3                  ABANDONADO POR OUTRAS RAZÕES   \n",
       "4                               INJEÇÃO DE ÁGUA   \n",
       "\n",
       "                                       SITUACAO  LAMINA_D_AGUA_M  \\\n",
       "0                    ABANDONADO PERMANENTEMENTE           1795.0   \n",
       "1  ABANDONADO TEMPORARIAMENTE COM MONITORAMENTO              0.0   \n",
       "2                    ABANDONADO PERMANENTEMENTE            430.0   \n",
       "3                    ABANDONADO PERMANENTEMENTE           1444.0   \n",
       "4  ABANDONADO TEMPORARIAMENTE COM MONITORAMENTO           1444.0   \n",
       "\n",
       "  GEOLOGIA_GRUPO_FINAL GEOLOGIA_FORMACAO_FINAL GEOLOGIA_MEMBRO_FINAL  \\\n",
       "0                  NaN                     NaN                   NaN   \n",
       "1                  NaN                     NaN                   NaN   \n",
       "2                  NaN                     NaN                   NaN   \n",
       "3                  NaN                     NaN                   NaN   \n",
       "4                  NaN                     NaN                   NaN   \n",
       "\n",
       "  COD_BACIA  COD_CAMPO  \n",
       "0      1801        NaN  \n",
       "1      0201  0201PIR    \n",
       "2      1801  1801VL     \n",
       "3      1801  1801ESP    \n",
       "4      1801  1801ESP    "
      ]
     },
     "execution_count": 40,
     "metadata": {},
     "output_type": "execute_result"
    }
   ],
   "source": [
    "df.head()"
   ]
  },
  {
   "cell_type": "markdown",
   "id": "2ae0fc03",
   "metadata": {},
   "source": [
    "#### Avaliando instâncias de unidades litoestratigráficas"
   ]
  },
  {
   "cell_type": "code",
   "execution_count": 43,
   "id": "95000b65",
   "metadata": {},
   "outputs": [
    {
     "data": {
      "text/plain": [
       "array([nan, 'Ilha Bela', 'Tamoios', 'Gomo', 'Mucuri', 'Santiago',\n",
       "       'Capianga', 'Caruaçu', 'Catu', 'Maresias', 'Geribá', 'Upanema',\n",
       "       'Pitanga', 'Boipeba', 'Sapucari', 'Búzios', 'Quissamã',\n",
       "       'Carmópolis', 'Tauá', 'Grussaí', 'Sequência 3', 'Siri', 'Galinhos',\n",
       "       'São Tomé', 'Cazumba'], dtype=object)"
      ]
     },
     "execution_count": 43,
     "metadata": {},
     "output_type": "execute_result"
    }
   ],
   "source": [
    "df['GEOLOGIA_MEMBRO_FINAL'].unique()"
   ]
  },
  {
   "cell_type": "code",
   "execution_count": 45,
   "id": "14b8c8b2",
   "metadata": {},
   "outputs": [
    {
     "data": {
      "text/plain": [
       "array([nan, 'Barra Velha', 'Serraria', 'Itaparica', 'São Mateus', 'Ariri',\n",
       "       'Piçarras', 'Sergi', 'Marfim', 'Juruá', 'Itapema', 'Pendência',\n",
       "       'Embasamento', 'Quissamã', 'Carapebus', 'Itajaí-Açu', 'Ererê',\n",
       "       'Ubatuba', 'Urucutuca', 'Candeias', 'Mariricu', 'Longá', 'Pojuca',\n",
       "       'Açu', 'Poti', 'Aliança', 'Calumbi', 'Barra de Itiuba',\n",
       "       'Maracangalha', 'Oriximiná', 'Macabu', 'Água Grande', 'Cabiúnas',\n",
       "       'Coqueiro Seco', 'Marambaia', 'Salvador', 'Cabeças', 'Pimenteiras',\n",
       "       'Curiri', 'Alagamar', 'Coqueiros', 'Itaim', 'Cotinguiba',\n",
       "       'Muribeca', 'Bananeiras', 'Cricaré', 'Penedo', 'Atafona',\n",
       "       'Pescada', 'Algodões', 'Retiro', 'Guarujá', 'Taquipe', 'Macaé',\n",
       "       'Bauxi', 'Camboriú', 'Motuca', 'Namorado', 'Paracuru',\n",
       "       'Rio Pitanga', 'Lagoa Feia', 'Ipu', 'Emboré', 'Nova Olinda',\n",
       "       'Regência', 'Batinga', 'Maceió', 'Riachão', 'Jutaí', 'Itaituba',\n",
       "       'Afligidos'], dtype=object)"
      ]
     },
     "execution_count": 45,
     "metadata": {},
     "output_type": "execute_result"
    }
   ],
   "source": [
    "df['GEOLOGIA_FORMACAO_FINAL'].unique()"
   ]
  },
  {
   "cell_type": "code",
   "execution_count": 47,
   "id": "2e720faf",
   "metadata": {
    "scrolled": true
   },
   "outputs": [
    {
     "data": {
      "text/plain": [
       "array([nan, 'Guaratiba', 'Perucaba', 'Santo Amaro', 'Barra Nova',\n",
       "       'Brotas', 'Ilhas', 'Tefé', 'Areia Branca', 'Macaé', 'Campos',\n",
       "       'Frade', 'Urupadi', 'Espírito Santo', 'Nativo', 'Canindé', 'Apodi',\n",
       "       'Piaçabuçu', 'Coruripe', 'Curuá', 'Lagoa Feia', 'Itamambuca',\n",
       "       'Cuiabá', 'Sergipe', 'Paranoá', 'Camamu', 'Camburi', 'Espinhaço',\n",
       "       'Purus', 'Jangada', 'Balsas', 'Macaúbas', 'Serra Grande',\n",
       "       'Tapajós', 'Igreja Nova', 'Afligidos'], dtype=object)"
      ]
     },
     "execution_count": 47,
     "metadata": {},
     "output_type": "execute_result"
    }
   ],
   "source": [
    "df['GEOLOGIA_GRUPO_FINAL'].unique()"
   ]
  },
  {
   "cell_type": "code",
   "execution_count": 66,
   "id": "b51737d2",
   "metadata": {},
   "outputs": [],
   "source": [
    "codigosGrupos = {}\n",
    "g=1\n",
    "for grupo in df['GEOLOGIA_GRUPO_FINAL'].unique():\n",
    "    if isinstance(grupo, str):\n",
    "        codigosGrupos[grupo]=str(g).zfill(2)\n",
    "        g+=1"
   ]
  },
  {
   "cell_type": "code",
   "execution_count": 67,
   "id": "4ff6eee9",
   "metadata": {},
   "outputs": [],
   "source": [
    "codigosFormacoes = {}\n",
    "codigosFormacaoGrupo = {}\n",
    "f=1\n",
    "for formacao in df['GEOLOGIA_FORMACAO_FINAL'].unique():\n",
    "    if isinstance(formacao, str):\n",
    "        codigosFormacoes[formacao]=str(f).zfill(3)\n",
    "        f+=1\n",
    "        for grupo in df[df['GEOLOGIA_FORMACAO_FINAL']==formacao]['GEOLOGIA_GRUPO_FINAL'].unique():\n",
    "            if isinstance(grupo, str):\n",
    "                codigosFormacaoGrupo[str(f).zfill(3)]=codigosGrupos[grupo]"
   ]
  },
  {
   "cell_type": "code",
   "execution_count": 72,
   "id": "1054385f",
   "metadata": {},
   "outputs": [],
   "source": [
    "codigosMembros = {}\n",
    "codigosMembroFormacao = {}\n",
    "m=1\n",
    "for membro in df['GEOLOGIA_MEMBRO_FINAL'].unique():\n",
    "    if isinstance(membro, str):\n",
    "        codigosMembros[membro]=str(m).zfill(2)\n",
    "        m+=1\n",
    "        for formacao in df[df['GEOLOGIA_MEMBRO_FINAL']==membro]['GEOLOGIA_FORMACAO_FINAL'].unique():\n",
    "            if isinstance(formacao, str):\n",
    "                codigosMembroFormacao[str(m).zfill(2)]=codigosFormacoes[formacao]"
   ]
  },
  {
   "cell_type": "code",
   "execution_count": 83,
   "id": "c42a1b06",
   "metadata": {},
   "outputs": [],
   "source": [
    "with open('formacao_grupo.json', 'w') as f:\n",
    "    json.dump(codigosFormacaoGrupo, f)\n",
    "with open('membro_formacao.json', 'w') as f:\n",
    "    json.dump(codigosMembroFormacao, f)"
   ]
  },
  {
   "cell_type": "code",
   "execution_count": 78,
   "id": "2e25b26a",
   "metadata": {},
   "outputs": [],
   "source": [
    "def _codigo_litoestratigrafia(x, t, codigosMembros, codigosFormacoes, codigosGrupos):\n",
    "    codigoMapper = {\"GEOLOGIA_GRUPO_FINAL\": codigosGrupos,\n",
    "                    \"GEOLOGIA_FORMACAO_FINAL\": codigosFormacoes,\n",
    "                    \"GEOLOGIA_MEMBRO_FINAL\": codigosMembros\n",
    "                   }\n",
    "    for key, value in codigoMapper[t].items():\n",
    "        if x==key:\n",
    "            return(value)"
   ]
  },
  {
   "cell_type": "code",
   "execution_count": 79,
   "id": "e467dfe6",
   "metadata": {},
   "outputs": [],
   "source": [
    "df['COD_GRUPO']=df['GEOLOGIA_GRUPO_FINAL'].apply(lambda x: _codigo_litoestratigrafia(x, 'GEOLOGIA_GRUPO_FINAL', codigosMembros, codigosFormacoes, codigosGrupos))"
   ]
  },
  {
   "cell_type": "code",
   "execution_count": 80,
   "id": "075d6fbe",
   "metadata": {},
   "outputs": [],
   "source": [
    "df['COD_FORMACAO']=df['GEOLOGIA_FORMACAO_FINAL'].apply(lambda x: _codigo_litoestratigrafia(x, 'GEOLOGIA_FORMACAO_FINAL', codigosMembros, codigosFormacoes, codigosGrupos))"
   ]
  },
  {
   "cell_type": "code",
   "execution_count": 81,
   "id": "c40ecc3a",
   "metadata": {},
   "outputs": [],
   "source": [
    "df['COD_MEMBRO']=df['GEOLOGIA_MEMBRO_FINAL'].apply(lambda x: _codigo_litoestratigrafia(x, 'GEOLOGIA_MEMBRO_FINAL', codigosMembros, codigosFormacoes, codigosGrupos))"
   ]
  },
  {
   "cell_type": "code",
   "execution_count": 82,
   "id": "ec8ddda5",
   "metadata": {},
   "outputs": [
    {
     "data": {
      "text/html": [
       "<div>\n",
       "<style scoped>\n",
       "    .dataframe tbody tr th:only-of-type {\n",
       "        vertical-align: middle;\n",
       "    }\n",
       "\n",
       "    .dataframe tbody tr th {\n",
       "        vertical-align: top;\n",
       "    }\n",
       "\n",
       "    .dataframe thead th {\n",
       "        text-align: right;\n",
       "    }\n",
       "</style>\n",
       "<table border=\"1\" class=\"dataframe\">\n",
       "  <thead>\n",
       "    <tr style=\"text-align: right;\">\n",
       "      <th></th>\n",
       "      <th>POCO</th>\n",
       "      <th>CADASTRO</th>\n",
       "      <th>OPERADOR</th>\n",
       "      <th>POCO_OPERADOR</th>\n",
       "      <th>ESTADO</th>\n",
       "      <th>BACIA</th>\n",
       "      <th>BLOCO</th>\n",
       "      <th>SIG_CAMPO</th>\n",
       "      <th>CAMPO</th>\n",
       "      <th>TERRA_MAR</th>\n",
       "      <th>...</th>\n",
       "      <th>SITUACAO</th>\n",
       "      <th>LAMINA_D_AGUA_M</th>\n",
       "      <th>GEOLOGIA_GRUPO_FINAL</th>\n",
       "      <th>GEOLOGIA_FORMACAO_FINAL</th>\n",
       "      <th>GEOLOGIA_MEMBRO_FINAL</th>\n",
       "      <th>COD_BACIA</th>\n",
       "      <th>COD_CAMPO</th>\n",
       "      <th>COD_GRUPO</th>\n",
       "      <th>COD_FORMACAO</th>\n",
       "      <th>COD_MEMBRO</th>\n",
       "    </tr>\n",
       "  </thead>\n",
       "  <tbody>\n",
       "    <tr>\n",
       "      <th>0</th>\n",
       "      <td>3-BRSA-394-ESS</td>\n",
       "      <td>34281021632</td>\n",
       "      <td>Petrobras</td>\n",
       "      <td>3ESS162</td>\n",
       "      <td>ES</td>\n",
       "      <td>Campos</td>\n",
       "      <td>BC-60</td>\n",
       "      <td>NaN</td>\n",
       "      <td>NaN</td>\n",
       "      <td>M</td>\n",
       "      <td>...</td>\n",
       "      <td>ABANDONADO PERMANENTEMENTE</td>\n",
       "      <td>1795.0</td>\n",
       "      <td>NaN</td>\n",
       "      <td>NaN</td>\n",
       "      <td>NaN</td>\n",
       "      <td>1801</td>\n",
       "      <td>NaN</td>\n",
       "      <td>None</td>\n",
       "      <td>None</td>\n",
       "      <td>None</td>\n",
       "    </tr>\n",
       "    <tr>\n",
       "      <th>1</th>\n",
       "      <td>7-PIR-216D-AL</td>\n",
       "      <td>8115021662</td>\n",
       "      <td>Origem Alagoas</td>\n",
       "      <td>7PIR216DAL</td>\n",
       "      <td>AL</td>\n",
       "      <td>Alagoas</td>\n",
       "      <td>PIR</td>\n",
       "      <td>PIR</td>\n",
       "      <td>PILAR</td>\n",
       "      <td>T</td>\n",
       "      <td>...</td>\n",
       "      <td>ABANDONADO TEMPORARIAMENTE COM MONITORAMENTO</td>\n",
       "      <td>0.0</td>\n",
       "      <td>NaN</td>\n",
       "      <td>NaN</td>\n",
       "      <td>NaN</td>\n",
       "      <td>0201</td>\n",
       "      <td>0201PIR</td>\n",
       "      <td>None</td>\n",
       "      <td>None</td>\n",
       "      <td>None</td>\n",
       "    </tr>\n",
       "    <tr>\n",
       "      <th>2</th>\n",
       "      <td>3-BRSA-396-RJS</td>\n",
       "      <td>74281021635</td>\n",
       "      <td>Petrobras</td>\n",
       "      <td>3VL6RJS</td>\n",
       "      <td>RJ</td>\n",
       "      <td>Campos</td>\n",
       "      <td>VL</td>\n",
       "      <td>VL</td>\n",
       "      <td>VIOLA</td>\n",
       "      <td>M</td>\n",
       "      <td>...</td>\n",
       "      <td>ABANDONADO PERMANENTEMENTE</td>\n",
       "      <td>430.0</td>\n",
       "      <td>NaN</td>\n",
       "      <td>NaN</td>\n",
       "      <td>NaN</td>\n",
       "      <td>1801</td>\n",
       "      <td>1801VL</td>\n",
       "      <td>None</td>\n",
       "      <td>None</td>\n",
       "      <td>None</td>\n",
       "    </tr>\n",
       "    <tr>\n",
       "      <th>3</th>\n",
       "      <td>9-ESP-26D-RJS</td>\n",
       "      <td>74281021636</td>\n",
       "      <td>Petrobras</td>\n",
       "      <td>9ESP26DRJS</td>\n",
       "      <td>RJ</td>\n",
       "      <td>Campos</td>\n",
       "      <td>ESP</td>\n",
       "      <td>ESP</td>\n",
       "      <td>ESPADARTE</td>\n",
       "      <td>M</td>\n",
       "      <td>...</td>\n",
       "      <td>ABANDONADO PERMANENTEMENTE</td>\n",
       "      <td>1444.0</td>\n",
       "      <td>NaN</td>\n",
       "      <td>NaN</td>\n",
       "      <td>NaN</td>\n",
       "      <td>1801</td>\n",
       "      <td>1801ESP</td>\n",
       "      <td>None</td>\n",
       "      <td>None</td>\n",
       "      <td>None</td>\n",
       "    </tr>\n",
       "    <tr>\n",
       "      <th>4</th>\n",
       "      <td>8-ESP-27HP-RJS</td>\n",
       "      <td>74281021939</td>\n",
       "      <td>Petrobras</td>\n",
       "      <td>8ESP27HPRJS</td>\n",
       "      <td>RJ</td>\n",
       "      <td>Campos</td>\n",
       "      <td>ESP</td>\n",
       "      <td>ESP</td>\n",
       "      <td>ESPADARTE</td>\n",
       "      <td>M</td>\n",
       "      <td>...</td>\n",
       "      <td>ABANDONADO TEMPORARIAMENTE COM MONITORAMENTO</td>\n",
       "      <td>1444.0</td>\n",
       "      <td>NaN</td>\n",
       "      <td>NaN</td>\n",
       "      <td>NaN</td>\n",
       "      <td>1801</td>\n",
       "      <td>1801ESP</td>\n",
       "      <td>None</td>\n",
       "      <td>None</td>\n",
       "      <td>None</td>\n",
       "    </tr>\n",
       "  </tbody>\n",
       "</table>\n",
       "<p>5 rows × 22 columns</p>\n",
       "</div>"
      ],
      "text/plain": [
       "             POCO     CADASTRO        OPERADOR POCO_OPERADOR ESTADO    BACIA  \\\n",
       "0  3-BRSA-394-ESS  34281021632       Petrobras       3ESS162     ES   Campos   \n",
       "1   7-PIR-216D-AL   8115021662  Origem Alagoas    7PIR216DAL     AL  Alagoas   \n",
       "2  3-BRSA-396-RJS  74281021635       Petrobras       3VL6RJS     RJ   Campos   \n",
       "3   9-ESP-26D-RJS  74281021636       Petrobras    9ESP26DRJS     RJ   Campos   \n",
       "4  8-ESP-27HP-RJS  74281021939       Petrobras   8ESP27HPRJS     RJ   Campos   \n",
       "\n",
       "   BLOCO SIG_CAMPO      CAMPO TERRA_MAR  ...  \\\n",
       "0  BC-60       NaN        NaN         M  ...   \n",
       "1    PIR     PIR        PILAR         T  ...   \n",
       "2     VL     VL         VIOLA         M  ...   \n",
       "3    ESP     ESP    ESPADARTE         M  ...   \n",
       "4    ESP     ESP    ESPADARTE         M  ...   \n",
       "\n",
       "                                       SITUACAO LAMINA_D_AGUA_M  \\\n",
       "0                    ABANDONADO PERMANENTEMENTE          1795.0   \n",
       "1  ABANDONADO TEMPORARIAMENTE COM MONITORAMENTO             0.0   \n",
       "2                    ABANDONADO PERMANENTEMENTE           430.0   \n",
       "3                    ABANDONADO PERMANENTEMENTE          1444.0   \n",
       "4  ABANDONADO TEMPORARIAMENTE COM MONITORAMENTO          1444.0   \n",
       "\n",
       "  GEOLOGIA_GRUPO_FINAL  GEOLOGIA_FORMACAO_FINAL GEOLOGIA_MEMBRO_FINAL  \\\n",
       "0                  NaN                      NaN                   NaN   \n",
       "1                  NaN                      NaN                   NaN   \n",
       "2                  NaN                      NaN                   NaN   \n",
       "3                  NaN                      NaN                   NaN   \n",
       "4                  NaN                      NaN                   NaN   \n",
       "\n",
       "  COD_BACIA  COD_CAMPO COD_GRUPO COD_FORMACAO COD_MEMBRO  \n",
       "0      1801        NaN      None         None       None  \n",
       "1      0201  0201PIR        None         None       None  \n",
       "2      1801  1801VL         None         None       None  \n",
       "3      1801  1801ESP        None         None       None  \n",
       "4      1801  1801ESP        None         None       None  \n",
       "\n",
       "[5 rows x 22 columns]"
      ]
     },
     "execution_count": 82,
     "metadata": {},
     "output_type": "execute_result"
    }
   ],
   "source": [
    "df.head()"
   ]
  },
  {
   "cell_type": "code",
   "execution_count": 84,
   "id": "7c1569c6",
   "metadata": {},
   "outputs": [],
   "source": [
    "df.to_excel('dados_anp.xlsx')"
   ]
  },
  {
   "cell_type": "code",
   "execution_count": null,
   "id": "f39e18da",
   "metadata": {},
   "outputs": [],
   "source": []
  }
 ],
 "metadata": {
  "kernelspec": {
   "display_name": "Python 3 (ipykernel)",
   "language": "python",
   "name": "python3"
  },
  "language_info": {
   "codemirror_mode": {
    "name": "ipython",
    "version": 3
   },
   "file_extension": ".py",
   "mimetype": "text/x-python",
   "name": "python",
   "nbconvert_exporter": "python",
   "pygments_lexer": "ipython3",
   "version": "3.9.13"
  }
 },
 "nbformat": 4,
 "nbformat_minor": 5
}
