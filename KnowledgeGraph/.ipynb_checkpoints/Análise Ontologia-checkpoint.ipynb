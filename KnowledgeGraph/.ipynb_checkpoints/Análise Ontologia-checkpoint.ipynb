{
 "cells": [
  {
   "cell_type": "code",
   "execution_count": 2,
   "id": "1e50b346-0303-4661-96fe-60f73d2083a1",
   "metadata": {},
   "outputs": [],
   "source": [
    "from owlready2 import *"
   ]
  },
  {
   "cell_type": "code",
   "execution_count": null,
   "id": "9569d124-93c1-409e-aaaa-fa9aebb4a491",
   "metadata": {},
   "outputs": [],
   "source": []
  },
  {
   "cell_type": "markdown",
   "id": "3eab543b-4df2-4b81-904f-286f6d2c0b2a",
   "metadata": {},
   "source": [
    "Carregando ontologia"
   ]
  },
  {
   "cell_type": "code",
   "execution_count": 3,
   "id": "c1ae7ca7-a70b-40ae-862b-cfd0cc578452",
   "metadata": {},
   "outputs": [
    {
     "data": {
      "text/plain": [
       "get_ontology(\"http://www.semanticweb.org/bg40/ontologies/2022/5/untitled-ontology-2#\")"
      ]
     },
     "execution_count": 3,
     "metadata": {},
     "output_type": "execute_result"
    }
   ],
   "source": [
    "#OntoGeoLógica populada (OntoGeoLogicaPovoadaInstanciasRelacoes.owl)\n",
    "onto = get_ontology(\"OntoGeoLogicaInstanciasRelacoes.owl\")\n",
    "onto.load()"
   ]
  },
  {
   "cell_type": "code",
   "execution_count": 6,
   "id": "5057cd00-1c88-4304-ba67-f3b4d5c89b3e",
   "metadata": {},
   "outputs": [
    {
     "name": "stdout",
     "output_type": "stream",
     "text": [
      "Número de classes:  595\n",
      "Número de instâncias:  39835\n"
     ]
    }
   ],
   "source": [
    "print('Número de classes: ', len(list(onto.classes())))\n",
    "print('Número de instâncias: ', len(list(onto.individuals())))"
   ]
  },
  {
   "cell_type": "markdown",
   "id": "f17a8361-4f8b-4792-b974-bdfb60d05fc8",
   "metadata": {},
   "source": [
    "### Entidades cujas entidades das listas são povoadas como subclasses."
   ]
  },
  {
   "cell_type": "code",
   "execution_count": 7,
   "id": "4b21d8fa-be97-4adb-8a64-3362a669f19c",
   "metadata": {},
   "outputs": [],
   "source": [
    "PetroKGraph = 'http://www.semanticweb.org/bg40/ontologies/2022/5/untitled-ontology-2#'"
   ]
  },
  {
   "cell_type": "code",
   "execution_count": 7,
   "id": "5a0ef28c-7a54-426d-b628-a61e593ff0ca",
   "metadata": {},
   "outputs": [
    {
     "name": "stdout",
     "output_type": "stream",
     "text": [
      "Numero de rochas:  189\n",
      "Numero de labels de rochas:  247\n"
     ]
    }
   ],
   "source": [
    "rock = list(default_world.sparql(\"\"\"\n",
    "            SELECT ?x\n",
    "            { ?x rdfs:subClassOf* <\"\"\" + PetroKGraph + \"\"\"rock>}\n",
    "            \"\"\"))\n",
    "\n",
    "rock_label = list(default_world.sparql(\"\"\"\n",
    "                 SELECT ?label\n",
    "                 { ?x rdfs:subClassOf* <\"\"\" + PetroKGraph + \"\"\"rock>.\n",
    "                 ?x rdfs:label ?label.}\n",
    "                 \"\"\"))\n",
    "\n",
    "print('Numero de rochas: ', len(rock))\n",
    "print('Numero de labels de rochas: ', len(rock_label))"
   ]
  },
  {
   "cell_type": "code",
   "execution_count": 10,
   "id": "f4b2ac00-b05c-4489-b24d-e9967943035d",
   "metadata": {},
   "outputs": [
    {
     "name": "stdout",
     "output_type": "stream",
     "text": [
      "Numero de fluidos da terra:  1\n",
      "Numero de labels de fluidos da terra:  2\n"
     ]
    }
   ],
   "source": [
    "earth_fluid = list(default_world.sparql(\"\"\"\n",
    "            SELECT ?x\n",
    "            { ?x rdfs:subClassOf <\"\"\" + PetroKGraph + \"\"\"earth_fluid>}\n",
    "            \"\"\"))\n",
    "\n",
    "earth_fluid_label = list(default_world.sparql(\"\"\"\n",
    "                 SELECT ?label\n",
    "                 { ?x rdfs:subClassOf <\"\"\" + PetroKGraph + \"\"\"earth_fluid>.\n",
    "                 ?x rdfs:label ?label.}\n",
    "                 \"\"\"))\n",
    "\n",
    "print('Numero de fluidos da terra: ', len(earth_fluid))\n",
    "print('Numero de labels de fluidos da terra: ', len(earth_fluid_label))"
   ]
  },
  {
   "cell_type": "code",
   "execution_count": 11,
   "id": "68f0a8ba-2f6a-4629-96bc-0718d329e999",
   "metadata": {},
   "outputs": [
    {
     "name": "stdout",
     "output_type": "stream",
     "text": [
      "Numero de fluidos da terra (O&G):  12\n",
      "Numero de labels de fluidos da terra (O&G):  28\n"
     ]
    }
   ],
   "source": [
    "og_earth_fluid = list(default_world.sparql(\"\"\"\n",
    "            SELECT ?x\n",
    "            { ?x rdfs:subClassOf* <\"\"\" + PetroKGraph + \"\"\"o&g_earth_fluid>}\n",
    "            \"\"\"))\n",
    "\n",
    "og_earth_fluid_label = list(default_world.sparql(\"\"\"\n",
    "                 SELECT ?label\n",
    "                 { ?x rdfs:subClassOf* <\"\"\" + PetroKGraph + \"\"\"o&g_earth_fluid>.\n",
    "                 ?x rdfs:label ?label.}\n",
    "                 \"\"\"))\n",
    "\n",
    "print('Numero de fluidos da terra (O&G): ', len(og_earth_fluid))\n",
    "print('Numero de labels de fluidos da terra (O&G): ', len(og_earth_fluid_label))"
   ]
  },
  {
   "cell_type": "code",
   "execution_count": 12,
   "id": "a1136e80-f94b-4e9c-9264-04a5dffd2226",
   "metadata": {},
   "outputs": [
    {
     "name": "stdout",
     "output_type": "stream",
     "text": [
      "Numero de material inconsolidado:  16\n",
      "Numero de labels de material inconsolidado:  22\n"
     ]
    }
   ],
   "source": [
    "inconsolidado = list(default_world.sparql(\"\"\"\n",
    "            SELECT ?x\n",
    "            { ?x rdfs:subClassOf* <\"\"\" + PetroKGraph + \"\"\"unconsolidated_earth_material>}\n",
    "            \"\"\"))\n",
    "\n",
    "inconsolidado_label = list(default_world.sparql(\"\"\"\n",
    "                 SELECT ?label\n",
    "                 { ?x rdfs:subClassOf* <\"\"\" + PetroKGraph + \"\"\"unconsolidated_earth_material>.\n",
    "                 ?x rdfs:label ?label.}\n",
    "                 \"\"\"))\n",
    "\n",
    "print('Numero de material inconsolidado: ', len(inconsolidado))\n",
    "print('Numero de labels de material inconsolidado: ', len(inconsolidado_label))"
   ]
  },
  {
   "cell_type": "code",
   "execution_count": 15,
   "id": "4a31d364-1c23-4209-be54-1296f9aec520",
   "metadata": {},
   "outputs": [
    {
     "name": "stdout",
     "output_type": "stream",
     "text": [
      "Numero de classes de idades geológicas:  350\n",
      "Numero de labels das classes de idades geológicas:  2\n"
     ]
    }
   ],
   "source": [
    "age = list(default_world.sparql(\"\"\"\n",
    "            SELECT ?x\n",
    "            { ?x rdfs:subClassOf* <\"\"\" + PetroKGraph + \"\"\"geological_age>.}\n",
    "            \"\"\"))\n",
    "\n",
    "age_label =list(default_world.sparql(\"\"\"\n",
    "            SELECT ?label\n",
    "            { ?x rdfs:subClassOf* <\"\"\" + PetroKGraph + \"\"\"geological_time_interval>.\n",
    "              ?x rdfs:label ?label.}\n",
    "            \"\"\"))\n",
    "\n",
    "print('Numero de classes de idades geológicas: ', len(age))\n",
    "print('Numero de labels das classes de idades geológicas: ', len(age_label))"
   ]
  },
  {
   "cell_type": "markdown",
   "id": "53bf039d-954b-4f9d-aa8d-1988e7b8cdd0",
   "metadata": {},
   "source": [
    "### Entidades cujas entidades das listas são povoadas como instâncias."
   ]
  },
  {
   "cell_type": "code",
   "execution_count": 14,
   "id": "fc800366-331a-4112-9d70-93d880f5edc9",
   "metadata": {},
   "outputs": [
    {
     "name": "stdout",
     "output_type": "stream",
     "text": [
      "Numero de bacias:  64\n",
      "Numero de labels de bacias:  158\n"
     ]
    }
   ],
   "source": [
    "basin = list(default_world.sparql(\"\"\"\n",
    "            SELECT ?x\n",
    "            { ?x a/rdfs:subClassOf* <\"\"\" + PetroKGraph + \"\"\"basin>.}\n",
    "            \"\"\"))\n",
    "\n",
    "basin_label =list(default_world.sparql(\"\"\"\n",
    "            SELECT ?label\n",
    "            { ?x a/rdfs:subClassOf* <\"\"\" + PetroKGraph + \"\"\"basin>.\n",
    "              ?x rdfs:label ?label.}\n",
    "            \"\"\"))\n",
    "\n",
    "print('Numero de bacias: ', len(basin))\n",
    "print('Numero de labels de bacias: ', len(basin_label))"
   ]
  },
  {
   "cell_type": "code",
   "execution_count": 15,
   "id": "336eb6e6-9ac6-4552-ab2a-3f28a29b5924",
   "metadata": {},
   "outputs": [
    {
     "name": "stdout",
     "output_type": "stream",
     "text": [
      "Numero de unidades litoestratigráficas:  512\n",
      "Numero de labels de unidades litoestratigráficas:  1023\n"
     ]
    }
   ],
   "source": [
    "lito = list(default_world.sparql(\"\"\"\n",
    "            SELECT ?x\n",
    "            { ?x a/rdfs:subClassOf* <\"\"\" + PetroKGraph + \"\"\"lithostratigraphic_unit>.}\n",
    "            \"\"\"))\n",
    "\n",
    "lito_label =list(default_world.sparql(\"\"\"\n",
    "            SELECT ?label\n",
    "            { ?x a/rdfs:subClassOf* <\"\"\" + PetroKGraph + \"\"\"lithostratigraphic_unit>.\n",
    "              ?x rdfs:label ?label.}\n",
    "            \"\"\"))\n",
    "\n",
    "print('Numero de unidades litoestratigráficas: ', len(lito))\n",
    "print('Numero de labels de unidades litoestratigráficas: ', len(lito_label))"
   ]
  },
  {
   "cell_type": "code",
   "execution_count": 16,
   "id": "1587d318-0dc6-4db3-9bac-0ffeb0d5ddcb",
   "metadata": {},
   "outputs": [
    {
     "name": "stdout",
     "output_type": "stream",
     "text": [
      "Numero de poços:  30739\n",
      "Numero de labels de poços:  32475\n"
     ]
    }
   ],
   "source": [
    "well = list(default_world.sparql(\"\"\"\n",
    "            SELECT ?x\n",
    "            { ?x a/rdfs:subClassOf* <\"\"\" + PetroKGraph + \"\"\"well>.}\n",
    "            \"\"\"))\n",
    "\n",
    "well_label =list(default_world.sparql(\"\"\"\n",
    "            SELECT ?label\n",
    "            { ?x a/rdfs:subClassOf* <\"\"\" + PetroKGraph + \"\"\"well>.\n",
    "              ?x rdfs:label ?label.}\n",
    "            \"\"\"))\n",
    "\n",
    "print('Numero de poços: ', len(well))\n",
    "print('Numero de labels de poços: ', len(well_label))"
   ]
  },
  {
   "cell_type": "code",
   "execution_count": 17,
   "id": "14ffb3ec-6fea-488d-bd5f-fd21fc4b4f15",
   "metadata": {},
   "outputs": [
    {
     "name": "stdout",
     "output_type": "stream",
     "text": [
      "Numero de campos:  480\n",
      "Numero de labels de campos:  772\n"
     ]
    }
   ],
   "source": [
    "campo = list(default_world.sparql(\"\"\"\n",
    "            SELECT ?x\n",
    "            { ?x a/rdfs:subClassOf* <\"\"\" + PetroKGraph + \"\"\"field>.}\n",
    "            \"\"\"))\n",
    "\n",
    "campo_label =list(default_world.sparql(\"\"\"\n",
    "            SELECT ?label\n",
    "            { ?x a/rdfs:subClassOf* <\"\"\" + PetroKGraph + \"\"\"field>.\n",
    "              ?x rdfs:label ?label.}\n",
    "            \"\"\"))\n",
    "\n",
    "print('Numero de campos: ', len(campo))\n",
    "print('Numero de labels de campos: ', len(campo_label))"
   ]
  },
  {
   "cell_type": "code",
   "execution_count": 18,
   "id": "c8ae73d6-2b0d-47b5-8fd7-ea5de6ebd694",
   "metadata": {},
   "outputs": [
    {
     "name": "stdout",
     "output_type": "stream",
     "text": [
      "Numero de textura de rocha:  57\n",
      "Numero de labels de textura de rocha:  57\n"
     ]
    }
   ],
   "source": [
    "textura = list(default_world.sparql(\"\"\"\n",
    "            SELECT ?x\n",
    "            { ?x a/rdfs:subClassOf* <\"\"\" + PetroKGraph + \"\"\"textura>.}\n",
    "            \"\"\"))\n",
    "\n",
    "textura_label =list(default_world.sparql(\"\"\"\n",
    "            SELECT ?label\n",
    "            { ?x a/rdfs:subClassOf* <\"\"\" + PetroKGraph + \"\"\"textura>.\n",
    "              ?x rdfs:label ?label.}\n",
    "            \"\"\"))\n",
    "\n",
    "print('Numero de textura de rocha: ', len(textura))\n",
    "print('Numero de labels de textura de rocha: ', len(textura_label))"
   ]
  },
  {
   "cell_type": "code",
   "execution_count": 8,
   "id": "e97ba43a-2303-41c0-b589-85e967393ac9",
   "metadata": {},
   "outputs": [
    {
     "name": "stdout",
     "output_type": "stream",
     "text": [
      "Numero de intervalos de tempo geológico:  347\n",
      "Numero de intervalos de tempo geológico:  1234\n"
     ]
    }
   ],
   "source": [
    "crono = list(default_world.sparql(\"\"\"\n",
    "            SELECT ?x\n",
    "            { ?x a/rdfs:subClassOf* <\"\"\" + PetroKGraph + \"\"\"geological_time_interval>.}\n",
    "            \"\"\"))\n",
    "\n",
    "crono_label =list(default_world.sparql(\"\"\"\n",
    "            SELECT ?label\n",
    "            { ?x a/rdfs:subClassOf* <\"\"\" + PetroKGraph + \"\"\"geological_time_interval>.\n",
    "              ?x rdfs:label ?label.}\n",
    "            \"\"\"))\n",
    "\n",
    "print('Numero de intervalos de tempo geológico: ', len(crono))\n",
    "print('Numero de intervalos de tempo geológico: ', len(crono_label))"
   ]
  },
  {
   "cell_type": "code",
   "execution_count": 14,
   "id": "26f68383-89d3-4f4f-aff4-a893b9286f25",
   "metadata": {},
   "outputs": [
    {
     "name": "stdout",
     "output_type": "stream",
     "text": [
      "Numero de instâncias de idade geológica:  4017\n",
      "Numero de labels de instÂncias de idade geológica:  1234\n"
     ]
    }
   ],
   "source": [
    "age_inst = list(default_world.sparql(\"\"\"\n",
    "            SELECT ?x\n",
    "            { ?x a/rdfs:subClassOf* <\"\"\" + PetroKGraph + \"\"\"geological_age>.}\n",
    "            \"\"\"))\n",
    "\n",
    "age_inst_label =list(default_world.sparql(\"\"\"\n",
    "            SELECT ?label\n",
    "            { ?x a/rdfs:subClassOf* <\"\"\" + PetroKGraph + \"\"\"geological_time_interval>.\n",
    "              ?x rdfs:label ?label.}\n",
    "            \"\"\"))\n",
    "\n",
    "print('Numero de instâncias de idade geológica: ', len(age_inst))\n",
    "print('Numero de labels de instÂncias de idade geológica: ', len(age_inst_label))"
   ]
  },
  {
   "cell_type": "code",
   "execution_count": 20,
   "id": "c979d6d8-3752-4d37-9d24-02cb9309d6d2",
   "metadata": {},
   "outputs": [
    {
     "name": "stdout",
     "output_type": "stream",
     "text": [
      "Numero de estruturas geológicas:  162\n",
      "Numero de labels de estruturas geológicas:  162\n"
     ]
    }
   ],
   "source": [
    "structure = list(default_world.sparql(\"\"\"\n",
    "            SELECT ?x\n",
    "            { ?x a/rdfs:subClassOf* <\"\"\" + PetroKGraph + \"\"\"geological_structure>.}\n",
    "            \"\"\"))\n",
    "\n",
    "structure_label =list(default_world.sparql(\"\"\"\n",
    "            SELECT ?label\n",
    "            { ?x a/rdfs:subClassOf* <\"\"\" + PetroKGraph + \"\"\"geological_structure>.\n",
    "              ?x rdfs:label ?label.}\n",
    "            \"\"\"))\n",
    "\n",
    "print('Numero de estruturas geológicas: ', len(structure))\n",
    "print('Numero de labels de estruturas geológicas: ', len(structure_label))"
   ]
  },
  {
   "cell_type": "markdown",
   "id": "9e6e8d1f-d238-4087-92f5-d97e5191a3ac",
   "metadata": {},
   "source": [
    "### Relações"
   ]
  },
  {
   "cell_type": "code",
   "execution_count": 22,
   "id": "f4c208f7-4c0f-4643-adad-7f46935d158c",
   "metadata": {},
   "outputs": [
    {
     "name": "stdout",
     "output_type": "stream",
     "text": [
      "Número de relações cross:  153827\n"
     ]
    }
   ],
   "source": [
    "cross = list(default_world.sparql(\"\"\"\n",
    "            SELECT ?x ?y\n",
    "            { ?x <\"\"\" + PetroKGraph + \"\"\"crosses> ?y.}\n",
    "            \"\"\"))\n",
    "\n",
    "print('Número de relações cross: ', len(cross))"
   ]
  },
  {
   "cell_type": "code",
   "execution_count": 23,
   "id": "59d819bd-d8ae-495e-a18c-5e39a3d4378f",
   "metadata": {},
   "outputs": [
    {
     "name": "stdout",
     "output_type": "stream",
     "text": [
      "Número de relações lacated_in:  57735\n"
     ]
    }
   ],
   "source": [
    "located_in = list(default_world.sparql(\"\"\"\n",
    "            SELECT ?x ?y\n",
    "            { ?x <\"\"\" + PetroKGraph + \"\"\"located_in> ?y.}\n",
    "            \"\"\"))\n",
    "\n",
    "print('Número de relações lacated_in: ', len(located_in))"
   ]
  },
  {
   "cell_type": "code",
   "execution_count": 24,
   "id": "74e49736-ef79-4f96-83cb-63f8f6b85c45",
   "metadata": {},
   "outputs": [
    {
     "name": "stdout",
     "output_type": "stream",
     "text": [
      "Número de relações constituted_by:  3805\n"
     ]
    }
   ],
   "source": [
    "constituted_by = list(default_world.sparql(\"\"\"\n",
    "            SELECT ?x ?y\n",
    "            { ?x <\"\"\" + PetroKGraph + \"\"\"constituted_by> ?y.}\n",
    "            \"\"\"))\n",
    "\n",
    "print('Número de relações constituted_by: ', len(constituted_by))"
   ]
  },
  {
   "cell_type": "code",
   "execution_count": 30,
   "id": "f23ee730-5a65-446a-a557-9b39755e006f",
   "metadata": {},
   "outputs": [
    {
     "name": "stdout",
     "output_type": "stream",
     "text": [
      "Número de relações has_age:  3669\n"
     ]
    }
   ],
   "source": [
    "has_age = list(default_world.sparql(\"\"\"\n",
    "            SELECT ?x ?y\n",
    "            { ?x <\"\"\" + PetroKGraph + \"\"\"has_age> ?y.}\n",
    "            \"\"\"))\n",
    "\n",
    "print('Número de relações has_age: ', len(has_age))"
   ]
  },
  {
   "cell_type": "code",
   "execution_count": 32,
   "id": "62f827f9-4f5e-49de-844e-426f56fe2771",
   "metadata": {},
   "outputs": [
    {
     "name": "stdout",
     "output_type": "stream",
     "text": [
      "Número de relações has_temporal_relation:  1658\n"
     ]
    }
   ],
   "source": [
    "has_temporal_relation = list(default_world.sparql(\"\"\"\n",
    "            SELECT ?x ?y\n",
    "            { ?x ?relation ?y.\n",
    "            ?relation rdfs:subPropertyOf* <\"\"\" + PetroKGraph + \"\"\"has_temporal_relation>.}\n",
    "            \"\"\"))\n",
    "\n",
    "print('Número de relações has_temporal_relation: ', len(has_temporal_relation))"
   ]
  },
  {
   "cell_type": "code",
   "execution_count": null,
   "id": "38526311-6808-43b1-9c56-028263d16515",
   "metadata": {},
   "outputs": [],
   "source": []
  }
 ],
 "metadata": {
  "kernelspec": {
   "display_name": "Python 3 (ipykernel)",
   "language": "python",
   "name": "python3"
  },
  "language_info": {
   "codemirror_mode": {
    "name": "ipython",
    "version": 3
   },
   "file_extension": ".py",
   "mimetype": "text/x-python",
   "name": "python",
   "nbconvert_exporter": "python",
   "pygments_lexer": "ipython3",
   "version": "3.7.16"
  }
 },
 "nbformat": 4,
 "nbformat_minor": 5
}
