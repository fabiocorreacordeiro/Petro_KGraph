{
 "cells": [
  {
   "cell_type": "code",
   "execution_count": 1,
   "id": "27a8814a-7851-4f6f-a2ad-a6f47e59781a",
   "metadata": {},
   "outputs": [],
   "source": [
    "import pandas as pd\n",
    "import os\n",
    "import re\n",
    "import json\n",
    "from owlready2 import *\n",
    "from getpass import getpass\n",
    "import collections\n",
    "from xlrd import open_workbook\n",
    "from openpyxl import load_workbook"
   ]
  },
  {
   "cell_type": "code",
   "execution_count": 15,
   "id": "9c09f644-1c9c-4353-a7c3-ff26098dab61",
   "metadata": {},
   "outputs": [],
   "source": [
    "def prepara_lista_bacias(df_depbr, df_dmrr):\n",
    "    '''\n",
    "    Função que exporta arquivo json com sinônimos de bacias, agrupados pelo código da bacia ANP.\n",
    "    Entradas: \n",
    "        df_depbr: DataFrame com a tabela BACIAS_SEDIMENTARES do DEPBR\n",
    "        df_dmrr: DataFrame com o Information Link Dimensão Bacia do DMRR\n",
    "    Saída: json com os sinônimos para cada bacia sedimentar.\n",
    "    '''\n",
    "    columns_mapper = {'Bacia Código': 'Bacia Código',\n",
    "                      'Bacia Nome': 'BACIA_SINONIMO',\n",
    "                      'Bacia Nome Ambiente': 'Bacia Nome Ambiente',\n",
    "                      'Bacia Nome Bacia Sedimentar': 'BASE_NM_BACIA',\n",
    "                      'Bacia Sigla': 'BACIA_SIGLA',\n",
    "                      'Bacia Sigla Bacia Sedimentar': 'BASE_SG_BACIA'}\n",
    "    df_dmrr = df_dmrr.rename(columns = columns_mapper)\n",
    "    \n",
    "    df = pd.merge(left=df_depbr, right=df_dmrr, how='outer', on=[\"BASE_NM_BACIA\", \"BASE_SG_BACIA\"])\n",
    "    \n",
    "    sinonimos_bacias = {}\n",
    "    #LISTA DE BACIAS SEDIMENTARES: COLUNA 'BASE_NM_BACIA' DA TABELA BACIAS_SEDIMENTARES (DEPBR)\n",
    "    #CÓDIGO IDENTIFICADOR DE BACIAS SEDIMENTARES: 'BASE_CD_BACIA' DA TABELA BACIAS_SEDIMENTARES (DEPBR)\n",
    "    for i in range(len(df)):\n",
    "        bacia_sedimentar = df.loc[i]['BASE_NM_BACIA']\n",
    "        if bacia_sedimentar != 'NÃO ATRIBUÍDO':\n",
    "            codigo_bacia = int(df.loc[i]['BASE_CD_BACIA'])\n",
    "\n",
    "            if codigo_bacia not in sinonimos_bacias.keys():\n",
    "                sinonimos_bacias[codigo_bacia] = [bacia_sedimentar,'BACIA DE '+bacia_sedimentar]\n",
    "\n",
    "        #LISTA DE SINÔNIMOS: Bacia Nome DO IL DIMENSÃO BACIA (DMRR)\n",
    "            if isinstance(df.loc[i]['BACIA_SINONIMO'], str):\n",
    "                sinonimo_bacia = df.loc[i]['BACIA_SINONIMO']\n",
    "                if sinonimo_bacia not in sinonimos_bacias[codigo_bacia]:\n",
    "                    sinonimos_bacias[codigo_bacia].append(sinonimo_bacia)\n",
    "    #EXCEÇÕES PARA BACIA DE CAMPOS E SANTOS (COMUMENTE REFERIDAS COMO BC E BS)\n",
    "    sinonimos_bacias[281].append('BC')\n",
    "    sinonimos_bacias[316].append('BC')\n",
    "    sinonimos_bacias[15] = [\"MADRE DE DIOS\", \"BACIA DE MADRE DE DIOS\"]\n",
    "    sinonimos_bacias[55] = [\"AMAPÁ\", \"BACIA DE AMAPÁ\"]\n",
    "    sinonimos_bacias[60] = [\"BRAGANCA VIZEU\", \"BRAGANCA VIZEU-ILHA NOVA\", \"BACIA DE BRAGANCA VIZEU\"]\n",
    "    sinonimos_bacias[95] = [\"MALHADO VERMELHO\", \"BACIA DE MALHADO VERMELHO\"]\n",
    "    sinonimos_bacias[110] = [\"IGUATU\", \"BACIA DE IGUATU\"]\n",
    "    sinonimos_bacias[125] = [\"LIMA CAMPOS\", \"BACIA DE LIMA CAMPOS\"]\n",
    "    sinonimos_bacias[130] = [\"ICÓ\", \"BACIA DE ICÓ\"]\n",
    "    sinonimos_bacias[135] = [\"POMBAL\", \"BACIA DE POMBAL\"]\n",
    "    sinonimos_bacias[140] = [\"SOUZA\", \"BACIA DE SOUZA\"]\n",
    "    sinonimos_bacias[145] = [\"TRIUNFO\", \"BACIA DE TRIUNFO\"]\n",
    "    sinonimos_bacias[155] = [\"BARRO\", \"BACIA DE BARRO\"]\n",
    "    sinonimos_bacias[160] = [\"CEDRO\", \"BACIA DE CEDRO\"]\n",
    "    sinonimos_bacias[165] = [\"SERRA DO INÁCIO\", \"BACIA DE SERRA DO INÁCIO\"]\n",
    "    sinonimos_bacias[170] = [\"SÃO JOSÉ DO BELMONTE\", \"BACIA DE SÃO JOSÉ DO BELMONTE\"]\n",
    "    sinonimos_bacias[180] = [\"MIRANDIBA\", \"BACIA DE MIRANDIBA\"]\n",
    "    sinonimos_bacias[175] = [\"BOM NOME\", \"BACIA DE BOM NOME\"]\n",
    "    sinonimos_bacias[185] = [\"TUPANACI\", \"BACIA DE TUPANACI\"]\n",
    "    sinonimos_bacias[190] = [\"BETÂNIA\", \"BACIA DE BETÂNIA\"]\n",
    "    sinonimos_bacias[195] = [\"AFOGADOS DA INGAZEIRA\", \"BACIA DE AFOGADOS DA INGAZEIRA\"]\n",
    "    sinonimos_bacias[205] = [\"ITABERABA\", \"BACIA DE ITABERABA\"]\n",
    "    sinonimos_bacias[285] = [\"ITABORAÍ\", \"BACIA DE ITABORAÍ\"]\n",
    "    sinonimos_bacias[290] = [\"RESENDE\", \"BACIA DE RESENDE\"]\n",
    "    sinonimos_bacias[295] = [\"TAUBATÉ\", \"BACIA DE TAUBATÉ\"]\n",
    "    sinonimos_bacias[305] = [\"SÃO PAULO\", \"BACIA DE SÃO PAULO\"]\n",
    "    sinonimos_bacias[310] = [\"CURITIBA\", \"BACIA DE CURITIBA\"]\n",
    "    sinonimos_bacias[330] = [\"ÁGUA BONITA\", \"BACIA DE ÁGUA BONITA\"]\n",
    "\n",
    "    return sinonimos_bacias"
   ]
  },
  {
   "cell_type": "code",
   "execution_count": 16,
   "id": "259ea24b-ca27-48e8-9b5b-c3964d2b454d",
   "metadata": {},
   "outputs": [],
   "source": [
    "def define_anexados(df):\n",
    "    '''\n",
    "    Cria dicionário com campos de destino e respecticva lista de campos anexados\n",
    "    Entrada: DataFrame com tabela de campos exportada do SIRR\n",
    "    Saída: dicionário de campos anexados:\n",
    "        *chaves são os nomes completos dos campos de destino (str);\n",
    "        *itens são os nomes abreviados e completos dos campos anexados (lista) ao campo de destino correspondente.\n",
    "    '''\n",
    "    mapper_anexados = {}\n",
    "    for i in range(len(df)):\n",
    "        if isinstance(df.loc[i]['Campos anexados'], str):\n",
    "            sinonimos = []\n",
    "            anexados =  df.loc[i]['Campos anexados'].strip('[').strip(']').split(', ')\n",
    "            for anexado in anexados:\n",
    "                sinonimos.append(list(df[df['Nome (abreviado)']==anexado]['Nome (completo)'])[0])\n",
    "                \n",
    "                #PARA VERIFICAR SE O CAMPO ANEXADO FOI POSTERIORMENTE ANEXADO A OUTRO CAMPO\n",
    "                #ATENÇÃO: NÃO RESOLVE CASOS DE MÚLTIPLAS ANEXAÇÕES \n",
    "                if isinstance(list(df[df['Nome (abreviado)']==anexado]['Campos anexados'])[0], str):\n",
    "                    sub_anexados = list(df[df['Nome (abreviado)']==anexado]['Campos anexados'])[0].strip('[').strip(']').split(', ')\n",
    "                    for sub_anexado in sub_anexados:\n",
    "                        sinonimos.append(list(df[df['Nome (abreviado)']==sub_anexado]['Nome (completo)'])[0])\n",
    "                    sinonimos = sinonimos+sub_anexados\n",
    "            anexados = anexados+sinonimos\n",
    "            mapper_anexados[df.loc[i]['Nome (completo)']] = list(set(anexados))\n",
    "    return mapper_anexados\n",
    "\n",
    "def define_status(df):\n",
    "    '''\n",
    "    Cria dicionário com códigos de status do campo\n",
    "    Entrada: DataFrame com tabela de campos exportada do SIRR\n",
    "    Saída: dicionário de código de campos:\n",
    "        *chaves são os códigos (int);\n",
    "        *itens são a descrição do código correspondente (str)\n",
    "    '''\n",
    "    mapper_codigo_status = {}\n",
    "    for codigo in list(df['Status (cod)'].unique()):\n",
    "        mapper_codigo_status[codigo] = df[df['Status (cod)']==codigo]['Status (desc)'].unique()[0]\n",
    "    return mapper_codigo_status"
   ]
  },
  {
   "cell_type": "code",
   "execution_count": 17,
   "id": "e7d0ceca-e4cd-4e65-8104-391a5dca29de",
   "metadata": {},
   "outputs": [],
   "source": [
    "def prepara_lista_campos(df, mapper_anexados):   \n",
    "    '''\n",
    "    Função que exporta arquivo json com sinônimos de campos, agrupados pelo código do campo.\n",
    "    Entradas: \n",
    "        df: DataFrame com a tabela CAMPO do DEPBR\n",
    "        mapper_anexados: com campos de destino e respecticva lista de campos anexados (gerada pela função define_anexados)\n",
    "    Saída: json com os sinônimos para cada campo.\n",
    "    '''\n",
    "    sinonimos_campos = {}\n",
    "    #LISTA DE CAMPOS: COLUNA 'CAMP_NM_CAMPO' DA TABELA CAMPO (DEPBR)\n",
    "    #NÃO INCLUSOS: CAMPOS COM STATUS ANEXADO (12), BLOCO EXPLORATÓRIO-DEVOLVIDO PARA ANP (2), BLOCO EXPLORATÓRIO (1)\n",
    "    #CÓDIGO IDENTIFICADOR DE CAMPOS: 'CAMP_CD_CAMPO' DA TABELA CAMPO (DEPBR)\n",
    "    nao_inclusos = [1, 2, 12]\n",
    "    for i in range(len(df)):\n",
    "        if df.loc[i]['STCA_CD_CAMPO'] not in nao_inclusos:\n",
    "            \n",
    "            #LISTA DE SINÔNIMOS: COLUNAS COM NOME ABREVIADO (CAMP_NM_ABREV) E NOME COMPLETO (CAMP_NM_CAMPO) DA TABELA CAMPO\n",
    "            sinonimo_campo = []\n",
    "            sinonimo_campo.append(df.loc[i]['CAMP_NM_CAMPO'])\n",
    "            sinonimo_campo.append(df.loc[i]['CAMP_NM_ABREV'])\n",
    "            \n",
    "            #LISTA DE SINÔNIMOS: CAMPOS ANEXADOS (LISTA ORIUNDA DO SIRR)\n",
    "            if df.loc[i]['CAMP_NM_CAMPO'] in mapper_anexados.keys():\n",
    "                sinonimo_campo = sinonimo_campo+mapper_anexados[df.loc[i]['CAMP_NM_CAMPO']]\n",
    "\n",
    "            codigo_campo = int(df.loc[i]['CAMP_CD_CAMPO'])\n",
    "            if codigo_campo not in sinonimos_campos.keys():\n",
    "                sinonimos_campos[codigo_campo] = list(set(sinonimo_campo))\n",
    "    return sinonimos_campos"
   ]
  },
  {
   "cell_type": "code",
   "execution_count": 18,
   "id": "55539228-13df-410b-80a3-97cef0d4f0a0",
   "metadata": {},
   "outputs": [],
   "source": [
    "def prepara_lista_campo_bacia(df_campo, df_bacia):\n",
    "    '''\n",
    "    Função que exporta arquivo json com relação entre campo e bacia, agrupados pelo código do campo.\n",
    "    Entradas: \n",
    "        df_campo: DataFrame com a tabela de campos exportada do SIRR\n",
    "        df_bacia: DataFrame com o Information Link Dimensão Bacia do DMRR\n",
    "    Saída: json com o nome da bacia sedimentar para cada código de campo.\n",
    "    '''\n",
    "    campo_bacia = {}\n",
    "    \n",
    "    for i in range(len(df_campo)):\n",
    "        codigo_campo = int(df_campo.loc[i]['Código Petrobras'])\n",
    "        if codigo_campo not in campo_bacia.keys():\n",
    "            bacia = df_campo.loc[i]['Bacia']\n",
    "            if bacia in list(df_bacia['Bacia Sigla']):\n",
    "                campo_bacia[codigo_campo] = list(df_bacia[df_bacia['Bacia Sigla']==bacia]['Bacia Nome Bacia Sedimentar'])[0]\n",
    "            else:\n",
    "                print(df_campo.loc[i]['Nome (completo)'])\n",
    "    return campo_bacia"
   ]
  },
  {
   "cell_type": "code",
   "execution_count": 40,
   "id": "8f8ba979-0aca-4d4d-9801-e5d7fd76b953",
   "metadata": {},
   "outputs": [],
   "source": [
    "def prepara_lista_est_text_por(df):   \n",
    "    '''\n",
    "    Função que exporta arquivo json com estruturas deposicionais, textura de rocha e tipo de porosidade,\n",
    "    agrupadas por sua sigla.\n",
    "    Entradas: \n",
    "        df: DataFrame com a tabela de Estruturas Deposicionais, Texturas ou Tipos de Porosidade do estudo do dicionário\n",
    "    '''\n",
    "    sinonimos_est_text_por = {}\n",
    "    \n",
    "    n=int(df['Código'].max())\n",
    "\n",
    "    df = df.fillna(0)\n",
    "    for i in range(len(df)):\n",
    "        codigo_entidade = int(df.loc[i]['Código'])\n",
    "        if codigo_entidade == 0:\n",
    "            codigo_entidade = n\n",
    "            n+=1\n",
    "        nome_entidade = df.loc[i]['Nome']\n",
    "        if codigo_entidade not in sinonimos_est_text_por.keys():\n",
    "            sinonimos_est_text_por[codigo_entidade] = nome_entidade\n",
    "    return sinonimos_est_text_por"
   ]
  },
  {
   "cell_type": "code",
   "execution_count": 20,
   "id": "43163412-e667-4237-aa09-f6c71aac778b",
   "metadata": {},
   "outputs": [],
   "source": [
    "file_bacia = load_workbook(filename='resources/bacia/bacia.xlsx', data_only=True)"
   ]
  },
  {
   "cell_type": "code",
   "execution_count": 21,
   "id": "d0308299-b91f-44d2-be6c-9f12da309f63",
   "metadata": {},
   "outputs": [
    {
     "data": {
      "text/plain": [
       "['depbr', 'dmrr']"
      ]
     },
     "execution_count": 21,
     "metadata": {},
     "output_type": "execute_result"
    }
   ],
   "source": [
    "file_bacia.sheetnames"
   ]
  },
  {
   "cell_type": "code",
   "execution_count": 22,
   "id": "3e8d3a96-5ee3-47fa-99bc-152feed7c779",
   "metadata": {},
   "outputs": [],
   "source": [
    "df_depbr_bacias_sedimentares = pd.read_excel('resources/bacia/bacia.xlsx', sheet_name = 'depbr')\n",
    "df_dmrr_bacias = pd.read_excel('resources/bacia/bacia.xlsx', sheet_name = 'dmrr')"
   ]
  },
  {
   "cell_type": "code",
   "execution_count": 23,
   "id": "ca01d950-9941-46fd-b41c-30d7dd7b7c5c",
   "metadata": {},
   "outputs": [],
   "source": [
    "sinonimos_bacias = prepara_lista_bacias(df_depbr_bacias_sedimentares, df_dmrr_bacias)"
   ]
  },
  {
   "cell_type": "code",
   "execution_count": 24,
   "id": "9f5d2c77-8b13-4743-9b55-cc54b2cdd38b",
   "metadata": {
    "tags": []
   },
   "outputs": [],
   "source": [
    "with open('resources/bacia/bacias.json', 'w') as f:\n",
    "    json.dump(sinonimos_bacias, f)"
   ]
  },
  {
   "cell_type": "code",
   "execution_count": 25,
   "id": "2cb1a356-45ac-419e-b620-6a702df249b4",
   "metadata": {},
   "outputs": [],
   "source": [
    "file_campo = load_workbook(filename='resources/campo/campo.xlsx', data_only=True)"
   ]
  },
  {
   "cell_type": "code",
   "execution_count": 26,
   "id": "997829bf-cef1-434a-8433-a9e5eb326e82",
   "metadata": {},
   "outputs": [
    {
     "data": {
      "text/plain": [
       "['ppid', 'depbr', 'sirr', 'dicionario']"
      ]
     },
     "execution_count": 26,
     "metadata": {},
     "output_type": "execute_result"
    }
   ],
   "source": [
    "file_campo.sheetnames"
   ]
  },
  {
   "cell_type": "code",
   "execution_count": 27,
   "id": "a88e28ed-6aad-4fd6-9fd9-f5b6eeb3e714",
   "metadata": {},
   "outputs": [],
   "source": [
    "df_sirr_campos = pd.read_excel('resources/campo/campo.xlsx', sheet_name = 'sirr')\n",
    "df_depbr_campos = pd.read_excel('resources/campo/campo.xlsx', sheet_name = 'depbr')"
   ]
  },
  {
   "cell_type": "code",
   "execution_count": 28,
   "id": "d91539f9-eff2-48ed-9952-25476c841547",
   "metadata": {},
   "outputs": [],
   "source": [
    "mapper_anexados = define_anexados(df_sirr_campos)"
   ]
  },
  {
   "cell_type": "code",
   "execution_count": 29,
   "id": "c6a2bff6-01bb-4b65-ba25-ba9050a89519",
   "metadata": {},
   "outputs": [],
   "source": [
    "sinonimos_campos = prepara_lista_campos(df_depbr_campos, mapper_anexados)"
   ]
  },
  {
   "cell_type": "code",
   "execution_count": 30,
   "id": "14a9a805-e58f-4bd3-9c71-2110a1bd0b90",
   "metadata": {},
   "outputs": [],
   "source": [
    "with open('resources/campo/campos.json', 'w') as f:\n",
    "    json.dump(sinonimos_campos, f)"
   ]
  },
  {
   "cell_type": "code",
   "execution_count": 31,
   "id": "e43d6581-636c-4dc8-96eb-66eaff9c04ed",
   "metadata": {},
   "outputs": [],
   "source": [
    "campo_localizado_bacia = prepara_lista_campo_bacia(df_sirr_campos, df_dmrr_bacias)"
   ]
  },
  {
   "cell_type": "code",
   "execution_count": 32,
   "id": "4a30bdb7-2ccc-4d96-ab83-1050999fc4d8",
   "metadata": {},
   "outputs": [],
   "source": [
    "with open('resources/relacoes/campo_bacia.json', 'w') as f:\n",
    "    json.dump(campo_localizado_bacia, f)"
   ]
  },
  {
   "cell_type": "code",
   "execution_count": 33,
   "id": "23870000-6acd-4af2-9af8-b9330ea09970",
   "metadata": {},
   "outputs": [],
   "source": [
    "file_est_text_por = load_workbook(filename='resources/estrutura_textura_porosidade/estrutura_textura_porosidade.xlsx', \n",
    "                                  data_only=True)"
   ]
  },
  {
   "cell_type": "code",
   "execution_count": 34,
   "id": "7edfc9cd-a0f7-43cd-8d30-eb2cd621095f",
   "metadata": {},
   "outputs": [
    {
     "data": {
      "text/plain": [
       "['Estrutura - BR',\n",
       " 'Estrutura - Outros',\n",
       " 'Textura - BR',\n",
       " 'Textura - Outros',\n",
       " 'Porosidade - BR',\n",
       " 'listas',\n",
       " 'SQL']"
      ]
     },
     "execution_count": 34,
     "metadata": {},
     "output_type": "execute_result"
    }
   ],
   "source": [
    "file_est_text_por.sheetnames"
   ]
  },
  {
   "cell_type": "code",
   "execution_count": 35,
   "id": "14c553ab-38db-489e-9033-e8e8c631d991",
   "metadata": {},
   "outputs": [],
   "source": [
    "df_estrutura = pd.read_excel('resources/estrutura_textura_porosidade/estrutura_textura_porosidade.xlsx', \n",
    "                             sheet_name = 'Estrutura - BR')\n",
    "df_textura = pd.read_excel('resources/estrutura_textura_porosidade/estrutura_textura_porosidade.xlsx', \n",
    "                           sheet_name = 'Textura - BR')\n",
    "df_porosidade = pd.read_excel('resources/estrutura_textura_porosidade/estrutura_textura_porosidade.xlsx', \n",
    "                              sheet_name = 'Porosidade - BR')"
   ]
  },
  {
   "cell_type": "code",
   "execution_count": 41,
   "id": "d79a6f75-be6d-4b43-9c1c-e23a88c2b1ad",
   "metadata": {},
   "outputs": [],
   "source": [
    "sinonimos_estrutura = prepara_lista_est_text_por(df_estrutura)\n",
    "sinonimos_textura = prepara_lista_est_text_por(df_textura)\n",
    "sinonimos_porosidade = prepara_lista_est_text_por(df_porosidade)"
   ]
  },
  {
   "cell_type": "code",
   "execution_count": 42,
   "id": "6f909a57-4c73-4c67-8e5a-622b4ec6bf4e",
   "metadata": {},
   "outputs": [],
   "source": [
    "with open('resources/estrutura_textura_porosidade/estrutura.json', 'w') as f:\n",
    "    json.dump(sinonimos_estrutura, f)\n",
    "\n",
    "with open('resources/estrutura_textura_porosidade/textura.json', 'w') as f:\n",
    "    json.dump(sinonimos_textura, f)\n",
    "\n",
    "with open('resources/estrutura_textura_porosidade/porosidade.json', 'w') as f:\n",
    "    json.dump(sinonimos_porosidade, f)"
   ]
  }
 ],
 "metadata": {
  "kernelspec": {
   "display_name": "Python 3.6",
   "language": "python",
   "name": "python3"
  },
  "language_info": {
   "codemirror_mode": {
    "name": "ipython",
    "version": 3
   },
   "file_extension": ".py",
   "mimetype": "text/x-python",
   "name": "python",
   "nbconvert_exporter": "python",
   "pygments_lexer": "ipython3",
   "version": "3.6.8"
  }
 },
 "nbformat": 4,
 "nbformat_minor": 5
}
