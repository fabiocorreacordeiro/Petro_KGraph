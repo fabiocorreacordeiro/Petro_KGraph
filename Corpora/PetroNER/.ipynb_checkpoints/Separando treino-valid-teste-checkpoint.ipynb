{
 "cells": [
  {
   "cell_type": "markdown",
   "id": "a1f2a53f-737b-4d59-81da-1c03bf032466",
   "metadata": {},
   "source": [
    "### Notebook para separar PetroNER entre Treino / Validação / Teste"
   ]
  },
  {
   "cell_type": "code",
   "execution_count": 1,
   "id": "1b72073f-2954-49ec-9d3e-8c3f64ac937c",
   "metadata": {},
   "outputs": [],
   "source": [
    "from conllu import parse_incr, parse"
   ]
  },
  {
   "cell_type": "code",
   "execution_count": 2,
   "id": "d12acef4-442f-4504-ab2b-4cd77e4b11bb",
   "metadata": {},
   "outputs": [],
   "source": [
    "#Função para escrever a sentença em formato CONLLU no arquivo \"file\", verificando o ID do boletim e o intervalo do ID da sentença \n",
    "def escrever_sentencas(i, boletim, ini, fim, file):\n",
    "    sentence_id = i.metadata['sent_id'].split('-')\n",
    "    # ID do boletim\n",
    "    if sentence_id[1] == boletim:\n",
    "        # ID das sentenças\n",
    "        if int(sentence_id[2]) >= ini and int(sentence_id[2]) <= fim:\n",
    "            file.writelines([i.serialize() + \"\\n\"])"
   ]
  },
  {
   "cell_type": "code",
   "execution_count": 3,
   "id": "f9ecd2ec-39e2-4025-9d08-7c5a4e8bc049",
   "metadata": {},
   "outputs": [],
   "source": [
    "PetroNER_file = \"petroner-uri-2023-07-11.conllu\""
   ]
  },
  {
   "cell_type": "code",
   "execution_count": 4,
   "id": "21b40f46-7e67-4f5e-abea-71d93024bcc6",
   "metadata": {},
   "outputs": [],
   "source": [
    "# Separando sentenças para dataset de treino\n",
    "\n",
    "# Carregando corpora completo\n",
    "PetroNER = open(PetroNER_file, \"r\", encoding=\"utf-8\")\n",
    "PetroNER_sentences = parse_incr(PetroNER)\n",
    "\n",
    "#Abrindo arquivo treino\n",
    "with open('petroner-uri-treino.conllu', 'w', encoding=\"utf-8\") as f:\n",
    "    \n",
    "    for i in PetroNER_sentences:\n",
    "        escrever_sentencas(i, '000001', 1118, 3489, f)\n",
    "        escrever_sentencas(i, '000002', 0, 1819, f)\n",
    "        escrever_sentencas(i, '000003', 0, 2380, f)\n",
    "        escrever_sentencas(i, '000004', 0, 2896, f)\n",
    "        escrever_sentencas(i, '000005', 0, 1619, f)\n",
    "        escrever_sentencas(i, '000006', 880, 2497, f)\n",
    "        escrever_sentencas(i, '000007', 0, 846, f)\n",
    "        escrever_sentencas(i, '000008', 0, 1302, f)\n",
    "        escrever_sentencas(i, '000008', 1858, 2001, f)\n",
    "        escrever_sentencas(i, '000009', 0, 1250, f)\n",
    "        escrever_sentencas(i, '000009', 1709, 2292, f)\n",
    "        escrever_sentencas(i, '000010', 213, 1340, f)\n",
    "        escrever_sentencas(i, '000010', 1537, 2013, f)\n",
    "        escrever_sentencas(i, '000011', 0, 2266, f)"
   ]
  },
  {
   "cell_type": "code",
   "execution_count": 5,
   "id": "f89eed2e-9163-4b53-b18a-47c093d9c237",
   "metadata": {},
   "outputs": [],
   "source": [
    "# Separando sentenças para dataset de validação\n",
    "\n",
    "# Carregando corpora completo\n",
    "PetroNER = open(PetroNER_file, \"r\", encoding=\"utf-8\")\n",
    "PetroNER_sentences = parse_incr(PetroNER)\n",
    "\n",
    "#Abrindo arquivo validação\n",
    "with open('petroner-uri-validação.conllu', 'w', encoding=\"utf-8\") as f:\n",
    "    \n",
    "    for i in PetroNER_sentences:\n",
    "        escrever_sentencas(i, '000001', 379, 1117, f)\n",
    "        escrever_sentencas(i, '000001', 3643, 3885, f)\n",
    "        escrever_sentencas(i, '000002', 2567, 2617, f)\n",
    "        escrever_sentencas(i, '000004', 3639, 3936, f)\n",
    "        escrever_sentencas(i, '000005', 2043, 2276, f)\n",
    "        escrever_sentencas(i, '000006', 614, 878, f)\n",
    "        escrever_sentencas(i, '000008', 1643, 1850, f)\n",
    "        escrever_sentencas(i, '000009', 1403, 1703, f)\n",
    "        escrever_sentencas(i, '000010', 0, 211, f)\n",
    "        escrever_sentencas(i, '000010', 1437, 1529, f)\n",
    "        escrever_sentencas(i, '000011', 2477, 2548, f)"
   ]
  },
  {
   "cell_type": "code",
   "execution_count": 6,
   "id": "f7490d49-1855-481b-89d6-f1be71301bab",
   "metadata": {},
   "outputs": [],
   "source": [
    "# Separando sentenças para dataset de teste\n",
    "\n",
    "# Carregando corpora completo\n",
    "PetroNER = open(PetroNER_file, \"r\", encoding=\"utf-8\")\n",
    "PetroNER_sentences = parse_incr(PetroNER)\n",
    "\n",
    "#Abrindo arquivo teste\n",
    "with open('petroner-uri-teste.conllu', 'w', encoding=\"utf-8\") as f:\n",
    "    \n",
    "    for i in PetroNER_sentences:\n",
    "        escrever_sentencas(i, '000001', 0, 374, f)\n",
    "        escrever_sentencas(i, '000001', 3499, 3641, f)\n",
    "        escrever_sentencas(i, '000002', 1820, 2566, f)\n",
    "        escrever_sentencas(i, '000003', 2381, 2742, f)\n",
    "        escrever_sentencas(i, '000004', 2897, 3637, f)\n",
    "        escrever_sentencas(i, '000005', 1620, 2040, f)\n",
    "        escrever_sentencas(i, '000006', 0, 612, f)\n",
    "        escrever_sentencas(i, '000008', 1303, 1635, f)\n",
    "        escrever_sentencas(i, '000009', 1251, 1401, f)\n",
    "        escrever_sentencas(i, '000010', 1342, 1430, f)\n",
    "        escrever_sentencas(i, '000011', 2268, 2476, f)"
   ]
  },
  {
   "cell_type": "code",
   "execution_count": null,
   "id": "5e98b171-5031-4f2c-a0b4-5d2034e40b73",
   "metadata": {},
   "outputs": [],
   "source": []
  }
 ],
 "metadata": {
  "kernelspec": {
   "display_name": "Python 3 (ipykernel)",
   "language": "python",
   "name": "python3"
  },
  "language_info": {
   "codemirror_mode": {
    "name": "ipython",
    "version": 3
   },
   "file_extension": ".py",
   "mimetype": "text/x-python",
   "name": "python",
   "nbconvert_exporter": "python",
   "pygments_lexer": "ipython3",
   "version": "3.7.16"
  }
 },
 "nbformat": 4,
 "nbformat_minor": 5
}
