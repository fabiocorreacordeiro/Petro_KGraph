{
 "cells": [
  {
   "cell_type": "markdown",
   "id": "c9f8fca6-e871-4dd2-af72-991e932c7967",
   "metadata": {},
   "source": [
    "### Notebook para povoar a PetroKGraph ontology com as entidades e relações extraídas do PetroNER teste"
   ]
  },
  {
   "cell_type": "code",
   "execution_count": 1,
   "id": "3a21df2b-5218-4f29-84d8-6bd012c09851",
   "metadata": {},
   "outputs": [],
   "source": [
    "from owlready2 import *\n",
    "import json"
   ]
  },
  {
   "cell_type": "markdown",
   "id": "1d4c677a-b46a-4f01-b02e-bc7c616762dd",
   "metadata": {},
   "source": [
    "### Carregando listas com entidades e relações"
   ]
  },
  {
   "cell_type": "code",
   "execution_count": 2,
   "id": "0b26f958-8a16-4415-b954-2c607bccd1d2",
   "metadata": {},
   "outputs": [],
   "source": [
    "# Carregando entidades linkadas\n",
    "with open('Linked_entities', 'r') as f:\n",
    "    Linked_entities = json.load(f)\n",
    "\n",
    "# Carregando entidades novas\n",
    "with open('New_entities', 'r') as f:\n",
    "    New_entities = json.load(f)\n",
    "    \n",
    "# Carregando novas relações\n",
    "with open('New_relations', 'r') as f:\n",
    "    New_relations = json.load(f)"
   ]
  },
  {
   "cell_type": "markdown",
   "id": "a0c47b69-caab-48d2-ab76-498aca88e754",
   "metadata": {},
   "source": [
    "### Carregando PetroKGraph (ontologia povoada) e consultando a classe de cada entidade linkada"
   ]
  },
  {
   "cell_type": "code",
   "execution_count": 3,
   "id": "b68061aa-c853-42da-af59-1c0e30f19537",
   "metadata": {},
   "outputs": [],
   "source": [
    "#Carregando PetroKGraph (ontologia povoada)\n",
    "PetroKGraph_world = World()\n",
    "PetroKGraph = PetroKGraph_world.get_ontology(\"../../../KnowledgeGraph/OntoGeoLogicaInstanciasRelacoes.owl\").load()\n",
    "# PetroKGraph.load()"
   ]
  },
  {
   "cell_type": "code",
   "execution_count": 4,
   "id": "8e2328f0-efce-475c-babc-a2a3a8e54e3e",
   "metadata": {
    "scrolled": true,
    "tags": []
   },
   "outputs": [],
   "source": [
    "# lista com as Classes das entidades linkadas\n",
    "classes = []\n",
    "\n",
    "for ent in Linked_entities:\n",
    "    \n",
    "    classe = PetroKGraph[ent[1:]].is_a\n",
    "    classe_str = str(classe[0]).split('.')[1]\n",
    "    classes.append(classe_str)"
   ]
  },
  {
   "cell_type": "code",
   "execution_count": 5,
   "id": "f1cfcec1-60ed-4db6-a5d7-4bd9e6a415ca",
   "metadata": {},
   "outputs": [],
   "source": [
    "# Apagando da memória a ontologia povoada\n",
    "# PetroKGraph.destroy()"
   ]
  },
  {
   "cell_type": "markdown",
   "id": "6ea79429-e6db-4e6c-8ec7-5a17dedf4806",
   "metadata": {},
   "source": [
    "### Carregando ontologia não povoada"
   ]
  },
  {
   "cell_type": "code",
   "execution_count": 6,
   "id": "81f72a37-12bb-48b8-a808-cb1fc9433034",
   "metadata": {},
   "outputs": [
    {
     "data": {
      "text/plain": [
       "get_ontology(\"http://www.semanticweb.org/bg40/ontologies/2022/5/untitled-ontology-2#\")"
      ]
     },
     "execution_count": 6,
     "metadata": {},
     "output_type": "execute_result"
    }
   ],
   "source": [
    "#Carregando ontologias (não povoada)\n",
    "onto = get_ontology(\"../../../KnowledgeGraph/OntoGeoLogicaEntidadesNomeadas.owl\")\n",
    "onto.load()"
   ]
  },
  {
   "cell_type": "code",
   "execution_count": 7,
   "id": "eb64ee9d-a39d-4e88-94c6-98517962c7ff",
   "metadata": {
    "scrolled": true,
    "tags": []
   },
   "outputs": [],
   "source": [
    "# Povoando a ontologia com as entidades linkadas\n",
    "\n",
    "classes_w_instances = ['basin', 'field', 'geological_structure', 'well', 'textura', 'lithostratigraphic_unit']\n",
    "\n",
    "classes_w_sub_classes = ['rock', 'unconsolidated_earth_material', 'o&g_earth_fluid', 'earth_fluid', \n",
    "                         'anthropogenic_fluid', 'petroleum_system_events', 'petroleum_system_elements']\n",
    "\n",
    "crono = ['geological_age', 'geological_time_interval']\n",
    "\n",
    "for n in range(len(Linked_entities)):\n",
    "    # print (Linked_entities[n][1:], ' -- ', classes[n])\n",
    "    # Verificando se a entidade linkada não é uma classe que já está na ontologia\n",
    "    if Linked_entities[n][1:] not in classes_w_instances + classes_w_sub_classes + crono:\n",
    "        \n",
    "        # Povoando as classes com instâncias\n",
    "        if classes[n] in classes_w_instances:\n",
    "            with onto:\n",
    "                onto[classes[n]](Linked_entities[n][1:])\n",
    "\n",
    "        # Povoando as classes com subclasses\n",
    "        if classes[n] in classes_w_sub_classes:\n",
    "            with onto:\n",
    "                types.new_class(Linked_entities[n][1:], (onto[classes[n]],))\n",
    "                \n",
    "        if classes[n] in crono:\n",
    "            with onto:\n",
    "                types.new_class(Linked_entities[n][1:] + '_quality', (onto['geological_age'],))\n",
    "                onto['geological_time_interval'](Linked_entities[n][1:])"
   ]
  },
  {
   "cell_type": "markdown",
   "id": "653590b2-9593-4e00-850f-e8e0a4128620",
   "metadata": {},
   "source": [
    "### Povoar entidades novas  \n",
    "Como as URIs das entidades novas não possuem padronização, o script de entity link gera uma nova URI diferente da URI gerada no momento de anotação do PetroNER. Portanto, criamos um DExPARA de URIs para que seja realizada essa compatibilização. Também usamos esse DExPARA para ajustar URI's criadas automaticamente que não estão de acordo com a sintaxe do RDF."
   ]
  },
  {
   "cell_type": "code",
   "execution_count": 8,
   "id": "e22d4020-199d-41af-998e-de0dbd5a1ad3",
   "metadata": {},
   "outputs": [],
   "source": [
    "de_para_novas_URIs = {'#NEW_BACIA_Bacia_de_Paris': '#INTER_BACIA_012',\n",
    "                      '#NEW_BACIA_Bacia_de_o_Gabão': '#INTER_BACIA_017',\n",
    "                      '#NEW_BACIA_Bacia_Lusitânica': '#INTER_BACIA_003',\n",
    "                      '#NEW_UNIDADE_LITO_Formação_Vale_de_as_Fontes': '#inter_formacao_006',\n",
    "                      '#NEW_UNIDADE_LITO_Membro_Mcnb': '#inter_membro_003',\n",
    "                      '#NEW_UNIDADE_LITO_Formação_Cabo_Carvoeiro': '#inter_formacao_002',\n",
    "                      '#NEW_UNIDADE_CRONO_Pliensbaquiano_–': '#NEW_UNIDADE_CRONO_Pliensbaquiano'} # URI que gerou erro no RDF\n",
    "                      \n",
    "                      # '#NEW_ROCHA_calcilutitos': '#calcilutite',\n",
    "                      # '#NEW_UNIDADE_LITO_Formação_Lemede': '#inter_formacao_001',\n",
    "                      # }\n",
    "    \n",
    "    \n",
    "                    # '#NEW_BACIA_Tucano' : '#PetroNER_BACIA_Bacia_de_o_Tucano' ,\n",
    "                    #  '#NEW_UNIDADE_CRONO_Neoaptiano' : '#PetroNER_UNIDADE_CRONO_Neoaptiano' ,\n",
    "                    #  '#NEW_ROCHA_calcilutitos' : '#PetroNER_ROCHA_calcilutitos' ,\n",
    "                    #  '#NEW_UNIDADE_LITO_Membro_Oiteirinhos' : '#PetroNER_UNIDADE_LITO_Membro_Oiteirinhos' ,\n",
    "                    #  '#NEW_POÇO_poços_5_-_CPB_-_1A_-_SE' : '#PetroNER_POÇO_poços_5_-_CPB_-_1A_-_SE' ,\n",
    "                    #  '#NEW_FLUIDO_fluidos' : '#PetroNER_FLUIDO_fluidos' ,\n",
    "                    #  '#NEW_BACIA_Bacia_de_Paris' : '#PetroNER_BACIA_Bacia_de_Paris' ,\n",
    "                    #  '#NEW_BACIA_bacia' : '#PetroNER_BACIA_bacia' ,\n",
    "                    #  '#NEW_POÇO_Bu_-_91' : '#PetroNER_POÇO_Bu_-_91' ,\n",
    "                    #  '#NEW_POÇO_14_-_PC_-_06' : '#PetroNER_POÇO_14_-_PC_-_06' ,\n",
    "                    #  '#NEW_UNIDADE_CRONO_Sinemuriano' : '#PetroNER_UNIDADE_CRONO_Sinemuriano' ,\n",
    "                    #  '#NEW_UNIDADE_LITO_Formação_Afligidos' : '#PetroNER_UNIDADE_LITO_Formação_Afligidos' ,\n",
    "                    #  '#NEW_BACIA_Bacia_de_o_Gabão' : '#PetroNER_BACIA_Bacia_de_o_Gabão' ,\n",
    "                    #  '#NEW_UNIDADE_LITO_Formação_Maracangalha' : '#PetroNER_UNIDADE_LITO_Formação_Maracangalha' ,\n",
    "                    #  '#NEW_BACIA_bacia_de_Recife_-_João_Pessoa' : '#PetroNER_BACIA_bacia_de_Recife_-_João_Pessoa' ,\n",
    "                    #  '#NEW_UNIDADE_LITO_Membro_Pedrão' : '#PetroNER_UNIDADE_LITO_Membro_Pedrão' ,\n",
    "                    #  '#NEW_BACIA_Bacia_Lusitânica' : '#PetroNER_BACIA_Bacia_Lusitânica' ,\n",
    "                    #  '#NEW_UNIDADE_CRONO_Neotriássico' : '#PetroNER_UNIDADE_CRONO_Neotriássico' ,\n",
    "                    #  '#NEW_UNIDADE_CRONO_Toarciano_inferior' : '#PetroNER_UNIDADE_CRONO_Toarciano_inferior' ,\n",
    "                    #  '#NEW_UNIDADE_LITO_Formação_Vale_de_as_Fontes' : '#PetroNER_UNIDADE_LITO_Formação_Vale_de_as_Fontes' ,\n",
    "                    #  '#NEW_UNIDADE_LITO_Formação_Lemede' : '#PetroNER_UNIDADE_LITO_Formação_Lemede' ,\n",
    "                    #  '#NEW_UNIDADE_LITO_Membro_Mcnb' : '#PetroNER_UNIDADE_LITO_Membro_Mcnb' ,\n",
    "                    #  '#NEW_POÇO_poço_2_-_SBST_-_1_-_BA' : '#PetroNER_POÇO_poço_2_-_SBST_-_1_-_BA' ,\n",
    "                    #  '#NEW_ROCHA_dinocistos' : '#PetroNER_ROCHA_dinocistos'}\n"
   ]
  },
  {
   "cell_type": "code",
   "execution_count": 9,
   "id": "cb829921-64fa-4462-ba9f-db34fe387ace",
   "metadata": {},
   "outputs": [],
   "source": [
    "de_para_classes = {  'BACIA' :  'basin',\n",
    "                     'CAMPO' :  'field',\n",
    "                     'ESTRUTURA_FÍSICA' :  'geological_structure',\n",
    "                     'EVENTO_PETRO' :  'petroleum_system_events',\n",
    "                     'FLUIDO' :  'anthropogenic_fluid',\n",
    "                     'FLUIDODATERRA_i' :  'o&g_earth_fluid',\n",
    "                     'FLUIDODATERRA_o' :  'earth_fluid',\n",
    "                     'NÃOCONSOLID' :  'unconsolidated_earth_material',\n",
    "                     'POÇO' :  'well',\n",
    "                     'ROCHA' :  'rock',\n",
    "                     'TEXTURA' :  'textura',\n",
    "                     'UNIDADE_CRONO' :  'geological_age',\n",
    "                     'UNIDADE_LITO' :  'lithostratigraphic_unit',\n",
    "                     'ELEMENTO_PETRO' :  'petroleum_system_elements'}\n"
   ]
  },
  {
   "cell_type": "code",
   "execution_count": 10,
   "id": "aca5581a-aba9-4848-976e-fbbddd94f7dc",
   "metadata": {},
   "outputs": [],
   "source": [
    "# Iterando por cada entidade nova\n",
    "for key in New_entities.keys():\n",
    "    \n",
    "    #Verificando se a URI está no DE x PARA de URIs\n",
    "    try:\n",
    "        uri = de_para_novas_URIs[New_entities[key]['URI']][1:]\n",
    "    except:\n",
    "        uri = New_entities[key]['URI'][1:]\n",
    "                                 \n",
    "    \n",
    "    classe_n = de_para_classes[New_entities[key]['classe']]\n",
    "    \n",
    "    # Povoando as classes com instâncias\n",
    "    if classe_n in classes_w_instances:\n",
    "        with onto:\n",
    "            onto[classe_n](uri)\n",
    "\n",
    "    # Povoando as classes com subclasses\n",
    "    if classe_n in classes_w_sub_classes:\n",
    "        with onto:\n",
    "            types.new_class(uri, (onto[classe_n],))\n",
    "\n",
    "    if classe_n in crono:\n",
    "        with onto:\n",
    "            types.new_class(uri + '_quality', (onto['geological_age'],))\n",
    "            onto['geological_time_interval'](uri)\n"
   ]
  },
  {
   "cell_type": "markdown",
   "id": "b0ae5d54-bba8-43e2-ad7b-8af82f810023",
   "metadata": {},
   "source": [
    "### Povoar relações"
   ]
  },
  {
   "cell_type": "code",
   "execution_count": 11,
   "id": "ec779dbe-fe36-4888-bc5e-c13b4746607f",
   "metadata": {
    "scrolled": true,
    "tags": []
   },
   "outputs": [],
   "source": [
    "# Verificar se a URI presente na lista de relações tem que ser substituida por outra URI da lista DE x PARA.\n",
    "\n",
    "new_list = []\n",
    "# Iterando por todas as relações\n",
    "for rel in New_relations:\n",
    "    ent_1 = None\n",
    "    ent_2 = None\n",
    "    #checando lista DExPARA da entidade 1\n",
    "    try:\n",
    "        ent_1 = de_para_novas_URIs[rel[0]][1:]\n",
    "    except:\n",
    "        ent_1 = rel[0][1:]\n",
    "        \n",
    "    try:\n",
    "        ent_2 = de_para_novas_URIs[rel[2]][1:]\n",
    "    except:\n",
    "        ent_2 = rel[2][1:]\n",
    "    \n",
    "    # Algumas relações preditas podem não ser permitida na ontologia, o que acarreta erro. \n",
    "    # Nesse caso, a relação não será incluida no grafo. (Incluir alguma checagem no script de predição de relações)\n",
    "    try:\n",
    "        if rel[1] == 'constituted_by':\n",
    "            onto[ent_1].constituted_by.append(onto[ent_2])\n",
    "\n",
    "        if rel[1] == 'crosses':\n",
    "            onto[ent_1].crosses.append(onto[ent_2])\n",
    "\n",
    "        if rel[1] == 'has_age':\n",
    "            # Criando a instância \"idade geológica da unidade lito\"\n",
    "            onto[ent_2 + '_quality'](ent_2 + '_quality_' + ent_1)\n",
    "\n",
    "            # Criando a relação entra a unidade lito e instância \"idade geológica da unidade lito\"\n",
    "            onto[ent_1].has_age.append(onto[ent_2 + '_quality_' + ent_1])\n",
    "\n",
    "            # Adicionando a relação partipates_in entre a qualidade Geological age e o Geological Time interval\n",
    "\n",
    "            onto[ent_2 + '_quality_' + ent_1].participates_in.append(onto[ent_2])\n",
    "\n",
    "        if rel[1] == 'participates_in':\n",
    "             onto[ent_1].participates_in.append(onto[ent_2])\n",
    "                \n",
    "        if rel[1] == 'located_in':\n",
    "             onto[ent_1].located_in.append(onto[ent_2])\n",
    "\n",
    "        if rel[1] == 'part_of':\n",
    "             onto[ent_1].part_of.append(onto[ent_2])\n",
    "\n",
    "        if rel[1] == 'carrier_of':\n",
    "             onto[ent_1].carrier_of.append(onto[ent_2])\n",
    "\n",
    "        if rel[1] == 'generated_by':\n",
    "             onto[ent_1].generated_by.append(onto[ent_2])\n",
    "\n",
    "        if rel[1] == 'has_temporal_relation':\n",
    "            onto[ent_1].has_temporal_relation.append(onto[ent_2])\n",
    "    except:\n",
    "        pass"
   ]
  },
  {
   "cell_type": "markdown",
   "id": "903663c0-02d5-48cf-8be6-caed15a65752",
   "metadata": {},
   "source": [
    "### Salvar grafo"
   ]
  },
  {
   "cell_type": "code",
   "execution_count": 12,
   "id": "02aaee7c-0a91-4d32-b3a6-fa80d47d6ac1",
   "metadata": {},
   "outputs": [],
   "source": [
    "onto.save(file = 'PetroKGraph_pred')"
   ]
  },
  {
   "cell_type": "code",
   "execution_count": null,
   "id": "e0fa5b5e-9e51-4799-bdfb-758a271f793b",
   "metadata": {},
   "outputs": [],
   "source": []
  }
 ],
 "metadata": {
  "kernelspec": {
   "display_name": "Python 3.6",
   "language": "python",
   "name": "python3"
  },
  "language_info": {
   "codemirror_mode": {
    "name": "ipython",
    "version": 3
   },
   "file_extension": ".py",
   "mimetype": "text/x-python",
   "name": "python",
   "nbconvert_exporter": "python",
   "pygments_lexer": "ipython3",
   "version": "3.6.8"
  }
 },
 "nbformat": 4,
 "nbformat_minor": 5
}
