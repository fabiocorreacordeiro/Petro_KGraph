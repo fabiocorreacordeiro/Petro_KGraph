{
 "cells": [
  {
   "cell_type": "code",
   "execution_count": 1,
   "id": "c5392406-540c-4768-82d6-8c4e96d12a80",
   "metadata": {},
   "outputs": [
    {
     "name": "stderr",
     "output_type": "stream",
     "text": [
      "* Owlready2 * Warning: optimized Cython parser module 'owlready2_optimized' is not available, defaulting to slower Python implementation\n"
     ]
    }
   ],
   "source": [
    "import numpy as np\n",
    "import random\n",
    "import gensim\n",
    "import pandas as pd\n",
    "from owlready2 import *"
   ]
  },
  {
   "cell_type": "markdown",
   "id": "4247118c-963b-42fd-af23-c060d1090251",
   "metadata": {},
   "source": [
    "Load ontology and embeddings"
   ]
  },
  {
   "cell_type": "code",
   "execution_count": 2,
   "id": "ced4ddb7-7efb-4943-88f3-61375dc6ae5b",
   "metadata": {},
   "outputs": [
    {
     "data": {
      "text/plain": [
       "get_ontology(\"http://www.semanticweb.org/bg40/ontologies/2022/5/untitled-ontology-2#\")"
      ]
     },
     "execution_count": 2,
     "metadata": {},
     "output_type": "execute_result"
    }
   ],
   "source": [
    "#OntoGeoLógica populada (OntoGeoLogicaPopulada.owl)\n",
    "onto = get_ontology(\"../../KnowledgeGraph/OntoGeoLogicaInstanciasRelacoes.owl\")\n",
    "onto.load()"
   ]
  },
  {
   "cell_type": "code",
   "execution_count": 5,
   "id": "2b83a703-656e-4384-9142-2e18a79e7a65",
   "metadata": {},
   "outputs": [],
   "source": [
    "# Modelo OWL2Vec - \n",
    "PetroOntoVec = gensim.models.Word2Vec.load(\"../../Embeddings/PetroOntoVec/Base/outputontology.embeddings\")"
   ]
  },
  {
   "cell_type": "markdown",
   "id": "c1c0a49d-85b6-4ec4-9829-2c9995fe578f",
   "metadata": {},
   "source": [
    "### Carregando dataset"
   ]
  },
  {
   "cell_type": "code",
   "execution_count": 6,
   "id": "af296cc0-bd22-412a-b5c5-3123f0e24343",
   "metadata": {},
   "outputs": [],
   "source": [
    "# Listas de treino\n",
    "text_treino = np.load('../PetroNER-LinkedEntity/treino - sentences.npy')\n",
    "entities_treino = np.load('../PetroNER-LinkedEntity/treino - entities.npy')\n",
    "classes_treino = np.load('../PetroNER-LinkedEntity/treino - classes.npy')\n",
    "URI_treino = np.load('../PetroNER-LinkedEntity/treino - URI.npy', allow_pickle=True)\n",
    "#URIvec_treino = np.load('../../Corpora/PetroNER-LinkedEntity/treino - URI_vectors.npy')\n",
    "\n",
    "# Listas de validação\n",
    "text_valid = np.load('../PetroNER-LinkedEntity/valid - sentences.npy')\n",
    "entities_valid = np.load('../PetroNER-LinkedEntity/valid - entities.npy')\n",
    "classes_valid = np.load('../PetroNER-LinkedEntity/valid - classes.npy')\n",
    "URI_valid = np.load('../PetroNER-LinkedEntity/valid - URI.npy', allow_pickle=True)\n",
    "#URIvec_valid = np.load('../../Corpora/PetroNER-LinkedEntity/valid - URI_vectors.npy')\n",
    "\n",
    "# Listas de teste\n",
    "text_teste = np.load('../PetroNER-LinkedEntity/teste - sentences.npy')\n",
    "entities_teste = np.load('../PetroNER-LinkedEntity/teste - entities.npy')\n",
    "classes_teste = np.load('../PetroNER-LinkedEntity/teste - classes.npy')\n",
    "URI_teste = np.load('../PetroNER-LinkedEntity/teste - URI.npy', allow_pickle=True)\n",
    "#URIvec_teste = np.load('../../Corpora/PetroNER-LinkedEntity/teste - URI_vectors.npy')"
   ]
  },
  {
   "cell_type": "code",
   "execution_count": 7,
   "id": "a87f85bf-ef71-40be-8e8f-c8cb0744cb4e",
   "metadata": {},
   "outputs": [
    {
     "name": "stdout",
     "output_type": "stream",
     "text": [
      "Treino\n",
      "Texto:  14171\n",
      "Entidades:  14171\n",
      "Classes:  14171\n",
      "URI:  14171\n",
      "\n",
      " Validação\n",
      "Texto:  1775\n",
      "Entidades:  1775\n",
      "Classes:  1775\n",
      "URI:  1775\n",
      "\n",
      " Teste\n",
      "Texto:  3191\n",
      "Entidades:  3191\n",
      "Classes:  3191\n",
      "URI:  3191\n"
     ]
    }
   ],
   "source": [
    "print ('Treino')\n",
    "print('Texto: ', len(text_treino))\n",
    "print('Entidades: ', len(entities_treino))\n",
    "print('Classes: ', len(classes_treino))\n",
    "print('URI: ', len(URI_treino))\n",
    "#print('URIvec: :', len(URIvec_treino))\n",
    "\n",
    "print ('\\n Validação')\n",
    "print('Texto: ', len(text_valid))\n",
    "print('Entidades: ', len(entities_valid))\n",
    "print('Classes: ', len(classes_valid))\n",
    "print('URI: ', len(URI_valid))\n",
    "#print('URIvec: :', len(URIvec_valid))\n",
    "\n",
    "print ('\\n Teste')\n",
    "print('Texto: ', len(text_teste))\n",
    "print('Entidades: ', len(entities_teste))\n",
    "print('Classes: ', len(classes_teste))\n",
    "print('URI: ', len(URI_teste))\n",
    "#print('URIvec: :', len(URIvec_teste))"
   ]
  },
  {
   "cell_type": "markdown",
   "id": "63f72b9b-e81f-43fd-b5f1-c2727fdae9a9",
   "metadata": {},
   "source": [
    "### Buscando vetores do PetroOntoVec para cada URI"
   ]
  },
  {
   "cell_type": "code",
   "execution_count": 8,
   "id": "85695dc5-db5f-4fd0-bc22-09c38f133e7c",
   "metadata": {},
   "outputs": [],
   "source": [
    "def buscando_URI_vec(text, entities, classes_NER, ENT_URI):\n",
    "\n",
    "    # Separando as listas de sentenças, entidades, classes, URI e vetores\n",
    "    text_new = []\n",
    "    entities_new = []\n",
    "    classes_NER_new = [] \n",
    "    ENT_URI_new = []\n",
    "    URI_Vec_new = []\n",
    "\n",
    "    URI_ausente_Onto = []\n",
    "\n",
    "    n = 0 \n",
    "    #m = 0\n",
    "    #Iterando por todas as sentenças, desconsiderando aquelas cujas entidades não possuem URI\n",
    "    for i in range(len(text)):\n",
    "        n = n + 1\n",
    "        if ENT_URI[i] != None:\n",
    "            # Quebrando as entidades que possuem mais de um URI (ex: \"#Aptian,#Miocene\" e \"#Cenozoic,#Mesozoic\")\n",
    "            ENT_URI_n = ENT_URI[i].split(',#')\n",
    "\n",
    "            # Iterando pelas ENT_URI após serem quebradas e acrescentando '#\" naquelas que perderam na operação de split \n",
    "            for ent in ENT_URI_n:\n",
    "                if ent[0] != '#':\n",
    "                    ent = '#' + ent\n",
    "                try:\n",
    "                    #Acrescentar a URI da entidade e o vetor da URI nas listas\n",
    "                    URI_Vec_new.append(PetroOntoVec['http://www.semanticweb.org/bg40/ontologies/2022/5/untitled-ontology-2' + ent])\n",
    "                    ENT_URI_new.append(ent)\n",
    "\n",
    "                    # O texto, a entidade no texto e a classe são repetidas quando existem multiplas URI para uma mesma entidade\n",
    "                    text_new.append(text[i])\n",
    "                    entities_new.append(entities[i])\n",
    "                    classes_NER_new.append(classes_NER[i])\n",
    "                except:\n",
    "                    #print(\"URI presente no arquivo CONLLU mas ausente na Ontologia: \", ent)\n",
    "                    URI_ausente_Onto.append(ent)\n",
    "\n",
    "    # Transformando as listas em Numpy array\n",
    "    text = np.array(text_new)\n",
    "    entities = np.array(entities_new)\n",
    "    classes_NER = np.array(classes_NER_new) \n",
    "    ENT_URI = np.array(ENT_URI_new)\n",
    "    URI_Vec = np.array(URI_Vec_new)\n",
    "    URI_ausente_Onto = np.array(URI_ausente_Onto)\n",
    "\n",
    "    print('Total de sentenças anotadas: ', n)\n",
    "    print('N° de sentenças: ', len(text))\n",
    "    print ('N° de entidades: ', len(entities))\n",
    "    print('N° de classes: ', len(classes_NER))\n",
    "    print('N° de entidades_ID: ', len(ENT_URI))       \n",
    "    print('N° de vetores de URI: ', len(URI_Vec))       \n",
    "    \n",
    "    return(text, entities, classes_NER, ENT_URI, URI_Vec, URI_ausente_Onto)"
   ]
  },
  {
   "cell_type": "code",
   "execution_count": 9,
   "id": "863b7d63-2a58-4de4-959b-c4b491f916f7",
   "metadata": {},
   "outputs": [
    {
     "name": "stderr",
     "output_type": "stream",
     "text": [
      "C:\\ProgramData\\Anaconda3\\envs\\Petro_KGraph\\lib\\site-packages\\ipykernel_launcher.py:27: DeprecationWarning: Call to deprecated `__getitem__` (Method will be removed in 4.0.0, use self.wv.__getitem__() instead).\n"
     ]
    },
    {
     "name": "stdout",
     "output_type": "stream",
     "text": [
      "Total de sentenças anotadas:  14171\n",
      "N° de sentenças:  13465\n",
      "N° de entidades:  13465\n",
      "N° de classes:  13465\n",
      "N° de entidades_ID:  13465\n",
      "N° de vetores de URI:  13465\n",
      "Total de sentenças anotadas:  1775\n",
      "N° de sentenças:  1690\n",
      "N° de entidades:  1690\n",
      "N° de classes:  1690\n",
      "N° de entidades_ID:  1690\n",
      "N° de vetores de URI:  1690\n",
      "Total de sentenças anotadas:  3191\n",
      "N° de sentenças:  2997\n",
      "N° de entidades:  2997\n",
      "N° de classes:  2997\n",
      "N° de entidades_ID:  2997\n",
      "N° de vetores de URI:  2997\n"
     ]
    }
   ],
   "source": [
    "#Treino\n",
    "(text_treino,\n",
    " entities_treino,\n",
    " classes_treino,\n",
    " URI_treino,\n",
    " URIvec_treino,\n",
    " URI_ausente_Onto_treino) = buscando_URI_vec(text_treino,\n",
    "                                             entities_treino,\n",
    "                                             classes_treino,\n",
    "                                             URI_treino)\n",
    "\n",
    "#Validação\n",
    "(text_valid,\n",
    " entities_valid,\n",
    " classes_valid,\n",
    " URI_valid,\n",
    " URIvec_valid,\n",
    " URI_ausente_Onto_valid) = buscando_URI_vec(text_valid,\n",
    "                                            entities_valid,\n",
    "                                            classes_valid,\n",
    "                                            URI_valid)\n",
    "\n",
    "#Teste\n",
    "(text_teste,\n",
    " entities_teste,\n",
    " classes_teste,\n",
    " URI_teste,\n",
    " URIvec_teste,\n",
    " URI_ausente_Onto_teste) = buscando_URI_vec(text_teste,\n",
    "                                            entities_teste,\n",
    "                                            classes_teste,\n",
    "                                            URI_teste)"
   ]
  },
  {
   "cell_type": "code",
   "execution_count": 10,
   "id": "1c38ac84-4d11-4a31-a3d3-6320396e60c6",
   "metadata": {},
   "outputs": [
    {
     "name": "stdout",
     "output_type": "stream",
     "text": [
      "URI no PetroNER_Treino ausentes da ontologia: \n",
      "{'#externo_membro_001', '#externo_grupo_004', '#inter_formacao_024', '#discovery_well', '#INTER_BACIA_017', '#inter_formacao_020', '#inter_membro_008', '#inter_formacao_023', '#EXTERNO_EST_FISICA_ROCHA_005', '#wildcat_well', '#externo_textura_002', '#explotatory_well', '#geochronologic_age', '#grupo_05', '#INTER_BACIA_005', '#INTER_BACIA_004', '#INTER_BACIA_024', '#subcommercial_well', '#appraisal_well', '#INTER_BACIA_007', '#INTER_BACIA_025', '#externo_formacao_003', '#generic_earth_fluid', '#inter_formacao_021', '#porosidade_05', '#INTER_BACIA_010', '#INTER_BACIA_018', '#calcilutite', '#inter_formacao_017', '#INTER_BACIA_011', '#Permiano', '#supergrupo_001', '#INTER_BACIA_016', '#inter_membro_012', '#production_well', '#EXTERNO_EST_FISICA_ROCHA_007', '#deeper_prospect_well', '#inter_membro_010', '#externo_textura_008', '#externo_textura_004', '#EXTERNO_EST_FISICA_ROCHA_002', '#INTER_BACIA_023', '#porosidade_24', '#externo_textura_007', '#externo_formacao_004', '#formation_fluid', '#INTER_BACIA_020', '#externo_grupo_003', '#Neo-Alagoas_Subage', '#INTER_BACIA_009', '#inter_formacao_027', '#INTER_BACIA_006', '#INTER_BACIA_013', '#EXTERNO_EST_FISICA_ROCHA_004', '#porosidade_21', '#dry_hole', '#INTER_BACIA_021', '#special_well', '#externo_grupo_002', '#porosidade_22', '#INTER_BACIA_022', '#inter_formacao_018', '#INTER_CAMPO_0001', '#INTER_BACIA_014', '#INTER_BACIA_015', '#inter_membro_009', '#EXTERNO_EST_FISICA_ROCHA_003', '#inter_membro_013', '#formation', '#INTER_BACIA_019', '#EXTERNO_EST_FISICA_ROCHA_001', '#Rio_da_serra_Age', '#INTER_BACIA_008', '#EXTERNO_EST_FISICA_ROCHA_006', '#inter_membro_011', '#inter_grupo_001', '#externo_textura_006', '#externo_grupo_005', '#externo_formacao_001', '#shallower_prospect_well', '#stratigraphic_well', '#CAMP_CD_CAMPO_0817', '#INTER_BACIA_026', '#inter_formacao_028', '#externo_textura_005', '#generic_anthropogenic_fluid', '#inter_grupo_002', '#inter_formacao_019', '#INTER_BACIA_003'}\n",
      "\n",
      "URI no PetroNER_Validação ausentes da ontologia: \n",
      "{'#Lampasan_Age', '#porosidade_10', '#calcilutite', '#EXTERNO_EST_FISICA_ROCHA_003', '#Permiano', '#formation', '#wildcat_well', '#Bendian_Age', '#EXTERNO_EST_FISICA_ROCHA_004', '#EXTERNO_EST_FISICA_ROCHA_007', '#porosidade_21', '#externo_textura_006', '#inter_formacao_022', '#INTER_BACIA_001', '#dry_hole', '#inter_formacao_015', '#externo_textura_001', '#INTER_CAMPO_0002', '#externo_textura_005', '#inter_formacao_016', '#generic_anthropogenic_fluid', '#porosidade_18', '#INTER_CAMPO_003', '#generic_earth_fluid', '#Lampasan_age', '#INTER_CAMPO_0001', '#porosidade_05'}\n",
      "\n",
      "URI no PetroNER_Teste ausentes da ontologia: \n",
      "{'#inter_formacao_001', '#inter_formacao_005', '#inter_membro_002', '#inter_membro_005', '#calcilutite', '#INTER_BACIA_017', '#inter_formacao_007', '#inter_formacao_010', '#inter_formacao_003', '#geochronologic_epoch', '#inter_membro_004', '#formation', '#INTER_BACIA_006', '#Rio_da_serra_Age', '#inter_formacao_002', '#INTER_BACIA_016', '#inter_formacao_012', '#production_well', '#Mesoriodaserra_Age', '#inter_membro_003', '#grupo_05', '#EXTERNO_EST_FISICA_ROCHA_007', '#EXTERNO_EST_FISICA_ROCHA_004', '#inter_formacao_013', '#inter_formacao_004', '#INTER_BACIA_012', '#inter_formacao_026', '#inter_formacao_006', '#inter_formacao_008', '#inter_formacao_011', '#INTER_BACIA_002', '#inter_membro_006', '#inter_formacao_025', '#generic_anthropogenic_fluid', '#CAMPO_GENERICO', '#generic_earth_fluid', '#inter_formacao_014', '#inter_membro_001', '#inter_formacao_009', '#inter_formacao_021', '#inter_membro_007', '#INTER_BACIA_015', '#INTER_BACIA_003', '#Eoriodaserra_Age'}\n"
     ]
    }
   ],
   "source": [
    "print('URI no PetroNER_Treino ausentes da ontologia: ')\n",
    "print(set(URI_ausente_Onto_treino))\n",
    "print('')\n",
    "print('URI no PetroNER_Validação ausentes da ontologia: ')\n",
    "print(set(URI_ausente_Onto_valid))\n",
    "print('')\n",
    "print('URI no PetroNER_Teste ausentes da ontologia: ')\n",
    "print(set(URI_ausente_Onto_teste))"
   ]
  },
  {
   "cell_type": "markdown",
   "id": "9221b7ef-55fd-4a7e-8c9f-98346bceb0d4",
   "metadata": {},
   "source": [
    "### Preparando dataset para treinar rede Siamesa"
   ]
  },
  {
   "cell_type": "code",
   "execution_count": 11,
   "id": "ba642040-def9-43b9-b05f-a87dda6c64d1",
   "metadata": {},
   "outputs": [],
   "source": [
    "#Dataframe com as URI, sentenças e classes\n",
    "\n",
    "def dataset_siamesa(classes, URI, URIvec, text, x_easy, x_hard):\n",
    "       \n",
    "    df = pd.DataFrame({'Classe': classes, 'URI': URI, 'Sentença': text}) #, 'URIvec': URIvec})\n",
    "    \n",
    "    # Arrays para armazenar as sentenças âncoras, positivas e negativas \n",
    "    URI_anchor = np.array([])\n",
    "    URIvec_anchor = np.array([])\n",
    "    dataset_anchor = np.array([])\n",
    "    dataset_positive = np.array([])\n",
    "    dataset_negative = np.array([])\n",
    "\n",
    "    #Quantidade de exemplos negativos fáceis e difíceis\n",
    "    #x_easy = 20\n",
    "    #x_hard = 30\n",
    "\n",
    "    # iterando por todas as URI\n",
    "    for i in set(URI):\n",
    "\n",
    "        try:\n",
    "            \n",
    "            # Subgrupo apenas com a URI selecionada\n",
    "            df_URI = df[df['URI'] == i]\n",
    "\n",
    "            # Classe da URI selecionada\n",
    "            classe_da_URI = df_URI['Classe'].values[0]\n",
    "            # Vetor da URI selecionada\n",
    "            vetor_da_URI = URIvec[df_URI.index[0]]\n",
    "            # Subgrupo com sentenças negativa 'fácil' (URI diferente e classe diferente).\n",
    "            df_negative_easy = df[(df['URI'] != i) & (df['Classe'] != classe_da_URI)]\n",
    "            # Subgrupo com sentenças negativa 'difícil' (URI diferente mas da mesma classe).\n",
    "            df_negative_hard = df[(df['URI'] != i) & (df['Classe'] == classe_da_URI)]\n",
    "\n",
    "            # Pular os casos onde só existe uma sentença para a URI selecionada\n",
    "            if (len(df_URI) > 1) & (len(df_negative_easy) > 1) & (len(df_negative_hard) > 1):\n",
    "\n",
    "                ### Construindo triplets com exemplos negativos fáceis\n",
    "\n",
    "                # Selecionando as sentenças âncoras \n",
    "                # (verificamos o número de combinações possíveis entre sentenças com mesma URI \"len(df_URI)*(len(df_URI) - 1)\".\n",
    "                #  Se X_easy for maior que esse valor, amostramos apenas essa quantidade de amostras.\n",
    "                df_ancora = df_URI.sample(min(len(df_URI)*(len(df_URI) - 1) , x_easy), replace=True)\n",
    "\n",
    "                # itera pelas senteças âncoras\n",
    "                for row in df_ancora.iterrows():\n",
    "\n",
    "                    anchor = row[1]['Sentença']\n",
    "                    # Seleciona uma exemplo positivo diferente da sentença âncora\n",
    "                    positive = df_URI[df_URI['Sentença'] != anchor].sample(1)['Sentença'].values[0]\n",
    "\n",
    "                    # Seleciona uma sentença negativa\n",
    "                    negative_easy = df_negative_easy.sample(1)['Sentença'].values[0]\n",
    "\n",
    "                    # Concatena com as arrays que armazenam as senteças e URI\n",
    "                    URI_anchor = np.concatenate((URI_anchor, np.array([np.str_(i)])), axis=0)\n",
    "                    URIvec_anchor = np.concatenate((URIvec_anchor, vetor_da_URI), axis=0)\n",
    "                    dataset_anchor = np.concatenate((dataset_anchor, np.array([anchor])), axis=0)\n",
    "                    #dataset_anchor  = np.concatenate((dataset_anchor, anchor), axis=0)\n",
    "                    dataset_positive = np.concatenate((dataset_positive, np.array([positive])), axis=0)\n",
    "                    dataset_negative = np.concatenate((dataset_negative, np.array([negative_easy])), axis=0)\n",
    "\n",
    "                ### Construindo triplets com exemplos negativos difíceis\n",
    "\n",
    "                # Selecionando as sentenças âncoras \n",
    "                # (verificamos o número de combinações possíveis entre sentenças com mesma URI \"len(df_URI)*(len(df_URI) - 1)\".\n",
    "                #  Se X_hard for maior que esse valor, amostramos apenas essa quantidade de amostras.\n",
    "                \n",
    "                df_ancora = df_URI.sample(min(len(df_URI)*(len(df_URI) - 1), x_hard), replace=True)\n",
    "\n",
    "                # itera pelas senteças âncoras\n",
    "                for row in df_ancora.iterrows():\n",
    "                    anchor = row[1]['Sentença']\n",
    "\n",
    "                    # Seleciona uma exemplo positivo diferente da sentença âncora\n",
    "                    positive = df_URI[df_URI['Sentença'] != anchor].sample(1)['Sentença'].values[0]\n",
    "\n",
    "                    # Seleciona uma sentença negativa\n",
    "                    negative_hard = df_negative_hard.sample(1)['Sentença'].values[0]\n",
    "\n",
    "                    # Concatena com as arrays que armazenam as senteças\n",
    "                    URI_anchor = np.concatenate((URI_anchor, np.array([np.str_(i)])), axis=1)\n",
    "                    URIvec_anchor = np.concatenate((URIvec_anchor, vetor_da_URI), axis=0)\n",
    "                    dataset_anchor  = np.concatenate((dataset_anchor, np.array([anchor])), axis=0)\n",
    "                    #dataset_anchor  = np.concatenate((dataset_anchor, anchor), axis=0)\n",
    "                    dataset_positive  = np.concatenate((dataset_positive, np.array([positive])), axis=0)\n",
    "                    dataset_negative  = np.concatenate((dataset_negative, np.array([negative_hard])), axis=0)\n",
    "\n",
    "        except:\n",
    "            pass\n",
    "    \n",
    "    #Ajustando o formato da array URIvec_anchor\n",
    "    URIvec_anchor = np.reshape(URIvec_anchor, (-1, len(URIvec[0])))\n",
    "    \n",
    "    return(URI_anchor, URIvec_anchor, dataset_anchor, dataset_positive, dataset_negative)"
   ]
  },
  {
   "cell_type": "code",
   "execution_count": 12,
   "id": "4e57fee6-b02e-4af5-b7c1-ac17f3cff98b",
   "metadata": {
    "tags": []
   },
   "outputs": [],
   "source": [
    "(URI_anchor_treino,\n",
    " URIvec_anchor_treino,\n",
    " dataset_anchor_treino,\n",
    " dataset_positive_treino,\n",
    " dataset_negative_treino) = dataset_siamesa(classes_treino,\n",
    "                                            URI_treino,\n",
    "                                            URIvec_treino,\n",
    "                                            text_treino, 50, 50)\n",
    "\n",
    "(URI_anchor_valid, \n",
    " URIvec_anchor_valid,\n",
    " dataset_anchor_valid,\n",
    " dataset_positive_valid,\n",
    " dataset_negative_valid) = dataset_siamesa(classes_valid,\n",
    "                                           URI_valid,\n",
    "                                           URIvec_valid,\n",
    "                                           text_valid, 50, 50)\n",
    "\n",
    "(URI_anchor_teste,\n",
    " URIvec_anchor_teste,\n",
    " dataset_anchor_teste,\n",
    " dataset_positive_teste,\n",
    " dataset_negative_teste) = dataset_siamesa(classes_teste,\n",
    "                                           URI_teste,\n",
    "                                           URIvec_teste,   \n",
    "                                           text_teste, 50, 50)"
   ]
  },
  {
   "cell_type": "code",
   "execution_count": 13,
   "id": "73d04755-6eb6-46d9-ac39-d1374864e15a",
   "metadata": {},
   "outputs": [
    {
     "name": "stdout",
     "output_type": "stream",
     "text": [
      "Dataset treino:  12448\n",
      "Dataset validação:  3282\n",
      "Dataset teste:  4948\n"
     ]
    }
   ],
   "source": [
    "print('Dataset treino: ', len(URI_anchor_treino))\n",
    "print('Dataset validação: ', len(dataset_anchor_valid))\n",
    "print('Dataset teste: ', len(dataset_anchor_teste))"
   ]
  },
  {
   "cell_type": "code",
   "execution_count": 14,
   "id": "b6d7c4b4-5a02-4185-9d8b-825b1d771485",
   "metadata": {},
   "outputs": [
    {
     "name": "stdout",
     "output_type": "stream",
     "text": [
      "[ BACIA ] bacias de Pelotas | Entretanto, para as [ E ] bacias de Pelotas [ / E ], Santos, Campos e Espírito Santo, onde o arcabouço bioestratigráfico é incom-pleto ou ainda desconhecido, outros métodos de correlação são necessários..\n",
      "[ BACIA ] Bacia de Pelotas | ______.; SAD, A. R. E.; FONTANA, R. L.; FEIJÓ, F. J. [ E ] Bacia de Pelotas [ / E ]..\n",
      "[ UNIDADE_LITO ] Formação Sergi | Assim, realizou-se uma análise de regressão linear multivariada, em que se considerou o fator de recuperação dos sete campos da tabela Il como variável dependente e os teores médios de calcita mesodiagenética e argilas infiltradas tos produtos diagenéticos mais importantes da [ E ] Formação Sergi [ / E ]) como variáveis independentes..\n",
      "#BASE_CD_BACIA_381\n",
      "[ 0.78730685  0.5302344   0.16355565 -0.87941557 -0.21656331  1.76277339\n",
      " -0.24070005 -0.13697307  0.44632414 -0.20000705  0.02033173 -1.06422639\n",
      "  0.41752267  0.9336313   0.63865304 -0.62476462  1.627563    0.80565977\n",
      " -1.72362149  1.03029931 -0.61550021  1.32143641 -1.32458782  1.31729507\n",
      "  0.54293478 -0.18989405  1.93226182  0.5765568  -0.57821906  1.11132026\n",
      " -0.87323368  0.21427624 -0.70283091 -0.54135513 -0.80655795  0.77563417\n",
      " -0.17578703  0.14001909 -0.67140132  0.12870345  0.99981749  0.73090422\n",
      "  0.69402617  0.73574215  0.03283908 -0.33423465  0.17663378 -1.85656917\n",
      " -0.93440652  0.50071424 -0.58350754 -0.23324651  1.09130955  1.26394498\n",
      "  0.05696694  0.0431104   0.27840826 -0.08939526  0.96865636  0.80986166\n",
      " -0.95333606  0.39611608  0.49032325 -0.59099066  0.20477773  2.05682611\n",
      "  0.26560104  1.78628933  0.1480312   1.43079054 -0.70101213  0.77488184\n",
      "  0.18588248 -0.0478621  -0.63931179  1.19803548 -0.01215583  1.04186273\n",
      " -0.73553795 -0.33061484 -1.07407188  0.16024752  0.79475313 -0.41615197\n",
      "  0.40417343 -0.8843044  -1.09434569 -0.61653304 -0.41380045  0.90052283\n",
      "  0.72402209  0.59776181  0.48404637  0.39078376  0.2047956  -0.45397669\n",
      " -0.8670361   0.07986838 -1.17938983  0.2776998 ]\n"
     ]
    }
   ],
   "source": [
    "n = 51\n",
    "\n",
    "print(dataset_anchor_treino[n])\n",
    "print(dataset_positive_treino[n])\n",
    "print(dataset_negative_treino[n])\n",
    "print(URI_anchor_treino[n])\n",
    "print(URIvec_anchor_treino[n])"
   ]
  },
  {
   "cell_type": "markdown",
   "id": "1a2b1136-76a6-46ea-934c-4ab5b85d46ea",
   "metadata": {},
   "source": [
    "### Salvando dataset\n"
   ]
  },
  {
   "cell_type": "code",
   "execution_count": 15,
   "id": "fa474a98-d03a-40c6-be0b-1e6f4694c047",
   "metadata": {},
   "outputs": [],
   "source": [
    "#Treino\n",
    "with open('URI_anchor_treino.npy', 'wb') as f:\n",
    "    np.save(f, URI_anchor_treino)\n",
    "with open('URIvec_anchor_treino.npy', 'wb') as f:\n",
    "    np.save(f, URIvec_anchor_treino)\n",
    "with open('anchor_treino.npy', 'wb') as f:\n",
    "    np.save(f, dataset_anchor_treino)\n",
    "with open('positive_treino.npy', 'wb') as f:\n",
    "    np.save(f, dataset_positive_treino)\n",
    "with open('negative_treino.npy', 'wb') as f:\n",
    "    np.save(f, dataset_negative_treino)\n",
    "\n",
    "    \n",
    "#Validação\n",
    "with open('URI_anchor_valid.npy', 'wb') as f:\n",
    "    np.save(f, URI_anchor_valid)\n",
    "with open('URIvec_anchor_valid.npy', 'wb') as f:\n",
    "    np.save(f, URIvec_anchor_valid)\n",
    "with open('anchor_valid.npy', 'wb') as f:\n",
    "    np.save(f, dataset_anchor_valid)\n",
    "with open('positive_valid.npy', 'wb') as f:\n",
    "    np.save(f, dataset_positive_valid)\n",
    "with open('negative_valid.npy', 'wb') as f:\n",
    "    np.save(f, dataset_negative_valid)\n",
    "    \n",
    "#Teste\n",
    "with open('URI_anchor_teste.npy', 'wb') as f:\n",
    "    np.save(f, URI_anchor_teste)\n",
    "with open('URIvec_anchor_teste.npy', 'wb') as f:\n",
    "    np.save(f, URIvec_anchor_teste)\n",
    "with open('anchor_teste.npy', 'wb') as f:\n",
    "    np.save(f, dataset_anchor_teste)\n",
    "with open('positive_teste.npy', 'wb') as f:\n",
    "    np.save(f, dataset_positive_teste)\n",
    "with open('negative_teste.npy', 'wb') as f:\n",
    "    np.save(f, dataset_negative_teste)"
   ]
  },
  {
   "cell_type": "code",
   "execution_count": null,
   "id": "42e8337c-dbe9-4d6b-a2c6-3b4094dc4d20",
   "metadata": {},
   "outputs": [],
   "source": []
  }
 ],
 "metadata": {
  "kernelspec": {
   "display_name": "Python 3 (ipykernel)",
   "language": "python",
   "name": "python3"
  },
  "language_info": {
   "codemirror_mode": {
    "name": "ipython",
    "version": 3
   },
   "file_extension": ".py",
   "mimetype": "text/x-python",
   "name": "python",
   "nbconvert_exporter": "python",
   "pygments_lexer": "ipython3",
   "version": "3.7.16"
  }
 },
 "nbformat": 4,
 "nbformat_minor": 5
}
