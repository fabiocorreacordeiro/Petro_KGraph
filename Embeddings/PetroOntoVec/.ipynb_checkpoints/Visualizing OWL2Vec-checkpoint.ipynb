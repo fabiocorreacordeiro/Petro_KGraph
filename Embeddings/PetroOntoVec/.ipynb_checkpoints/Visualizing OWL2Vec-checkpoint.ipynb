{
 "cells": [
  {
   "cell_type": "markdown",
   "id": "c05aafdc-cd56-4378-b214-7f4470b12757",
   "metadata": {},
   "source": [
    "Script para adaptar os vetores do gensim para Tensorflow embedding projector  \n",
    "(https://projector.tensorflow.org/)"
   ]
  },
  {
   "cell_type": "code",
   "execution_count": 4,
   "id": "f65fe7da-5716-4621-aecb-4387ae242140",
   "metadata": {},
   "outputs": [],
   "source": [
    "import numpy as np\n",
    "#import tensorflow as tf\n",
    "import gensim"
   ]
  },
  {
   "cell_type": "code",
   "execution_count": 5,
   "id": "e55886c6-eea6-477d-b1fb-d1651943c07c",
   "metadata": {},
   "outputs": [],
   "source": [
    "# Escolher o modelo OWL2Vec - \n",
    "model_owl2v = gensim.models.Word2Vec.load(\"PetroOntoVec_simples/outputontology.embeddings\")"
   ]
  },
  {
   "cell_type": "code",
   "execution_count": 6,
   "id": "3cfec91a-81fe-45fe-ac41-bf0cc6d29c87",
   "metadata": {},
   "outputs": [],
   "source": [
    "#Escolher a pasta de destino onde serão reescritos os vetores\n",
    "with open( 'PetroOntoVec_simples/tensorsfp', 'w+') as tensors:\n",
    "    with open( 'PetroOntoVec_simples/metadatafp', 'w+') as metadata:\n",
    "         for word in model_owl2v.wv.index2word:\n",
    "        \n",
    "            encoded=word.encode('UTF-8')\n",
    "            #print(encoded)\n",
    "            metadata.write(str(encoded) + '\\n')\n",
    "            vector_row = '\\t'.join(map(str, model_owl2v.wv[word]))\n",
    "            #tensors.write(str(vector_row) + '\\n')\n",
    "            #break"
   ]
  },
  {
   "cell_type": "code",
   "execution_count": null,
   "id": "e9415a27-dbca-46be-8ce9-4b2139df574c",
   "metadata": {},
   "outputs": [],
   "source": []
  }
 ],
 "metadata": {
  "kernelspec": {
   "display_name": "Python 3 (ipykernel)",
   "language": "python",
   "name": "python3"
  },
  "language_info": {
   "codemirror_mode": {
    "name": "ipython",
    "version": 3
   },
   "file_extension": ".py",
   "mimetype": "text/x-python",
   "name": "python",
   "nbconvert_exporter": "python",
   "pygments_lexer": "ipython3",
   "version": "3.7.16"
  }
 },
 "nbformat": 4,
 "nbformat_minor": 5
}
