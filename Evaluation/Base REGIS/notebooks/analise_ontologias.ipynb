{
 "cells": [
  {
   "cell_type": "markdown",
   "metadata": {},
   "source": [
    "# Análise das ontologias\n",
    "\n",
    "Este notebook tem objetivo de analisar a expansão do AQE apenas com as ontologias comparando com não utilizar a expansão do AQE.\n",
    "Antes de rodar esse notebook é necessário ter o elasticsearch configurado com a base REGIS, bem como o AQE rodando.\n",
    "Ambas configurações devem ser setadas no `.env` da raíz deste projeto.\n",
    "A base de conhecimento que o AQE se conecta deve ter apenas os termos e relacionamentos das ontologias, removendo o conteúdo de qualquer outra origem."
   ]
  },
  {
   "cell_type": "markdown",
   "metadata": {},
   "source": [
    "## Carregando libs e dados"
   ]
  },
  {
   "cell_type": "code",
   "execution_count": null,
   "metadata": {},
   "outputs": [],
   "source": [
    "import json \n",
    "import os\n",
    "\n",
    "from dotenv import load_dotenv\n",
    "import numpy as np\n",
    "import pandas as pd\n",
    "import plotly.express as px\n",
    "import requests\n",
    "from sklearn.model_selection import train_test_split\n",
    "\n",
    "from utils.aqe_pso import AQEPSO\n",
    "from utils.utils import create_metrics, create_ranking_dataset, \\\n",
    "    retrieve_from_elasticsearch\n",
    "\n",
    "load_dotenv()"
   ]
  },
  {
   "cell_type": "code",
   "execution_count": null,
   "metadata": {},
   "outputs": [],
   "source": [
    "with open(\"../data/regis_queries.json\", \"r\") as json_file:\n",
    "    regis_queries = json.loads(json_file.read())\n",
    "\n",
    "certificate_path = \"../PetrobrasCARootCorporativa.crt\""
   ]
  },
  {
   "cell_type": "markdown",
   "metadata": {},
   "source": [
    "## Realizando otimizações das ontologias\n",
    "\n",
    "Primeiramente, vamos separar as queries do REGIS dataset em treino e teste de maneira estratificada, baseado no NDCG@24, com objetivo demanter a mesma distribuição dos NDCGs em treino e teste."
   ]
  },
  {
   "cell_type": "code",
   "execution_count": null,
   "metadata": {},
   "outputs": [],
   "source": [
    "regis_ndcgs = pd.DataFrame({\n",
    "    \"query_id\": [f\"Q{i}\" for i in range(1, 35)],\n",
    "    \"ndcg\": [.7719, .9198, .7985, .7515, .5955, .6564, .9640, .9862, .9689, .9666, .5514, .8548, .9627, .9797, .4468, .3421, .8286, .8280, .6997, .7641, .7227, .9150, .9438, .8854, .9663, .7734, .9525, .9226, .8856, .8109, .5275, .8596, .6378, .6721]\n",
    "}).assign(\n",
    "    ndcg_bin = lambda row: (np.searchsorted(np.sort(row.ndcg), row.ndcg) / 4).astype(int)\n",
    ")\n",
    "\n",
    "X_train, X_test, y_train, y_test = train_test_split(\n",
    "    regis_ndcgs.filter(items=[\"query_id\"]),\n",
    "    regis_ndcgs.filter(items=[\"ndcg\"]),\n",
    "    stratify=regis_ndcgs.filter(items=[\"ndcg_bin\"]),\n",
    "    test_size=0.25,\n",
    "    random_state=1234\n",
    ")\n",
    "\n",
    "print(f\"O NDCG@24 médio do treino é {y_train.ndcg.mean():.4f} e o do teste é {y_test.ndcg.mean():.4f}\")"
   ]
  },
  {
   "cell_type": "markdown",
   "metadata": {},
   "source": [
    "Agora vamos rodar a otimização para as relações e base de ontologia, bem como para a quantidade máxima de termos expandidos."
   ]
  },
  {
   "cell_type": "code",
   "execution_count": null,
   "metadata": {},
   "outputs": [],
   "source": [
    "pso_handler = AQEPSO(\n",
    "    params={\n",
    "        \"SYN\": (0, 1),\n",
    "        \"age_of\": (0, 1),\n",
    "        \"located_in\": (0, 1),\n",
    "        \"crosses\": (0, 1),\n",
    "        \"constituted_by\": (0, 1),\n",
    "        \"has_age\": (0, 1),\n",
    "        \"NER_ONTOLOGIES\": (0, 1),\n",
    "        \"max_expanded_terms\": (1, 20),\n",
    "    },\n",
    "    relation_keys=[\n",
    "        \"SYN\",\n",
    "        \"age_of\",\n",
    "        \"located_in\",\n",
    "        \"crosses\",\n",
    "        \"constituted_by\",\n",
    "        \"has_age\",\n",
    "    ],\n",
    "    source_keys=[\n",
    "        \"NER_ONTOLOGIES\"\n",
    "    ],\n",
    "    we_keys=[],\n",
    "    train_queries=X_train.query_id.tolist(),\n",
    "    test_queries=X_test.query_id.tolist()\n",
    ")\n",
    "\n",
    "best_ndcg, best_params = pso_handler.execute_optimizer(\n",
    "    iterations=5,\n",
    "    n_particles=100,\n",
    "    options = {'c1': 0.5, 'c2': 0.5, 'w': 0.9}\n",
    ")"
   ]
  },
  {
   "cell_type": "code",
   "execution_count": null,
   "metadata": {},
   "outputs": [],
   "source": [
    "print(f\"O melhor NDCG@24 encontrado foi de {best_ndcg} com os seguintes parâmetros:\")\n",
    "best_params"
   ]
  },
  {
   "cell_type": "markdown",
   "metadata": {},
   "source": [
    "## Consultando o AQE\n",
    "\n",
    "Vamos agora consultar as queries do REGIS no AQE com os novos parâmetros."
   ]
  },
  {
   "cell_type": "code",
   "execution_count": null,
   "metadata": {},
   "outputs": [],
   "source": [
    "max_expanded_terms = round(best_params[\"max_expanded_terms\"])\n",
    "\n",
    "regis_df = pd.DataFrame(\n",
    "    regis_queries\n",
    ")\n",
    "regis_df[\"aqe_response\"] = regis_df[\"title\"].apply(\n",
    "    lambda title: requests.get(\n",
    "        f\"{os.getenv('AQE_URL')}?query={title}&max_expanded_terms={max_expanded_terms}\",\n",
    "        verify=certificate_path\n",
    "    ).text\n",
    ")\n",
    "regis_df.head()"
   ]
  },
  {
   "cell_type": "markdown",
   "metadata": {},
   "source": [
    "Podemos ver que algumas queries permaneceram as mesmas.\n",
    "A não expansão foi devido a falta de termos na base de conhecimento, composta agora apenas das ontologias.\n",
    "Vejamos qual a proporção de queries que não foram expandidas:"
   ]
  },
  {
   "cell_type": "code",
   "execution_count": null,
   "metadata": {},
   "outputs": [],
   "source": [
    "len(regis_df.query(\"title == aqe_response\")) / len(regis_df)"
   ]
  },
  {
   "cell_type": "markdown",
   "metadata": {},
   "source": [
    "Podemos ver que 38,24% das queries não foram alteradas pelo AQE com apenas ontologias."
   ]
  },
  {
   "cell_type": "markdown",
   "metadata": {},
   "source": [
    "## Criando métricas de ranking\n",
    "\n",
    "Vamos agora criar as métricas de ranking sem AQE e com AQE com apenas ontologias."
   ]
  },
  {
   "cell_type": "code",
   "execution_count": null,
   "metadata": {},
   "outputs": [],
   "source": [
    "cfg = {\n",
    "    \"elasticsearch\": {\n",
    "        \"url\": os.getenv(\"ELASTIC_SEARCH_URL\"),\n",
    "        \"index\": os.getenv(\"ELASTIC_SEARCH_INDEX\"),\n",
    "        \"username\": os.getenv(\"ELASTIC_SEARCH_USERNAME\"),\n",
    "        \"password\": os.getenv(\"ELASTIC_SEARCH_PASSWORD\"),\n",
    "        \"certificate\": certificate_path\n",
    "    }\n",
    "}"
   ]
  },
  {
   "cell_type": "code",
   "execution_count": null,
   "metadata": {},
   "outputs": [],
   "source": [
    "def get_metrics(df, col, cfg):\n",
    "    queries = df.filter(\n",
    "        items=[\"query_id\", col]\n",
    "    ).itertuples(\n",
    "        index=False, name=None\n",
    "    )\n",
    "    queries = list(queries)\n",
    "\n",
    "    ranking_result_df = retrieve_from_elasticsearch(queries, cfg, 24)\n",
    "    ground_truth = pd.read_csv(\"../data/regis_ground_truth.csv\")\n",
    "\n",
    "    ranking_dataset = create_ranking_dataset(ranking_result_df, ground_truth)\n",
    "    metrics_df = create_metrics(ranking_dataset, groupby_columns=[\"query_id\"])\n",
    "\n",
    "    return metrics_df"
   ]
  },
  {
   "cell_type": "code",
   "execution_count": null,
   "metadata": {},
   "outputs": [],
   "source": [
    "no_onto_metrics_df = get_metrics(regis_df, \"title\", cfg)\n",
    "onto_metrics_df = get_metrics(regis_df, \"aqe_response\", cfg)"
   ]
  },
  {
   "cell_type": "code",
   "execution_count": null,
   "metadata": {},
   "outputs": [],
   "source": [
    "metrics_df = pd.concat([\n",
    "    no_onto_metrics_df.assign(expansion_type = \"Sem AQE\"),\n",
    "    onto_metrics_df.assign(expansion_type = \"Com AQE baseado em ontologias\")\n",
    "])\n",
    "metrics_df.head()"
   ]
  },
  {
   "cell_type": "markdown",
   "metadata": {},
   "source": [
    "## Analisando as métricas"
   ]
  },
  {
   "cell_type": "code",
   "execution_count": null,
   "metadata": {},
   "outputs": [],
   "source": [
    "metrics_df.groupby(\n",
    "    \"expansion_type\"\n",
    ").agg(\n",
    "    {\"ndcg\": \"mean\"}\n",
    ").reset_index()"
   ]
  },
  {
   "cell_type": "markdown",
   "metadata": {},
   "source": [
    "Podemos ver que a métrica geral aumentou de 0.760157 para 0.781614. Vale lembrar que esse valor de NDCG@24 foi ligeiramente diferente do reportado anteriormente, de 0.7939, tendo em vista que esse foi o de treinamento.\n",
    "\n",
    "Vejamos o NDCG@24 por query:"
   ]
  },
  {
   "cell_type": "code",
   "execution_count": null,
   "metadata": {},
   "outputs": [],
   "source": [
    "def format_aqe_response(s, n=10):\n",
    "    final_str = \"\"\n",
    "    for i, e in enumerate(s.split()):\n",
    "        if i > 0 and i % n == 0:\n",
    "            e += \"<br>\"\n",
    "        else:\n",
    "            e += \" \"\n",
    "        final_str += e\n",
    "    return final_str.strip().strip(\"<br>\")\n",
    "\n",
    "data_viz = metrics_df.merge(\n",
    "    regis_df, on=\"query_id\"\n",
    ")\n",
    "data_viz[\"aqe_response\"] = data_viz[\"aqe_response\"].apply(format_aqe_response)\n",
    "\n",
    "fig = px.bar(\n",
    "    data_viz, x=\"query_id\", y=\"ndcg\",\n",
    "    title=\"NDCG das queries\",\n",
    "    color=\"expansion_type\",\n",
    "    barmode=\"group\",\n",
    "    hover_data=[\"query_id\", \"ndcg\", \"title\", \"aqe_response\"],\n",
    "    labels={\n",
    "        \"query_id\": \"Query ID\",\n",
    "        \"ndcg\": \"NDCG (Normalized Discounted Cumulative Gain)\",\n",
    "    }\n",
    ").update_layout(xaxis={\"categoryorder\":\"total descending\"})\n",
    "fig.show()"
   ]
  },
  {
   "cell_type": "markdown",
   "metadata": {},
   "source": [
    "Podemos ver que as queries que mais se destacaram foram a Q17, Q7, Q12 e Q23. Inspecionando estas queries, podemos ver que elas expandiram utilizando termos sinônimos ou relacionados das bacias ou formações."
   ]
  },
  {
   "cell_type": "markdown",
   "metadata": {},
   "source": [
    "## Conclusão\n",
    "\n",
    "Pudemos ver que ao utilizar apenas as ontologias na base de conhecimento o NDCG@24 aumentou comparado a não utilizar o AQE. As queries que mais tiveram impacto positivo utilizaram sinônimos ou relacionados das bacias ou formações."
   ]
  }
 ],
 "metadata": {
  "kernelspec": {
   "display_name": "petrobras",
   "language": "python",
   "name": "python3"
  },
  "language_info": {
   "codemirror_mode": {
    "name": "ipython",
    "version": 3
   },
   "file_extension": ".py",
   "mimetype": "text/x-python",
   "name": "python",
   "nbconvert_exporter": "python",
   "pygments_lexer": "ipython3",
   "version": "3.11.3"
  },
  "orig_nbformat": 4
 },
 "nbformat": 4,
 "nbformat_minor": 2
}
