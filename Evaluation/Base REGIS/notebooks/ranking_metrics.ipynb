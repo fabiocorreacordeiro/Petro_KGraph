{
 "cells": [
  {
   "cell_type": "code",
   "execution_count": null,
   "metadata": {
    "id": "Vxt-KlIKHPJP"
   },
   "outputs": [],
   "source": [
    "import pandas as pd\n",
    "import numpy as np\n",
    "from sklearn.metrics import ndcg_score, average_precision_score\n",
    "\n",
    "import plotly.express as px"
   ]
  },
  {
   "cell_type": "markdown",
   "metadata": {
    "id": "T1hfIgW_SKeH"
   },
   "source": [
    "# Avaliando ranking baseado em arquivos\n",
    "\n",
    "Para rodar este notebook via linhe de comando utilizar:\n",
    "\n",
    "> jupyter nbconvert --execute --to html Sprint_1_Job_métricas_de_ranking.ipynb\n",
    "\n",
    "Trocar também o path dos arquivos **ground_truth.csv** e o **search_ranking.csv**.\n",
    "\n"
   ]
  },
  {
   "cell_type": "markdown",
   "metadata": {
    "id": "UlT6upZArIKK"
   },
   "source": [
    "## Carregando dados"
   ]
  },
  {
   "cell_type": "code",
   "execution_count": null,
   "metadata": {
    "id": "W32rcFRXqqIH"
   },
   "outputs": [],
   "source": [
    "ground_truth_filepath = \"../../dados/regis/regis_ground_truth.csv\"\n",
    "search_ranking_filepath = \"../../dados/regis/search_ranking.csv\""
   ]
  },
  {
   "cell_type": "code",
   "execution_count": null,
   "metadata": {
    "colab": {
     "base_uri": "https://localhost:8080/",
     "height": 206
    },
    "id": "8DNMa48bSX5s",
    "outputId": "40333d89-ec64-43f1-b25b-9a4c4b4905c0"
   },
   "outputs": [],
   "source": [
    "ground_truth = pd.read_csv(ground_truth_filepath)\n",
    "ground_truth.head()"
   ]
  },
  {
   "cell_type": "code",
   "execution_count": null,
   "metadata": {
    "colab": {
     "base_uri": "https://localhost:8080/",
     "height": 206
    },
    "id": "m_uWmUjRs5kM",
    "outputId": "f9b34749-3e14-4cb8-ce4c-63c5c0d0c606"
   },
   "outputs": [],
   "source": [
    "rankings = pd.read_csv(search_ranking_filepath)\n",
    "rankings.head()"
   ]
  },
  {
   "cell_type": "code",
   "execution_count": null,
   "metadata": {
    "colab": {
     "base_uri": "https://localhost:8080/",
     "height": 206
    },
    "id": "IwPY_zMrtBH8",
    "outputId": "53446796-a550-4d9e-dcb6-3f59658cc68b"
   },
   "outputs": [],
   "source": [
    "validation_dataset = rankings.merge(\n",
    "    ground_truth,\n",
    "    on=[\"query_id\", \"document_id\"],\n",
    "    suffixes=(\"_ranking\", \"_ground_truth\"),\n",
    "    how=\"outer\"\n",
    ").assign(\n",
    "    evaluated = lambda row: row.relevance_ground_truth.notnull(),\n",
    "    irrelevant_ground_truth = lambda row: (row.relevance_ranking.isnull()) & (row.relevance_ground_truth == 0),\n",
    ").query(\n",
    "    \"irrelevant_ground_truth == False\"\n",
    ").fillna(\n",
    "    value={\n",
    "        \"relevance_ranking\": 0,\n",
    "        \"relevance_ground_truth\": 0\n",
    "    }\n",
    ").drop(\n",
    "    columns=\"irrelevant_ground_truth\"\n",
    ")\n",
    "\n",
    "validation_dataset.head()"
   ]
  },
  {
   "cell_type": "markdown",
   "metadata": {
    "id": "vidSWjxLrL2M"
   },
   "source": [
    "# Avaliando métricas"
   ]
  },
  {
   "cell_type": "markdown",
   "metadata": {
    "id": "6NrBS-BwvzvD"
   },
   "source": [
    "## Criando métricas"
   ]
  },
  {
   "cell_type": "code",
   "execution_count": null,
   "metadata": {
    "colab": {
     "base_uri": "https://localhost:8080/",
     "height": 206
    },
    "id": "aTfZblanssVm",
    "outputId": "96a87750-46ac-4720-a307-9990fd1e33fa"
   },
   "outputs": [],
   "source": [
    "metrics = {\n",
    "    \"query_id\": validation_dataset.query_id.unique(),\n",
    "    \"ndcg\": list(),\n",
    "    \"ap\": list(),\n",
    "    \"eval_prop\": list(),\n",
    "}\n",
    "\n",
    "thresh = 1\n",
    "ndcgs = list()\n",
    "for qid in metrics[\"query_id\"]:\n",
    "    query_dataset = validation_dataset.query(\"query_id == @qid\")\n",
    "    # ndcg\n",
    "    metrics[\"ndcg\"].append(\n",
    "        ndcg_score([query_dataset[\"relevance_ground_truth\"]], [query_dataset[\"relevance_ranking\"]])\n",
    "    )\n",
    "    # average precision\n",
    "    metrics[\"ap\"].append(\n",
    "        average_precision_score(\n",
    "            [0 if r <= thresh else 1 for r in query_dataset[\"relevance_ground_truth\"]],\n",
    "            query_dataset[\"relevance_ranking\"]\n",
    "        )\n",
    "    )\n",
    "\n",
    "    # evaluated proportion\n",
    "    metrics[\"eval_prop\"].append(\n",
    "        query_dataset.groupby(\n",
    "            \"query_id\"\n",
    "        ).aggregate({\n",
    "            \"evaluated\": [\"sum\", \"count\"],\n",
    "        }).reset_index(\n",
    "        )[\"evaluated\"].assign(\n",
    "            evaluated_proportion = lambda row: (row[\"sum\"] / row[\"count\"])\n",
    "        )[\"evaluated_proportion\"][0]\n",
    "    )\n",
    "\n",
    "\n",
    "metrics_df = pd.DataFrame(metrics)\n",
    "\n",
    "metrics_df.head()"
   ]
  },
  {
   "cell_type": "markdown",
   "metadata": {
    "id": "ytTIzOFRv3VO"
   },
   "source": [
    "## Avaliando métricas"
   ]
  },
  {
   "cell_type": "markdown",
   "metadata": {
    "id": "E8e7rMbGwIwB"
   },
   "source": [
    "### NDCG"
   ]
  },
  {
   "cell_type": "code",
   "execution_count": null,
   "metadata": {
    "colab": {
     "base_uri": "https://localhost:8080/"
    },
    "id": "WkW1KkEhcmb0",
    "outputId": "5035e2a3-01be-433b-8a80-4f860954d47d"
   },
   "outputs": [],
   "source": [
    "avg_ndcg = np.mean(metrics_df.ndcg)\n",
    "print(\"NDCG médio: {}\".format(avg_ndcg))"
   ]
  },
  {
   "cell_type": "code",
   "execution_count": null,
   "metadata": {
    "colab": {
     "base_uri": "https://localhost:8080/",
     "height": 542
    },
    "id": "uig1g-yIv4pW",
    "outputId": "8545191f-861d-413f-d46a-156bef8fa251"
   },
   "outputs": [],
   "source": [
    "fig = px.histogram(\n",
    "    metrics_df,\n",
    "    x=\"ndcg\",\n",
    ").add_vline(\n",
    "    x=avg_ndcg,\n",
    "    line_color=\"red\",\n",
    ").update_layout(\n",
    "    title=\"Distribuição dos NDGCs das queries com indicação da média\",\n",
    "    xaxis_title=\"NDCG\",\n",
    "    yaxis_title=\"Contagem\",\n",
    ")\n",
    "fig.show()"
   ]
  },
  {
   "cell_type": "markdown",
   "metadata": {
    "id": "cXfvFr7iwLuM"
   },
   "source": [
    "### Average Precisions"
   ]
  },
  {
   "cell_type": "code",
   "execution_count": null,
   "metadata": {
    "colab": {
     "base_uri": "https://localhost:8080/"
    },
    "id": "7ltFJ75_chve",
    "outputId": "da28f0da-fccd-4c3e-95c8-906caf8880f5"
   },
   "outputs": [],
   "source": [
    "map = np.mean(metrics_df.ap)\n",
    "print(\"MAP: {}\".format(map))"
   ]
  },
  {
   "cell_type": "code",
   "execution_count": null,
   "metadata": {
    "colab": {
     "base_uri": "https://localhost:8080/",
     "height": 542
    },
    "id": "ztg9xUnTxhES",
    "outputId": "3083f207-ba84-4446-8c48-0e80717d8ff1"
   },
   "outputs": [],
   "source": [
    "fig = px.histogram(\n",
    "    metrics_df,\n",
    "    x=\"ap\",\n",
    ").add_vline(\n",
    "    x=map,\n",
    "    line_color=\"red\"\n",
    ").update_layout(\n",
    "    title=\"Distribuição dos Average Precisions das queries com indicação do Mean Average Precision\",\n",
    "    xaxis_title=\"Average Precision\",\n",
    "    yaxis_title=\"Contagem\",\n",
    ")\n",
    "fig.show()"
   ]
  },
  {
   "cell_type": "markdown",
   "metadata": {
    "id": "lc1hmohExpIZ"
   },
   "source": [
    "### Porcentagem de documentos avaliados"
   ]
  },
  {
   "cell_type": "code",
   "execution_count": null,
   "metadata": {
    "colab": {
     "base_uri": "https://localhost:8080/"
    },
    "id": "vkoiLdUfdo9T",
    "outputId": "fdd35e24-ae38-4aa9-a52b-a1c6c4035142"
   },
   "outputs": [],
   "source": [
    "average_eval_docs = np.mean(metrics_df.eval_prop)\n",
    "print(\"Média de documentos avaliados por query: {}\".format(average_eval_docs))"
   ]
  },
  {
   "cell_type": "code",
   "execution_count": null,
   "metadata": {
    "colab": {
     "base_uri": "https://localhost:8080/",
     "height": 542
    },
    "id": "AJ_CUnl_yr-1",
    "outputId": "0a6160f9-ac6d-409e-aacd-789063476c1e"
   },
   "outputs": [],
   "source": [
    "fig = px.histogram(\n",
    "    metrics_df,\n",
    "    x=\"eval_prop\",\n",
    ").add_vline(\n",
    "    x=average_eval_docs,\n",
    "    line_color=\"red\"\n",
    ").update_layout(\n",
    "    title=\"Distribuição dos percentuais de documentos avaliados com indicação da média\",\n",
    "    xaxis_title=\"Percentual de documentos avaliados\",\n",
    "    xaxis_tickformat=\".0%\",\n",
    "    yaxis_title=\"Contagem\",\n",
    ")\n",
    "fig.show()"
   ]
  },
  {
   "cell_type": "markdown",
   "metadata": {
    "id": "YQK2Or0MMaZr"
   },
   "source": [
    "### Métricas por Query"
   ]
  },
  {
   "cell_type": "code",
   "execution_count": null,
   "metadata": {
    "colab": {
     "base_uri": "https://localhost:8080/",
     "height": 542
    },
    "id": "tw8jHmDSLlrr",
    "outputId": "f3149a92-72a1-40c3-e7ce-335c05ba5778"
   },
   "outputs": [],
   "source": [
    "data_viz = metrics_df.melt(\n",
    "    id_vars=[\"query_id\"],\n",
    "    value_vars=[\"ndcg\", \"ap\", \"eval_prop\"],\n",
    "    var_name=\"metric\"\n",
    ")\n",
    "\n",
    "fig = px.bar(\n",
    "    data_viz, x=\"query_id\", y=\"value\", color=\"metric\",\n",
    "    barmode=\"group\", color_discrete_sequence=px.colors.qualitative.Pastel\n",
    ")\n",
    "\n",
    "fig.show()"
   ]
  },
  {
   "cell_type": "code",
   "execution_count": null,
   "metadata": {
    "colab": {
     "base_uri": "https://localhost:8080/",
     "height": 542
    },
    "id": "YzCAC9g0S-UO",
    "outputId": "fc8f4c1a-545e-421c-ab2e-6a5c62a0d1ca"
   },
   "outputs": [],
   "source": [
    "fig = px.parallel_coordinates(\n",
    "    metrics_df, color=\"eval_prop\",\n",
    "    color_continuous_scale=px.colors.sequential.YlOrRd,\n",
    "    width=1000\n",
    ")\n",
    "\n",
    "fig.show()\n"
   ]
  }
 ],
 "metadata": {
  "colab": {
   "provenance": [],
   "toc_visible": true
  },
  "kernelspec": {
   "display_name": "Python 3 (ipykernel)",
   "language": "python",
   "name": "python3"
  },
  "language_info": {
   "codemirror_mode": {
    "name": "ipython",
    "version": 3
   },
   "file_extension": ".py",
   "mimetype": "text/x-python",
   "name": "python",
   "nbconvert_exporter": "python",
   "pygments_lexer": "ipython3",
   "version": "3.9.13"
  },
  "vscode": {
   "interpreter": {
    "hash": "1fc8bd0f558bf7eef24aded4b109c64f39efec6f2e10aa7845c3150db796af0d"
   }
  }
 },
 "nbformat": 4,
 "nbformat_minor": 1
}
