{
 "cells": [
  {
   "attachments": {},
   "cell_type": "markdown",
   "metadata": {},
   "source": [
    "# Análise da influência das bases de dados nas queries expandidas pelo AQE\n",
    "\n",
    "Nesta análise, vamos identificar a influência das bases de dados nas expansões realizadas pelo AQE, além de quais os pesos mais adequados para os fatores de boosting de consulta ao elasticsearch.\n",
    "\n",
    "Nesta análise vamos utilizar as queries da [base REGIS](https://github.com/Petroles/regis-collection) para medir a performance do ranking, como também as 12 bases de dados utilizadas na expansão da consulta do AQE:\n",
    "\n",
    "* 01_DicionarioPetroleo_Curado_ComSinonimos\n",
    "* 02_Tesauro_comTraducoesRegis\n",
    "* 03_ListaCurada\n",
    "* 05_InstanciasBDIEP_Ativo_Bloco_Campo\n",
    "* 06_Termos_TabelaPocosANP2019\n",
    "* 07_Pocos_TabelaPocosANP2019\n",
    "* 08_Pocos_BDIEP_com2ou3_Siglas\n",
    "* 09_Glossario_ANP\n",
    "* 10_List_of_abbreviations_curada\n",
    "* 11_Lista_Feita_a_Mao\n",
    "* 12_Partex_Acronymis_Oil_Gas\n",
    "* 13_Lista_MWE"
   ]
  },
  {
   "attachments": {},
   "cell_type": "markdown",
   "metadata": {},
   "source": [
    "## Carregando libs"
   ]
  },
  {
   "cell_type": "code",
   "execution_count": null,
   "metadata": {},
   "outputs": [],
   "source": [
    "import json\n",
    "from pathlib import Path\n",
    "import yaml\n",
    "import pandas as pd\n",
    "import numpy as np\n",
    "import plotly.express as px\n",
    "\n",
    "from utils.utils import adjust_new_expanded_queries, create_metrics, create_new_metrics,\\\n",
    "    create_validation_dataset, get_databases_queries, create_new_validation_dataset, \\\n",
    "    get_expanded_queries, make_elasticsearch_queries, make_elasticsearch_new_queries"
   ]
  },
  {
   "attachments": {},
   "cell_type": "markdown",
   "metadata": {},
   "source": [
    "## Carregando as configurações e bases dados"
   ]
  },
  {
   "cell_type": "code",
   "execution_count": null,
   "metadata": {},
   "outputs": [],
   "source": [
    "with open(\"../conf/config.yaml\", \"r\") as yamlfile:\n",
    "    cfg = yaml.safe_load(yamlfile)"
   ]
  },
  {
   "cell_type": "code",
   "execution_count": null,
   "metadata": {},
   "outputs": [],
   "source": [
    "data_path = Path(\"../../dados/vocabulario_oil_gas\")\n",
    "databases = dict()"
   ]
  },
  {
   "cell_type": "code",
   "execution_count": null,
   "metadata": {},
   "outputs": [],
   "source": [
    "with open(data_path.joinpath(\"01_DicionarioPetroleo_Curado_ComSinonimos.csv\"), \"r\", encoding='unicode_escape') as f:\n",
    "    databases[\"01_DicionarioPetroleo_Curado_ComSinonimos\"] = f.read().replace(\";\", \"\\n\").split(\"\\n\")\n",
    "    databases[\"01_DicionarioPetroleo_Curado_ComSinonimos\"] = [e.strip().lower() for e in databases[\"01_DicionarioPetroleo_Curado_ComSinonimos\"]]\n",
    "print(databases[\"01_DicionarioPetroleo_Curado_ComSinonimos\"][:20])"
   ]
  },
  {
   "cell_type": "code",
   "execution_count": null,
   "metadata": {},
   "outputs": [],
   "source": [
    "with open(data_path.joinpath(\"02_Tesauro_comTraducoesRegis.csv\"), \"r\", encoding='unicode_escape') as f:\n",
    "    databases[\"02_Tesauro_comTraducoesRegis\"] = f.read().replace(\"#\", \";\").replace(\"\\t\", \"\").replace(\";\", \"\\n\").split(\"\\n\")\n",
    "    databases[\"02_Tesauro_comTraducoesRegis\"] = [e.strip().lower() for e in databases[\"02_Tesauro_comTraducoesRegis\"] if e != \"\"]\n",
    "print(databases[\"02_Tesauro_comTraducoesRegis\"][:20])"
   ]
  },
  {
   "cell_type": "code",
   "execution_count": null,
   "metadata": {},
   "outputs": [],
   "source": [
    "with open(data_path.joinpath(\"03_ListaCurada.csv\"), \"r\", encoding='unicode_escape') as f:\n",
    "    databases[\"03_ListaCurada\"] = f.read().split(\"\\n\")\n",
    "    databases[\"03_ListaCurada\"] = [e.strip().lower() for e in databases[\"03_ListaCurada\"] if e != \"\"]\n",
    "print(databases[\"03_ListaCurada\"][:20])"
   ]
  },
  {
   "cell_type": "code",
   "execution_count": null,
   "metadata": {},
   "outputs": [],
   "source": [
    "with open(data_path.joinpath(\"05_InstanciasBDIEP_Ativo_Bloco_Campo.csv\"), \"r\", encoding='unicode_escape') as f:\n",
    "    databases[\"05_InstanciasBDIEP_Ativo_Bloco_Campo\"] = f.read().replace(\";\", \"\\n\").split(\"\\n\")\n",
    "    databases[\"05_InstanciasBDIEP_Ativo_Bloco_Campo\"] = [e.strip().lower() for e in databases[\"05_InstanciasBDIEP_Ativo_Bloco_Campo\"] if e != \"\"]\n",
    "print(databases[\"05_InstanciasBDIEP_Ativo_Bloco_Campo\"][:20])"
   ]
  },
  {
   "cell_type": "code",
   "execution_count": null,
   "metadata": {},
   "outputs": [],
   "source": [
    "with open(data_path.joinpath(\"06_Termos_TabelaPocosANP2019.csv\"), \"r\", encoding='unicode_escape') as f:\n",
    "    databases[\"06_Termos_TabelaPocosANP2019\"] = f.read().replace(\";\", \"\\n\").split(\"\\n\")\n",
    "    databases[\"06_Termos_TabelaPocosANP2019\"] = [e.strip().lower() for e in databases[\"06_Termos_TabelaPocosANP2019\"] if e != \"\"]\n",
    "print(databases[\"06_Termos_TabelaPocosANP2019\"][:20])"
   ]
  },
  {
   "cell_type": "code",
   "execution_count": null,
   "metadata": {},
   "outputs": [],
   "source": [
    "with open(data_path.joinpath(\"07_Pocos_TabelaPocosANP2019.csv\"), \"r\", encoding='unicode_escape') as f:\n",
    "    databases[\"07_Pocos_TabelaPocosANP2019\"] = f.read().replace(\";\", \"\\n\").split(\"\\n\")\n",
    "    databases[\"07_Pocos_TabelaPocosANP2019\"] = [e.strip().lower() for e in databases[\"07_Pocos_TabelaPocosANP2019\"] if e != \"\"]\n",
    "print(databases[\"07_Pocos_TabelaPocosANP2019\"][:20])"
   ]
  },
  {
   "cell_type": "code",
   "execution_count": null,
   "metadata": {},
   "outputs": [],
   "source": [
    "with open(data_path.joinpath(\"08_Pocos_BDIEP_com2ou3_Siglas.csv\"), \"r\", encoding='utf-8-sig') as f:\n",
    "    databases[\"08_Pocos_BDIEP_com2ou3_Siglas\"] = f.read().replace(\";\", \"\\n\").split(\"\\n\")\n",
    "    databases[\"08_Pocos_BDIEP_com2ou3_Siglas\"] = [e.strip().lower() for e in databases[\"08_Pocos_BDIEP_com2ou3_Siglas\"] if e != \"\"]\n",
    "print(databases[\"08_Pocos_BDIEP_com2ou3_Siglas\"][:20])"
   ]
  },
  {
   "cell_type": "code",
   "execution_count": null,
   "metadata": {},
   "outputs": [],
   "source": [
    "with open(data_path.joinpath(\"09_Glossario_ANP.csv\"), \"r\", encoding='unicode_escape') as f:\n",
    "    databases[\"09_Glossario_ANP\"] = f.read().replace(\";\", \"\\n\").split(\"\\n\")\n",
    "    databases[\"09_Glossario_ANP\"] = [e.strip().lower() for e in databases[\"09_Glossario_ANP\"] if e != \"\"]\n",
    "print(databases[\"09_Glossario_ANP\"][:20])"
   ]
  },
  {
   "cell_type": "code",
   "execution_count": null,
   "metadata": {},
   "outputs": [],
   "source": [
    "with open(data_path.joinpath(\"10_List_of_abbreviations_curada.csv\"), \"r\", encoding='unicode_escape') as f:\n",
    "    databases[\"10_List_of_abbreviations_curada\"] = f.read().replace(\";\", \"\\n\").split(\"\\n\")\n",
    "    databases[\"10_List_of_abbreviations_curada\"] = [e.strip().lower() for e in databases[\"10_List_of_abbreviations_curada\"] if e != \"\"]\n",
    "print(databases[\"10_List_of_abbreviations_curada\"][:20])"
   ]
  },
  {
   "cell_type": "code",
   "execution_count": null,
   "metadata": {},
   "outputs": [],
   "source": [
    "with open(data_path.joinpath(\"11_Lista_Feita_a_Mao.csv\"), \"r\", encoding='unicode_escape') as f:\n",
    "    databases[\"11_Lista_Feita_a_Mao\"] = f.read().replace(\",\", \";\").replace(\";\", \"\\n\").split(\"\\n\")\n",
    "    databases[\"11_Lista_Feita_a_Mao\"] = [e.strip().lower() for e in databases[\"11_Lista_Feita_a_Mao\"] if e != \"\"]\n",
    "print(databases[\"11_Lista_Feita_a_Mao\"][:20])"
   ]
  },
  {
   "cell_type": "code",
   "execution_count": null,
   "metadata": {},
   "outputs": [],
   "source": [
    "with open(data_path.joinpath(\"12_Partex_Acronymis_Oil_Gas.csv\"), \"r\") as f:\n",
    "    databases[\"12_Partex_Acronymis_Oil_Gas\"] = f.read().replace(\";\", \"\\n\").split(\"\\n\")\n",
    "    databases[\"12_Partex_Acronymis_Oil_Gas\"] = [e.strip().lower() for e in databases[\"12_Partex_Acronymis_Oil_Gas\"] if e != \"\"]\n",
    "print(databases[\"12_Partex_Acronymis_Oil_Gas\"][:20])"
   ]
  },
  {
   "cell_type": "code",
   "execution_count": null,
   "metadata": {},
   "outputs": [],
   "source": [
    "with open(data_path.joinpath(\"13_Lista_MWE.txt\"), \"r\") as f:\n",
    "    databases[\"13_Lista_MWE\"] = f.read().replace(\",\", \"\\n\").split(\"\\n\")\n",
    "    databases[\"13_Lista_MWE\"] = [e.strip().lower() for e in databases[\"13_Lista_MWE\"] if e != \"\"]\n",
    "print(databases[\"13_Lista_MWE\"][:20])"
   ]
  },
  {
   "attachments": {},
   "cell_type": "markdown",
   "metadata": {},
   "source": [
    "## Expansão das queries\n",
    "\n",
    "Agora vamos coletar as expansões das queries da base REGIS."
   ]
  },
  {
   "cell_type": "code",
   "execution_count": null,
   "metadata": {},
   "outputs": [],
   "source": [
    "with open(\"../../dados/regis/regis_queries.json\", 'r') as regis_file:\n",
    "    regis_queries = json.load(regis_file)"
   ]
  },
  {
   "cell_type": "code",
   "execution_count": null,
   "metadata": {},
   "outputs": [],
   "source": [
    "regis_queries = get_expanded_queries(regis_queries)\n",
    "regis_queries[:5]"
   ]
  },
  {
   "attachments": {},
   "cell_type": "markdown",
   "metadata": {},
   "source": [
    "## Criando queries para cada base de dados\n",
    "\n",
    "Agora, para cada base de dados, vamos identificar se cada termo expandido está presente ou não naquela base de dados, zerando o fator de boosting quando não estiver. Para os fatores de boosting vamos experimentar entre 0,1 e 1,5, com intervalos de 0,1. Esse fator multiplicará o valor original de boost do AQE."
   ]
  },
  {
   "cell_type": "code",
   "execution_count": null,
   "metadata": {},
   "outputs": [],
   "source": [
    "databases_queries = get_databases_queries(databases, regis_queries, np.arange(0.1, 1.6, 0.1))"
   ]
  },
  {
   "attachments": {},
   "cell_type": "markdown",
   "metadata": {},
   "source": [
    "## Realizando consultas no Elasticsearch\n",
    "\n",
    "Em posse das queries para cada fator e base de dados, agora vamos realizar as consultas ao elastic search e criar o dataset de validação, o qual possui informações do ground truth da base de dados REGIS."
   ]
  },
  {
   "cell_type": "code",
   "execution_count": null,
   "metadata": {},
   "outputs": [],
   "source": [
    "ranking_result_df = make_elasticsearch_queries(databases_queries, cfg, 50)"
   ]
  },
  {
   "cell_type": "code",
   "execution_count": null,
   "metadata": {},
   "outputs": [],
   "source": [
    "ranking_result_df.head()"
   ]
  },
  {
   "cell_type": "code",
   "execution_count": null,
   "metadata": {},
   "outputs": [],
   "source": [
    "ground_truth = pd.read_csv(\"../../dados/regis/regis_ground_truth.csv\")\n",
    "ground_truth.head()"
   ]
  },
  {
   "cell_type": "code",
   "execution_count": null,
   "metadata": {},
   "outputs": [],
   "source": [
    "validation_dataset = create_validation_dataset(ranking_result_df, ground_truth)\n",
    "validation_dataset.head()"
   ]
  },
  {
   "cell_type": "code",
   "execution_count": null,
   "metadata": {},
   "outputs": [],
   "source": [
    "validation_dataset.to_csv(\"../data/databases_es_documents.csv\", index=False)"
   ]
  },
  {
   "cell_type": "code",
   "execution_count": null,
   "metadata": {},
   "outputs": [],
   "source": [
    "# validation_dataset = pd.read_csv(\"../data/databases_es_documents.csv\")\n",
    "# validation_dataset.head()"
   ]
  },
  {
   "attachments": {},
   "cell_type": "markdown",
   "metadata": {},
   "source": [
    "## Análise das consultas no Elasticsearch\n",
    "\n",
    "Agora vamos criar as métricas para cada base de dados e fator e visualizar os resultados."
   ]
  },
  {
   "attachments": {},
   "cell_type": "markdown",
   "metadata": {},
   "source": [
    "### Criando métricas"
   ]
  },
  {
   "cell_type": "code",
   "execution_count": null,
   "metadata": {},
   "outputs": [],
   "source": [
    "metrics_df = create_metrics(validation_dataset)\n",
    "metrics_df.head()"
   ]
  },
  {
   "cell_type": "code",
   "execution_count": null,
   "metadata": {},
   "outputs": [],
   "source": [
    "metrics_df.to_csv(\"../data/databases_metrics.csv\", index=False)"
   ]
  },
  {
   "attachments": {},
   "cell_type": "markdown",
   "metadata": {},
   "source": [
    "### Avaliando métricas\n",
    "\n",
    "Vamos agora avaliar as métricas. Vamos utilizar as seguintes métricas:\n",
    "\n",
    "* ndcg - Normalized Discounted Cumulative Gain\n",
    "* map - Mean Average Precision\n",
    "* eval_prop - Proporção de documentos avaliados"
   ]
  },
  {
   "cell_type": "code",
   "execution_count": null,
   "metadata": {},
   "outputs": [],
   "source": [
    "# metrics_df = pd.read_csv(\"../data/databases_metrics.csv\")\n",
    "# metrics_df.head()"
   ]
  },
  {
   "cell_type": "code",
   "execution_count": null,
   "metadata": {},
   "outputs": [],
   "source": [
    "data_viz = metrics_df.groupby(\n",
    "    [\"database_name\", \"factor\"]\n",
    ").agg(\n",
    "    \"mean\"\n",
    ").reset_index(\n",
    ")\n",
    "\n",
    "data_viz.head()"
   ]
  },
  {
   "cell_type": "code",
   "execution_count": null,
   "metadata": {},
   "outputs": [],
   "source": [
    "fig = px.line(\n",
    "    data_viz,\n",
    "    x=\"factor\",\n",
    "    y=\"ndcg\",\n",
    "    color=\"database_name\",\n",
    "    markers=True,\n",
    "    title=\"Performances das bases de dados com diferentes fatores\"\n",
    ").add_hline(\n",
    "    y=0.7351,\n",
    "    line_dash=\"dash\",\n",
    "    line_color=\"black\"\n",
    ")\n",
    "fig.show()"
   ]
  },
  {
   "attachments": {},
   "cell_type": "markdown",
   "metadata": {},
   "source": [
    "É possível ver que todas as bases de dados, a partir de um fator de 0,2 existe uma tendência decrescente do NDCG ao passo que aumenta o fator de multiplicação do boosting."
   ]
  },
  {
   "attachments": {},
   "cell_type": "markdown",
   "metadata": {},
   "source": [
    "### Identificando melhor fator de multipliação do boost para cada base de dados\n",
    "\n",
    "Vamos repetir o processo acima, mas agora com objetivo de identificar qual o melhor fator de multiplicação do boost para cada base de dados, utilizando fatores entre 0 e 0,2."
   ]
  },
  {
   "cell_type": "code",
   "execution_count": null,
   "metadata": {},
   "outputs": [],
   "source": [
    "databases_queries = get_databases_queries(databases, regis_queries, np.arange(0.01, 0.25, 0.01))"
   ]
  },
  {
   "cell_type": "code",
   "execution_count": null,
   "metadata": {},
   "outputs": [],
   "source": [
    "ranking_result_df = make_elasticsearch_queries(databases_queries, cfg, 50)"
   ]
  },
  {
   "cell_type": "code",
   "execution_count": null,
   "metadata": {},
   "outputs": [],
   "source": [
    "validation_dataset = create_validation_dataset(ranking_result_df, ground_truth)"
   ]
  },
  {
   "cell_type": "code",
   "execution_count": null,
   "metadata": {},
   "outputs": [],
   "source": [
    "metrics_df = create_metrics(validation_dataset)\n",
    "metrics_df.head()"
   ]
  },
  {
   "cell_type": "code",
   "execution_count": null,
   "metadata": {},
   "outputs": [],
   "source": [
    "data_viz = metrics_df.groupby(\n",
    "    [\"database_name\", \"factor\"]\n",
    ").agg(\n",
    "    \"mean\"\n",
    ").reset_index(\n",
    ")\n",
    "\n",
    "fig = px.line(\n",
    "    data_viz,\n",
    "    x=\"factor\",\n",
    "    y=\"ndcg\",\n",
    "    color=\"database_name\",\n",
    "    markers=True,\n",
    "    title=\"Performances das bases de dados com diferentes fatores\"\n",
    ").add_hline(\n",
    "    y=0.7351,\n",
    "    line_dash=\"dash\",\n",
    "    line_color=\"black\"\n",
    ")\n",
    "fig.show()"
   ]
  },
  {
   "attachments": {},
   "cell_type": "markdown",
   "metadata": {},
   "source": [
    "Podemos identificar que os seguintes fatores são os melhores para cada base:\n",
    "\n",
    "* 01_DicionarioPetroleo_Curado_ComSinonimos: 0.03\n",
    "* 02_Tesauro_comTraducoesRegis: 0.11\n",
    "* 03_ListaCurada: 0.0\n",
    "* 05_InstanciasBDIEP_Ativo_Bloco_Campo: 0.01\n",
    "* 06_Termos_TabelaPocosANP2019: 0.1\n",
    "* 07_Pocos_TabelaPocosANP2019: 0.0\n",
    "* 08_Pocos_BDIEP_com2ou3_Siglas: 0.0\n",
    "* 09_Glossario_ANP: 0.14\n",
    "* 10_List_of_abbreviations_curada: 0.13\n",
    "* 11_Lista_Feita_a_Mao: 0.0\n",
    "* 12_Partex_Acronymis_Oil_Gas: 0.12\n",
    "* 13_Lista_MWE: 0.08\n",
    "\n",
    "Vejamos o impacto de cada base de dados no ndcg:"
   ]
  },
  {
   "cell_type": "code",
   "execution_count": null,
   "metadata": {},
   "outputs": [],
   "source": [
    "data_viz.groupby(\"database_name\").agg({\"ndcg\": \"max\"}).reset_index().sort_values(\"ndcg\", ascending=False)"
   ]
  },
  {
   "attachments": {},
   "cell_type": "markdown",
   "metadata": {},
   "source": [
    "### Criando novas queries baseados nos fatores encontrados\n",
    "\n",
    "Agora vamos ajustar as queries para utilizar os melhores fatores para cada base de dados."
   ]
  },
  {
   "cell_type": "code",
   "execution_count": null,
   "metadata": {},
   "outputs": [],
   "source": [
    "databases_factors = {\n",
    "    \"01_DicionarioPetroleo_Curado_ComSinonimos\": 0.03,\n",
    "    \"02_Tesauro_comTraducoesRegis\": 0.11,\n",
    "    \"03_ListaCurada\": 0.0,\n",
    "    \"05_InstanciasBDIEP_Ativo_Bloco_Campo\": 0.01,\n",
    "    \"06_Termos_TabelaPocosANP2019\": 0.1,\n",
    "    \"07_Pocos_TabelaPocosANP2019\": 0.0,\n",
    "    \"08_Pocos_BDIEP_com2ou3_Siglas\": 0.0,\n",
    "    \"09_Glossario_ANP\": 0.14,\n",
    "    \"10_List_of_abbreviations_curada\": 0.13,\n",
    "    \"11_Lista_Feita_a_Mao\": 0.0,\n",
    "    \"12_Partex_Acronymis_Oil_Gas\": 0.12,\n",
    "    \"13_Lista_MWE\": 0.08,\n",
    "}"
   ]
  },
  {
   "cell_type": "code",
   "execution_count": null,
   "metadata": {},
   "outputs": [],
   "source": [
    "new_expanded_queries = adjust_new_expanded_queries(\n",
    "    databases,\n",
    "    regis_queries,\n",
    "    databases_factors\n",
    ")"
   ]
  },
  {
   "cell_type": "code",
   "execution_count": null,
   "metadata": {},
   "outputs": [],
   "source": [
    "ranking_result_df = make_elasticsearch_new_queries(new_expanded_queries, cfg, 50)\n",
    "ranking_result_df.head()"
   ]
  },
  {
   "cell_type": "code",
   "execution_count": null,
   "metadata": {},
   "outputs": [],
   "source": [
    "validation_dataset = create_new_validation_dataset(ranking_result_df, ground_truth)\n",
    "validation_dataset.head()"
   ]
  },
  {
   "cell_type": "code",
   "execution_count": null,
   "metadata": {},
   "outputs": [],
   "source": [
    "metrics_df = create_new_metrics(validation_dataset)\n",
    "metrics_df.head()"
   ]
  },
  {
   "cell_type": "code",
   "execution_count": null,
   "metadata": {},
   "outputs": [],
   "source": [
    "metrics_df[\"ndcg\"].mean()"
   ]
  },
  {
   "attachments": {},
   "cell_type": "markdown",
   "metadata": {},
   "source": [
    "É possível observar que o NDCG médio aumentou 2,18% quando comparado com ao NDCG médio da consulta sem o AQE."
   ]
  },
  {
   "attachments": {},
   "cell_type": "markdown",
   "metadata": {},
   "source": [
    "## Conclusão\n",
    "\n",
    "Foi possível identificar que algumas bases de dados são mais importantes que outras na expansão da consulta, onde algumas trazem resultados inferiores comparando sem o uso do AQE. As bases de dados mais importantes são:\n",
    "\n",
    "1. 06_Termos_TabelaPocosANP2019\tcom ndcg de **0.759765**\n",
    "2. 13_Lista_MWE\tcom ndcg de **0.751475**\n",
    "3. 09_Glossario_ANP\tcom ndcg de **0.739109**\n",
    "4. 12_Partex_Acronymis_Oil_Gas\tcom ndcg de **0.737709**\n",
    "5. 01_DicionarioPetroleo_Curado_ComSinonimos\tcom ndcg de **0.737612**\n",
    "6. 10_List_of_abbreviations_curada\tcom ndcg de **0.736354**\n",
    "7. 05_InstanciasBDIEP_Ativo_Bloco_Campo\tcom ndcg de **0.735321**\n",
    "\n",
    "Utilizando os melhores pesos para cada base de dados o NDCG ficou abaixo do NDCG utilizando apenas a base de dados 06_Termos_TabelaPocosANP2019, mas ficou acima das demais bases, atingindo um NDCG de **0.756874**. Tendo em vista que utilizar sete bases traz uma maior variabilidade de documentos e atingiu um NDCG **0.00289** menor, concluímos que utilizar os fatores de boosting sugeridos traz o melhor resultado encontrado até então. Segue os fatores de boosting para cada base de dados:\n",
    "\n",
    "* 01_DicionarioPetroleo_Curado_ComSinonimos: 0.03\n",
    "* 02_Tesauro_comTraducoesRegis: 0.11\n",
    "* 03_ListaCurada: 0.0\n",
    "* 05_InstanciasBDIEP_Ativo_Bloco_Campo: 0.01\n",
    "* 06_Termos_TabelaPocosANP2019: 0.1\n",
    "* 07_Pocos_TabelaPocosANP2019: 0.0\n",
    "* 08_Pocos_BDIEP_com2ou3_Siglas: 0.0\n",
    "* 09_Glossario_ANP: 0.14\n",
    "* 10_List_of_abbreviations_curada: 0.13\n",
    "* 11_Lista_Feita_a_Mao: 0.0\n",
    "* 12_Partex_Acronymis_Oil_Gas: 0.12\n",
    "* 13_Lista_MWE: 0.08"
   ]
  }
 ],
 "metadata": {
  "kernelspec": {
   "display_name": "base",
   "language": "python",
   "name": "python3"
  },
  "language_info": {
   "codemirror_mode": {
    "name": "ipython",
    "version": 3
   },
   "file_extension": ".py",
   "mimetype": "text/x-python",
   "name": "python",
   "nbconvert_exporter": "python",
   "pygments_lexer": "ipython3",
   "version": "3.9.13"
  },
  "orig_nbformat": 4
 },
 "nbformat": 4,
 "nbformat_minor": 2
}
