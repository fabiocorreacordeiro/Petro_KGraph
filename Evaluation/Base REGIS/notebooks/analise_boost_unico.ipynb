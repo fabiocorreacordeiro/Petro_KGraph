{
 "cells": [
  {
   "attachments": {},
   "cell_type": "markdown",
   "metadata": {},
   "source": [
    "# Análise de de boost único\n",
    "\n",
    "Nesta análise vamos partir dos conhecimentos adquiridos na análise de podas do AQE, onde descobrimos que utilizar a ordem do fator de boosting com até **cinco termos** é o método de poda mais razoável para o caso geral, o qual obteve **NDCG@24 de 76,58%**. Nesse método, foi fixado o fator de boosting de 0,100 para todos os termos, independente da base utilizada. Agora, vamos experimentar com diferentes fatores de boosting, independente da base utilizada. Vamos experimentar com fatores de boost entre 0 e 0,25."
   ]
  },
  {
   "attachments": {},
   "cell_type": "markdown",
   "metadata": {},
   "source": [
    "## Carregando libs"
   ]
  },
  {
   "cell_type": "code",
   "execution_count": 32,
   "metadata": {},
   "outputs": [],
   "source": [
    "import json\n",
    "import yaml\n",
    "import pandas as pd\n",
    "import numpy as np\n",
    "import plotly.express as px\n",
    "\n",
    "from utils.utils import get_expanded_queries, make_elasticsearch_new_aqe_queries,\\\n",
    "    create_new_expanded_queries, create_new_aqe_validation_dataset, create_new_aqe_metrics,\\\n",
    "    expanded_with_aqe_boost_order"
   ]
  },
  {
   "cell_type": "code",
   "execution_count": 2,
   "metadata": {},
   "outputs": [],
   "source": [
    "with open(\"../conf/config.yaml\", \"r\") as yamlfile:\n",
    "    cfg = yaml.safe_load(yamlfile)"
   ]
  },
  {
   "cell_type": "code",
   "execution_count": 3,
   "metadata": {},
   "outputs": [],
   "source": [
    "with open(\"../../dados/regis/regis_queries.json\", 'r') as regis_file:\n",
    "    regis_queries = json.load(regis_file)"
   ]
  },
  {
   "cell_type": "code",
   "execution_count": 4,
   "metadata": {},
   "outputs": [
    {
     "data": {
      "text/plain": [
       "[{'title': 'História da geoquímica na Petrobras',\n",
       "  'query_id': 'Q1',\n",
       "  'expanded_query': '((História da geoquímica na Petrobras) OR ( (historia^1.000 OR história^0.890 OR history^0.571 OR \"histórico do campo\"^0.525 OR review^0.159 OR revisão^0.164 OR \"histórico de caso\"^0.225) OR (geoquimica^1.000 OR geoquímica^0.890 OR geoquímicas^0.691 OR geoquímico^0.672 OR geoquimicos^0.736 OR geoquimicas^0.691 OR geoquimico^0.672 OR geochemistry^0.601 OR \"geochemical anomaly\"^0.225 OR \"geochemical interpretation\"^0.225 OR \"composição dos sedimentos\"^0.225 OR \"sediment composition\"^0.225 OR geology^0.195 OR geologia^0.253 OR petrochemistry^0.153 OR petroquímica^0.184 OR \"geochemical cycle\"^0.225 OR petrografia^0.255 OR petrography^0.191 OR \"análise de rochas\"^0.225 OR \"rock analysis\"^0.225 OR \"composição das rochas\"^0.225 OR \"rock composition\"^0.225 OR transect^0.150 OR \"geochemical map\"^0.225 OR \"geochemical exploration\"^0.225 OR \"geochemical logging\"^0.225 OR geophysics^0.179 OR geofísica^0.256 OR \"geochemical data\"^0.225) OR petrobras^1.000 ))'},\n",
       " {'title': 'Lógica fuzzy aplicada  à industria do petróleo',\n",
       "  'query_id': 'Q2',\n",
       "  'expanded_query': '((Lógica fuzzy aplicada à industria do petróleo) OR ( (\"logica fuzzy\"^1.000 OR \"lógica fuzzy\"^0.667 OR \"lógica difusa\"^0.667 OR \"logica nebulosa\"^0.667 OR \"logica difusa\"^0.667 OR \"fuzzy logic\"^0.667) OR (\"industria do petroleo\"^1.000 OR \"indústria do petróleo\"^0.667 OR \"industria de petroleo\"^0.667 OR \"petroleum industry\"^0.667) OR (logica^1.000 OR lógica^0.890 OR lógico^0.744) OR fuzzy^1.000 OR (aplicada^1.000 OR aplicado^0.795 OR aplicados^0.756) OR (industria^1.000 OR indústria^0.890 OR industry^0.576) OR (petroleo^1.000 OR petróleo^0.890 OR petróleos^0.705 OR petroleos^0.705 OR petroleum^0.632 OR \"gasolina natural\"^0.525 OR \"natural gas\"^0.350 OR \"gás natural\"^0.423 OR \"commingled production\"^0.525 OR \"produção misturada\"^0.525 OR \"óleo cru\"^0.525 OR \"crude oil\"^0.353 OR \"hydrocarbon potential\"^0.225 OR \"potencial de hidrocarbonetos\"^0.225 OR \"fluido do reservatório\"^0.225 OR \"reservoir fluid\"^0.225 OR \"raw material\"^0.225 OR \"matéria prima\"^0.224 OR \"razão de hidrocarbonetos\"^0.225 OR \"hydrocarbon ratio\"^0.225 OR \"fossil fuel\"^0.150 OR \"combustível fóssil\"^0.225) ))'}]"
      ]
     },
     "execution_count": 4,
     "metadata": {},
     "output_type": "execute_result"
    }
   ],
   "source": [
    "regis_queries = get_expanded_queries(regis_queries)\n",
    "regis_queries[:2]"
   ]
  },
  {
   "cell_type": "code",
   "execution_count": 5,
   "metadata": {},
   "outputs": [
    {
     "data": {
      "text/html": [
       "<div>\n",
       "<style scoped>\n",
       "    .dataframe tbody tr th:only-of-type {\n",
       "        vertical-align: middle;\n",
       "    }\n",
       "\n",
       "    .dataframe tbody tr th {\n",
       "        vertical-align: top;\n",
       "    }\n",
       "\n",
       "    .dataframe thead th {\n",
       "        text-align: right;\n",
       "    }\n",
       "</style>\n",
       "<table border=\"1\" class=\"dataframe\">\n",
       "  <thead>\n",
       "    <tr style=\"text-align: right;\">\n",
       "      <th></th>\n",
       "      <th>query_id</th>\n",
       "      <th>document_id</th>\n",
       "      <th>relevance_ground_truth</th>\n",
       "    </tr>\n",
       "  </thead>\n",
       "  <tbody>\n",
       "    <tr>\n",
       "      <th>0</th>\n",
       "      <td>Q1</td>\n",
       "      <td>BR-BG.03944</td>\n",
       "      <td>1</td>\n",
       "    </tr>\n",
       "    <tr>\n",
       "      <th>1</th>\n",
       "      <td>Q1</td>\n",
       "      <td>BR-BG.03925</td>\n",
       "      <td>1</td>\n",
       "    </tr>\n",
       "    <tr>\n",
       "      <th>2</th>\n",
       "      <td>Q1</td>\n",
       "      <td>BR-TU.23384</td>\n",
       "      <td>0</td>\n",
       "    </tr>\n",
       "    <tr>\n",
       "      <th>3</th>\n",
       "      <td>Q1</td>\n",
       "      <td>BR-TU.12209</td>\n",
       "      <td>0</td>\n",
       "    </tr>\n",
       "    <tr>\n",
       "      <th>4</th>\n",
       "      <td>Q1</td>\n",
       "      <td>BR-BG.04089</td>\n",
       "      <td>2</td>\n",
       "    </tr>\n",
       "  </tbody>\n",
       "</table>\n",
       "</div>"
      ],
      "text/plain": [
       "  query_id  document_id  relevance_ground_truth\n",
       "0       Q1  BR-BG.03944                       1\n",
       "1       Q1  BR-BG.03925                       1\n",
       "2       Q1  BR-TU.23384                       0\n",
       "3       Q1  BR-TU.12209                       0\n",
       "4       Q1  BR-BG.04089                       2"
      ]
     },
     "execution_count": 5,
     "metadata": {},
     "output_type": "execute_result"
    }
   ],
   "source": [
    "ground_truth = pd.read_csv(\n",
    "    \"../../dados/regis/regis_ground_truth.csv\"\n",
    ").rename(\n",
    "    columns={\"relevance\": \"relevance_ground_truth\"}\n",
    ")\n",
    "ground_truth.head()"
   ]
  },
  {
   "attachments": {},
   "cell_type": "markdown",
   "metadata": {},
   "source": [
    "## Criando queries com diferentes fatores de boost do AQE\n",
    "\n",
    "Aqui vamos experimentar as expansões de queries com diferentes fatores, variando de 0 até 0,25, com intervalos de 0,001, em conjunto com uma poda com os cinco termos de maior fator estabelecidos pelo AQE."
   ]
  },
  {
   "cell_type": "code",
   "execution_count": 28,
   "metadata": {},
   "outputs": [
    {
     "data": {
      "text/plain": [
       "[{'title': 'História da geoquímica na Petrobras',\n",
       "  'query_id': 'Q1',\n",
       "  'expanded_query': '((História da geoquímica na Petrobras) OR ((historia^0.000 OR história^0.000 OR history^0.000 OR \"histórico do campo\"^0.000 OR review^0.000 OR revisão^0.000 OR \"histórico de caso\"^0.000) OR (geoquimica^0.000 OR geoquímica^0.000 OR geoquímicas^0.000 OR geoquímico^0.000 OR geoquimicos^0.000 OR geoquimicas^0.000 OR geoquimico^0.000 OR geochemistry^0.000 OR \"geochemical anomaly\"^0.000 OR \"geochemical interpretation\"^0.000 OR \"composição dos sedimentos\"^0.000 OR \"sediment composition\"^0.000 OR geology^0.000 OR geologia^0.000 OR petrochemistry^0.000 OR petroquímica^0.000 OR \"geochemical cycle\"^0.000 OR petrografia^0.000 OR petrography^0.000 OR \"análise de rochas\"^0.000 OR \"rock analysis\"^0.000 OR \"composição das rochas\"^0.000 OR \"rock composition\"^0.000 OR transect^0.000 OR \"geochemical map\"^0.000 OR \"geochemical exploration\"^0.000 OR \"geochemical logging\"^0.000 OR geophysics^0.000 OR geofísica^0.000 OR \"geochemical data\"^0.000) OR petrobras^0.000 ))',\n",
       "  'factor': '0.000'},\n",
       " {'title': 'História da geoquímica na Petrobras',\n",
       "  'query_id': 'Q1',\n",
       "  'expanded_query': '((História da geoquímica na Petrobras) OR ((historia^0.001 OR história^0.001 OR history^0.001 OR \"histórico do campo\"^0.001 OR review^0.000 OR revisão^0.000 OR \"histórico de caso\"^0.001) OR (geoquimica^0.001 OR geoquímica^0.001 OR geoquímicas^0.001 OR geoquímico^0.000 OR geoquimicos^0.001 OR geoquimicas^0.001 OR geoquimico^0.000 OR geochemistry^0.000 OR \"geochemical anomaly\"^0.000 OR \"geochemical interpretation\"^0.000 OR \"composição dos sedimentos\"^0.000 OR \"sediment composition\"^0.000 OR geology^0.000 OR geologia^0.000 OR petrochemistry^0.000 OR petroquímica^0.000 OR \"geochemical cycle\"^0.000 OR petrografia^0.000 OR petrography^0.000 OR \"análise de rochas\"^0.000 OR \"rock analysis\"^0.000 OR \"composição das rochas\"^0.000 OR \"rock composition\"^0.000 OR transect^0.000 OR \"geochemical map\"^0.000 OR \"geochemical exploration\"^0.000 OR \"geochemical logging\"^0.000 OR geophysics^0.000 OR geofísica^0.000 OR \"geochemical data\"^0.000) OR petrobras^0.001 ))',\n",
       "  'factor': '0.001'}]"
      ]
     },
     "execution_count": 28,
     "metadata": {},
     "output_type": "execute_result"
    }
   ],
   "source": [
    "factors = np.arange(0, 0.25, 0.001).tolist()\n",
    "all_expanded_queries = list()\n",
    "for query in regis_queries:\n",
    "    for factor in factors:\n",
    "        factor_str = \"{:.3f}\".format(factor)\n",
    "        new_expanded_queries = create_new_expanded_queries(\n",
    "            query[\"expanded_query\"],\n",
    "            expansion=expanded_with_aqe_boost_order,\n",
    "            num_termos=[5],\n",
    "            factor=factor_str\n",
    "        )\n",
    "    \n",
    "        for i, new_expanded_query in new_expanded_queries:\n",
    "            q = query.copy()\n",
    "            q[\"expanded_query\"] = new_expanded_query\n",
    "            q[\"factor\"] = factor_str\n",
    "            all_expanded_queries.append(q)\n",
    "all_expanded_queries[:2]"
   ]
  },
  {
   "attachments": {},
   "cell_type": "markdown",
   "metadata": {},
   "source": [
    "### Realizando consultas no Elasticsearch\n",
    "\n",
    "Em posse das queries que utilizam cinco termos e fator de boost único, vamos criar o dataset de validação, o qual possui informações do ground truth da base de dados REGIS."
   ]
  },
  {
   "cell_type": "code",
   "execution_count": 29,
   "metadata": {},
   "outputs": [
    {
     "data": {
      "text/html": [
       "<div>\n",
       "<style scoped>\n",
       "    .dataframe tbody tr th:only-of-type {\n",
       "        vertical-align: middle;\n",
       "    }\n",
       "\n",
       "    .dataframe tbody tr th {\n",
       "        vertical-align: top;\n",
       "    }\n",
       "\n",
       "    .dataframe thead th {\n",
       "        text-align: right;\n",
       "    }\n",
       "</style>\n",
       "<table border=\"1\" class=\"dataframe\">\n",
       "  <thead>\n",
       "    <tr style=\"text-align: right;\">\n",
       "      <th></th>\n",
       "      <th>query_id</th>\n",
       "      <th>factor</th>\n",
       "      <th>document_id</th>\n",
       "      <th>relevance_ranking</th>\n",
       "    </tr>\n",
       "  </thead>\n",
       "  <tbody>\n",
       "    <tr>\n",
       "      <th>0</th>\n",
       "      <td>Q1</td>\n",
       "      <td>0.000</td>\n",
       "      <td>BR-BG.03964</td>\n",
       "      <td>9.573541</td>\n",
       "    </tr>\n",
       "    <tr>\n",
       "      <th>1</th>\n",
       "      <td>Q1</td>\n",
       "      <td>0.000</td>\n",
       "      <td>BR-BG.03967</td>\n",
       "      <td>9.460924</td>\n",
       "    </tr>\n",
       "    <tr>\n",
       "      <th>2</th>\n",
       "      <td>Q1</td>\n",
       "      <td>0.000</td>\n",
       "      <td>BR-BG.04004</td>\n",
       "      <td>9.276192</td>\n",
       "    </tr>\n",
       "    <tr>\n",
       "      <th>3</th>\n",
       "      <td>Q1</td>\n",
       "      <td>0.000</td>\n",
       "      <td>BR-TU.20287</td>\n",
       "      <td>9.119863</td>\n",
       "    </tr>\n",
       "    <tr>\n",
       "      <th>4</th>\n",
       "      <td>Q1</td>\n",
       "      <td>0.000</td>\n",
       "      <td>BR-BT.05005</td>\n",
       "      <td>9.103277</td>\n",
       "    </tr>\n",
       "  </tbody>\n",
       "</table>\n",
       "</div>"
      ],
      "text/plain": [
       "  query_id factor  document_id  relevance_ranking\n",
       "0       Q1  0.000  BR-BG.03964           9.573541\n",
       "1       Q1  0.000  BR-BG.03967           9.460924\n",
       "2       Q1  0.000  BR-BG.04004           9.276192\n",
       "3       Q1  0.000  BR-TU.20287           9.119863\n",
       "4       Q1  0.000  BR-BT.05005           9.103277"
      ]
     },
     "execution_count": 29,
     "metadata": {},
     "output_type": "execute_result"
    }
   ],
   "source": [
    "ranking_result_df = make_elasticsearch_new_aqe_queries(\n",
    "    all_expanded_queries,\n",
    "    cfg,\n",
    "    24,\n",
    "    attrs=[\"query_id\", \"factor\"]\n",
    ")\n",
    "ranking_result_df.head()"
   ]
  },
  {
   "cell_type": "code",
   "execution_count": 31,
   "metadata": {},
   "outputs": [
    {
     "data": {
      "text/html": [
       "<div>\n",
       "<style scoped>\n",
       "    .dataframe tbody tr th:only-of-type {\n",
       "        vertical-align: middle;\n",
       "    }\n",
       "\n",
       "    .dataframe tbody tr th {\n",
       "        vertical-align: top;\n",
       "    }\n",
       "\n",
       "    .dataframe thead th {\n",
       "        text-align: right;\n",
       "    }\n",
       "</style>\n",
       "<table border=\"1\" class=\"dataframe\">\n",
       "  <thead>\n",
       "    <tr style=\"text-align: right;\">\n",
       "      <th></th>\n",
       "      <th>query_id</th>\n",
       "      <th>factor</th>\n",
       "      <th>document_id</th>\n",
       "      <th>relevance_ranking</th>\n",
       "      <th>relevance_ground_truth</th>\n",
       "      <th>evaluated</th>\n",
       "    </tr>\n",
       "  </thead>\n",
       "  <tbody>\n",
       "    <tr>\n",
       "      <th>0</th>\n",
       "      <td>Q1</td>\n",
       "      <td>0.000</td>\n",
       "      <td>BR-BG.03964</td>\n",
       "      <td>9.573541</td>\n",
       "      <td>2.0</td>\n",
       "      <td>True</td>\n",
       "    </tr>\n",
       "    <tr>\n",
       "      <th>1</th>\n",
       "      <td>Q1</td>\n",
       "      <td>0.000</td>\n",
       "      <td>BR-BG.03967</td>\n",
       "      <td>9.460924</td>\n",
       "      <td>3.0</td>\n",
       "      <td>True</td>\n",
       "    </tr>\n",
       "    <tr>\n",
       "      <th>2</th>\n",
       "      <td>Q1</td>\n",
       "      <td>0.000</td>\n",
       "      <td>BR-BG.04004</td>\n",
       "      <td>9.276192</td>\n",
       "      <td>1.0</td>\n",
       "      <td>True</td>\n",
       "    </tr>\n",
       "    <tr>\n",
       "      <th>3</th>\n",
       "      <td>Q1</td>\n",
       "      <td>0.000</td>\n",
       "      <td>BR-TU.20287</td>\n",
       "      <td>9.119863</td>\n",
       "      <td>0.0</td>\n",
       "      <td>True</td>\n",
       "    </tr>\n",
       "    <tr>\n",
       "      <th>4</th>\n",
       "      <td>Q1</td>\n",
       "      <td>0.000</td>\n",
       "      <td>BR-BT.05005</td>\n",
       "      <td>9.103277</td>\n",
       "      <td>1.0</td>\n",
       "      <td>True</td>\n",
       "    </tr>\n",
       "  </tbody>\n",
       "</table>\n",
       "</div>"
      ],
      "text/plain": [
       "  query_id factor  document_id  relevance_ranking  relevance_ground_truth  \\\n",
       "0       Q1  0.000  BR-BG.03964           9.573541                     2.0   \n",
       "1       Q1  0.000  BR-BG.03967           9.460924                     3.0   \n",
       "2       Q1  0.000  BR-BG.04004           9.276192                     1.0   \n",
       "3       Q1  0.000  BR-TU.20287           9.119863                     0.0   \n",
       "4       Q1  0.000  BR-BT.05005           9.103277                     1.0   \n",
       "\n",
       "   evaluated  \n",
       "0       True  \n",
       "1       True  \n",
       "2       True  \n",
       "3       True  \n",
       "4       True  "
      ]
     },
     "execution_count": 31,
     "metadata": {},
     "output_type": "execute_result"
    }
   ],
   "source": [
    "validation_dataset = create_new_aqe_validation_dataset(\n",
    "    ranking_result_df,\n",
    "    ground_truth,\n",
    "    boost_cols=[\"factor\"]\n",
    ")\n",
    "validation_dataset.head()"
   ]
  },
  {
   "attachments": {},
   "cell_type": "markdown",
   "metadata": {},
   "source": [
    "### Análise das consultas no Elasticsearch\n",
    "\n",
    "Agora vamos criar as métricas para cada base de dados e quantidade de termos derivados e visualizar os resultados."
   ]
  },
  {
   "attachments": {},
   "cell_type": "markdown",
   "metadata": {},
   "source": [
    "#### Criando métricas"
   ]
  },
  {
   "cell_type": "code",
   "execution_count": 33,
   "metadata": {},
   "outputs": [
    {
     "data": {
      "text/html": [
       "<div>\n",
       "<style scoped>\n",
       "    .dataframe tbody tr th:only-of-type {\n",
       "        vertical-align: middle;\n",
       "    }\n",
       "\n",
       "    .dataframe tbody tr th {\n",
       "        vertical-align: top;\n",
       "    }\n",
       "\n",
       "    .dataframe thead th {\n",
       "        text-align: right;\n",
       "    }\n",
       "</style>\n",
       "<table border=\"1\" class=\"dataframe\">\n",
       "  <thead>\n",
       "    <tr style=\"text-align: right;\">\n",
       "      <th></th>\n",
       "      <th>query_id</th>\n",
       "      <th>factor</th>\n",
       "      <th>ndcg@24</th>\n",
       "      <th>ap@24</th>\n",
       "      <th>eval_prop</th>\n",
       "    </tr>\n",
       "  </thead>\n",
       "  <tbody>\n",
       "    <tr>\n",
       "      <th>0</th>\n",
       "      <td>Q1</td>\n",
       "      <td>0.000</td>\n",
       "      <td>0.766699</td>\n",
       "      <td>0.355878</td>\n",
       "      <td>0.944444</td>\n",
       "    </tr>\n",
       "    <tr>\n",
       "      <th>1</th>\n",
       "      <td>Q1</td>\n",
       "      <td>0.001</td>\n",
       "      <td>0.766699</td>\n",
       "      <td>0.355878</td>\n",
       "      <td>0.944444</td>\n",
       "    </tr>\n",
       "    <tr>\n",
       "      <th>2</th>\n",
       "      <td>Q1</td>\n",
       "      <td>0.002</td>\n",
       "      <td>0.766699</td>\n",
       "      <td>0.355878</td>\n",
       "      <td>0.944444</td>\n",
       "    </tr>\n",
       "    <tr>\n",
       "      <th>3</th>\n",
       "      <td>Q1</td>\n",
       "      <td>0.003</td>\n",
       "      <td>0.769555</td>\n",
       "      <td>0.355489</td>\n",
       "      <td>0.944444</td>\n",
       "    </tr>\n",
       "    <tr>\n",
       "      <th>4</th>\n",
       "      <td>Q1</td>\n",
       "      <td>0.004</td>\n",
       "      <td>0.769555</td>\n",
       "      <td>0.355489</td>\n",
       "      <td>0.944444</td>\n",
       "    </tr>\n",
       "  </tbody>\n",
       "</table>\n",
       "</div>"
      ],
      "text/plain": [
       "  query_id factor   ndcg@24     ap@24  eval_prop\n",
       "0       Q1  0.000  0.766699  0.355878   0.944444\n",
       "1       Q1  0.001  0.766699  0.355878   0.944444\n",
       "2       Q1  0.002  0.766699  0.355878   0.944444\n",
       "3       Q1  0.003  0.769555  0.355489   0.944444\n",
       "4       Q1  0.004  0.769555  0.355489   0.944444"
      ]
     },
     "execution_count": 33,
     "metadata": {},
     "output_type": "execute_result"
    }
   ],
   "source": [
    "metrics_df = create_new_aqe_metrics(\n",
    "    validation_dataset,\n",
    "    boost_cols=[\"factor\"]\n",
    ")\n",
    "metrics_df.head()"
   ]
  },
  {
   "attachments": {},
   "cell_type": "markdown",
   "metadata": {},
   "source": [
    "#### Avaliando métricas\n",
    "\n",
    "Vamos agora avaliar as métricas. Vamos utilizar as seguintes métricas:\n",
    "\n",
    "* ndcg - Normalized Discounted Cumulative Gain\n",
    "* map - Mean Average Precision\n",
    "* eval_prop - Proporção de documentos avaliados\n",
    "\n",
    "Vejamos qual o melhor fator de boost, utilizando a média dos NDCG@24:"
   ]
  },
  {
   "cell_type": "code",
   "execution_count": 38,
   "metadata": {},
   "outputs": [
    {
     "data": {
      "application/vnd.plotly.v1+json": {
       "config": {
        "plotlyServerURL": "https://plot.ly"
       },
       "data": [
        {
         "hovertemplate": "Fator de boost=%{x}<br>NDCG@24 médio=%{y}<extra></extra>",
         "legendgroup": "",
         "line": {
          "color": "#636efa",
          "dash": "solid"
         },
         "marker": {
          "symbol": "circle"
         },
         "mode": "lines+markers",
         "name": "",
         "orientation": "v",
         "showlegend": false,
         "type": "scatter",
         "x": [
          "0.000",
          "0.001",
          "0.002",
          "0.003",
          "0.004",
          "0.005",
          "0.006",
          "0.007",
          "0.008",
          "0.009",
          "0.010",
          "0.011",
          "0.012",
          "0.013",
          "0.014",
          "0.015",
          "0.016",
          "0.017",
          "0.018",
          "0.019",
          "0.020",
          "0.021",
          "0.022",
          "0.023",
          "0.024",
          "0.025",
          "0.026",
          "0.027",
          "0.028",
          "0.029",
          "0.030",
          "0.031",
          "0.032",
          "0.033",
          "0.034",
          "0.035",
          "0.036",
          "0.037",
          "0.038",
          "0.039",
          "0.040",
          "0.041",
          "0.042",
          "0.043",
          "0.044",
          "0.045",
          "0.046",
          "0.047",
          "0.048",
          "0.049",
          "0.050",
          "0.051",
          "0.052",
          "0.053",
          "0.054",
          "0.055",
          "0.056",
          "0.057",
          "0.058",
          "0.059",
          "0.060",
          "0.061",
          "0.062",
          "0.063",
          "0.064",
          "0.065",
          "0.066",
          "0.067",
          "0.068",
          "0.069",
          "0.070",
          "0.071",
          "0.072",
          "0.073",
          "0.074",
          "0.075",
          "0.076",
          "0.077",
          "0.078",
          "0.079",
          "0.080",
          "0.081",
          "0.082",
          "0.083",
          "0.084",
          "0.085",
          "0.086",
          "0.087",
          "0.088",
          "0.089",
          "0.090",
          "0.091",
          "0.092",
          "0.093",
          "0.094",
          "0.095",
          "0.096",
          "0.097",
          "0.098",
          "0.099",
          "0.100",
          "0.101",
          "0.102",
          "0.103",
          "0.104",
          "0.105",
          "0.106",
          "0.107",
          "0.108",
          "0.109",
          "0.110",
          "0.111",
          "0.112",
          "0.113",
          "0.114",
          "0.115",
          "0.116",
          "0.117",
          "0.118",
          "0.119",
          "0.120",
          "0.121",
          "0.122",
          "0.123",
          "0.124",
          "0.125",
          "0.126",
          "0.127",
          "0.128",
          "0.129",
          "0.130",
          "0.131",
          "0.132",
          "0.133",
          "0.134",
          "0.135",
          "0.136",
          "0.137",
          "0.138",
          "0.139",
          "0.140",
          "0.141",
          "0.142",
          "0.143",
          "0.144",
          "0.145",
          "0.146",
          "0.147",
          "0.148",
          "0.149",
          "0.150",
          "0.151",
          "0.152",
          "0.153",
          "0.154",
          "0.155",
          "0.156",
          "0.157",
          "0.158",
          "0.159",
          "0.160",
          "0.161",
          "0.162",
          "0.163",
          "0.164",
          "0.165",
          "0.166",
          "0.167",
          "0.168",
          "0.169",
          "0.170",
          "0.171",
          "0.172",
          "0.173",
          "0.174",
          "0.175",
          "0.176",
          "0.177",
          "0.178",
          "0.179",
          "0.180",
          "0.181",
          "0.182",
          "0.183",
          "0.184",
          "0.185",
          "0.186",
          "0.187",
          "0.188",
          "0.189",
          "0.190",
          "0.191",
          "0.192",
          "0.193",
          "0.194",
          "0.195",
          "0.196",
          "0.197",
          "0.198",
          "0.199",
          "0.200",
          "0.201",
          "0.202",
          "0.203",
          "0.204",
          "0.205",
          "0.206",
          "0.207",
          "0.208",
          "0.209",
          "0.210",
          "0.211",
          "0.212",
          "0.213",
          "0.214",
          "0.215",
          "0.216",
          "0.217",
          "0.218",
          "0.219",
          "0.220",
          "0.221",
          "0.222",
          "0.223",
          "0.224",
          "0.225",
          "0.226",
          "0.227",
          "0.228",
          "0.229",
          "0.230",
          "0.231",
          "0.232",
          "0.233",
          "0.234",
          "0.235",
          "0.236",
          "0.237",
          "0.238",
          "0.239",
          "0.240",
          "0.241",
          "0.242",
          "0.243",
          "0.244",
          "0.245",
          "0.246",
          "0.247",
          "0.248",
          "0.249"
         ],
         "xaxis": "x",
         "y": [
          0.7602590640677803,
          0.7624230043390776,
          0.7637454108963335,
          0.7657167377766704,
          0.766300603147717,
          0.7691640138838505,
          0.7710095446898896,
          0.7695695693003762,
          0.7705153401922648,
          0.7696132793569077,
          0.7693463246558448,
          0.7685571512758644,
          0.7702304704703863,
          0.7697342689795628,
          0.7701355238992278,
          0.7704714207752758,
          0.7701276961180598,
          0.7703985616576687,
          0.7692189770402479,
          0.7696252776657375,
          0.7699374074224741,
          0.7702749870472881,
          0.7696487163860213,
          0.7693501594068411,
          0.7700730307083642,
          0.77007719574324,
          0.7724147534195882,
          0.772119201039865,
          0.7723686933976568,
          0.7721116721938744,
          0.7720795548354397,
          0.7721714113592666,
          0.771663042358156,
          0.7715361959251833,
          0.771261837919013,
          0.7702494679421469,
          0.770191537490799,
          0.7698013552612313,
          0.7665671798639213,
          0.7657592351906118,
          0.7674401994959568,
          0.7692871032571439,
          0.7694306873691213,
          0.7693880971455711,
          0.7705394069480798,
          0.7705121225963166,
          0.7705374539769142,
          0.7700066667973806,
          0.7700936048234857,
          0.7701156994565082,
          0.7700381409811016,
          0.7700849765984069,
          0.769047171522624,
          0.7689619638906425,
          0.769072653457442,
          0.7688606648016354,
          0.7694794555816723,
          0.7695239034704551,
          0.7697388078220995,
          0.7696309916960891,
          0.7695774130413849,
          0.7691503677237798,
          0.768042175253186,
          0.7682019337800994,
          0.7688013996763207,
          0.7687455192766883,
          0.7689582323189436,
          0.7691370816883003,
          0.7690912221819379,
          0.7690969643719175,
          0.7696203131471564,
          0.7688788786166529,
          0.7684016630612678,
          0.7682885601414736,
          0.7674222175446196,
          0.7676265719602685,
          0.7676933968960702,
          0.7677283137871147,
          0.7677488184418116,
          0.7657566377678134,
          0.7659277948435649,
          0.7656266598523719,
          0.765912504730158,
          0.7658155040430694,
          0.7662605379681112,
          0.7663304681223119,
          0.7663813863897724,
          0.7663263310964149,
          0.7660983632730649,
          0.7658656154070856,
          0.7654806926313974,
          0.7654503394081719,
          0.7656517405224889,
          0.7651734375599611,
          0.76531085339656,
          0.7652044917847641,
          0.7653540271794568,
          0.7653566426725533,
          0.7653916186488209,
          0.7654855550928006,
          0.765826855364065,
          0.7657532499510582,
          0.7651524219573941,
          0.7651152761286033,
          0.7647416658303453,
          0.7647581338839619,
          0.7640992737575449,
          0.7641076125536227,
          0.7637546846009043,
          0.7643764107038598,
          0.7637661638145077,
          0.7628431006007637,
          0.7628442052606181,
          0.7628703392850885,
          0.762793421690636,
          0.7627416582291293,
          0.7596151667184704,
          0.7599631297378112,
          0.7597408132266547,
          0.759858452577303,
          0.7600828437996895,
          0.760065266874998,
          0.7598460441106099,
          0.7598642601933391,
          0.7598322747455736,
          0.7598939244837831,
          0.7598905303654355,
          0.7593067253447494,
          0.7592881988244379,
          0.7592739847258482,
          0.7592639661411369,
          0.7592190429235789,
          0.7592119147012018,
          0.7594223346331277,
          0.7594573799387392,
          0.7594047466971728,
          0.7592621869403229,
          0.7593875913541083,
          0.7594924770542107,
          0.7593689789354926,
          0.7594195954662533,
          0.7591524893714026,
          0.7591914763632898,
          0.7591302453869193,
          0.7588708690631307,
          0.7588419793711997,
          0.758765753479689,
          0.7580090114045638,
          0.7581291536851843,
          0.7577981224867574,
          0.757779703581251,
          0.7571243555073788,
          0.7571524642268769,
          0.7573171885259573,
          0.7572410500285713,
          0.7570084859071952,
          0.7568694820175446,
          0.7566968521409828,
          0.7565362083967179,
          0.7559120336889472,
          0.755901529047274,
          0.7555868046771156,
          0.755365562467924,
          0.7554182423259892,
          0.7553824422319597,
          0.7552289960644595,
          0.7551174106239474,
          0.7550713499364571,
          0.7552083063837866,
          0.7553053712695305,
          0.7552474836026887,
          0.7552207191347335,
          0.7553715955766402,
          0.7552037778801102,
          0.7548621922407831,
          0.7548639476744425,
          0.754835703681656,
          0.7547833634464818,
          0.7547555630058108,
          0.7546427355666442,
          0.7545735828919256,
          0.7544575531219612,
          0.7545005932911866,
          0.7542065608678021,
          0.7541586926059973,
          0.7533519370882991,
          0.7533702896495156,
          0.7532232923044193,
          0.7533078798019102,
          0.7532261448710011,
          0.7515612506188447,
          0.7512872353154645,
          0.7511077629406752,
          0.7509852841677552,
          0.7510798183496419,
          0.7511664154966073,
          0.7510969047444322,
          0.7511366570826369,
          0.7511322294859945,
          0.7507490641882251,
          0.7506979719084357,
          0.7506532560150079,
          0.7508333172137421,
          0.7510298435363757,
          0.7509330178092409,
          0.7509953947818804,
          0.751111424892186,
          0.7510091620355475,
          0.7510298148498569,
          0.7510584583453982,
          0.7510387905286252,
          0.7509405528722859,
          0.7513932772066602,
          0.7513631320650637,
          0.7513566993155529,
          0.7515422613876483,
          0.7511515337292944,
          0.7511311643860605,
          0.751067023588476,
          0.751025089074047,
          0.7509121860931428,
          0.7510206313051085,
          0.7511415406445485,
          0.7511821940228802,
          0.7492898550741858,
          0.7492655737752025,
          0.7491692469853136,
          0.7490549221751718,
          0.748989087897498,
          0.7488807857853559,
          0.7489108135556797,
          0.7489442253806232,
          0.7489103657612429,
          0.74895058401188,
          0.7489227573390907,
          0.7489227573390907,
          0.7491348020655026,
          0.7493740690360892,
          0.7492469281845152,
          0.7492469281845152,
          0.7491149665836111,
          0.7490824421061139,
          0.7487513794128169,
          0.7493295702978761,
          0.7490710333800861,
          0.7488642909770048,
          0.7487110116935617,
          0.7486770006987699,
          0.7486178058573582,
          0.7484807142808682
         ],
         "yaxis": "y"
        }
       ],
       "layout": {
        "legend": {
         "tracegroupgap": 0
        },
        "template": {
         "data": {
          "bar": [
           {
            "error_x": {
             "color": "#2a3f5f"
            },
            "error_y": {
             "color": "#2a3f5f"
            },
            "marker": {
             "line": {
              "color": "#E5ECF6",
              "width": 0.5
             },
             "pattern": {
              "fillmode": "overlay",
              "size": 10,
              "solidity": 0.2
             }
            },
            "type": "bar"
           }
          ],
          "barpolar": [
           {
            "marker": {
             "line": {
              "color": "#E5ECF6",
              "width": 0.5
             },
             "pattern": {
              "fillmode": "overlay",
              "size": 10,
              "solidity": 0.2
             }
            },
            "type": "barpolar"
           }
          ],
          "carpet": [
           {
            "aaxis": {
             "endlinecolor": "#2a3f5f",
             "gridcolor": "white",
             "linecolor": "white",
             "minorgridcolor": "white",
             "startlinecolor": "#2a3f5f"
            },
            "baxis": {
             "endlinecolor": "#2a3f5f",
             "gridcolor": "white",
             "linecolor": "white",
             "minorgridcolor": "white",
             "startlinecolor": "#2a3f5f"
            },
            "type": "carpet"
           }
          ],
          "choropleth": [
           {
            "colorbar": {
             "outlinewidth": 0,
             "ticks": ""
            },
            "type": "choropleth"
           }
          ],
          "contour": [
           {
            "colorbar": {
             "outlinewidth": 0,
             "ticks": ""
            },
            "colorscale": [
             [
              0,
              "#0d0887"
             ],
             [
              0.1111111111111111,
              "#46039f"
             ],
             [
              0.2222222222222222,
              "#7201a8"
             ],
             [
              0.3333333333333333,
              "#9c179e"
             ],
             [
              0.4444444444444444,
              "#bd3786"
             ],
             [
              0.5555555555555556,
              "#d8576b"
             ],
             [
              0.6666666666666666,
              "#ed7953"
             ],
             [
              0.7777777777777778,
              "#fb9f3a"
             ],
             [
              0.8888888888888888,
              "#fdca26"
             ],
             [
              1,
              "#f0f921"
             ]
            ],
            "type": "contour"
           }
          ],
          "contourcarpet": [
           {
            "colorbar": {
             "outlinewidth": 0,
             "ticks": ""
            },
            "type": "contourcarpet"
           }
          ],
          "heatmap": [
           {
            "colorbar": {
             "outlinewidth": 0,
             "ticks": ""
            },
            "colorscale": [
             [
              0,
              "#0d0887"
             ],
             [
              0.1111111111111111,
              "#46039f"
             ],
             [
              0.2222222222222222,
              "#7201a8"
             ],
             [
              0.3333333333333333,
              "#9c179e"
             ],
             [
              0.4444444444444444,
              "#bd3786"
             ],
             [
              0.5555555555555556,
              "#d8576b"
             ],
             [
              0.6666666666666666,
              "#ed7953"
             ],
             [
              0.7777777777777778,
              "#fb9f3a"
             ],
             [
              0.8888888888888888,
              "#fdca26"
             ],
             [
              1,
              "#f0f921"
             ]
            ],
            "type": "heatmap"
           }
          ],
          "heatmapgl": [
           {
            "colorbar": {
             "outlinewidth": 0,
             "ticks": ""
            },
            "colorscale": [
             [
              0,
              "#0d0887"
             ],
             [
              0.1111111111111111,
              "#46039f"
             ],
             [
              0.2222222222222222,
              "#7201a8"
             ],
             [
              0.3333333333333333,
              "#9c179e"
             ],
             [
              0.4444444444444444,
              "#bd3786"
             ],
             [
              0.5555555555555556,
              "#d8576b"
             ],
             [
              0.6666666666666666,
              "#ed7953"
             ],
             [
              0.7777777777777778,
              "#fb9f3a"
             ],
             [
              0.8888888888888888,
              "#fdca26"
             ],
             [
              1,
              "#f0f921"
             ]
            ],
            "type": "heatmapgl"
           }
          ],
          "histogram": [
           {
            "marker": {
             "pattern": {
              "fillmode": "overlay",
              "size": 10,
              "solidity": 0.2
             }
            },
            "type": "histogram"
           }
          ],
          "histogram2d": [
           {
            "colorbar": {
             "outlinewidth": 0,
             "ticks": ""
            },
            "colorscale": [
             [
              0,
              "#0d0887"
             ],
             [
              0.1111111111111111,
              "#46039f"
             ],
             [
              0.2222222222222222,
              "#7201a8"
             ],
             [
              0.3333333333333333,
              "#9c179e"
             ],
             [
              0.4444444444444444,
              "#bd3786"
             ],
             [
              0.5555555555555556,
              "#d8576b"
             ],
             [
              0.6666666666666666,
              "#ed7953"
             ],
             [
              0.7777777777777778,
              "#fb9f3a"
             ],
             [
              0.8888888888888888,
              "#fdca26"
             ],
             [
              1,
              "#f0f921"
             ]
            ],
            "type": "histogram2d"
           }
          ],
          "histogram2dcontour": [
           {
            "colorbar": {
             "outlinewidth": 0,
             "ticks": ""
            },
            "colorscale": [
             [
              0,
              "#0d0887"
             ],
             [
              0.1111111111111111,
              "#46039f"
             ],
             [
              0.2222222222222222,
              "#7201a8"
             ],
             [
              0.3333333333333333,
              "#9c179e"
             ],
             [
              0.4444444444444444,
              "#bd3786"
             ],
             [
              0.5555555555555556,
              "#d8576b"
             ],
             [
              0.6666666666666666,
              "#ed7953"
             ],
             [
              0.7777777777777778,
              "#fb9f3a"
             ],
             [
              0.8888888888888888,
              "#fdca26"
             ],
             [
              1,
              "#f0f921"
             ]
            ],
            "type": "histogram2dcontour"
           }
          ],
          "mesh3d": [
           {
            "colorbar": {
             "outlinewidth": 0,
             "ticks": ""
            },
            "type": "mesh3d"
           }
          ],
          "parcoords": [
           {
            "line": {
             "colorbar": {
              "outlinewidth": 0,
              "ticks": ""
             }
            },
            "type": "parcoords"
           }
          ],
          "pie": [
           {
            "automargin": true,
            "type": "pie"
           }
          ],
          "scatter": [
           {
            "fillpattern": {
             "fillmode": "overlay",
             "size": 10,
             "solidity": 0.2
            },
            "type": "scatter"
           }
          ],
          "scatter3d": [
           {
            "line": {
             "colorbar": {
              "outlinewidth": 0,
              "ticks": ""
             }
            },
            "marker": {
             "colorbar": {
              "outlinewidth": 0,
              "ticks": ""
             }
            },
            "type": "scatter3d"
           }
          ],
          "scattercarpet": [
           {
            "marker": {
             "colorbar": {
              "outlinewidth": 0,
              "ticks": ""
             }
            },
            "type": "scattercarpet"
           }
          ],
          "scattergeo": [
           {
            "marker": {
             "colorbar": {
              "outlinewidth": 0,
              "ticks": ""
             }
            },
            "type": "scattergeo"
           }
          ],
          "scattergl": [
           {
            "marker": {
             "colorbar": {
              "outlinewidth": 0,
              "ticks": ""
             }
            },
            "type": "scattergl"
           }
          ],
          "scattermapbox": [
           {
            "marker": {
             "colorbar": {
              "outlinewidth": 0,
              "ticks": ""
             }
            },
            "type": "scattermapbox"
           }
          ],
          "scatterpolar": [
           {
            "marker": {
             "colorbar": {
              "outlinewidth": 0,
              "ticks": ""
             }
            },
            "type": "scatterpolar"
           }
          ],
          "scatterpolargl": [
           {
            "marker": {
             "colorbar": {
              "outlinewidth": 0,
              "ticks": ""
             }
            },
            "type": "scatterpolargl"
           }
          ],
          "scatterternary": [
           {
            "marker": {
             "colorbar": {
              "outlinewidth": 0,
              "ticks": ""
             }
            },
            "type": "scatterternary"
           }
          ],
          "surface": [
           {
            "colorbar": {
             "outlinewidth": 0,
             "ticks": ""
            },
            "colorscale": [
             [
              0,
              "#0d0887"
             ],
             [
              0.1111111111111111,
              "#46039f"
             ],
             [
              0.2222222222222222,
              "#7201a8"
             ],
             [
              0.3333333333333333,
              "#9c179e"
             ],
             [
              0.4444444444444444,
              "#bd3786"
             ],
             [
              0.5555555555555556,
              "#d8576b"
             ],
             [
              0.6666666666666666,
              "#ed7953"
             ],
             [
              0.7777777777777778,
              "#fb9f3a"
             ],
             [
              0.8888888888888888,
              "#fdca26"
             ],
             [
              1,
              "#f0f921"
             ]
            ],
            "type": "surface"
           }
          ],
          "table": [
           {
            "cells": {
             "fill": {
              "color": "#EBF0F8"
             },
             "line": {
              "color": "white"
             }
            },
            "header": {
             "fill": {
              "color": "#C8D4E3"
             },
             "line": {
              "color": "white"
             }
            },
            "type": "table"
           }
          ]
         },
         "layout": {
          "annotationdefaults": {
           "arrowcolor": "#2a3f5f",
           "arrowhead": 0,
           "arrowwidth": 1
          },
          "autotypenumbers": "strict",
          "coloraxis": {
           "colorbar": {
            "outlinewidth": 0,
            "ticks": ""
           }
          },
          "colorscale": {
           "diverging": [
            [
             0,
             "#8e0152"
            ],
            [
             0.1,
             "#c51b7d"
            ],
            [
             0.2,
             "#de77ae"
            ],
            [
             0.3,
             "#f1b6da"
            ],
            [
             0.4,
             "#fde0ef"
            ],
            [
             0.5,
             "#f7f7f7"
            ],
            [
             0.6,
             "#e6f5d0"
            ],
            [
             0.7,
             "#b8e186"
            ],
            [
             0.8,
             "#7fbc41"
            ],
            [
             0.9,
             "#4d9221"
            ],
            [
             1,
             "#276419"
            ]
           ],
           "sequential": [
            [
             0,
             "#0d0887"
            ],
            [
             0.1111111111111111,
             "#46039f"
            ],
            [
             0.2222222222222222,
             "#7201a8"
            ],
            [
             0.3333333333333333,
             "#9c179e"
            ],
            [
             0.4444444444444444,
             "#bd3786"
            ],
            [
             0.5555555555555556,
             "#d8576b"
            ],
            [
             0.6666666666666666,
             "#ed7953"
            ],
            [
             0.7777777777777778,
             "#fb9f3a"
            ],
            [
             0.8888888888888888,
             "#fdca26"
            ],
            [
             1,
             "#f0f921"
            ]
           ],
           "sequentialminus": [
            [
             0,
             "#0d0887"
            ],
            [
             0.1111111111111111,
             "#46039f"
            ],
            [
             0.2222222222222222,
             "#7201a8"
            ],
            [
             0.3333333333333333,
             "#9c179e"
            ],
            [
             0.4444444444444444,
             "#bd3786"
            ],
            [
             0.5555555555555556,
             "#d8576b"
            ],
            [
             0.6666666666666666,
             "#ed7953"
            ],
            [
             0.7777777777777778,
             "#fb9f3a"
            ],
            [
             0.8888888888888888,
             "#fdca26"
            ],
            [
             1,
             "#f0f921"
            ]
           ]
          },
          "colorway": [
           "#636efa",
           "#EF553B",
           "#00cc96",
           "#ab63fa",
           "#FFA15A",
           "#19d3f3",
           "#FF6692",
           "#B6E880",
           "#FF97FF",
           "#FECB52"
          ],
          "font": {
           "color": "#2a3f5f"
          },
          "geo": {
           "bgcolor": "white",
           "lakecolor": "white",
           "landcolor": "#E5ECF6",
           "showlakes": true,
           "showland": true,
           "subunitcolor": "white"
          },
          "hoverlabel": {
           "align": "left"
          },
          "hovermode": "closest",
          "mapbox": {
           "style": "light"
          },
          "paper_bgcolor": "white",
          "plot_bgcolor": "#E5ECF6",
          "polar": {
           "angularaxis": {
            "gridcolor": "white",
            "linecolor": "white",
            "ticks": ""
           },
           "bgcolor": "#E5ECF6",
           "radialaxis": {
            "gridcolor": "white",
            "linecolor": "white",
            "ticks": ""
           }
          },
          "scene": {
           "xaxis": {
            "backgroundcolor": "#E5ECF6",
            "gridcolor": "white",
            "gridwidth": 2,
            "linecolor": "white",
            "showbackground": true,
            "ticks": "",
            "zerolinecolor": "white"
           },
           "yaxis": {
            "backgroundcolor": "#E5ECF6",
            "gridcolor": "white",
            "gridwidth": 2,
            "linecolor": "white",
            "showbackground": true,
            "ticks": "",
            "zerolinecolor": "white"
           },
           "zaxis": {
            "backgroundcolor": "#E5ECF6",
            "gridcolor": "white",
            "gridwidth": 2,
            "linecolor": "white",
            "showbackground": true,
            "ticks": "",
            "zerolinecolor": "white"
           }
          },
          "shapedefaults": {
           "line": {
            "color": "#2a3f5f"
           }
          },
          "ternary": {
           "aaxis": {
            "gridcolor": "white",
            "linecolor": "white",
            "ticks": ""
           },
           "baxis": {
            "gridcolor": "white",
            "linecolor": "white",
            "ticks": ""
           },
           "bgcolor": "#E5ECF6",
           "caxis": {
            "gridcolor": "white",
            "linecolor": "white",
            "ticks": ""
           }
          },
          "title": {
           "x": 0.05
          },
          "xaxis": {
           "automargin": true,
           "gridcolor": "white",
           "linecolor": "white",
           "ticks": "",
           "title": {
            "standoff": 15
           },
           "zerolinecolor": "white",
           "zerolinewidth": 2
          },
          "yaxis": {
           "automargin": true,
           "gridcolor": "white",
           "linecolor": "white",
           "ticks": "",
           "title": {
            "standoff": 15
           },
           "zerolinecolor": "white",
           "zerolinewidth": 2
          }
         }
        },
        "title": {
         "text": "NDCG@24 médio para cada fator de boost"
        },
        "xaxis": {
         "anchor": "y",
         "domain": [
          0,
          1
         ],
         "title": {
          "text": "Fator de boost"
         }
        },
        "yaxis": {
         "anchor": "x",
         "domain": [
          0,
          1
         ],
         "title": {
          "text": "NDCG@24 médio"
         }
        }
       }
      }
     },
     "metadata": {},
     "output_type": "display_data"
    }
   ],
   "source": [
    "data_viz = metrics_df.groupby(\n",
    "    \"factor\"\n",
    ").agg(\n",
    "    mean_ndcg = (\"ndcg@24\", \"mean\")\n",
    ").reset_index()\n",
    "\n",
    "fig = px.line(\n",
    "    data_viz,\n",
    "    x=\"factor\",\n",
    "    y=\"mean_ndcg\",\n",
    "    labels={\n",
    "        \"factor\": \"Fator de boost\",\n",
    "        \"mean_ndcg\": \"NDCG@24 médio\",\n",
    "    },\n",
    "    markers=True,\n",
    "    title=\"NDCG@24 médio para cada fator de boost\"\n",
    ")\n",
    "fig.show()"
   ]
  },
  {
   "attachments": {},
   "cell_type": "markdown",
   "metadata": {},
   "source": [
    "Podemos ver que os fatores de boost único mais interessantes, independente da base de dados, ficam entre 0,006 e 0,070. O fator de boost único que obteve melhor resultado foi 0,026, o qual obteve NDCG@24 médio de 77,24%.\n",
    "\n",
    "Vejamos agora os resultados individuais das queries:"
   ]
  },
  {
   "cell_type": "code",
   "execution_count": 49,
   "metadata": {},
   "outputs": [
    {
     "data": {
      "application/vnd.plotly.v1+json": {
       "config": {
        "plotlyServerURL": "https://plot.ly"
       },
       "data": [
        {
         "alignmentgroup": "True",
         "hovertemplate": "Query ID=%{x}<br>NDCG@24=%{y}<extra></extra>",
         "legendgroup": "",
         "marker": {
          "color": "#636efa",
          "pattern": {
           "shape": ""
          }
         },
         "name": "",
         "offsetgroup": "",
         "orientation": "v",
         "showlegend": false,
         "textposition": "auto",
         "type": "bar",
         "x": [
          "Q14",
          "Q8",
          "Q25",
          "Q27",
          "Q13",
          "Q10",
          "Q9",
          "Q28",
          "Q22",
          "Q32",
          "Q24",
          "Q30",
          "Q23",
          "Q29",
          "Q3",
          "Q26",
          "Q18",
          "Q20",
          "Q5",
          "Q7",
          "Q2",
          "Q12",
          "Q1",
          "Q11",
          "Q4",
          "Q34",
          "Q6",
          "Q19",
          "Q15",
          "Q33",
          "Q31",
          "Q21",
          "Q17",
          "Q16"
         ],
         "xaxis": "x",
         "y": [
          0.987427202809649,
          0.9867145270106955,
          0.9757895037073612,
          0.9742584234423126,
          0.9640114181092141,
          0.9622805733686516,
          0.9582710283899695,
          0.9073169672448281,
          0.9057492537375226,
          0.8860296432479912,
          0.8645465509166808,
          0.8620391862197744,
          0.8335542122913379,
          0.8331566425936204,
          0.822432335190592,
          0.8197647101457172,
          0.8039224200186578,
          0.8009186785051009,
          0.7962963649711832,
          0.7913508079145803,
          0.7885022848560661,
          0.7658497577521675,
          0.7637976343076902,
          0.7635409954978967,
          0.7550800573433964,
          0.6490854104703833,
          0.6429631196699406,
          0.6077487470008034,
          0.596800741434114,
          0.5795129706591177,
          0.5316146816691919,
          0.37854739733953907,
          0.3610997091986205,
          0.3421276592316314
         ],
         "yaxis": "y"
        }
       ],
       "layout": {
        "barmode": "relative",
        "legend": {
         "tracegroupgap": 0
        },
        "margin": {
         "t": 60
        },
        "template": {
         "data": {
          "bar": [
           {
            "error_x": {
             "color": "#2a3f5f"
            },
            "error_y": {
             "color": "#2a3f5f"
            },
            "marker": {
             "line": {
              "color": "#E5ECF6",
              "width": 0.5
             },
             "pattern": {
              "fillmode": "overlay",
              "size": 10,
              "solidity": 0.2
             }
            },
            "type": "bar"
           }
          ],
          "barpolar": [
           {
            "marker": {
             "line": {
              "color": "#E5ECF6",
              "width": 0.5
             },
             "pattern": {
              "fillmode": "overlay",
              "size": 10,
              "solidity": 0.2
             }
            },
            "type": "barpolar"
           }
          ],
          "carpet": [
           {
            "aaxis": {
             "endlinecolor": "#2a3f5f",
             "gridcolor": "white",
             "linecolor": "white",
             "minorgridcolor": "white",
             "startlinecolor": "#2a3f5f"
            },
            "baxis": {
             "endlinecolor": "#2a3f5f",
             "gridcolor": "white",
             "linecolor": "white",
             "minorgridcolor": "white",
             "startlinecolor": "#2a3f5f"
            },
            "type": "carpet"
           }
          ],
          "choropleth": [
           {
            "colorbar": {
             "outlinewidth": 0,
             "ticks": ""
            },
            "type": "choropleth"
           }
          ],
          "contour": [
           {
            "colorbar": {
             "outlinewidth": 0,
             "ticks": ""
            },
            "colorscale": [
             [
              0,
              "#0d0887"
             ],
             [
              0.1111111111111111,
              "#46039f"
             ],
             [
              0.2222222222222222,
              "#7201a8"
             ],
             [
              0.3333333333333333,
              "#9c179e"
             ],
             [
              0.4444444444444444,
              "#bd3786"
             ],
             [
              0.5555555555555556,
              "#d8576b"
             ],
             [
              0.6666666666666666,
              "#ed7953"
             ],
             [
              0.7777777777777778,
              "#fb9f3a"
             ],
             [
              0.8888888888888888,
              "#fdca26"
             ],
             [
              1,
              "#f0f921"
             ]
            ],
            "type": "contour"
           }
          ],
          "contourcarpet": [
           {
            "colorbar": {
             "outlinewidth": 0,
             "ticks": ""
            },
            "type": "contourcarpet"
           }
          ],
          "heatmap": [
           {
            "colorbar": {
             "outlinewidth": 0,
             "ticks": ""
            },
            "colorscale": [
             [
              0,
              "#0d0887"
             ],
             [
              0.1111111111111111,
              "#46039f"
             ],
             [
              0.2222222222222222,
              "#7201a8"
             ],
             [
              0.3333333333333333,
              "#9c179e"
             ],
             [
              0.4444444444444444,
              "#bd3786"
             ],
             [
              0.5555555555555556,
              "#d8576b"
             ],
             [
              0.6666666666666666,
              "#ed7953"
             ],
             [
              0.7777777777777778,
              "#fb9f3a"
             ],
             [
              0.8888888888888888,
              "#fdca26"
             ],
             [
              1,
              "#f0f921"
             ]
            ],
            "type": "heatmap"
           }
          ],
          "heatmapgl": [
           {
            "colorbar": {
             "outlinewidth": 0,
             "ticks": ""
            },
            "colorscale": [
             [
              0,
              "#0d0887"
             ],
             [
              0.1111111111111111,
              "#46039f"
             ],
             [
              0.2222222222222222,
              "#7201a8"
             ],
             [
              0.3333333333333333,
              "#9c179e"
             ],
             [
              0.4444444444444444,
              "#bd3786"
             ],
             [
              0.5555555555555556,
              "#d8576b"
             ],
             [
              0.6666666666666666,
              "#ed7953"
             ],
             [
              0.7777777777777778,
              "#fb9f3a"
             ],
             [
              0.8888888888888888,
              "#fdca26"
             ],
             [
              1,
              "#f0f921"
             ]
            ],
            "type": "heatmapgl"
           }
          ],
          "histogram": [
           {
            "marker": {
             "pattern": {
              "fillmode": "overlay",
              "size": 10,
              "solidity": 0.2
             }
            },
            "type": "histogram"
           }
          ],
          "histogram2d": [
           {
            "colorbar": {
             "outlinewidth": 0,
             "ticks": ""
            },
            "colorscale": [
             [
              0,
              "#0d0887"
             ],
             [
              0.1111111111111111,
              "#46039f"
             ],
             [
              0.2222222222222222,
              "#7201a8"
             ],
             [
              0.3333333333333333,
              "#9c179e"
             ],
             [
              0.4444444444444444,
              "#bd3786"
             ],
             [
              0.5555555555555556,
              "#d8576b"
             ],
             [
              0.6666666666666666,
              "#ed7953"
             ],
             [
              0.7777777777777778,
              "#fb9f3a"
             ],
             [
              0.8888888888888888,
              "#fdca26"
             ],
             [
              1,
              "#f0f921"
             ]
            ],
            "type": "histogram2d"
           }
          ],
          "histogram2dcontour": [
           {
            "colorbar": {
             "outlinewidth": 0,
             "ticks": ""
            },
            "colorscale": [
             [
              0,
              "#0d0887"
             ],
             [
              0.1111111111111111,
              "#46039f"
             ],
             [
              0.2222222222222222,
              "#7201a8"
             ],
             [
              0.3333333333333333,
              "#9c179e"
             ],
             [
              0.4444444444444444,
              "#bd3786"
             ],
             [
              0.5555555555555556,
              "#d8576b"
             ],
             [
              0.6666666666666666,
              "#ed7953"
             ],
             [
              0.7777777777777778,
              "#fb9f3a"
             ],
             [
              0.8888888888888888,
              "#fdca26"
             ],
             [
              1,
              "#f0f921"
             ]
            ],
            "type": "histogram2dcontour"
           }
          ],
          "mesh3d": [
           {
            "colorbar": {
             "outlinewidth": 0,
             "ticks": ""
            },
            "type": "mesh3d"
           }
          ],
          "parcoords": [
           {
            "line": {
             "colorbar": {
              "outlinewidth": 0,
              "ticks": ""
             }
            },
            "type": "parcoords"
           }
          ],
          "pie": [
           {
            "automargin": true,
            "type": "pie"
           }
          ],
          "scatter": [
           {
            "fillpattern": {
             "fillmode": "overlay",
             "size": 10,
             "solidity": 0.2
            },
            "type": "scatter"
           }
          ],
          "scatter3d": [
           {
            "line": {
             "colorbar": {
              "outlinewidth": 0,
              "ticks": ""
             }
            },
            "marker": {
             "colorbar": {
              "outlinewidth": 0,
              "ticks": ""
             }
            },
            "type": "scatter3d"
           }
          ],
          "scattercarpet": [
           {
            "marker": {
             "colorbar": {
              "outlinewidth": 0,
              "ticks": ""
             }
            },
            "type": "scattercarpet"
           }
          ],
          "scattergeo": [
           {
            "marker": {
             "colorbar": {
              "outlinewidth": 0,
              "ticks": ""
             }
            },
            "type": "scattergeo"
           }
          ],
          "scattergl": [
           {
            "marker": {
             "colorbar": {
              "outlinewidth": 0,
              "ticks": ""
             }
            },
            "type": "scattergl"
           }
          ],
          "scattermapbox": [
           {
            "marker": {
             "colorbar": {
              "outlinewidth": 0,
              "ticks": ""
             }
            },
            "type": "scattermapbox"
           }
          ],
          "scatterpolar": [
           {
            "marker": {
             "colorbar": {
              "outlinewidth": 0,
              "ticks": ""
             }
            },
            "type": "scatterpolar"
           }
          ],
          "scatterpolargl": [
           {
            "marker": {
             "colorbar": {
              "outlinewidth": 0,
              "ticks": ""
             }
            },
            "type": "scatterpolargl"
           }
          ],
          "scatterternary": [
           {
            "marker": {
             "colorbar": {
              "outlinewidth": 0,
              "ticks": ""
             }
            },
            "type": "scatterternary"
           }
          ],
          "surface": [
           {
            "colorbar": {
             "outlinewidth": 0,
             "ticks": ""
            },
            "colorscale": [
             [
              0,
              "#0d0887"
             ],
             [
              0.1111111111111111,
              "#46039f"
             ],
             [
              0.2222222222222222,
              "#7201a8"
             ],
             [
              0.3333333333333333,
              "#9c179e"
             ],
             [
              0.4444444444444444,
              "#bd3786"
             ],
             [
              0.5555555555555556,
              "#d8576b"
             ],
             [
              0.6666666666666666,
              "#ed7953"
             ],
             [
              0.7777777777777778,
              "#fb9f3a"
             ],
             [
              0.8888888888888888,
              "#fdca26"
             ],
             [
              1,
              "#f0f921"
             ]
            ],
            "type": "surface"
           }
          ],
          "table": [
           {
            "cells": {
             "fill": {
              "color": "#EBF0F8"
             },
             "line": {
              "color": "white"
             }
            },
            "header": {
             "fill": {
              "color": "#C8D4E3"
             },
             "line": {
              "color": "white"
             }
            },
            "type": "table"
           }
          ]
         },
         "layout": {
          "annotationdefaults": {
           "arrowcolor": "#2a3f5f",
           "arrowhead": 0,
           "arrowwidth": 1
          },
          "autotypenumbers": "strict",
          "coloraxis": {
           "colorbar": {
            "outlinewidth": 0,
            "ticks": ""
           }
          },
          "colorscale": {
           "diverging": [
            [
             0,
             "#8e0152"
            ],
            [
             0.1,
             "#c51b7d"
            ],
            [
             0.2,
             "#de77ae"
            ],
            [
             0.3,
             "#f1b6da"
            ],
            [
             0.4,
             "#fde0ef"
            ],
            [
             0.5,
             "#f7f7f7"
            ],
            [
             0.6,
             "#e6f5d0"
            ],
            [
             0.7,
             "#b8e186"
            ],
            [
             0.8,
             "#7fbc41"
            ],
            [
             0.9,
             "#4d9221"
            ],
            [
             1,
             "#276419"
            ]
           ],
           "sequential": [
            [
             0,
             "#0d0887"
            ],
            [
             0.1111111111111111,
             "#46039f"
            ],
            [
             0.2222222222222222,
             "#7201a8"
            ],
            [
             0.3333333333333333,
             "#9c179e"
            ],
            [
             0.4444444444444444,
             "#bd3786"
            ],
            [
             0.5555555555555556,
             "#d8576b"
            ],
            [
             0.6666666666666666,
             "#ed7953"
            ],
            [
             0.7777777777777778,
             "#fb9f3a"
            ],
            [
             0.8888888888888888,
             "#fdca26"
            ],
            [
             1,
             "#f0f921"
            ]
           ],
           "sequentialminus": [
            [
             0,
             "#0d0887"
            ],
            [
             0.1111111111111111,
             "#46039f"
            ],
            [
             0.2222222222222222,
             "#7201a8"
            ],
            [
             0.3333333333333333,
             "#9c179e"
            ],
            [
             0.4444444444444444,
             "#bd3786"
            ],
            [
             0.5555555555555556,
             "#d8576b"
            ],
            [
             0.6666666666666666,
             "#ed7953"
            ],
            [
             0.7777777777777778,
             "#fb9f3a"
            ],
            [
             0.8888888888888888,
             "#fdca26"
            ],
            [
             1,
             "#f0f921"
            ]
           ]
          },
          "colorway": [
           "#636efa",
           "#EF553B",
           "#00cc96",
           "#ab63fa",
           "#FFA15A",
           "#19d3f3",
           "#FF6692",
           "#B6E880",
           "#FF97FF",
           "#FECB52"
          ],
          "font": {
           "color": "#2a3f5f"
          },
          "geo": {
           "bgcolor": "white",
           "lakecolor": "white",
           "landcolor": "#E5ECF6",
           "showlakes": true,
           "showland": true,
           "subunitcolor": "white"
          },
          "hoverlabel": {
           "align": "left"
          },
          "hovermode": "closest",
          "mapbox": {
           "style": "light"
          },
          "paper_bgcolor": "white",
          "plot_bgcolor": "#E5ECF6",
          "polar": {
           "angularaxis": {
            "gridcolor": "white",
            "linecolor": "white",
            "ticks": ""
           },
           "bgcolor": "#E5ECF6",
           "radialaxis": {
            "gridcolor": "white",
            "linecolor": "white",
            "ticks": ""
           }
          },
          "scene": {
           "xaxis": {
            "backgroundcolor": "#E5ECF6",
            "gridcolor": "white",
            "gridwidth": 2,
            "linecolor": "white",
            "showbackground": true,
            "ticks": "",
            "zerolinecolor": "white"
           },
           "yaxis": {
            "backgroundcolor": "#E5ECF6",
            "gridcolor": "white",
            "gridwidth": 2,
            "linecolor": "white",
            "showbackground": true,
            "ticks": "",
            "zerolinecolor": "white"
           },
           "zaxis": {
            "backgroundcolor": "#E5ECF6",
            "gridcolor": "white",
            "gridwidth": 2,
            "linecolor": "white",
            "showbackground": true,
            "ticks": "",
            "zerolinecolor": "white"
           }
          },
          "shapedefaults": {
           "line": {
            "color": "#2a3f5f"
           }
          },
          "ternary": {
           "aaxis": {
            "gridcolor": "white",
            "linecolor": "white",
            "ticks": ""
           },
           "baxis": {
            "gridcolor": "white",
            "linecolor": "white",
            "ticks": ""
           },
           "bgcolor": "#E5ECF6",
           "caxis": {
            "gridcolor": "white",
            "linecolor": "white",
            "ticks": ""
           }
          },
          "title": {
           "x": 0.05
          },
          "xaxis": {
           "automargin": true,
           "gridcolor": "white",
           "linecolor": "white",
           "ticks": "",
           "title": {
            "standoff": 15
           },
           "zerolinecolor": "white",
           "zerolinewidth": 2
          },
          "yaxis": {
           "automargin": true,
           "gridcolor": "white",
           "linecolor": "white",
           "ticks": "",
           "title": {
            "standoff": 15
           },
           "zerolinecolor": "white",
           "zerolinewidth": 2
          }
         }
        },
        "xaxis": {
         "anchor": "y",
         "domain": [
          0,
          1
         ],
         "title": {
          "text": "Query ID"
         }
        },
        "yaxis": {
         "anchor": "x",
         "domain": [
          0,
          1
         ],
         "title": {
          "text": "NDCG@24"
         }
        }
       }
      }
     },
     "metadata": {},
     "output_type": "display_data"
    }
   ],
   "source": [
    "metrics_df_factor = metrics_df.query(\n",
    "    \"factor == '0.026'\"\n",
    ")\n",
    "\n",
    "data_viz = metrics_df.query(\n",
    "    \"factor == '0.026'\"\n",
    ").sort_values(\n",
    "    [\"ndcg@24\"], ascending=False\n",
    ")\n",
    "\n",
    "fig = px.bar(\n",
    "    data_viz,\n",
    "    x=\"query_id\",\n",
    "    y=\"ndcg@24\",\n",
    "    labels={\n",
    "        \"query_id\": \"Query ID\",\n",
    "        \"ndcg@24\": \"NDCG@24\",\n",
    "    },\n",
    ")\n",
    "fig.show()"
   ]
  },
  {
   "attachments": {},
   "cell_type": "markdown",
   "metadata": {},
   "source": [
    "Podemos ver que mais de metade das queries possuem NDCG@24 acima de 0,8, e que apenas seis das 34 queries possuem valores de NDCG@24 abaixo de 0,6, onde três delas possuem valores abaixo de 0,4."
   ]
  },
  {
   "attachments": {},
   "cell_type": "markdown",
   "metadata": {},
   "source": [
    "## Conclusão\n",
    "\n",
    "Nesta análise experimentamos diferentes fatores de boost único entre 0 e 0,25, independente da base de dados, precedidos de uma poda com os cinco termos de maior relevância, definida pelo AQE. \n",
    "\n",
    "O fator de boost único 0.026 se mostrou o valor mais razoável, atingindo um **NDCG@24 de 77,24%**. A nível comparativo, o **Elasticsearch puro** resulta em um **NDCG@24 de 76,03%**, utilizar **apenas os fatores de multiplicação dos boosts** resulta em um **NDCG@24 de 77,97%**, utilizar o **mecanismo de poda com cinco termos derivados** resulta em um **NDCG@24 de 76,58%**, enquanto utilizar os **fatores de multiplicação dos boosts em conjunto com o mecanismo de poda com cinco termos derivados** resulta em um **NDCG@24 de 78,33%**. Apesar da abordagem dessa análise atingir um valor de NDCG@24 inferior a outras abordagens ela traz a vantagem de ser bem mais simplificada, visto que utiliza apenas um fator único, independente da base, trazendo celeridade na implementação do AQE."
   ]
  }
 ],
 "metadata": {
  "kernelspec": {
   "display_name": "base",
   "language": "python",
   "name": "python3"
  },
  "language_info": {
   "codemirror_mode": {
    "name": "ipython",
    "version": 3
   },
   "file_extension": ".py",
   "mimetype": "text/x-python",
   "name": "python",
   "nbconvert_exporter": "python",
   "pygments_lexer": "ipython3",
   "version": "3.9.13"
  },
  "orig_nbformat": 4
 },
 "nbformat": 4,
 "nbformat_minor": 2
}
