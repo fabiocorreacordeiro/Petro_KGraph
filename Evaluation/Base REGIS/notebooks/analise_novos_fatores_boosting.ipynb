{
 "cells": [
  {
   "attachments": {},
   "cell_type": "markdown",
   "metadata": {},
   "source": [
    "# Análise de novos fatores de boosting\n",
    "\n",
    "Nesta análise vamos partir dos conhecimentos adquiridos na análise de podas do AQE, onde descobrimos que utilizar a ordem do fator de boosting com até **cinco termos** é o método de poda mais razoável para o caso geral, o qual obteve **NDCG@24 de 76,58%**. Nesse método, foi fixado o fator de boosting de 0.100 para todos os termos, independente da base utilizada. Agora, vamos experimentar com diferentes fatores de boosting para diferentes bases de dados.\n",
    "\n",
    "Na análise das bases de dados, identificamos também as bases de dados mais relevantes para o problema. Agora vamos utilizar as três bases de dados mais relevantes, inicialmente com os pesos estáticos e similares aos identificados durante a análise anterior, os quais estão descritos abaixo: \n",
    "\n",
    "1. 06_Termos_TabelaPocosANP2019: 0.1\n",
    "2. 13_Lista_MWE: 0.08\n",
    "3. 02_Tesauro_comTraducoesRegis: 0.1"
   ]
  },
  {
   "attachments": {},
   "cell_type": "markdown",
   "metadata": {},
   "source": [
    "## Carregando libs"
   ]
  },
  {
   "cell_type": "code",
   "execution_count": null,
   "metadata": {},
   "outputs": [],
   "source": [
    "from itertools import product\n",
    "from pathlib import Path\n",
    "import json\n",
    "import yaml\n",
    "import numpy as np\n",
    "import pandas as pd\n",
    "import plotly.express as px\n",
    "\n",
    "from utils.utils import get_expanded_queries, make_elasticsearch_new_aqe_queries,\\\n",
    "    create_new_expanded_queries, create_new_aqe_validation_dataset, create_new_aqe_metrics,\\\n",
    "    expanded_with_aqe_boost_order, make_elasticsearch_new_queries, adjust_new_expanded_queries,\\\n",
    "    create_new_validation_dataset, create_new_metrics"
   ]
  },
  {
   "attachments": {},
   "cell_type": "markdown",
   "metadata": {},
   "source": [
    "## Carregando as configurações e bases dados"
   ]
  },
  {
   "cell_type": "code",
   "execution_count": null,
   "metadata": {},
   "outputs": [],
   "source": [
    "with open(\"../conf/config.yaml\", \"r\") as yamlfile:\n",
    "    cfg = yaml.safe_load(yamlfile)"
   ]
  },
  {
   "cell_type": "code",
   "execution_count": null,
   "metadata": {},
   "outputs": [],
   "source": [
    "with open(\"../../dados/regis/regis_queries.json\", 'r') as regis_file:\n",
    "    regis_queries = json.load(regis_file)"
   ]
  },
  {
   "cell_type": "code",
   "execution_count": null,
   "metadata": {},
   "outputs": [],
   "source": [
    "regis_queries = get_expanded_queries(regis_queries)\n",
    "regis_queries[:2]"
   ]
  },
  {
   "cell_type": "code",
   "execution_count": null,
   "metadata": {},
   "outputs": [],
   "source": [
    "ground_truth = pd.read_csv(\n",
    "    \"../../dados/regis/regis_ground_truth.csv\"\n",
    ").rename(\n",
    "    columns={\"relevance\": \"relevance_ground_truth\"}\n",
    ")\n",
    "ground_truth.head()"
   ]
  },
  {
   "cell_type": "code",
   "execution_count": null,
   "metadata": {},
   "outputs": [],
   "source": [
    "data_path = Path(\"../../dados/vocabulario_oil_gas\")\n",
    "databases = dict()\n",
    "\n",
    "with open(data_path.joinpath(\"01_DicionarioPetroleo_Curado_ComSinonimos.csv\"), \"r\", encoding='unicode_escape') as f:\n",
    "    databases[\"01_DicionarioPetroleo_Curado_ComSinonimos\"] = f.read().replace(\";\", \"\\n\").split(\"\\n\")\n",
    "    databases[\"01_DicionarioPetroleo_Curado_ComSinonimos\"] = [e.strip().lower() for e in databases[\"01_DicionarioPetroleo_Curado_ComSinonimos\"]]\n",
    "\n",
    "with open(data_path.joinpath(\"02_Tesauro_comTraducoesRegis.csv\"), \"r\", encoding='unicode_escape') as f:\n",
    "    databases[\"02_Tesauro_comTraducoesRegis\"] = f.read().replace(\"#\", \";\").replace(\"\\t\", \"\").replace(\";\", \"\\n\").split(\"\\n\")\n",
    "    databases[\"02_Tesauro_comTraducoesRegis\"] = [e.strip().lower() for e in databases[\"02_Tesauro_comTraducoesRegis\"] if e != \"\"]\n",
    "\n",
    "with open(data_path.joinpath(\"03_ListaCurada.csv\"), \"r\", encoding='unicode_escape') as f:\n",
    "    databases[\"03_ListaCurada\"] = f.read().split(\"\\n\")\n",
    "    databases[\"03_ListaCurada\"] = [e.strip().lower() for e in databases[\"03_ListaCurada\"] if e != \"\"]\n",
    "\n",
    "with open(data_path.joinpath(\"05_InstanciasBDIEP_Ativo_Bloco_Campo.csv\"), \"r\", encoding='unicode_escape') as f:\n",
    "    databases[\"05_InstanciasBDIEP_Ativo_Bloco_Campo\"] = f.read().replace(\";\", \"\\n\").split(\"\\n\")\n",
    "    databases[\"05_InstanciasBDIEP_Ativo_Bloco_Campo\"] = [e.strip().lower() for e in databases[\"05_InstanciasBDIEP_Ativo_Bloco_Campo\"] if e != \"\"]\n",
    "\n",
    "with open(data_path.joinpath(\"06_Termos_TabelaPocosANP2019.csv\"), \"r\", encoding='unicode_escape') as f:\n",
    "    databases[\"06_Termos_TabelaPocosANP2019\"] = f.read().replace(\";\", \"\\n\").split(\"\\n\")\n",
    "    databases[\"06_Termos_TabelaPocosANP2019\"] = [e.strip().lower() for e in databases[\"06_Termos_TabelaPocosANP2019\"] if e != \"\"]\n",
    "\n",
    "with open(data_path.joinpath(\"07_Pocos_TabelaPocosANP2019.csv\"), \"r\", encoding='unicode_escape') as f:\n",
    "    databases[\"07_Pocos_TabelaPocosANP2019\"] = f.read().replace(\";\", \"\\n\").split(\"\\n\")\n",
    "    databases[\"07_Pocos_TabelaPocosANP2019\"] = [e.strip().lower() for e in databases[\"07_Pocos_TabelaPocosANP2019\"] if e != \"\"]\n",
    "\n",
    "with open(data_path.joinpath(\"08_Pocos_BDIEP_com2ou3_Siglas.csv\"), \"r\", encoding='utf-8-sig') as f:\n",
    "    databases[\"08_Pocos_BDIEP_com2ou3_Siglas\"] = f.read().replace(\";\", \"\\n\").split(\"\\n\")\n",
    "    databases[\"08_Pocos_BDIEP_com2ou3_Siglas\"] = [e.strip().lower() for e in databases[\"08_Pocos_BDIEP_com2ou3_Siglas\"] if e != \"\"]\n",
    "\n",
    "with open(data_path.joinpath(\"09_Glossario_ANP.csv\"), \"r\", encoding='unicode_escape') as f:\n",
    "    databases[\"09_Glossario_ANP\"] = f.read().replace(\";\", \"\\n\").split(\"\\n\")\n",
    "    databases[\"09_Glossario_ANP\"] = [e.strip().lower() for e in databases[\"09_Glossario_ANP\"] if e != \"\"]\n",
    "\n",
    "with open(data_path.joinpath(\"10_List_of_abbreviations_curada.csv\"), \"r\", encoding='unicode_escape') as f:\n",
    "    databases[\"10_List_of_abbreviations_curada\"] = f.read().replace(\";\", \"\\n\").split(\"\\n\")\n",
    "    databases[\"10_List_of_abbreviations_curada\"] = [e.strip().lower() for e in databases[\"10_List_of_abbreviations_curada\"] if e != \"\"]\n",
    "\n",
    "with open(data_path.joinpath(\"11_Lista_Feita_a_Mao.csv\"), \"r\", encoding='unicode_escape') as f:\n",
    "    databases[\"11_Lista_Feita_a_Mao\"] = f.read().replace(\",\", \";\").replace(\";\", \"\\n\").split(\"\\n\")\n",
    "    databases[\"11_Lista_Feita_a_Mao\"] = [e.strip().lower() for e in databases[\"11_Lista_Feita_a_Mao\"] if e != \"\"]\n",
    "\n",
    "with open(data_path.joinpath(\"12_Partex_Acronymis_Oil_Gas.csv\"), \"r\") as f:\n",
    "    databases[\"12_Partex_Acronymis_Oil_Gas\"] = f.read().replace(\";\", \"\\n\").split(\"\\n\")\n",
    "    databases[\"12_Partex_Acronymis_Oil_Gas\"] = [e.strip().lower() for e in databases[\"12_Partex_Acronymis_Oil_Gas\"] if e != \"\"]\n",
    "\n",
    "with open(data_path.joinpath(\"13_Lista_MWE.txt\"), \"r\") as f:\n",
    "    databases[\"13_Lista_MWE\"] = f.read().replace(\",\", \"\\n\").split(\"\\n\")\n",
    "    databases[\"13_Lista_MWE\"] = [e.strip().lower() for e in databases[\"13_Lista_MWE\"] if e != \"\"]"
   ]
  },
  {
   "cell_type": "code",
   "execution_count": null,
   "metadata": {},
   "outputs": [],
   "source": [
    "databases_factors = {\n",
    "    \"02_Tesauro_comTraducoesRegis\": np.arange(0.02, 0.11, 0.02).tolist(),\n",
    "    \"06_Termos_TabelaPocosANP2019\": np.arange(0.02, 0.11, 0.02).tolist(),\n",
    "    \"13_Lista_MWE\": np.arange(0.02, 0.11, 0.02).tolist(),\n",
    "}"
   ]
  },
  {
   "attachments": {},
   "cell_type": "markdown",
   "metadata": {},
   "source": [
    "## Criando queries com bases mais relevantes e podas baseadas nos fatores de boosting do AQE\n",
    "\n",
    "Aqui vamos experimentar utilizar as bases mais relevantes, descritas anteriormente em conjunto com uma poda com os cinco termos de maior fator estabelecidos pelo AQE."
   ]
  },
  {
   "cell_type": "code",
   "execution_count": null,
   "metadata": {},
   "outputs": [],
   "source": [
    "all_expanded_queries = list()\n",
    "for query in regis_queries:\n",
    "    new_expanded_queries = create_new_expanded_queries(\n",
    "        query[\"expanded_query\"],\n",
    "        expansion=expanded_with_aqe_boost_order,\n",
    "        num_termos=[5]\n",
    "    )\n",
    "\n",
    "    for num_termos, new_expanded_query in new_expanded_queries:\n",
    "        q = query.copy()\n",
    "        q[\"expanded_query\"] = new_expanded_query\n",
    "        all_expanded_queries.append(q)\n",
    "\n",
    "databases_factors_products = [\n",
    "    dict(zip(databases_factors.keys(), dbf_values)) for\n",
    "    dbf_values in product(*databases_factors.values())\n",
    "]\n",
    "all_adjusted_expanded_queries = list()\n",
    "for dbf in databases_factors_products:\n",
    "    dbf_queries = adjust_new_expanded_queries(\n",
    "        {k: v for k, v in databases.items() if k in databases_factors.keys()},\n",
    "        all_expanded_queries,\n",
    "        dbf,\n",
    "        False\n",
    "    )\n",
    "    dbf_queries = [\n",
    "        dbf_query | {\"boost_factor_{}\".format(dbf_k): dbf_v for dbf_k, dbf_v in dbf.items()} for\n",
    "        dbf_query in dbf_queries]\n",
    "    all_adjusted_expanded_queries.extend(dbf_queries)\n",
    "all_adjusted_expanded_queries[:2]"
   ]
  },
  {
   "attachments": {},
   "cell_type": "markdown",
   "metadata": {},
   "source": [
    "### Realizando consultas no Elasticsearch\n",
    "\n",
    "Em posse das queries que utilizam cinco termos vamos criar o dataset de validação, o qual possui informações do ground truth da base de dados REGIS."
   ]
  },
  {
   "cell_type": "code",
   "execution_count": null,
   "metadata": {},
   "outputs": [],
   "source": [
    "ranking_result_df = make_elasticsearch_new_aqe_queries(\n",
    "    all_adjusted_expanded_queries,\n",
    "    cfg,\n",
    "    num_docs=24,\n",
    "    attrs=[\n",
    "        'query_id',\n",
    "        'boost_factor_02_Tesauro_comTraducoesRegis',\n",
    "        'boost_factor_06_Termos_TabelaPocosANP2019',\n",
    "        'boost_factor_13_Lista_MWE'\n",
    "    ]\n",
    ")\n",
    "ranking_result_df.head()"
   ]
  },
  {
   "cell_type": "code",
   "execution_count": null,
   "metadata": {},
   "outputs": [],
   "source": [
    "boost_cols = [\n",
    "    \"boost_factor_02_Tesauro_comTraducoesRegis\",\n",
    "    \"boost_factor_06_Termos_TabelaPocosANP2019\",\n",
    "    \"boost_factor_13_Lista_MWE\"\n",
    "]\n",
    "\n",
    "validation_dataset = create_new_aqe_validation_dataset(ranking_result_df, ground_truth, boost_cols)\n",
    "validation_dataset.head()"
   ]
  },
  {
   "attachments": {},
   "cell_type": "markdown",
   "metadata": {},
   "source": [
    "### Análise das consultas no Elasticsearch\n",
    "\n",
    "Agora vamos criar as métricas para cada base de dados e quantidade de termos derivados e visualizar os resultados."
   ]
  },
  {
   "attachments": {},
   "cell_type": "markdown",
   "metadata": {},
   "source": [
    "#### Criando métricas"
   ]
  },
  {
   "cell_type": "code",
   "execution_count": null,
   "metadata": {},
   "outputs": [],
   "source": [
    "boost_cols=[\n",
    "    \"boost_factor_02_Tesauro_comTraducoesRegis\",\n",
    "    \"boost_factor_06_Termos_TabelaPocosANP2019\",\n",
    "    \"boost_factor_13_Lista_MWE\"\n",
    "]\n",
    "metrics_df = create_new_aqe_metrics(validation_dataset, boost_cols=boost_cols)\n",
    "metrics_df.head()"
   ]
  },
  {
   "cell_type": "markdown",
   "metadata": {},
   "source": [
    "#### Avaliando métricas\n",
    "\n",
    "Vamos agora avaliar as métricas. Vamos utilizar as seguintes métricas:\n",
    "\n",
    "* ndcg - Normalized Discounted Cumulative Gain\n",
    "* map - Mean Average Precision\n",
    "* eval_prop - Proporção de documentos avaliados\n",
    "\n",
    "Vejamos qual a melhor quantidade de termos derivados para cada query:"
   ]
  },
  {
   "cell_type": "code",
   "execution_count": null,
   "metadata": {},
   "outputs": [],
   "source": [
    "boost_cols=[\"boost_factor_02_Tesauro_comTraducoesRegis\",\n",
    "            \"boost_factor_06_Termos_TabelaPocosANP2019\",\n",
    "            \"boost_factor_13_Lista_MWE\"]\n",
    "    \n",
    "data_viz = metrics_df.melt(\n",
    "    id_vars=[\"query_id\", \"ndcg@24\"], value_vars=boost_cols,\n",
    "    var_name=\"database\", value_name=\"boost_factor\"\n",
    ").groupby(\n",
    "    [\"database\", \"boost_factor\"]\n",
    ").agg(\n",
    "    ndcg_mean=(\"ndcg@24\", \"mean\")\n",
    ").reset_index()\n",
    "\n",
    "\n",
    "fig = px.line(\n",
    "    data_viz,\n",
    "    x=\"boost_factor\",\n",
    "    y=\"ndcg_mean\",\n",
    "    color=\"database\",\n",
    "    markers=True,\n",
    "    labels={\n",
    "        \"boost_factor\": \"Fator de boost\",\n",
    "        \"ndcg_mean\": \"NDCG@24 médio\",\n",
    "    }\n",
    ")\n",
    "fig.show()"
   ]
  },
  {
   "attachments": {},
   "cell_type": "markdown",
   "metadata": {},
   "source": [
    "Podemos ver que para o tesauro, o melhor fator de boost é de 0,02, enquanto para a lista MWE e a tabela de poços traz o melhor fator de boost em 0,06.\n",
    "\n",
    "Vejamos se as combinações com melhores NDCGs@24 médios concordam com esses valores."
   ]
  },
  {
   "cell_type": "code",
   "execution_count": null,
   "metadata": {},
   "outputs": [],
   "source": [
    "metrics_df.groupby(\n",
    "    boost_cols\n",
    ").agg(\n",
    "    ndcg_mean=(\"ndcg@24\", \"mean\"),\n",
    ").reset_index(\n",
    ").rename(\n",
    "    columns={\"ndcg_mean\": \"ndcg@24 mean\"}\n",
    ").sort_values(\n",
    "    \"ndcg@24 mean\", ascending=False\n",
    ").head(5)"
   ]
  },
  {
   "attachments": {},
   "cell_type": "markdown",
   "metadata": {},
   "source": [
    "Percebemos que quando usamos os fatores em conjunto, os valores são ligeiramente diferentes, onde a tabela de poços trouxe o melhor fator de boost em 0,08, enquanto os demais permaneceram os mesmos.\n",
    "\n",
    "O valor de NDCG@24 encontrado anteriormente, utilizando todas as bases de dados, com pesos derivados do AQE e sem podas foi de 0.779687, que é maior que o maior valor encontrado utilizando estes valores.\n",
    "\n",
    "Vamos agora experimentar com os mesmos fatores utilizados no experimento de análise da base de dados, utilizando o fator de multiplicação ao invés de estático por base, para identificar se a poda de fato traz um ganho."
   ]
  },
  {
   "cell_type": "code",
   "execution_count": null,
   "metadata": {},
   "outputs": [],
   "source": [
    "databases_factors = {\n",
    "    \"01_DicionarioPetroleo_Curado_ComSinonimos\": 0.03,\n",
    "    \"02_Tesauro_comTraducoesRegis\": 0.1,\n",
    "    \"03_ListaCurada\": 0.0,\n",
    "    \"05_InstanciasBDIEP_Ativo_Bloco_Campo\": 0.01,\n",
    "    \"06_Termos_TabelaPocosANP2019\": 0.1,\n",
    "    \"07_Pocos_TabelaPocosANP2019\": 0.0,\n",
    "    \"08_Pocos_BDIEP_com2ou3_Siglas\": 0.0,\n",
    "    \"09_Glossario_ANP\": 0.33,\n",
    "    \"10_List_of_abbreviations_curada\": 0.11,\n",
    "    \"11_Lista_Feita_a_Mao\": 0.0,\n",
    "    \"12_Partex_Acronymis_Oil_Gas\": 0.12,\n",
    "    \"13_Lista_MWE\": 0.08,\n",
    "}"
   ]
  },
  {
   "cell_type": "code",
   "execution_count": null,
   "metadata": {},
   "outputs": [],
   "source": [
    "all_expanded_queries = list()\n",
    "for query in regis_queries:\n",
    "    new_expanded_queries = adjust_new_expanded_queries(\n",
    "        databases, [query], databases_factors, True\n",
    "    )[0]\n",
    "\n",
    "    new_expanded_queries = create_new_expanded_queries(\n",
    "        new_expanded_queries[\"expanded_query\"],\n",
    "        expansion=expanded_with_aqe_boost_order,\n",
    "        num_termos=[5],\n",
    "        factor=None\n",
    "    )\n",
    "   \n",
    "    for i, new_expanded_query in new_expanded_queries:\n",
    "        q = query.copy()\n",
    "        q[\"expanded_query\"] = new_expanded_query\n",
    "        all_expanded_queries.append(q)\n",
    "\n",
    "\n",
    "all_expanded_queries[:2]"
   ]
  },
  {
   "cell_type": "code",
   "execution_count": null,
   "metadata": {},
   "outputs": [],
   "source": [
    "ranking_result_df = make_elasticsearch_new_queries(all_expanded_queries, cfg, 24)\n",
    "ranking_result_df.head()\n"
   ]
  },
  {
   "cell_type": "code",
   "execution_count": null,
   "metadata": {},
   "outputs": [],
   "source": [
    "validation_dataset = create_new_validation_dataset(ranking_result_df, ground_truth)\n",
    "validation_dataset.head()"
   ]
  },
  {
   "cell_type": "code",
   "execution_count": null,
   "metadata": {},
   "outputs": [],
   "source": [
    "metrics_df = create_new_metrics(validation_dataset)\n",
    "metrics_df.head()"
   ]
  },
  {
   "cell_type": "code",
   "execution_count": null,
   "metadata": {},
   "outputs": [],
   "source": [
    "metrics_df[\"ndcg@24\"].mean()"
   ]
  },
  {
   "attachments": {},
   "cell_type": "markdown",
   "metadata": {},
   "source": [
    "Podemos ver que a métrica atingida por esse método é o que trouxe melhores resultados até então."
   ]
  },
  {
   "attachments": {},
   "cell_type": "markdown",
   "metadata": {},
   "source": [
    "## Conclusão\n",
    "\n",
    "Nesta análise duas abordagens foram testadas: experimentar diferentes pesos com as três bases mais relevantes encontradas na análise das base de dados e utilizar os fatores de multiplicação de boosting, também encontrado na análise das bases de dados, ambos seguidos de uma poda com 5 termos. \n",
    "\n",
    "Apesar de atingir uma métrica de ranking superior ao Elasticsearch puro, a primeira abordagem resultou em uma métrica inferior às encontradas em análises anteriores, com um **NDCG@24 de 77,72%**, logo foi descartada. Já a segunda abordagem trouxe os melhores valores encontrados até então, atingingo um **NDCG@24 de 78,33%**. A nível comparativo, o **Elasticsearch puro** resulta em um **NDCG@24 de 76,58%**, utilizar **apenas os fatores de multiplicação dos boosts** resulta em um **NDCG@24 de 77,97%**, utilizar o **mecanismo de poda com cinco termos derivados** resulta em um **NDCG@24 de 76,58%**, enquanto utilizar os **fatores de multiplicação dos boosts em conjunto com o mecanismo de poda com cinco termos derivados** (segunda abordagem) resulta em um **NDCG@24 de 78,33%**. Os fatores de multiplicação da segunda abordagem, os quais multiplicam os fatores de boost retornados pelo AQE, estão descritos a seguir:\n",
    "\n",
    "* 01_DicionarioPetroleo_Curado_ComSinonimos: 0.03\n",
    "* 02_Tesauro_comTraducoesRegis: 0.1\n",
    "* 03_ListaCurada: 0.0\n",
    "* 05_InstanciasBDIEP_Ativo_Bloco_Campo: 0.01\n",
    "* 06_Termos_TabelaPocosANP2019: 0.1\n",
    "* 07_Pocos_TabelaPocosANP2019: 0.0\n",
    "* 08_Pocos_BDIEP_com2ou3_Siglas: 0.0\n",
    "* 09_Glossario_ANP: 0.33\n",
    "* 10_List_of_abbreviations_curada: 0.11\n",
    "* 11_Lista_Feita_a_Mao: 0.0\n",
    "* 12_Partex_Acronymis_Oil_Gas: 0.12\n",
    "* 13_Lista_MWE: 0.08\n",
    "\n",
    "Vale lembrar que a poda com cinco termos foi realizada posteriormente à multiplicação dos fatores de boost pelos pesos descritos acima, utilizando os cinco termos com maior boost para cada termo derivado. "
   ]
  }
 ],
 "metadata": {
  "kernelspec": {
   "display_name": "base",
   "language": "python",
   "name": "python3"
  },
  "language_info": {
   "codemirror_mode": {
    "name": "ipython",
    "version": 3
   },
   "file_extension": ".py",
   "mimetype": "text/x-python",
   "name": "python",
   "nbconvert_exporter": "python",
   "pygments_lexer": "ipython3",
   "version": "3.9.13"
  },
  "orig_nbformat": 4
 },
 "nbformat": 4,
 "nbformat_minor": 2
}
