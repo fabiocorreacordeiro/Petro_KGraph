{
 "cells": [
  {
   "attachments": {},
   "cell_type": "markdown",
   "metadata": {},
   "source": [
    "# Análise das podas do AQE\n",
    "\n",
    "Nesta análise vamos experimentar diferentes abordagens de poda para o AQE, de forma a evitar que a expansão seja muito longa e acabe por prejudicar as consultas do Elasticsearch."
   ]
  },
  {
   "attachments": {},
   "cell_type": "markdown",
   "metadata": {},
   "source": [
    "## Carregando libs"
   ]
  },
  {
   "cell_type": "code",
   "execution_count": null,
   "metadata": {},
   "outputs": [],
   "source": [
    "from itertools import product\n",
    "import json\n",
    "import yaml\n",
    "import pandas as pd\n",
    "import plotly.express as px\n",
    "\n",
    "from utils.utils import get_expanded_queries, make_elasticsearch_new_aqe_queries,\\\n",
    "    create_new_expanded_queries, create_new_aqe_validation_dataset, create_new_aqe_metrics,\\\n",
    "    expanded_with_aqe_boost_order, expanded_with_aqe_order"
   ]
  },
  {
   "attachments": {},
   "cell_type": "markdown",
   "metadata": {},
   "source": [
    "## Carregando as configurações e bases dados"
   ]
  },
  {
   "cell_type": "code",
   "execution_count": null,
   "metadata": {},
   "outputs": [],
   "source": [
    "with open(\"../conf/config.yaml\", \"r\") as yamlfile:\n",
    "    cfg = yaml.safe_load(yamlfile)"
   ]
  },
  {
   "cell_type": "code",
   "execution_count": null,
   "metadata": {},
   "outputs": [],
   "source": [
    "with open(\"../../dados/regis/regis_queries.json\", 'r') as regis_file:\n",
    "    regis_queries = json.load(regis_file)"
   ]
  },
  {
   "cell_type": "code",
   "execution_count": null,
   "metadata": {},
   "outputs": [],
   "source": [
    "regis_queries = get_expanded_queries(regis_queries)\n",
    "regis_queries[:2]"
   ]
  },
  {
   "cell_type": "code",
   "execution_count": null,
   "metadata": {},
   "outputs": [],
   "source": [
    "ground_truth = pd.read_csv(\n",
    "    \"../../dados/regis/regis_ground_truth.csv\"\n",
    ").rename(\n",
    "    columns={\"relevance\": \"relevance_ground_truth\"}\n",
    ")\n",
    "ground_truth.head()"
   ]
  },
  {
   "attachments": {},
   "cell_type": "markdown",
   "metadata": {},
   "source": [
    "## Criando queries com podas baseadas nos fatores de boosting do AQE\n",
    "\n",
    "Aqui vamos experimentar uma poda com diferentes quantidades de termos utilizando os pesos já estabelecidos pelo AQE."
   ]
  },
  {
   "cell_type": "code",
   "execution_count": null,
   "metadata": {},
   "outputs": [],
   "source": [
    "all_expanded_queries = list()\n",
    "for query in regis_queries:\n",
    "    new_expanded_queries = create_new_expanded_queries(query[\"expanded_query\"], expansion=expanded_with_aqe_boost_order)\n",
    "    for num_termos, new_expanded_query in new_expanded_queries:\n",
    "        q = query.copy()\n",
    "        q[\"expanded_query\"] = new_expanded_query\n",
    "        q[\"num_termos\"] = num_termos\n",
    "        all_expanded_queries.append(q)\n",
    "all_expanded_queries[:2]"
   ]
  },
  {
   "attachments": {},
   "cell_type": "markdown",
   "metadata": {},
   "source": [
    "### Realizando consultas no Elasticsearch\n",
    "\n",
    "Em posse das queries que utilizam diferentes quantidades de termos com boosting do elastic search vamos criar o dataset de validação, o qual possui informações do ground truth da base de dados REGIS."
   ]
  },
  {
   "cell_type": "code",
   "execution_count": null,
   "metadata": {},
   "outputs": [],
   "source": [
    "ranking_result_df = make_elasticsearch_new_aqe_queries(\n",
    "    all_expanded_queries,\n",
    "    cfg,\n",
    "    num_docs=24\n",
    ")\n",
    "ranking_result_df.head()"
   ]
  },
  {
   "cell_type": "code",
   "execution_count": null,
   "metadata": {},
   "outputs": [],
   "source": [
    "validation_dataset = create_new_aqe_validation_dataset(ranking_result_df, ground_truth)\n",
    "validation_dataset.head()"
   ]
  },
  {
   "attachments": {},
   "cell_type": "markdown",
   "metadata": {},
   "source": [
    "### Análise das consultas no Elasticsearch\n",
    "\n",
    "Agora vamos criar as métricas para cada base de dados e quantidade de termos derivados e visualizar os resultados."
   ]
  },
  {
   "attachments": {},
   "cell_type": "markdown",
   "metadata": {},
   "source": [
    "#### Criando métricas"
   ]
  },
  {
   "cell_type": "code",
   "execution_count": null,
   "metadata": {},
   "outputs": [],
   "source": [
    "metrics_df = create_new_aqe_metrics(validation_dataset)\n",
    "metrics_df.head()"
   ]
  },
  {
   "attachments": {},
   "cell_type": "markdown",
   "metadata": {},
   "source": [
    "#### Avaliando métricas\n",
    "\n",
    "Vamos agora avaliar as métricas. Vamos utilizar as seguintes métricas:\n",
    "\n",
    "* ndcg - Normalized Discounted Cumulative Gain\n",
    "* map - Mean Average Precision\n",
    "* eval_prop - Proporção de documentos avaliados\n",
    "\n",
    "Vejamos qual a melhor quantidade de termos derivados para cada query:"
   ]
  },
  {
   "cell_type": "code",
   "execution_count": null,
   "metadata": {},
   "outputs": [],
   "source": [
    "data_viz = metrics_df.groupby(\n",
    "    \"query_id\"\n",
    ").agg({\n",
    "    \"ndcg@24\": \"max\"\n",
    "}).reset_index(\n",
    ").merge(\n",
    "    metrics_df, how=\"left\", on=[\"query_id\", \"ndcg@24\"]\n",
    ").sort_values(\n",
    "    [\"query_id\", \"num_termos\"]\n",
    ").drop_duplicates(\n",
    "    subset=\"query_id\", keep=\"first\"\n",
    ")\n",
    "data_viz.head()\n",
    "\n",
    "fig = px.scatter(\n",
    "    data_viz,\n",
    "    x=\"num_termos\",\n",
    "    y=\"ndcg@24\",\n",
    "    labels={\n",
    "        \"num_termos\": \"Número de termos\",\n",
    "        \"ndcg@24\": \"NDCG@24\",\n",
    "    },\n",
    "    hover_data=[\"query_id\", \"num_termos\", \"ndcg@24\"],\n",
    "    title=\"Melhor número de termos por query\",\n",
    "    marginal_x=\"histogram\"\n",
    ")\n",
    "fig.show()"
   ]
  },
  {
   "attachments": {},
   "cell_type": "markdown",
   "metadata": {},
   "source": [
    "Podemos ver que a maior concentração está abaixo dos 5 termos derivados.\n",
    "\n",
    "Vejamos a média para cada número de termos derivados:"
   ]
  },
  {
   "cell_type": "code",
   "execution_count": null,
   "metadata": {},
   "outputs": [],
   "source": [
    "queries_boosts_prod = pd.DataFrame(\n",
    "    product(metrics_df[\"query_id\"].unique(), metrics_df[\"num_termos\"].unique()),\n",
    "    columns=[\"query_id\", \"num_termos\"]\n",
    ")\n",
    "\n",
    "data_viz = queries_boosts_prod.merge(\n",
    "    metrics_df, on=[\"query_id\", \"num_termos\"], how=\"left\"\n",
    ").fillna(\n",
    "    method=\"ffill\"\n",
    ").groupby(\n",
    "    \"num_termos\"\n",
    ").agg(\n",
    "    mean_ndcg = (\"ndcg@24\", \"mean\")\n",
    ").reset_index()\n",
    "\n",
    "fig = px.line(\n",
    "    data_viz,\n",
    "    x=\"num_termos\",\n",
    "    y=\"mean_ndcg\",\n",
    "    labels={\n",
    "        \"num_termos\": \"Número de termos\",\n",
    "        \"mean_ndcg\": \"NDCG@24 médio\",\n",
    "    },\n",
    "    markers=True,\n",
    "    title=\"NDCG@24 médio para cada número de termos\"\n",
    ")\n",
    "fig.show()"
   ]
  },
  {
   "attachments": {},
   "cell_type": "markdown",
   "metadata": {},
   "source": [
    "Podemos ver que no geral, utilizar 5 termos derivados traz o melhor resultado, o qual é melhor que o Elasticsearch puro.\n",
    "\n",
    "Vejamos como fica a distribuição dos NDCGs@24 ao utilizar o limiar de poda de 5 termos:"
   ]
  },
  {
   "cell_type": "code",
   "execution_count": null,
   "metadata": {},
   "outputs": [],
   "source": [
    "metrics_df_poda = metrics_df.query(\n",
    "    \"num_termos <= 5\"\n",
    ").sort_values(\n",
    "    [\"query_id\", \"num_termos\", \"ndcg@24\"]\n",
    ").groupby(\n",
    "    \"query_id\"\n",
    ").last()\n",
    "\n",
    "data_viz = metrics_df.groupby(\n",
    "    \"query_id\"\n",
    ").agg({\n",
    "    \"ndcg@24\": \"max\"\n",
    "}).merge(\n",
    "    metrics_df_poda,\n",
    "    on=\"query_id\",\n",
    "    suffixes=(\" max\", \"\"),\n",
    "    how=\"left\"\n",
    ").reset_index(\n",
    ").melt(\n",
    "    id_vars=[\"query_id\"],\n",
    "    value_vars=[\"ndcg@24 max\", \"ndcg@24\"],\n",
    "    var_name=\"metric\"\n",
    ").sort_values(\n",
    "    [\"metric\", \"value\"], ascending=[True, False]\n",
    ")\n",
    "\n",
    "fig = px.bar(\n",
    "    data_viz,\n",
    "    x=\"query_id\",\n",
    "    y=\"value\",\n",
    "    color=\"metric\",\n",
    "    barmode='group',\n",
    "    labels={\n",
    "        \"query_id\": \"Query ID\",\n",
    "        \"value\": \"NDCG@24\",\n",
    "    },\n",
    ")\n",
    "fig.show()"
   ]
  },
  {
   "attachments": {},
   "cell_type": "markdown",
   "metadata": {},
   "source": [
    "Podemos ver que mais de metade das queries possuem NDCG@24 acima de 0,8.\n",
    "Podemos ver também que apenas quatro das 32 queries tem uma diferença substancial entre o NDCG@24 com cinco termos expandidos e o máximo. São elas: Q19, Q17, Q23 e Q34 .\n",
    "\n",
    "Vejamos quais as melhores quantidades de termos para essas queries:"
   ]
  },
  {
   "cell_type": "code",
   "execution_count": null,
   "metadata": {},
   "outputs": [],
   "source": [
    "queries = [\"Q23\", \"Q34\", \"Q19\", \"Q17\"]\n",
    "\n",
    "metrics_df.query(\n",
    "    \"query_id.isin(@queries)\"\n",
    ").groupby(\n",
    "    \"query_id\"\n",
    ").agg({\n",
    "    \"ndcg@24\": \"max\"\n",
    "}).reset_index(\n",
    ").merge(\n",
    "    metrics_df, how=\"left\", on=[\"query_id\", \"ndcg@24\"]\n",
    ").sort_values(\n",
    "    [\"query_id\", \"num_termos\"]\n",
    ").drop_duplicates(\n",
    "    subset=\"query_id\", keep=\"first\"\n",
    ")"
   ]
  },
  {
   "attachments": {},
   "cell_type": "markdown",
   "metadata": {},
   "source": [
    "Podemos ver que exceto a Q17 todos os valores foram próximos de 5. A Q17 parece ser um caso atípico de que algum termo que era considerado de baixa relevância trouxe bons resultados."
   ]
  },
  {
   "attachments": {},
   "cell_type": "markdown",
   "metadata": {},
   "source": [
    "## Criando queries com podas baseadas na ordem do AQE\n",
    "\n",
    "Aqui vamos experimentar uma poda com diferentes quantidades de termos utilizando a ordem do AQE. A motivação desse experimento é devido ao padrão de fatores de boostings usados, os quais trazem pesos maiores no início e depois vão se misturando, que indica que algum processamento foi realizado."
   ]
  },
  {
   "cell_type": "code",
   "execution_count": null,
   "metadata": {},
   "outputs": [],
   "source": [
    "all_expanded_queries = list()\n",
    "for query in regis_queries:\n",
    "    new_expanded_queries = create_new_expanded_queries(query[\"expanded_query\"], expansion=expanded_with_aqe_order)\n",
    "    for num_termos, new_expanded_query in new_expanded_queries:\n",
    "        q = query.copy()\n",
    "        q[\"expanded_query\"] = new_expanded_query\n",
    "        q[\"num_termos\"] = num_termos\n",
    "        all_expanded_queries.append(q)\n",
    "all_expanded_queries[:2]"
   ]
  },
  {
   "cell_type": "markdown",
   "metadata": {},
   "source": [
    "### Realizando consultas no Elasticsearch\n",
    "\n",
    "Em posse das queries que utilizam diferentes quantidades de termos com boosting do elastic search vamos criar o dataset de validação, o qual possui informações do ground truth da base de dados REGIS."
   ]
  },
  {
   "cell_type": "code",
   "execution_count": null,
   "metadata": {},
   "outputs": [],
   "source": [
    "ranking_result_df = make_elasticsearch_new_aqe_queries(\n",
    "    all_expanded_queries,\n",
    "    cfg,\n",
    "    num_docs=24\n",
    ")\n",
    "ranking_result_df.head()"
   ]
  },
  {
   "cell_type": "code",
   "execution_count": null,
   "metadata": {},
   "outputs": [],
   "source": [
    "validation_dataset = create_new_aqe_validation_dataset(ranking_result_df, ground_truth)\n",
    "validation_dataset.head()"
   ]
  },
  {
   "cell_type": "markdown",
   "metadata": {},
   "source": [
    "### Análise das consultas no Elasticsearch\n",
    "\n",
    "Agora vamos criar as métricas para cada base de dados e quantidade de termos derivados e visualizar os resultados."
   ]
  },
  {
   "cell_type": "markdown",
   "metadata": {},
   "source": [
    "#### Criando métricas"
   ]
  },
  {
   "cell_type": "code",
   "execution_count": null,
   "metadata": {},
   "outputs": [],
   "source": [
    "metrics_df = create_new_aqe_metrics(validation_dataset)\n",
    "metrics_df.head()"
   ]
  },
  {
   "cell_type": "markdown",
   "metadata": {},
   "source": [
    "#### Avaliando métricas\n",
    "\n",
    "Vamos agora avaliar as métricas. Vamos utilizar as seguintes métricas:\n",
    "\n",
    "* ndcg - Normalized Discounted Cumulative Gain\n",
    "* map - Mean Average Precision\n",
    "* eval_prop - Proporção de documentos avaliados\n",
    "\n",
    "Vejamos qual a melhor quantidade de termos derivados para cada query:"
   ]
  },
  {
   "cell_type": "code",
   "execution_count": null,
   "metadata": {},
   "outputs": [],
   "source": [
    "data_viz = metrics_df.groupby(\n",
    "    \"query_id\"\n",
    ").agg({\n",
    "    \"ndcg@24\": \"max\"\n",
    "}).reset_index(\n",
    ").merge(\n",
    "    metrics_df, how=\"left\", on=[\"query_id\", \"ndcg@24\"]\n",
    ").sort_values(\n",
    "    [\"query_id\", \"num_termos\"]\n",
    ").drop_duplicates(\n",
    "    subset=\"query_id\", keep=\"first\"\n",
    ")\n",
    "data_viz.head()\n",
    "\n",
    "fig = px.scatter(\n",
    "    data_viz,\n",
    "    x=\"num_termos\",\n",
    "    y=\"ndcg@24\",\n",
    "    labels={\n",
    "        \"num_termos\": \"Número de termos\",\n",
    "        \"ndcg@24\": \"NDCG@24\",\n",
    "    },\n",
    "    hover_data=[\"query_id\", \"num_termos\", \"ndcg@24\"],\n",
    "    title=\"Melhor número de termos por query\",\n",
    "    marginal_x=\"histogram\"\n",
    ")\n",
    "fig.show()"
   ]
  },
  {
   "cell_type": "markdown",
   "metadata": {},
   "source": [
    "Podemos ver que a maior concentração está abaixo dos 5 termos derivados.\n",
    "\n",
    "Vejamos a média para cada número de termos derivados:"
   ]
  },
  {
   "cell_type": "code",
   "execution_count": null,
   "metadata": {},
   "outputs": [],
   "source": [
    "queries_boosts_prod = pd.DataFrame(\n",
    "    product(metrics_df[\"query_id\"].unique(), metrics_df[\"num_termos\"].unique()),\n",
    "    columns=[\"query_id\", \"num_termos\"]\n",
    ")\n",
    "\n",
    "data_viz = queries_boosts_prod.merge(\n",
    "    metrics_df, on=[\"query_id\", \"num_termos\"], how=\"left\"\n",
    ").fillna(\n",
    "    method=\"ffill\"\n",
    ").groupby(\n",
    "    \"num_termos\"\n",
    ").agg(\n",
    "    mean_ndcg = (\"ndcg@24\", \"mean\")\n",
    ").reset_index()\n",
    "\n",
    "fig = px.line(\n",
    "    data_viz,\n",
    "    x=\"num_termos\",\n",
    "    y=\"mean_ndcg\",\n",
    "    labels={\n",
    "        \"num_termos\": \"Número de termos\",\n",
    "        \"mean_ndcg\": \"NDCG@24 médio\",\n",
    "    },\n",
    "    markers=True,\n",
    "    title=\"NDCG@24 médio para cada número de termos\"\n",
    ")\n",
    "fig.show()"
   ]
  },
  {
   "attachments": {},
   "cell_type": "markdown",
   "metadata": {},
   "source": [
    "Podemos ver que utilizar os primeiros 3 termos derivados traz o melhor resultado, o qual é melhor que o Elasticsearch puro.\n",
    "\n",
    "Vejamos como fica a distribuição dos NDCGs@24 ao utilizar o limiar de poda de 3 termos:"
   ]
  },
  {
   "cell_type": "code",
   "execution_count": null,
   "metadata": {},
   "outputs": [],
   "source": [
    "metrics_df_poda = metrics_df.query(\n",
    "    \"num_termos <= 3\"\n",
    ").sort_values(\n",
    "    [\"query_id\", \"num_termos\", \"ndcg@24\"]\n",
    ").groupby(\n",
    "    \"query_id\"\n",
    ").last()\n",
    "\n",
    "data_viz = metrics_df.groupby(\n",
    "    \"query_id\"\n",
    ").agg({\n",
    "    \"ndcg@24\": \"max\"\n",
    "}).merge(\n",
    "    metrics_df_poda,\n",
    "    on=\"query_id\",\n",
    "    suffixes=(\" max\", \"\"),\n",
    "    how=\"left\"\n",
    ").reset_index(\n",
    ").melt(\n",
    "    id_vars=[\"query_id\"],\n",
    "    value_vars=[\"ndcg@24 max\", \"ndcg@24\"],\n",
    "    var_name=\"metric\"\n",
    ").sort_values(\n",
    "    [\"metric\", \"value\"], ascending=[True, False]\n",
    ")\n",
    "\n",
    "fig = px.bar(\n",
    "    data_viz,\n",
    "    x=\"query_id\",\n",
    "    y=\"value\",\n",
    "    color=\"metric\",\n",
    "    barmode='group',\n",
    "    labels={\n",
    "        \"query_id\": \"Query ID\",\n",
    "        \"value\": \"NDCG@24\",\n",
    "    },\n",
    ")\n",
    "fig.show()"
   ]
  },
  {
   "attachments": {},
   "cell_type": "markdown",
   "metadata": {},
   "source": [
    "Podemos ver que metade das queries possuem NDCG@24 acima de 0,8.\n",
    "Podemos ver também que apenas quatro das 32 queries tem uma diferença substancial entre o NDCG@24 com os três primeiros termos expandidos e o máximo. São elas: Q17, Q34, Q19 e Q3.\n",
    "\n",
    "Vejamos quais as melhores quantidades de termos para essas queries:"
   ]
  },
  {
   "cell_type": "code",
   "execution_count": null,
   "metadata": {},
   "outputs": [],
   "source": [
    "queries = [\"Q17\", \"Q34\", \"Q19\", \"Q3\"]\n",
    "\n",
    "metrics_df.query(\n",
    "    \"query_id.isin(@queries)\"\n",
    ").groupby(\n",
    "    \"query_id\"\n",
    ").agg({\n",
    "    \"ndcg@24\": \"max\"\n",
    "}).reset_index(\n",
    ").merge(\n",
    "    metrics_df, how=\"left\", on=[\"query_id\", \"ndcg@24\"]\n",
    ").sort_values(\n",
    "    [\"query_id\", \"num_termos\"]\n",
    ").drop_duplicates(\n",
    "    subset=\"query_id\", keep=\"first\"\n",
    ")"
   ]
  },
  {
   "attachments": {},
   "cell_type": "markdown",
   "metadata": {},
   "source": [
    "Podemos ver que exceto a Q17 e Q3 todos foram próximos de 3 termos. A Q17 e Q3 parecem ser casos atípicos, em que algum termo que era considerado de baixa relevância trouxe bons resultados."
   ]
  },
  {
   "attachments": {},
   "cell_type": "markdown",
   "metadata": {},
   "source": [
    "## Conclusão\n",
    "\n",
    "Nesta análise vimos que a poda dos métodos do AQE ajudam a melhorar as métricas de performance. Vimos duas abordagens de poda: utilizar a ordem dos fatores de boosting e a ordem provinda do AQE. Em ambos, os melhores resultados de NDCG@24 foram na casa de 0.76, sendo ambos superiores ao Elasticsearch puro, mas a ordem do AQE trouxe um resultado ligeiramente melhor. Apesar disso, consideramos que utilizar a ordem dos fatores de boosting é o mecanismo de poda mais confiável, pois a variação do NDCG@24 em maiores número de termos é bem menor, tornando um método de poda mais estável. Além disso, podando com até 5 termos, as queries que trazem maiores diferenças apresentam número de termos mais próximos. Logo, concluímos que utilizar a ordem do fator de boosting com até cinco termos é o método de poda mais razoável para o caso geral."
   ]
  }
 ],
 "metadata": {
  "kernelspec": {
   "display_name": "base",
   "language": "python",
   "name": "python3"
  },
  "language_info": {
   "codemirror_mode": {
    "name": "ipython",
    "version": 3
   },
   "file_extension": ".py",
   "mimetype": "text/x-python",
   "name": "python",
   "nbconvert_exporter": "python",
   "pygments_lexer": "ipython3",
   "version": "3.9.13"
  },
  "orig_nbformat": 4
 },
 "nbformat": 4,
 "nbformat_minor": 2
}
