{
 "cells": [
  {
   "cell_type": "markdown",
   "id": "242175b1-8f56-4ea5-83c5-5b5966004ab6",
   "metadata": {},
   "source": [
    "### Notebook para comparar a versão do PetroKGraph (pred) extraído pelo pipeline proposto com base no grafo ideal (PetroKGraph teste) provniente do corpus PetroNER (teste)"
   ]
  },
  {
   "cell_type": "code",
   "execution_count": 1,
   "id": "135bc8ea-eb3d-4fd0-9c80-c18613cd3723",
   "metadata": {},
   "outputs": [],
   "source": [
    "from owlready2 import *"
   ]
  },
  {
   "cell_type": "markdown",
   "id": "f010007a-30f2-42f0-aa68-85fe2f222d78",
   "metadata": {},
   "source": [
    "### Função para coletar as triplas das ontologias que serão usadas para a avaliação"
   ]
  },
  {
   "cell_type": "code",
   "execution_count": 2,
   "id": "6a909579-fed2-4291-bbc4-e53bd0c1ecb6",
   "metadata": {},
   "outputs": [],
   "source": [
    "def coletando_triplas(world, onto):\n",
    "    \n",
    "    #Carregando PetroKGraph (ontologia povoada)\n",
    "    # onto = get_ontology(path)\n",
    "    # onto.load()\n",
    "    \n",
    "    onto_iri = onto.base_iri\n",
    "    \n",
    "    # Ajustando a URI que tem o caracter especial '&'.\n",
    "    onto['o&g_earth_fluid'].iri = 'http://www.semanticweb.org/bg40/ontologies/2022/5/untitled-ontology-2#og_earth_fluid'\n",
    "    \n",
    "    classes_w_instances = ['basin', 'field', 'geological_structure', 'well', 'textura', 'lithostratigraphic_unit', 'geological_time_interval']\n",
    "\n",
    "    classes_w_sub_classes = ['rock', 'unconsolidated_earth_material', 'og_earth_fluid', 'earth_fluid', \n",
    "                             'anthropogenic_fluid', 'petroleum_system_events', 'petroleum_system_elements', 'geological_age']\n",
    "    \n",
    "    relacoes = ['constituted_by']\n",
    "    \n",
    "    def tripla_de_instancias(cla):\n",
    "\n",
    "        lista =  list(world.sparql(\"\"\"\n",
    "                PREFIX onto: <\"\"\" + str(onto.base_iri) + \"\"\">\n",
    "                SELECT ?x\n",
    "                {?x a onto:\"\"\" + cla + \"\"\". }\n",
    "                \"\"\"))\n",
    "\n",
    "        triplas = []\n",
    "\n",
    "        for l in lista:\n",
    "            triplas.append((str(l[0]).split('.')[1], 'Type', cla))\n",
    "\n",
    "        return (list(set(triplas)))\n",
    "    \n",
    "    \n",
    "    def tripla_de_subclasse(cla):\n",
    "\n",
    "        lista =  list(world.sparql(\"\"\"\n",
    "                PREFIX onto: <\"\"\" + str(onto.base_iri) + \"\"\">\n",
    "                SELECT ?x\n",
    "                {?x rdfs:subClassOf onto:\"\"\" + cla + \"\"\". }\n",
    "                \"\"\"))\n",
    "\n",
    "        triplas = []\n",
    "\n",
    "        for l in lista:\n",
    "            triplas.append((str(l[0]).split('.')[1], 'subClassOf', cla))\n",
    "\n",
    "        return (list(set(triplas)))\n",
    "    \n",
    "    def tripla_de_relacoes(rel):\n",
    "\n",
    "        lista =  list(world.sparql(\"\"\"\n",
    "                PREFIX onto: <\"\"\" + str(onto.base_iri) + \"\"\">\n",
    "                SELECT ?x ?y\n",
    "                {?x onto:\"\"\" + rel + \"\"\" ?y.}\n",
    "                \"\"\"))\n",
    "        \n",
    "        triplas = []\n",
    "\n",
    "        for l in lista:\n",
    "            triplas.append((str(l[0]).split('.')[1], rel, str(l[1]).split('.')[1]))\n",
    "\n",
    "        return (list(set(triplas)))\n",
    "    \n",
    "    # coletando as triplas com as instâncias\n",
    "    bacia = tripla_de_instancias('basin')\n",
    "    campo = tripla_de_instancias('field')\n",
    "    estrutura = tripla_de_instancias('geological_structure')    \n",
    "    poco = tripla_de_instancias('well')   \n",
    "    textura = tripla_de_instancias('textura') \n",
    "    lito = tripla_de_instancias('lithostratigraphic_unit')\n",
    "    intervalo_tempo_geo = tripla_de_instancias('geological_time_interval')\n",
    "    \n",
    "    # coletando as triplas com as subclasses\n",
    "    rocha = tripla_de_subclasse('rock')\n",
    "    uncosol = tripla_de_subclasse('unconsolidated_earth_material')\n",
    "    og_fluid = tripla_de_subclasse('og_earth_fluid')\n",
    "    earth_fluid = tripla_de_subclasse('earth_fluid')\n",
    "    fluid = tripla_de_subclasse('anthropogenic_fluid')\n",
    "    sistema_petro = tripla_de_subclasse('petroleum_system_events')\n",
    "    elemento_petro = tripla_de_subclasse('petroleum_system_elements')\n",
    "    qualidade_tempo_geo = tripla_de_subclasse('geological_age')\n",
    "    \n",
    "    # coletando as triplas com as relações\n",
    "    \n",
    "    constituted_by = tripla_de_relacoes('constituted_by')\n",
    "    crosses = tripla_de_relacoes('crosses')\n",
    "    has_age = tripla_de_relacoes('has_age')\n",
    "    located_in = tripla_de_relacoes('located_in')\n",
    "    part_of = tripla_de_relacoes('part_of')\n",
    "    carrier_of = tripla_de_relacoes('carrier_of')\n",
    "    generated_by = tripla_de_relacoes('generated_by')\n",
    "    has_temporal_relation = tripla_de_relacoes('has_temporal_relation')\n",
    "    \n",
    "    # # Apagando da memória a ontologia povoada\n",
    "    # onto.destroy()\n",
    "    \n",
    "    return (bacia, campo, estrutura, poco, textura, lito, intervalo_tempo_geo,\n",
    "            rocha, uncosol, og_fluid, earth_fluid, fluid, sistema_petro, elemento_petro, qualidade_tempo_geo,\n",
    "            constituted_by, crosses, has_age, located_in, part_of, carrier_of, generated_by, has_temporal_relation)"
   ]
  },
  {
   "cell_type": "markdown",
   "id": "47ad93cc-d8c8-47a6-9c30-c792aeec08ad",
   "metadata": {},
   "source": [
    "### Carregando os grafos e extraído as triplas"
   ]
  },
  {
   "cell_type": "markdown",
   "id": "0dc5d899-44d0-433c-9a52-83a698701b4d",
   "metadata": {},
   "source": [
    "Carregando o grafo de teste"
   ]
  },
  {
   "cell_type": "code",
   "execution_count": 3,
   "id": "355fa92b-c2b3-47b8-b91c-e609201d3644",
   "metadata": {},
   "outputs": [],
   "source": [
    "test_world = World()\n",
    "\n",
    "path = \"../KnowledgeGraph/Train-valid-test/PetroKGraph_teste\"\n",
    "\n",
    "#Carregando PetroKGraph (ontologia povoada)\n",
    "onto_teste = test_world.get_ontology(path).load()"
   ]
  },
  {
   "cell_type": "code",
   "execution_count": 4,
   "id": "ea414a7f-3f20-4376-89e5-c726a2371ffd",
   "metadata": {},
   "outputs": [],
   "source": [
    "# Extraindo as triplas do grafo de teste\n",
    "(bacia_teste, campo_teste, estrutura_teste, poco_teste, \n",
    " textura_teste, lito_teste, tempo_geo_teste,                                        # instancias \n",
    " rocha_teste, uncosol_teste, og_fluid_teste, earth_fluid_teste, \n",
    " fluid_teste, sistema_petro_teste, elemento_petro_teste, qualidade_tempo_geo_teste, # Classes\n",
    " constituted_by_teste, crosses_teste, has_age_teste, located_in_teste,            # Relações\n",
    " part_of_teste, carrier_of_teste, generated_by_teste, has_temporal_relation_teste) = coletando_triplas(test_world, onto_teste)"
   ]
  },
  {
   "cell_type": "markdown",
   "id": "66e7e502-df95-4c93-ba79-aed5f900a52f",
   "metadata": {},
   "source": [
    "Carregando o grafo predito"
   ]
  },
  {
   "cell_type": "code",
   "execution_count": 5,
   "id": "4050ed48-ec02-45d8-a08b-235b3cefd6d6",
   "metadata": {},
   "outputs": [],
   "source": [
    "pred_world = World()\n",
    "\n",
    "path = \"../Corpora/Predicao - avaliação/Prediction_graph/PetroKGraph_pred\"\n",
    "\n",
    "#Carregando PetroKGraph (ontologia povoada)\n",
    "onto_pred = pred_world.get_ontology(path).load()"
   ]
  },
  {
   "cell_type": "code",
   "execution_count": 6,
   "id": "68648648-59ab-484d-81fd-9307c8de7442",
   "metadata": {},
   "outputs": [],
   "source": [
    "# Extraindo as triplas do grafo de predito\n",
    "(bacia_pred, campo_pred, estrutura_pred, poco_pred, \n",
    " textura_pred, lito_pred, tempo_geo_pred,                                           # instancias \n",
    " rocha_pred, uncosol_pred, og_fluid_pred, earth_fluid_pred, \n",
    " fluid_pred, sistema_petro_pred, elemento_petro_pred, qualidade_tempo_geo_pred,     # Classes\n",
    " constituted_by_pred, crosses_pred, has_age_pred, located_in_pred,                # Relações\n",
    " part_of_pred, carrier_of_pred, generated_by_pred, has_temporal_relation_pred) = coletando_triplas(pred_world, onto_pred)"
   ]
  },
  {
   "cell_type": "markdown",
   "id": "0fe159f8-94aa-42fd-a3d9-ed5bde75db06",
   "metadata": {},
   "source": [
    "### Definindo o índice jaccard"
   ]
  },
  {
   "cell_type": "code",
   "execution_count": 7,
   "id": "e0b6cb63-8826-4616-aca0-3dae90c1bbd3",
   "metadata": {},
   "outputs": [],
   "source": [
    "def jaccard(teste, pred):\n",
    "    uni = set(teste + pred)\n",
    "    inter = set(teste) & set(pred)\n",
    "    \n",
    "    if len(uni) == 0:\n",
    "        # print (None)\n",
    "        return (None)\n",
    "    \n",
    "    else:\n",
    "        jaccard = len(inter) / len(uni)\n",
    "        # print (jaccard)\n",
    "        return (jaccard)"
   ]
  },
  {
   "cell_type": "code",
   "execution_count": 8,
   "id": "7d41a272-6be2-4e12-a907-57532704b7c5",
   "metadata": {},
   "outputs": [],
   "source": [
    "# Calculando o índice jaccard para cada conjunto de triplas\n",
    "jaccard_bacia = jaccard(bacia_teste, bacia_pred)\n",
    "jaccard_campo = jaccard(campo_teste, campo_pred)\n",
    "jaccard_estrutura = jaccard(estrutura_teste, estrutura_pred)\n",
    "jaccard_poco = jaccard(poco_teste, poco_pred)\n",
    "jaccard_textura = jaccard(textura_teste, textura_pred)\n",
    "jaccard_lito = jaccard(lito_teste, lito_pred)\n",
    "jaccard_tempo_geo = jaccard(tempo_geo_teste, tempo_geo_pred)\n",
    "\n",
    "jaccard_rocha = jaccard(rocha_teste, rocha_pred)\n",
    "jaccard_uncosol = jaccard(uncosol_teste, uncosol_pred)\n",
    "jaccard_og_fluid = jaccard(og_fluid_teste, og_fluid_pred)\n",
    "jaccard_earth_fluid = jaccard(earth_fluid_teste, earth_fluid_pred)\n",
    "jaccard_fluid = jaccard(fluid_teste, fluid_pred)\n",
    "jaccard_sistema_petro = jaccard(sistema_petro_teste, sistema_petro_pred)\n",
    "jaccard_elemento_petro = jaccard(elemento_petro_teste, elemento_petro_pred)\n",
    "jaccard_qualidade_tempo_geo = jaccard(qualidade_tempo_geo_teste, qualidade_tempo_geo_pred)\n",
    "\n",
    "jaccard_constituted_by = jaccard(constituted_by_teste, constituted_by_pred)\n",
    "jaccard_crosses = jaccard(crosses_teste, crosses_pred)\n",
    "jaccard_has_age = jaccard(has_age_teste, has_age_pred)\n",
    "jaccard_located_in = jaccard(located_in_teste, located_in_pred)\n",
    "jaccard_part_of = jaccard(part_of_teste, part_of_pred)\n",
    "jaccard_carrier_of = jaccard(carrier_of_teste, carrier_of_pred)\n",
    "jaccard_generated_by = jaccard(generated_by_teste, generated_by_pred)\n",
    "jaccard_has_temporal_relation = jaccard(has_temporal_relation_teste, has_temporal_relation_pred)"
   ]
  },
  {
   "cell_type": "code",
   "execution_count": 9,
   "id": "a01338e1-01e0-4d8d-b4d7-595b8e5e8a3c",
   "metadata": {},
   "outputs": [
    {
     "name": "stdout",
     "output_type": "stream",
     "text": [
      "0.5853658536585366  - bacia\n",
      "0.30952380952380953  - campo\n",
      "0.32142857142857145  - estrutura\n",
      "0.0  - poco\n",
      "0.0  - textura\n",
      "0.2631578947368421  - lito\n",
      "0.5853658536585366  - tempo_geo\n",
      "0.5957446808510638  - rocha\n",
      "1.0  - uncosol\n",
      "0.8  - og_fluid\n",
      "0.5  - earth_fluid\n",
      "0.0  - fluid\n",
      "1.0  - sistema_petro\n",
      "0.6666666666666666  - elemento_petro\n",
      "0.5853658536585366  - qualidade_tempo_geo\n",
      "0.1267605633802817  - constituted_by\n",
      "None  - crosses\n",
      "0.0  - has_age\n",
      "0.13333333333333333  - located_in\n",
      "None  - part_of\n",
      "None  - carrier_of\n",
      "None  - generated_by\n",
      "None  - has_temporal_relation\n"
     ]
    }
   ],
   "source": [
    "print(jaccard_bacia, ' - bacia')\n",
    "print(jaccard_campo, ' - campo')\n",
    "print(jaccard_estrutura, ' - estrutura')\n",
    "print(jaccard_poco, ' - poco')\n",
    "print(jaccard_textura, ' - textura')\n",
    "print(jaccard_lito, ' - lito')\n",
    "print(jaccard_tempo_geo, ' - tempo_geo')\n",
    "\n",
    "print(jaccard_rocha, ' - rocha')\n",
    "print(jaccard_uncosol, ' - uncosol')\n",
    "print(jaccard_og_fluid, ' - og_fluid')\n",
    "print(jaccard_earth_fluid, ' - earth_fluid')\n",
    "print(jaccard_fluid, ' - fluid')\n",
    "print(jaccard_sistema_petro, ' - sistema_petro')\n",
    "print(jaccard_elemento_petro, ' - elemento_petro')\n",
    "print(jaccard_qualidade_tempo_geo, ' - qualidade_tempo_geo')\n",
    "\n",
    "print(jaccard_constituted_by, ' - constituted_by')\n",
    "print(jaccard_crosses, ' - crosses')\n",
    "print(jaccard_has_age, ' - has_age')\n",
    "print(jaccard_located_in, ' - located_in')\n",
    "print(jaccard_part_of, ' - part_of')\n",
    "print(jaccard_carrier_of, ' - carrier_of')\n",
    "print(jaccard_generated_by, ' - generated_by')\n",
    "print(jaccard_has_temporal_relation, ' - has_temporal_relation')"
   ]
  },
  {
   "cell_type": "code",
   "execution_count": 10,
   "id": "1193c728-04c0-4bc1-b1d7-460f81091b09",
   "metadata": {},
   "outputs": [],
   "source": [
    "triplas_teste = (bacia_teste + campo_teste + estrutura_teste + poco_teste + textura_teste + lito_teste + tempo_geo_teste +                                      \n",
    "                 rocha_teste + uncosol_teste + og_fluid_teste + earth_fluid_teste +\n",
    "                 fluid_teste + sistema_petro_teste + elemento_petro_teste + qualidade_tempo_geo_teste +\n",
    "                 constituted_by_teste + crosses_teste + has_age_teste + located_in_teste +\n",
    "                 part_of_teste + carrier_of_teste + generated_by_teste + has_temporal_relation_teste)\n",
    "\n",
    "triplas_pred = (bacia_pred + campo_pred + estrutura_pred + poco_pred + textura_pred + lito_pred + tempo_geo_pred +                                      \n",
    "                 rocha_pred + uncosol_pred + og_fluid_pred + earth_fluid_pred +\n",
    "                 fluid_pred + sistema_petro_pred + elemento_petro_pred + qualidade_tempo_geo_pred +\n",
    "                 constituted_by_pred + crosses_pred + has_age_pred + located_in_pred +\n",
    "                 part_of_pred + carrier_of_pred + generated_by_pred + has_temporal_relation_pred)"
   ]
  },
  {
   "cell_type": "code",
   "execution_count": 11,
   "id": "ebf8e8f8-232c-4fb4-883a-638effad1523",
   "metadata": {},
   "outputs": [
    {
     "name": "stdout",
     "output_type": "stream",
     "text": [
      "Índice Jaccard:  0.34678624813153963\n"
     ]
    }
   ],
   "source": [
    "# Calculando para todas as triplas\n",
    "jaccard = jaccard(triplas_teste, triplas_pred)\n",
    "print('Índice Jaccard: ', jaccard)"
   ]
  },
  {
   "cell_type": "code",
   "execution_count": null,
   "id": "b3bfec2a-99e1-447c-9b65-89644ed1810d",
   "metadata": {},
   "outputs": [],
   "source": []
  }
 ],
 "metadata": {
  "kernelspec": {
   "display_name": "Python 3.6",
   "language": "python",
   "name": "python3"
  },
  "language_info": {
   "codemirror_mode": {
    "name": "ipython",
    "version": 3
   },
   "file_extension": ".py",
   "mimetype": "text/x-python",
   "name": "python",
   "nbconvert_exporter": "python",
   "pygments_lexer": "ipython3",
   "version": "3.6.8"
  }
 },
 "nbformat": 4,
 "nbformat_minor": 5
}
