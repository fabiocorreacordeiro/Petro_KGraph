{
 "cells": [
  {
   "cell_type": "markdown",
   "id": "3bcdd549-89ea-4c84-9853-4514b3c63f16",
   "metadata": {},
   "source": [
    "### Preprocessando documentos par o formato CONLLU"
   ]
  },
  {
   "cell_type": "markdown",
   "id": "f2c5816d-8c62-4fb7-a14f-290303d7a6d3",
   "metadata": {},
   "source": [
    "O parâmetr --idir é o caminho da pasta com os arquivos brutos que serão processados, e --odir é o caminho onde os arquivos conllu serão gravados."
   ]
  },
  {
   "cell_type": "code",
   "execution_count": 2,
   "id": "1f602b39-bfa6-431b-93fb-f636d7ce7828",
   "metadata": {
    "scrolled": true,
    "tags": []
   },
   "outputs": [
    {
     "name": "stdout",
     "output_type": "stream",
     "text": [
      "Traceback (most recent call last):\n",
      "  File \"main.py\", line 1, in <module>\n",
      "    from inf_stanza.inference import stanza_inference\n",
      "ImportError: No module named inf_stanza.inference\n"
     ]
    }
   ],
   "source": [
    "!python main.py --idir ../../Corpora/Predicao/Documentos_brutos/ --odir ../../Corpora/Predicao/Documentos_conllu/"
   ]
  },
  {
   "cell_type": "code",
   "execution_count": null,
   "id": "e0501dc0-194b-4f67-b035-35dcee0ef7a4",
   "metadata": {},
   "outputs": [],
   "source": []
  }
 ],
 "metadata": {
  "kernelspec": {
   "display_name": "Python 3.6",
   "language": "python",
   "name": "python3"
  },
  "language_info": {
   "codemirror_mode": {
    "name": "ipython",
    "version": 3
   },
   "file_extension": ".py",
   "mimetype": "text/x-python",
   "name": "python",
   "nbconvert_exporter": "python",
   "pygments_lexer": "ipython3",
   "version": "3.6.8"
  }
 },
 "nbformat": 4,
 "nbformat_minor": 5
}
