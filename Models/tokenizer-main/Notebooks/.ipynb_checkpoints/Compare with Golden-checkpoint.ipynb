{
 "cells": [
  {
   "cell_type": "code",
   "execution_count": 186,
   "metadata": {},
   "outputs": [],
   "source": [
    "import pandas as pd\n",
    "from conll_df import conll_df\n",
    "paths = ['../0-20150121-TESEMSC_0_intro_stanza.conllu',\n",
    "'../2-20150126-TESEDSC_0_intro_stanza.conllu',\n",
    "'../6-20140908-MONOGRAFIA_0_intro_stanza.conllu',\n",
    "'../10-20150122-MONOGRAFIA_0_intro_stanza.conllu']\n",
    "golden_path = '../intro_golden.conllu'"
   ]
  },
  {
   "cell_type": "code",
   "execution_count": 187,
   "metadata": {},
   "outputs": [
    {
     "name": "stderr",
     "output_type": "stream",
     "text": [
      "C:\\Users\\criss\\Anaconda3\\envs\\dlmodels\\lib\\site-packages\\ipykernel_launcher.py:6: FutureWarning: \n",
      ".ix is deprecated. Please use\n",
      ".loc for label based indexing or\n",
      ".iloc for positional indexing\n",
      "\n",
      "See the documentation here:\n",
      "http://pandas.pydata.org/pandas-docs/stable/user_guide/indexing.html#ix-indexer-is-deprecated\n",
      "  \n",
      "C:\\Users\\criss\\Anaconda3\\envs\\dlmodels\\lib\\site-packages\\ipykernel_launcher.py:8: FutureWarning: \n",
      ".ix is deprecated. Please use\n",
      ".loc for label based indexing or\n",
      ".iloc for positional indexing\n",
      "\n",
      "See the documentation here:\n",
      "http://pandas.pydata.org/pandas-docs/stable/user_guide/indexing.html#ix-indexer-is-deprecated\n",
      "  \n"
     ]
    },
    {
     "name": "stdout",
     "output_type": "stream",
     "text": [
      "0.8181818181818182\n",
      "0.9444444444444444\n",
      "0.8\n",
      "0.6666666666666666\n"
     ]
    }
   ],
   "source": [
    "for path in paths:\n",
    "    filename = path.replace('.conllu','.csv')\n",
    "    df = conll_df(path, file_index=False)\n",
    "    df_golden = conll_df(golden_path, file_index=False)\n",
    "    df_ = {ix:(' '.join(list(df.ix[ix].w.values)),df.ix[ix]) \\\n",
    "           for ix in set([i for i,_ in df.index])}\n",
    "    df_golden_ = {ix:(' '.join(list(df_golden.ix[ix].w.values)),df_golden.ix[ix]) \\\n",
    "                  for ix in set([i for i,_ in df_golden.index])}\n",
    "\n",
    "    pairs = []\n",
    "    not_pairs = []\n",
    "    for ix,(itext,iconllu) in df_.items():\n",
    "        \n",
    "        exist_pair = False\n",
    "        for jx,(jtext,jconllu) in df_golden_.items(): \n",
    "            if itext==jtext:\n",
    "                pairs.append((iconllu, jconllu))\n",
    "                exist_pair=True\n",
    "        \n",
    "        if not exist_pair:\n",
    "            not_pairs.append(iconllu)\n",
    "            \n",
    "        \n",
    "\n",
    "    total_text = \"\"\n",
    "    for i in range(len(pairs)):\n",
    "        df_g = pd.concat([pairs[i][0][['w','x']], pairs[i][1][['w','x']]],axis=1)\n",
    "        df_g.columns=['w','x','w1','x1']\n",
    "        df_g['DIF']=df_g.apply(lambda x:x['x']==x['x1'], axis=1)\n",
    "        total_text += df_g.to_csv().replace('\\r','') + '\\n\\n\\n\\n\\n\\n\\n'\n",
    "\n",
    "    with open(filename,'w+', encoding='cp1252') as file:\n",
    "        file.write(total_text)\n",
    "    print(len(pairs)/len(df_))"
   ]
  }
 ],
 "metadata": {
  "kernelspec": {
   "display_name": "Python 3",
   "language": "python",
   "name": "python3"
  },
  "language_info": {
   "codemirror_mode": {
    "name": "ipython",
    "version": 3
   },
   "file_extension": ".py",
   "mimetype": "text/x-python",
   "name": "python",
   "nbconvert_exporter": "python",
   "pygments_lexer": "ipython3",
   "version": "3.7.0"
  }
 },
 "nbformat": 4,
 "nbformat_minor": 2
}
