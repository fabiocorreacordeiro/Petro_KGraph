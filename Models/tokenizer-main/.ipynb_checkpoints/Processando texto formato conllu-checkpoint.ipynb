{
 "cells": [
  {
   "cell_type": "markdown",
   "id": "3bcdd549-89ea-4c84-9853-4514b3c63f16",
   "metadata": {},
   "source": [
    "### Preprocessando documentos par o formato CONLLU"
   ]
  },
  {
   "cell_type": "markdown",
   "id": "f2c5816d-8c62-4fb7-a14f-290303d7a6d3",
   "metadata": {},
   "source": [
    "O parâmetr --idir é o caminho da pasta com os arquivos brutos que serão processados, e --odir é o caminho onde os arquivos conllu serão gravados."
   ]
  },
  {
   "cell_type": "code",
   "execution_count": 1,
   "id": "1f602b39-bfa6-431b-93fb-f636d7ce7828",
   "metadata": {
    "scrolled": true,
    "tags": []
   },
   "outputs": [
    {
     "name": "stdout",
     "output_type": "stream",
     "text": [
      "loading file: ../../Corpora/Predicao/Documentos_brutos/Bacia de Campos.txt\n",
      "thrid\n",
      "'utf-16-le' codec can't decode byte 0x2e in position 3674: truncated data\n",
      "loading file: ../../Corpora/Predicao/Documentos_brutos/Bacia de Santos.txt\n",
      "thrid\n",
      "'utf-16-le' codec can't decode byte 0x5d in position 8626: truncated data\n",
      "loading file: ../../Corpora/Predicao/Documentos_brutos/Bacia do Parana.txt\n",
      "thrid\n",
      "'utf-16-le' codec can't decode byte 0x5d in position 48766: truncated data\n",
      "loading file: ../../Corpora/Predicao/Documentos_brutos/Bacia do Reconcavo.txt\n",
      "thrid\n",
      "UTF-16 stream does not start with BOM\n",
      "loading file: ../../Corpora/Predicao/Documentos_brutos/Campo de Peregrino.txt\n",
      "thrid\n",
      "UTF-16 stream does not start with BOM\n",
      "loading file: ../../Corpora/Predicao/Documentos_brutos/Petróleo.txt\n",
      "thrid\n",
      "UTF-16 stream does not start with BOM\n",
      "loading file: ../../Corpora/Predicao/Documentos_brutos/Sistema Petrolífero.txt\n",
      "thrid\n",
      "'utf-16-le' codec can't decode byte 0x5d in position 6476: truncated data\n"
     ]
    },
    {
     "name": "stderr",
     "output_type": "stream",
     "text": [
      "2023-09-11 10:57:22 INFO: Checking for updates to resources.json in case models have been updated.  Note: this behavior can be turned off with download_method=None or download_method=DownloadMethod.REUSE_RESOURCES\n",
      "\n",
      "Downloading https://raw.githubusercontent.com/stanfordnlp/stanza-resources/main/resources_1.5.0.json:   0%|          | 0.00/30.1k [00:00<?, ?B/s]\n",
      "Downloading https://raw.githubusercontent.com/stanfordnlp/stanza-resources/main/resources_1.5.0.json: 216kB [00:00, 13.8MB/s]                    \n",
      "2023-09-11 10:57:23 INFO: Loading these models for language: pt (Portuguese):\n",
      "==========================================\n",
      "| Processor    | Package                 |\n",
      "------------------------------------------\n",
      "| tokenize     | bosque                  |\n",
      "| mwt          | bosque                  |\n",
      "| pos          | bosque                  |\n",
      "| lemma        | bosque                  |\n",
      "| constituency | cintil                  |\n",
      "| depparse     | ./models/p..._parser.pt |\n",
      "==========================================\n",
      "\n",
      "2023-09-11 10:57:23 WARNING: GPU requested, but is not available!\n",
      "2023-09-11 10:57:23 INFO: Using device: cpu\n",
      "2023-09-11 10:57:23 INFO: Loading: tokenize\n",
      "2023-09-11 10:57:23 INFO: Loading: mwt\n",
      "2023-09-11 10:57:23 INFO: Loading: pos\n",
      "2023-09-11 10:57:23 INFO: Loading: lemma\n",
      "2023-09-11 10:57:23 INFO: Loading: constituency\n",
      "2023-09-11 10:57:23 INFO: Loading: depparse\n",
      "2023-09-11 10:57:24 INFO: Done loading processors!\n",
      "2023-09-11 10:57:24 INFO: Checking for updates to resources.json in case models have been updated.  Note: this behavior can be turned off with download_method=None or download_method=DownloadMethod.REUSE_RESOURCES\n",
      "\n",
      "Downloading https://raw.githubusercontent.com/stanfordnlp/stanza-resources/main/resources_1.5.0.json:   0%|          | 0.00/30.1k [00:00<?, ?B/s]\n",
      "Downloading https://raw.githubusercontent.com/stanfordnlp/stanza-resources/main/resources_1.5.0.json: 216kB [00:00, 21.4MB/s]                    \n",
      "2023-09-11 10:57:24 WARNING: Language pt package default expects mwt, which has been added\n",
      "2023-09-11 10:57:24 INFO: Loading these models for language: pt (Portuguese):\n",
      "=======================\n",
      "| Processor | Package |\n",
      "-----------------------\n",
      "| tokenize  | bosque  |\n",
      "| mwt       | bosque  |\n",
      "=======================\n",
      "\n",
      "2023-09-11 10:57:24 INFO: Using device: cpu\n",
      "2023-09-11 10:57:24 INFO: Loading: tokenize\n",
      "2023-09-11 10:57:24 INFO: Loading: mwt\n",
      "2023-09-11 10:57:24 INFO: Done loading processors!\n",
      "\n",
      "  0%|          | 0/23 [00:00<?, ?it/s]\n",
      "100%|##########| 23/23 [00:00<?, ?it/s]\n",
      "C:\\ProgramData\\Anaconda3\\envs\\Petro_KGraph\\lib\\site-packages\\stanza\\utils\\conll.py:126: UserWarning: doc2conll is deprecated.  Please use \"{:C}\".format(doc) and use the text format directly\n",
      "  doc_conll = CoNLL.doc2conll(doc, include_comments=False)\n",
      "C:\\Users\\upe2\\OneDrive - PETROBRAS\\Documents\\Repositorios\\Petro_KGraph\\Models\\tokenizer-main\\inf_stanza\\inference.py:226: UserWarning: convert_dict is deprecated.  Please use \"{:C}\".format(doc) and use the text format directly\n",
      "  conllu = CoNLL.convert_dict(segmented_text)\n",
      "\n",
      "  0%|          | 0/57 [00:00<?, ?it/s]\n",
      "100%|##########| 57/57 [00:00<?, ?it/s]\n",
      "\n",
      "  0%|          | 0/294 [00:00<?, ?it/s]\n",
      "100%|##########| 294/294 [00:00<?, ?it/s]\n",
      "\n",
      "  0%|          | 0/101 [00:00<?, ?it/s]\n",
      "100%|##########| 101/101 [00:00<?, ?it/s]\n",
      "\n",
      "  0%|          | 0/16 [00:00<?, ?it/s]\n",
      "100%|##########| 16/16 [00:00<?, ?it/s]\n",
      "\n",
      "  0%|          | 0/257 [00:00<?, ?it/s]\n",
      "100%|##########| 257/257 [00:00<?, ?it/s]\n",
      "\n",
      "  0%|          | 0/61 [00:00<?, ?it/s]\n",
      "100%|##########| 61/61 [00:00<?, ?it/s]\n"
     ]
    }
   ],
   "source": [
    "!python main.py --idir ../../Corpora/Predicao/Documentos_brutos/ --odir ../../Corpora/Predicao/Documentos_conllu/"
   ]
  },
  {
   "cell_type": "code",
   "execution_count": null,
   "id": "e0501dc0-194b-4f67-b035-35dcee0ef7a4",
   "metadata": {},
   "outputs": [],
   "source": []
  }
 ],
 "metadata": {
  "kernelspec": {
   "display_name": "Python 3 (ipykernel)",
   "language": "python",
   "name": "python3"
  },
  "language_info": {
   "codemirror_mode": {
    "name": "ipython",
    "version": 3
   },
   "file_extension": ".py",
   "mimetype": "text/x-python",
   "name": "python",
   "nbconvert_exporter": "python",
   "pygments_lexer": "ipython3",
   "version": "3.7.16"
  }
 },
 "nbformat": 4,
 "nbformat_minor": 5
}
